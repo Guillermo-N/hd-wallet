{
 "cells": [
  {
   "cell_type": "markdown",
   "metadata": {},
   "source": [
    "<style>\n",
    "    .title_div {\n",
    "    padding: 60px;\n",
    "    text-align: center;\n",
    "    background: #ffffff;\n",
    "    }\n",
    "    #title {\n",
    "        color: #f2a900;\n",
    "        font-size: 80px;\n",
    "    }\n",
    "    #subtitle {\n",
    "        color: #4d4d4e;\n",
    "        font-size: 20px;\n",
    "    }\n",
    "</style>\n",
    "\n",
    "<div class=\"title_div\">\n",
    "  <h1 id=\"title\">TX</h1>\n",
    "  <p id=\"subtitle\">Transactions and Script</p>\n",
    "</div>\n",
    "\n",
    "<div style=\"color:red; text-align: center; padding: 60px\">\n",
    "⚠ The following TX examples are just to see how Bitcoin work; don't transmit nothing generated here on the mainnet. ⚠\n",
    "</div>\n",
    "\n",
    "\n",
    "## TOC:\n",
    "* [Hashes](#hasehs)\n",
    "    * [Hash256](#hash256)\n",
    "    * [Hash160](#hash160)\n",
    "* [VarInt](#varint)\n",
    "* [TxIn](#txin)\n",
    "* [TxOut](#txout)\n",
    "* [TX](#tx)\n",
    "* [Script](#script)\n",
    "    * [Data encoding](#data-encoding)\n",
    "    * [OP Codes](#op-codes)\n",
    "    * [P2PK](#p2pk)\n",
    "        * [ScriptPubKey](#script-pub-key-p2pk)\n",
    "        * [ScriptSig](#script-sig-p2pk)\n",
    "    * [P2PKH](#p2pkh)\n",
    "        * [ScriptPubKey](#script-pub-key-p2pkh)\n",
    "        * [ScriptSig](#script-sig-p2pkh)\n",
    "    * [P2MS](#p2ms)\n",
    "        * [ScriptPubKey](#script-pub-key-p2ms)\n",
    "        * [ScriptSig](#script-sig-p2ms)\n",
    "    * [P2SH](#p2sh)\n",
    "        * [ScriptPubKey](#script-pub-key-p2sh)\n",
    "        * [ScriptSig](#script-sig-p2sh)\n",
    "* [Tests](#tests)"
   ]
  },
  {
   "cell_type": "code",
   "execution_count": null,
   "metadata": {},
   "outputs": [],
   "source": [
    "from cryptography.hazmat.primitives.serialization import Encoding, PublicFormat, PrivateFormat\n",
    "from cryptography.hazmat.primitives import hashes\n",
    "from cryptography.hazmat.primitives.asymmetric import ec\n",
    "from cryptography.exceptions import InvalidSignature\n",
    "from cryptography.hazmat.primitives.asymmetric import utils\n",
    "\n",
    "from io import StringIO, BytesIO\n",
    "from hashlib import sha256, new\n",
    "import unittest\n",
    "import base58\n",
    "import copy"
   ]
  },
  {
   "cell_type": "markdown",
   "metadata": {},
   "source": [
    "<a class=\"anchor\" id=\"hashes\"></a>\n",
    "## Hashes"
   ]
  },
  {
   "cell_type": "markdown",
   "metadata": {},
   "source": [
    "<a class=\"anchor\" id=\"hash256\"></a>\n",
    "### Hash256"
   ]
  },
  {
   "cell_type": "code",
   "execution_count": null,
   "metadata": {},
   "outputs": [],
   "source": [
    "def hash256(data):\n",
    "    return sha256(sha256(data).digest()).digest()"
   ]
  },
  {
   "cell_type": "markdown",
   "metadata": {},
   "source": [
    "<a class=\"anchor\" id=\"hash160\"></a>\n",
    "### Hash160"
   ]
  },
  {
   "cell_type": "code",
   "execution_count": null,
   "metadata": {},
   "outputs": [],
   "source": [
    "def hash160(data):\n",
    "    return new('ripemd160', sha256(data).digest()).digest()"
   ]
  },
  {
   "cell_type": "markdown",
   "metadata": {},
   "source": [
    "<a class=\"anchor\" id=\"varint\"></a>\n",
    "## VarInt"
   ]
  },
  {
   "cell_type": "code",
   "execution_count": null,
   "metadata": {},
   "outputs": [],
   "source": [
    "def read_varint(s):\n",
    "    \n",
    "    flag = s.read(1)\n",
    "    if flag == 0xfd:\n",
    "        # 0xfd next two bytes are the number\n",
    "        return flag.read(2)\n",
    "    elif flag == 0xfe:\n",
    "        # 0xfe next four bytes are the number\n",
    "        return flag.read(4)\n",
    "    elif flag == 0xff:\n",
    "        # 0xff next eight bytes are the number\n",
    "        return flag.read(8)\n",
    "    else:\n",
    "        # the flag is the number\n",
    "        return flag\n",
    "\n",
    "\n",
    "def encode_varint(i):\n",
    "   \n",
    "    if i < 0xfd:\n",
    "        return bytes([i])\n",
    "    elif i < 0x10000:\n",
    "        return b'\\xfd' + i.to_bytes(2, 'litte')\n",
    "    elif i < 0x100000000:\n",
    "        return b'\\xfe' + i.to_bytes(4, 'litte')\n",
    "    elif i < 0x10000000000000000:\n",
    "        return b'\\xff' + i.to_bytes(8, 'litte')\n",
    "    else:\n",
    "        raise ValueError('integer too large: {}'.format(i))"
   ]
  },
  {
   "cell_type": "markdown",
   "metadata": {},
   "source": [
    "<a class=\"anchor\" id=\"txin\"></a>\n",
    "## TxIn"
   ]
  },
  {
   "cell_type": "code",
   "execution_count": null,
   "metadata": {},
   "outputs": [],
   "source": [
    "class TxIn:\n",
    "    def __init__(self, txID, outID, scriptSig = bytes(b''), sequence = bytes(b'\\xff\\xff\\xff\\xff')):\n",
    "        self.txID = txID # hex string\n",
    "        self.outIndex = outID # int\n",
    "        self.scriptSig = scriptSig # \n",
    "        self.sequence = sequence\n",
    "    \n",
    "    def serialize(self):\n",
    "        serialized_tx = self.txID[::-1]\n",
    "        serialized_tx += self.outIndex[::-1]\n",
    "        if self.scriptSig != None:\n",
    "            serialized_tx += encode_varint(len(self.scriptSig))\n",
    "            serialized_tx += self.scriptSig\n",
    "        serialized_tx += self.sequence[::-1]\n",
    "\n",
    "        return serialized_tx\n",
    "\n",
    "\n",
    "    @classmethod\n",
    "    def parse(cls, input, hex=False):\n",
    "        if hex:\n",
    "            stream = input\n",
    "        else:\n",
    "            stream = BytesIO(bytes.fromhex(input))\n",
    "        TxID = stream.read(32)[::-1]\n",
    "        index = stream.read(4)[::-1]\n",
    "        script_size = int.from_bytes(read_varint(stream), 'little')\n",
    "        script = stream.read(script_size)\n",
    "        secuence = stream.read(4)[::-1]\n",
    "        return cls(TxID, index, script, secuence)\n",
    "\n",
    "    def __repr__(self):\n",
    "        string = '\\t[\\n\\t'\n",
    "        string += f'TxID: {self.txID.hex()}\\n\\t'\n",
    "        string += f'OutIndex: {self.outIndex.hex()}\\n\\t'\n",
    "        if self.scriptSig != None:\n",
    "            string += f'Script size: {len(self.scriptSig)}\\n\\t'\n",
    "            string += f'ScriptSig: {self.scriptSig.hex()}\\n\\t'\n",
    "        else:\n",
    "            string += f'Script size: {None}\\n\\t'\n",
    "            string += f'ScriptSig: {self.scriptSig}\\n\\t'\n",
    "        string += f'Sequence: {self.sequence.hex()}\\n' + '\\t]'\n",
    "        return string\n",
    "\n",
    "    def colors(self):\n",
    "        result = ''\n",
    "        result += '\\033[94m' + self.txID[::-1].hex()\n",
    "        result += '\\033[91m' + self.outIndex[::-1].hex()\n",
    "        if self.scriptSig != None:\n",
    "            result += '\\033[93m' + encode_varint(len(self.scriptSig)).hex()\n",
    "            result += '\\033[96m' + self.scriptSig.hex()\n",
    "        result += '\\033[95m' + self.sequence[::-1].hex()\n",
    "        result += '\\n\\033[94m\\u2589 TxID'\n",
    "        result += '\\n\\033[91m\\u2589 Index'\n",
    "        result += '\\n\\033[93m\\u2589 Script Size'\n",
    "        result += '\\n\\033[96m\\u2589 ScriptSig'\n",
    "        result += '\\n\\033[95m\\u2589 Sequence'\n",
    "\n",
    "        return result"
   ]
  },
  {
   "cell_type": "code",
   "execution_count": null,
   "metadata": {},
   "outputs": [],
   "source": [
    "tx_in_0 = 'b674693a82cdcf1060186c92e530d280120c53952fd8b9cf66adff6b1e1ea76b010000006a47304402203c390e403858b3d4683ecd857675278e70b1c7af2a45fbe316328b0bb45c0f13022041c05ef823d6f86af1d69c9359dddbae209005451f7d3de3eba65f5b4620d951012103b577a59ddc57ce173c058c66586064809fe88cd15dd9516614f1e8e5550de5f1ffffffff'\n",
    "tx_in_1 = '71dd3443b4ebbd256d7090e540d471c0b696de5fceb30f2f65ea020245733f14010000006a47304402200be80959e1e9a031810b41934e667cd883af0a42bace12314d759ac173ed8c0f02204d3b05ee9177624facaaf86971eaa25b9362c95c3c8e90fd8cf039dd3bb71dce012102294f00ee94128a71d134fede09001463e46c447cb1683e2b122e9ea323ef5319ffffffff'\n",
    "tx_in_2 = '0e1e6f6008f2a46e4dc069d2a51e95ec10295f7832c48934cb0b46bf495627dd000000006a47304402202f7e4d368d50f4cf72a07922ded69e7aa8f5c106da57136130ccff48bfc7ed56022038eddfbc42e53800870b476998606c5c2f26a71950e55d79ef1337cc64b6a002012103e25df6966fe91e3bb7656b2b833d1ced860a22ac72c4ee1fbbefbed735918ca8ffffffff'\n",
    "tx_in_3 = '3da3e5197ddb87a8f025b5bc230ae040c2c776dd804475619bb43eb1fc985b13010000006b483045022100b0c7736d2a6f9c87b88c49289cf485962c511211d86e93e307cd03ca6ae69bac02203bb06660c13e228c261bb9b9396129c26336232138711622735523880a4748340121032ec518e302bd1a865292817db538fb3e75bca805ed16a02c7df5d9cf4126357fffffffff'\n",
    "\n",
    "tx_in_0 = 'b674693a82cdcf1060186c92e530d280120c53952fd8b9cf66adff6b1e1ea76b010000006a47304402203c390e403858b3d4683ecd857675278e70b1c7af2a45fbe316328b0bb45c0f13022041c05ef823d6f86af1d69c9359dddbae209005451f7d3de3eba65f5b4620d951012103b577a59ddc57ce173c058c66586064809fe88cd15dd9516614f1e8e5550de5f1ffffffff'\n",
    "tx_in_1 = '71dd3443b4ebbd256d7090e540d471c0b696de5fceb30f2f65ea020245733f14010000006a47304402200be80959e1e9a031810b41934e667cd883af0a42bace12314d759ac173ed8c0f02204d3b05ee9177624facaaf86971eaa25b9362c95c3c8e90fd8cf039dd3bb71dce012102294f00ee94128a71d134fede09001463e46c447cb1683e2b122e9ea323ef5319ffffffff'\n",
    "tx_in_2 = '0e1e6f6008f2a46e4dc069d2a51e95ec10295f7832c48934cb0b46bf495627dd000000006a47304402202f7e4d368d50f4cf72a07922ded69e7aa8f5c106da57136130ccff48bfc7ed56022038eddfbc42e53800870b476998606c5c2f26a71950e55d79ef1337cc64b6a002012103e25df6966fe91e3bb7656b2b833d1ced860a22ac72c4ee1fbbefbed735918ca8ffffffff'\n",
    "tx_in_3 = '3da3e5197ddb87a8f025b5bc230ae040c2c776dd804475619bb43eb1fc985b13010000006b483045022100b0c7736d2a6f9c87b88c49289cf485962c511211d86e93e307cd03ca6ae69bac02203bb06660c13e228c261bb9b9396129c26336232138711622735523880a4748340121032ec518e302bd1a865292817db538fb3e75bca805ed16a02c7df5d9cf4126357fffffffff'\n",
    "\n",
    "print(TxIn.parse(tx_in_0).colors())\n",
    "print(TxIn.parse(tx_in_1).colors())\n",
    "print(TxIn.parse(tx_in_2).colors())\n",
    "print(TxIn.parse(tx_in_3).colors())"
   ]
  },
  {
   "cell_type": "markdown",
   "metadata": {},
   "source": [
    "<a class=\"anchor\" id=\"txout\"></a>\n",
    "## TxOut"
   ]
  },
  {
   "cell_type": "code",
   "execution_count": null,
   "metadata": {},
   "outputs": [],
   "source": [
    "class TxOut:\n",
    "\n",
    "    def __init__(self, value, scriptPubKey):\n",
    "        self.value = value\n",
    "        self.scriptPubKey = scriptPubKey\n",
    "\n",
    "    def serialize(self):\n",
    "        serialized_tx = self.value[::-1]\n",
    "        serialized_tx += encode_varint(len(self.scriptPubKey))\n",
    "        serialized_tx += self.scriptPubKey\n",
    "        \n",
    "        return serialized_tx\n",
    "\n",
    "    @classmethod\n",
    "    def parse(cls, output, hex=False):\n",
    "        if hex:\n",
    "            stream = output\n",
    "        else:\n",
    "            stream = BytesIO(bytes.fromhex(output))\n",
    "        value = stream.read(8)[::-1]\n",
    "        script_size = int.from_bytes(read_varint(stream), 'little')\n",
    "        script = stream.read(script_size)\n",
    "        return cls(value, script)\n",
    "\n",
    "    def __repr__(self):\n",
    "        string = '\\t[\\n\\t'\n",
    "        string += f'Value: {int.from_bytes(self.value, \"big\")}\\n\\t'\n",
    "        string += f'Script size: {len(self.scriptPubKey)}\\n\\t'\n",
    "        string += f'ScriptPubKey: {self.scriptPubKey.hex()}\\n' + '\\t]'\n",
    "        return string\n",
    "\n",
    "    def colors(self):\n",
    "        result = ''\n",
    "        result += '\\033[91m' + self.value[::-1].hex()\n",
    "        result += '\\033[93m' + encode_varint(len(self.scriptPubKey)).hex()\n",
    "        result += '\\033[96m' + self.scriptPubKey.hex()\n",
    "        result += '\\n\\033[91m\\u2589 Value'\n",
    "        result += '\\n\\033[93m\\u2589 Script Size'\n",
    "        result += '\\n\\033[96m\\u2589 ScriptPubKey'\n",
    "        return result\n"
   ]
  },
  {
   "cell_type": "code",
   "execution_count": null,
   "metadata": {},
   "outputs": [],
   "source": [
    "tx_out = '880d0100000000001976a914751b5e9c9cf3ea616fc4f62f1827da9597c67dda88ac'\n",
    "cash_back = '200b2000000000001976a914070f7ab537f647f048c2d1cd89dc7dfed0e6384988ac'\n",
    "\n",
    "\n",
    "print(TxOut.parse(tx_out).colors())\n",
    "print(TxOut.parse(cash_back).colors())"
   ]
  },
  {
   "cell_type": "markdown",
   "metadata": {},
   "source": [
    "<a class=\"anchor\" id=\"tx\"></a>\n",
    "## TX"
   ]
  },
  {
   "cell_type": "code",
   "execution_count": null,
   "metadata": {},
   "outputs": [],
   "source": [
    "class TX:\n",
    "    def __init__(self, inputs, outputs, version=b'\\x00\\x00\\x00\\x01' , locktime=b'\\x00\\x00\\x00\\x00'):\n",
    "        self.inputs = inputs\n",
    "        self.outputs = outputs\n",
    "        self.version = version\n",
    "        self.locktime = locktime\n",
    "\n",
    "    def serialize(self):\n",
    "        serialized_tx = self.version[::-1]\n",
    "        serialized_tx += encode_varint(len(self.inputs))\n",
    "        for i in self.inputs:\n",
    "            serialized_tx += i.serialize()\n",
    "        \n",
    "        serialized_tx += encode_varint(len(self.outputs))\n",
    "        for i in self.outputs:\n",
    "            serialized_tx += i.serialize()\n",
    "\n",
    "        serialized_tx += self.locktime[::-1]\n",
    "        return serialized_tx\n",
    "\n",
    "    @classmethod\n",
    "    def parse(cls, tx):\n",
    "        stream = BytesIO(bytes.fromhex(tx))\n",
    "\n",
    "        version = stream.read(4)[::-1]\n",
    "\n",
    "        input_count = int.from_bytes(read_varint(stream), 'little')\n",
    "        inputs = []\n",
    "        for i in range(input_count):\n",
    "            inputs.append(TxIn.parse(stream, True))\n",
    "\n",
    "        output_count = int.from_bytes(read_varint(stream), 'little')\n",
    "        outputs = []\n",
    "        for i in range(output_count):\n",
    "            outputs.append(TxOut.parse(stream, True))\n",
    "        locktime = stream.read(4)[::-1]\n",
    "\n",
    "        return cls(inputs, outputs, version, locktime)\n",
    "    \n",
    "    def __repr__(self):\n",
    "        string = ''\n",
    "        string += f'Version: {int.from_bytes(self.version, \"big\")}\\n'\n",
    "        string += f'Input count: {len(self.inputs)}\\n'\n",
    "        string += '{\\n'\n",
    "        for input in self.inputs:\n",
    "            string += input.__repr__() + ',\\n'\n",
    "        string += '}\\n'\n",
    "        string += f'Output count: {len(self.outputs)}\\n'\n",
    "        string += '{\\n'\n",
    "        for output in self.outputs:\n",
    "            string += output.__repr__() + ',\\n'\n",
    "        string += '}\\n'\n",
    "        string += f'Locktime: {int.from_bytes(self.locktime, \"big\")}\\n'\n",
    "        return string\n",
    "\n",
    "    def colors(self):\n",
    "        result = ''\n",
    "        result += '\\033[94m' + self.version[::-1].hex()\n",
    "\n",
    "        result += '\\033[93m' + encode_varint(len(self.inputs)).hex()\n",
    "        result += '\\033[96m'\n",
    "        for i in self.inputs:\n",
    "            result += i.serialize().hex()\n",
    "        \n",
    "        result += '\\033[93m' + encode_varint(len(self.outputs)).hex()\n",
    "        result += '\\033[95m'\n",
    "        for i in self.outputs:\n",
    "            result += i.serialize().hex()\n",
    "\n",
    "        result += '\\033[92m' + self.locktime[::-1].hex()\n",
    "\n",
    "        result += '\\n\\033[94m\\u2589 Version'\n",
    "        result += '\\n\\033[93m\\u2589 Counter'\n",
    "        result += '\\n\\033[96m\\u2589 Inputs'\n",
    "        result += '\\n\\033[95m\\u2589 Outputs'\n",
    "        result += '\\n\\033[92m\\u2589 Sequence'\n",
    "\n",
    "        return result"
   ]
  },
  {
   "cell_type": "code",
   "execution_count": null,
   "metadata": {},
   "outputs": [],
   "source": [
    "transaction = TX.parse('0100000004b674693a82cdcf1060186c92e530d280120c53952fd8b9cf66adff6b1e1ea76b010000006a47304402203c390e403858b3d4683ecd857675278e70b1c7af2a45fbe316328b0bb45c0f13022041c05ef823d6f86af1d69c9359dddbae209005451f7d3de3eba65f5b4620d951012103b577a59ddc57ce173c058c66586064809fe88cd15dd9516614f1e8e5550de5f1ffffffff71dd3443b4ebbd256d7090e540d471c0b696de5fceb30f2f65ea020245733f14010000006a47304402200be80959e1e9a031810b41934e667cd883af0a42bace12314d759ac173ed8c0f02204d3b05ee9177624facaaf86971eaa25b9362c95c3c8e90fd8cf039dd3bb71dce012102294f00ee94128a71d134fede09001463e46c447cb1683e2b122e9ea323ef5319ffffffff0e1e6f6008f2a46e4dc069d2a51e95ec10295f7832c48934cb0b46bf495627dd000000006a47304402202f7e4d368d50f4cf72a07922ded69e7aa8f5c106da57136130ccff48bfc7ed56022038eddfbc42e53800870b476998606c5c2f26a71950e55d79ef1337cc64b6a002012103e25df6966fe91e3bb7656b2b833d1ced860a22ac72c4ee1fbbefbed735918ca8ffffffff3da3e5197ddb87a8f025b5bc230ae040c2c776dd804475619bb43eb1fc985b13010000006b483045022100b0c7736d2a6f9c87b88c49289cf485962c511211d86e93e307cd03ca6ae69bac02203bb06660c13e228c261bb9b9396129c26336232138711622735523880a4748340121032ec518e302bd1a865292817db538fb3e75bca805ed16a02c7df5d9cf4126357fffffffff02880d0100000000001976a914751b5e9c9cf3ea616fc4f62f1827da9597c67dda88ac200b2000000000001976a914070f7ab537f647f048c2d1cd89dc7dfed0e6384988ac00000000')\n",
    "print(transaction.colors())"
   ]
  },
  {
   "cell_type": "markdown",
   "metadata": {},
   "source": [
    "<a class=\"anchor\" id=\"script\"></a>\n",
    "## Script"
   ]
  },
  {
   "cell_type": "markdown",
   "metadata": {},
   "source": [
    "<a class=\"anchor\" id=\"data-encoding\"></a>\n",
    "### Data encoding"
   ]
  },
  {
   "cell_type": "code",
   "execution_count": null,
   "metadata": {},
   "outputs": [],
   "source": [
    "def data_encoding(data):\n",
    "    count = len(data)\n",
    "    if count < 76:\n",
    "        return count.to_bytes(1, 'little') + data\n",
    "    elif count < 2**8:\n",
    "       return b'\\x4a' + count.to_bytes(1, 'little') + data #OP_PUSHDATA1\n",
    "    elif count < 2**16: # cap at 520\n",
    "        return b'\\x4d' + count.to_bytes(2, 'little') + data #OP_PUSHDATA2\n",
    "    elif count < 2**32:\n",
    "        return b'\\x4e' + count.to_bytes(4, 'little') + data #OP_PUSHDATA4\n",
    "\n",
    "def data_decoding(data):\n",
    "    code = int.from_bytes(data.read(1), 'little')\n",
    "    if code == 0x4a:\n",
    "        size = int.from_bytes(data.read(1), 'little') #OP_PUSHDATA1\n",
    "        return data.read(size)\n",
    "    elif code == 0x4d:\n",
    "        size = int.from_bytes(data.read(2), 'little') #OP_PUSHDATA2\n",
    "        return data.read(size)\n",
    "    elif code == 0x4e:\n",
    "        size = int.from_bytes(data.read(4), 'little') #OP_PUSHDATA4\n",
    "        return data.read(size)\n",
    "    else:\n",
    "        return data.read(code)"
   ]
  },
  {
   "cell_type": "markdown",
   "metadata": {},
   "source": [
    "<a class=\"anchor\" id=\"op-codes\"></a>\n",
    "### OP Codes"
   ]
  },
  {
   "cell_type": "code",
   "execution_count": null,
   "metadata": {},
   "outputs": [],
   "source": [
    "OP_CODES = {\n",
    "    'OP_CHECKSIG': b'\\xac',\n",
    "    'OP_EQUAL': b'\\x87',\n",
    "    'OP_HASH160': b'\\xa9',\n",
    "    'OP_EQUALVERIFY': b'\\x88',\n",
    "    'OP_CHECKMULTISIG': b'\\xae',\n",
    "    'OP_DUP': b'\\x76',\n",
    "    'OP_0': b'\\x00'\n",
    "}\n",
    "\n",
    "for i, code in enumerate(range(81,97)):\n",
    "    name = f'OP_{i+1}'\n",
    "    OP_CODES[name] = code.to_bytes(1, 'big')\n",
    "\n",
    "\n",
    "for i in OP_CODES:\n",
    "    print(i, end='')\n",
    "    print(\": 0x\"+OP_CODES[i].hex())"
   ]
  },
  {
   "cell_type": "markdown",
   "metadata": {},
   "source": [
    "<a class=\"anchor\" id=\"p2pk\"></a>\n",
    "### P2PK"
   ]
  },
  {
   "cell_type": "markdown",
   "metadata": {},
   "source": [
    "<a class=\"anchor\" id=\"script-pub-key-p2pk\"></a>\n",
    "#### ScriptPubKey"
   ]
  },
  {
   "cell_type": "code",
   "execution_count": null,
   "metadata": {},
   "outputs": [],
   "source": [
    "def p2pk_scriptPubKey(pub_key):\n",
    "    return data_encoding(pub_key) + OP_CODES['OP_CHECKSIG']"
   ]
  },
  {
   "cell_type": "markdown",
   "metadata": {},
   "source": [
    "<a class=\"anchor\" id=\"script-sig-p2pk\"></a>\n",
    "#### ScriptSig"
   ]
  },
  {
   "cell_type": "code",
   "execution_count": null,
   "metadata": {},
   "outputs": [],
   "source": [
    "def p2pk_scriptSig(sig):\n",
    "    return data_encoding(sig)"
   ]
  },
  {
   "cell_type": "markdown",
   "metadata": {},
   "source": [
    "<a class=\"anchor\" id=\"p2pkh\"></a>\n",
    "### P2PKH"
   ]
  },
  {
   "cell_type": "markdown",
   "metadata": {},
   "source": [
    "<a class=\"anchor\" id=\"script-pub-key-p2pkh\"></a>\n",
    "#### ScriptPubKey"
   ]
  },
  {
   "cell_type": "code",
   "execution_count": null,
   "metadata": {},
   "outputs": [],
   "source": [
    "def p2pkh_scriptPubKey(pub_key):\n",
    "    hashed_key = hash160(pub_key)\n",
    "    return OP_CODES['OP_DUP'] + OP_CODES['OP_HASH160'] + data_encoding(hashed_key) + OP_CODES['OP_EQUALVERIFY'] + OP_CODES['OP_CHECKSIG']"
   ]
  },
  {
   "cell_type": "markdown",
   "metadata": {},
   "source": [
    "<a class=\"anchor\" id=\"script-sig-p2pkh\"></a>\n",
    "#### ScriptSig"
   ]
  },
  {
   "cell_type": "code",
   "execution_count": null,
   "metadata": {},
   "outputs": [],
   "source": [
    "def p2pkh_scriptSig(sig, pub_key):\n",
    "    return data_encoding(sig) + data_encoding(pub_key)"
   ]
  },
  {
   "cell_type": "markdown",
   "metadata": {},
   "source": [
    "<a class=\"anchor\" id=\"p2ms\"></a>\n",
    "### P2MS"
   ]
  },
  {
   "cell_type": "markdown",
   "metadata": {},
   "source": [
    "<a class=\"anchor\" id=\"script-pub-key-p2ms\"></a>\n",
    "#### ScriptPubKey"
   ]
  },
  {
   "cell_type": "code",
   "execution_count": null,
   "metadata": {},
   "outputs": [],
   "source": [
    "def p2ms_scriptPubKey(key_array, n_sig):\n",
    "    result = b''\n",
    "    result += OP_CODES[f'OP_{n_sig}']\n",
    "    for key in key_array:\n",
    "        result += data_encoding(key)\n",
    "    result += OP_CODES[f'OP_{len(key_array)}']\n",
    "    \n",
    "    return result + OP_CODES['OP_CHECKMULTISIG']"
   ]
  },
  {
   "cell_type": "markdown",
   "metadata": {},
   "source": [
    "<a class=\"anchor\" id=\"script-sig-p2ms\"></a>\n",
    "#### ScriptSig"
   ]
  },
  {
   "cell_type": "code",
   "execution_count": null,
   "metadata": {},
   "outputs": [],
   "source": [
    "def p2ms_scriptSig(sig_array):\n",
    "    result = b''\n",
    "    for sig in sig_array:\n",
    "        result += data_encoding(sig)\n",
    "    return OP_CODES['OP_0'] + result"
   ]
  },
  {
   "cell_type": "markdown",
   "metadata": {},
   "source": [
    "<a class=\"anchor\" id=\"p2sh\"></a>\n",
    "### P2SH"
   ]
  },
  {
   "cell_type": "markdown",
   "metadata": {},
   "source": [
    "<a class=\"anchor\" id=\"script-pub-key-p2sh\"></a>\n",
    "#### ScriptPubKey"
   ]
  },
  {
   "cell_type": "code",
   "execution_count": null,
   "metadata": {},
   "outputs": [],
   "source": [
    "def p2sh_scriptPubKey(script):\n",
    "    result = data_encoding(hash160(script))    \n",
    "    return OP_CODES['OP_HASH160'] + result + OP_CODES['OP_EQUAL']"
   ]
  },
  {
   "cell_type": "markdown",
   "metadata": {},
   "source": [
    "<a class=\"anchor\" id=\"script-sig-p2sh\"></a>\n",
    "#### ScriptSig"
   ]
  },
  {
   "cell_type": "code",
   "execution_count": null,
   "metadata": {},
   "outputs": [],
   "source": [
    "def p2sh_scriptSig(sig_script, lock_script):\n",
    "    return sig_script + data_encoding(lock_script)"
   ]
  },
  {
   "cell_type": "markdown",
   "metadata": {},
   "source": [
    "<a class=\"anchor\" id=\"creating-tx\"></a>\n",
    "## Creating a transaction"
   ]
  },
  {
   "cell_type": "code",
   "execution_count": null,
   "metadata": {},
   "outputs": [],
   "source": [
    "def wif_decode(key):\n",
    "    key = base58.b58decode_check(key)\n",
    "    \"\"\"\n",
    "    checksum = key[-4:]\n",
    "    key = key[:-4]\n",
    "    if hash256(key)[0:4] != checksum:\n",
    "        raise Exception(\"Wrong WIF key.\")\n",
    "    \"\"\"\n",
    "    # Taking away network bytes\n",
    "    key = key[1:]\n",
    "    # Taking away compression byte\n",
    "    key = key[:-1]\n",
    "    return key"
   ]
  },
  {
   "cell_type": "code",
   "execution_count": null,
   "metadata": {},
   "outputs": [],
   "source": [
    "# Inputs\n",
    "in_0 = TxIn(bytes.fromhex('6ba71e1e6bffad66cfb9d82f95530c1280d230e5926c186010cfcd823a6974b6'), bytes(b'\\x00\\x00\\x00\\x01'))\n",
    "in_1 = TxIn(bytes.fromhex('143f73450202ea652f0fb3ce5fde96b6c071d440e590706d25bdebb44334dd71'), bytes(b'\\x00\\x00\\x00\\x01'))\n",
    "in_2 = TxIn(bytes.fromhex('dd275649bf460bcb3489c432785f2910ec951ea5d269c04d6ea4f208606f1e0e'), bytes(b'\\x00\\x00\\x00\\x00'))\n",
    "in_3 = TxIn(bytes.fromhex('135b98fcb13eb49b61754480dd76c7c240e00a23bcb525f0a887db7d19e5a33d'), bytes(b'\\x00\\x00\\x00\\x01'))\n",
    "input_list = [in_0, in_1, in_2, in_3]\n",
    "\n",
    "# Output\n",
    "lock_script_0 = p2pkh_scriptPubKey(bytes.fromhex('03024bbfa47bd639ebf6ed77a785175b6b3224a1547aa7d1401f95e84a6263b7f0'))\n",
    "amount_0 = 69000\n",
    "out_0 = TxOut(amount_0.to_bytes(8, 'big'), lock_script_0)\n",
    "\n",
    "#Cash-back\n",
    "lock_script_1 = p2pkh_scriptPubKey(bytes.fromhex('02278c58a944431b425875b60cdb229b1195923843a83f915779a451fae85fe63c'))\n",
    "amount_1 = 2100000\n",
    "cash_back = TxOut(amount_1.to_bytes(8, 'big'), lock_script_1)\n",
    "\n",
    "output_list = [out_0, cash_back]\n",
    "\n",
    "# Transaction\n",
    "lock_time = 0\n",
    "tx = TX(input_list, output_list, b'\\x00\\x00\\x00\\x01', lock_time.to_bytes(4, 'big'))\n",
    "\n",
    "# Variables needed\n",
    "signatures = []\n",
    "locking_scripts = [\n",
    "    bytes.fromhex('76a914d73ed0e5506a1b9c4c82fcc4c8d2705d308a1c7988ac'),\n",
    "    bytes.fromhex('76a9143721cfdffb37ea053c8507c26ee68b92b44ce4d788ac'),\n",
    "    bytes.fromhex('76a91421337c36b4d44802ed2379b55b2b66a3433fd87588ac'),\n",
    "    bytes.fromhex('76a9142f6849a431d91d44ba958b0a14c5d9e22222b14888ac')\n",
    "\n",
    "]\n",
    "\n",
    "public_keys = []\n",
    "private_wifs = [\n",
    "    'cPnztkJGDnweFad2TXjqXdM1r7EBFNQUQ1XoiEfsy8mfED5kaQib',\n",
    "    'cPrSqshyySHqtF4ZE8ttk4TW7w6ck88jTQfeU415ngTPq9RWrSPs',\n",
    "    'cRHXZkGZeevh8SbCXYLHcRwsGx1FmuKBLMe8h3LT4M9oYUUiDKqg',\n",
    "    'cScqWqFzrWhiK3ndTLpKFPuE5kCzi7degAWeqTEJaqWZTCopbAoV'\n",
    "]\n",
    "\n",
    "# Cleaning scriptSigs\n",
    "for input in tx.inputs:\n",
    "    input.scriptSig = b''\n",
    "\n",
    "# Signing each input\n",
    "for wif, lock_s, input_index in zip(private_wifs, locking_scripts, range(len(tx.inputs))):\n",
    "    # Creating a copy to work on\n",
    "    clean_tx = copy.deepcopy(tx)\n",
    "    # Adding scriptPubKey to the scriptSig field as placeholder\n",
    "    clean_tx.inputs[input_index].scriptSig = lock_s\n",
    "    # Decoding private key\n",
    "    secret_num = wif_decode(wif) # private key wif\n",
    "    private_key = ec.derive_private_key(int.from_bytes(secret_num, 'big'), ec.SECP256K1())\n",
    "    # Signing\n",
    "    chosen_hash = hashes.SHA256()\n",
    "    digest = hash256(clean_tx.serialize() + b'\\x01\\x00\\x00\\x00')# Adding hash code\n",
    "    sig = private_key.sign(\n",
    "        digest,\n",
    "        ec.ECDSA(utils.Prehashed(chosen_hash))\n",
    "    )\n",
    "    # Adding SigScripts to each input\n",
    "    signatures.append(sig + b'\\x01')# Hash code after digest\n",
    "   \n",
    "    public_keys.append(private_key.public_key().public_bytes(Encoding.X962, PublicFormat.CompressedPoint))\n",
    "\n",
    "# Comment this following lines generate new signatures\n",
    "if True:\n",
    "    example_sigs = ['304402203c390e403858b3d4683ecd857675278e70b1c7af2a45fbe316328b0bb45c0f13022041c05ef823d6f86af1d69c9359dddbae209005451f7d3de3eba65f5b4620d95101',\n",
    "                    '304402200be80959e1e9a031810b41934e667cd883af0a42bace12314d759ac173ed8c0f02204d3b05ee9177624facaaf86971eaa25b9362c95c3c8e90fd8cf039dd3bb71dce01',\n",
    "                    '304402202f7e4d368d50f4cf72a07922ded69e7aa8f5c106da57136130ccff48bfc7ed56022038eddfbc42e53800870b476998606c5c2f26a71950e55d79ef1337cc64b6a00201',\n",
    "                    '3045022100b0c7736d2a6f9c87b88c49289cf485962c511211d86e93e307cd03ca6ae69bac02203bb06660c13e228c261bb9b9396129c26336232138711622735523880a47483401']\n",
    "    signatures = [bytes.fromhex(i) for i in example_sigs]\n",
    "\n",
    "# Adding SigScripts to each input\n",
    "for sig, pub_key, tx_input in zip(signatures, public_keys, tx.inputs):\n",
    "    tx_input.scriptSig = p2pkh_scriptSig(sig,pub_key)\n",
    "\n",
    "\n",
    "print('TxID: '+hash256(tx.serialize())[::-1].hex())\n",
    "print(tx.serialize().hex())\n",
    "\n"
   ]
  },
  {
   "cell_type": "markdown",
   "metadata": {},
   "source": [
    "<a class=\"anchor\" id=\"test\"></a>\n",
    "## Tests"
   ]
  },
  {
   "cell_type": "code",
   "execution_count": null,
   "metadata": {},
   "outputs": [],
   "source": [
    "class TestTX(unittest.TestCase):\n",
    "    def test_TxIn(self):\n",
    "        input='7967a5185e907a25225574544c31f7b059c1a191d65b53dcc1554d339c4f9efc010000006a47304402206a2eb16b7b92051d0fa38'\\\n",
    "            'c133e67684ed064effada1d7f925c842da401d4f22702201f196b10e6e4b4a9fff948e5c5d71ec5da53e90529c8dbd122bff2b1d21d'\\\n",
    "            'c8a90121039b7bcd0824b9a9164f7ba098408e63e5b7e3cf90835cceb19868f54f8961a825ffffffff'\n",
    "        aux = TxIn.parse(input)\n",
    "        output = aux.serialize().hex()\n",
    "        self.assertEqual(input, output)\n",
    "\n",
    "    def test_TxOut(self):\n",
    "        input='4baf2100000000001976a914db4d1141d0048b1ed15839d0b7a4c488cd368b0e88ac'\n",
    "        aux = TxOut.parse(input)\n",
    "        output = aux.serialize().hex()\n",
    "        self.assertEqual(input, output)\n",
    "\n",
    "    def test_TX(self):\n",
    "        input='01000000017967a5185e907a25225574544c31f7b059c1a191d65b53dcc1554d339c4f9efc010000006a47304402206a2eb16b7b9'\\\n",
    "            '2051d0fa38c133e67684ed064effada1d7f925c842da401d4f22702201f196b10e6e4b4a9fff948e5c5d71ec5da53e90529c8dbd122'\\\n",
    "            'bff2b1d21dc8a90121039b7bcd0824b9a9164f7ba098408e63e5b7e3cf90835cceb19868f54f8961a825ffffffff014baf210000000'\\\n",
    "            '0001976a914db4d1141d0048b1ed15839d0b7a4c488cd368b0e88ac00000000'\n",
    "        aux = TX.parse(input)\n",
    "        output = aux.serialize().hex()\n",
    "        self.assertEqual(input, output)\n",
    "\n",
    "    def test_data_encoding(self):\n",
    "        test = bytes(b'Hello World!')\n",
    "        byte_count = len(test)\n",
    "        encoded_data = data_encoding(test)\n",
    "        self.assertEqual(byte_count, encoded_data[0])\n",
    "\n",
    "    def test_data_decoding(self):\n",
    "        test = bytes(b'Hello World!')\n",
    "        encoded_data = data_encoding(test)\n",
    "        encoded_data = encoded_data * 2\n",
    "        decoded_data = data_decoding(BytesIO(encoded_data))\n",
    "        self.assertEqual(test, decoded_data)\n",
    "    \n",
    "    ### P2PK\n",
    "\n",
    "    def test_p2pk_scriptPubKey(self):\n",
    "        key = bytes.fromhex('04ae1a62fe09c5f51b13905f07f06b99a2f7159b2225f374cd378d71302fa28414e7aab37397f554a7df5f142c21c1b7303b8a0626f1baded5c72a704f7e6cd84c')\n",
    "        result = '4104ae1a62fe09c5f51b13905f07f06b99a2f7159b2225f374cd378d71302fa28414e7aab37397f554a7df5f142c21c1b7303b8a0626f1baded5c72a704f7e6cd84cac'\n",
    "        self.assertEqual(p2pk_scriptPubKey(key).hex(), result)\n",
    "\n",
    "    def test_p2pk_scriptSig(self):\n",
    "        sig = bytes.fromhex('30440220576497b7e6f9b553c0aba0d8929432550e092db9c130aae37b84b545e7f4a36c022066cb982ed80608372c139d7bb9af335423d5280350fe3e06bd510e695480914f01')\n",
    "        result = '4730440220576497b7e6f9b553c0aba0d8929432550e092db9c130aae37b84b545e7f4a36c022066cb982ed80608372c139d7bb9af335423d5280350fe3e06bd510e695480914f01'\n",
    "        self.assertEqual(p2pk_scriptSig(sig).hex(), result)\n",
    "\n",
    "    ### P2PKH\n",
    "\n",
    "    def test_p2pkh_scriptPubKey(self):\n",
    "        key = bytes.fromhex('044d05240cfbd8a2786eda9dadd520c1609b8593ff8641018d57703d02ba687cf2f187f0cee2221c3afb1b5ff7888caced2423916b61444666ca1216f26181398c')\n",
    "        result = '76a91412ab8dc588ca9d5787dde7eb29569da63c3a238c88ac'\n",
    "        self.assertEqual(p2pkh_scriptPubKey(key).hex(), result)\n",
    "\n",
    "    def test_p2pkh_scriptSig(self):\n",
    "        key = bytes.fromhex('044d05240cfbd8a2786eda9dadd520c1609b8593ff8641018d57703d02ba687cf2f187f0cee2221c3afb1b5ff7888caced2423916b61444666ca1216f26181398c')\n",
    "        sig = bytes.fromhex('304502203f004eeed0cef2715643e2f25a27a28f3c578e94c7f0f6a4df104e7d163f7f8f022100b8b248c1cfd8f77a0365107a9511d759b7544d979dd152a955c867afac0ef78601 ')\n",
    "        result = '48304502203f004eeed0cef2715643e2f25a27a28f3c578e94c7f0f6a4df104e7d163f7f8f022100b8b248c1cfd8f77a036510'\\\n",
    "            '7a9511d759b7544d979dd152a955c867afac0ef7860141044d05240cfbd8a2786eda9dadd520c1609b8593ff8641018d57703d02ba6'\\\n",
    "            '87cf2f187f0cee2221c3afb1b5ff7888caced2423916b61444666ca1216f26181398c'\n",
    "        self.assertEqual(p2pkh_scriptSig(sig, key).hex(), result)\n",
    "\n",
    "    ### P2MS\n",
    "\n",
    "    def test_p2ms_scriptPubKey(self):\n",
    "        key_1 = bytes.fromhex('04cc71eb30d653c0c3163990c47b976f3fb3f37cccdcbedb169a1dfef58bbfbfaff7d8a473e7e2e6d317b87bafe8bde97e3cf8f065dec022b51d11fcdd0d348ac4')\n",
    "        key_2 = bytes.fromhex('0461cbdcc5409fb4b4d42b51d33381354d80e550078cb532a34bfa2fcfdeb7d76519aecc62770f5b0e4ef8551946d8a540911abe3e7854a26f39f58b25c15342af')\n",
    "        output = p2ms_scriptPubKey([key_1, key_2], 1).hex()\n",
    "        correct_output = '514104cc71eb30d653c0c3163990c47b976f3fb3f37cccdcbedb169a1dfef58bbfbfaff7d8a473e7e2e6d317b87baf'\\\n",
    "            'e8bde97e3cf8f065dec022b51d11fcdd0d348ac4410461cbdcc5409fb4b4d42b51d33381354d80e550078cb532a34bfa2fcfdeb7d76'\\\n",
    "            '519aecc62770f5b0e4ef8551946d8a540911abe3e7854a26f39f58b25c15342af52ae'\n",
    "        self.assertEqual(output, correct_output)\n",
    "\n",
    "    def test_p2ms_scriptSig(self):\n",
    "        sig = bytes.fromhex('304402203f16c6f40162ab686621ef3000b04e75418a0c0cb2d8aebeac894ae360ac1e780220ddc15ecdfc3507ac48e1681a33eb60996631bf6bf5bc0a0682c4db743ce7ca2b01')\n",
    "        output = p2ms_scriptSig([sig]).hex()\n",
    "        correct_output = '0047304402203f16c6f40162ab686621ef3000b04e75418a0c0cb2d8aebeac894ae360ac1e780220ddc15ecdfc3507ac48e1681a33eb60996631bf6bf5bc0a0682c4db743ce7ca2b01'\n",
    "        self.assertEqual(output, correct_output)\n",
    "\n",
    "    ### P2SH\n",
    "\n",
    "    def test_p2sh_scriptPubKey(self):\n",
    "        key_1 = bytes.fromhex('022afc20bf379bc96a2f4e9e63ffceb8652b2b6a097f63fbee6ecec2a49a48010e')\n",
    "        key_2 = bytes.fromhex('03a767c7221e9f15f870f1ad9311f5ab937d79fcaeee15bb2c722bca515581b4c0')\n",
    "        script = p2ms_scriptPubKey([key_1, key_2], 1)\n",
    "        output = p2sh_scriptPubKey(script).hex()\n",
    "        correct_output = 'a914748284390f9e263a4b766a75d0633c50426eb87587'\n",
    "        self.assertEqual(output, correct_output)\n",
    "\n",
    "    def test_p2sh_scriptSig(self):\n",
    "        # pubKey script\n",
    "        key_1 = bytes.fromhex('022afc20bf379bc96a2f4e9e63ffceb8652b2b6a097f63fbee6ecec2a49a48010e')\n",
    "        key_2 = bytes.fromhex('03a767c7221e9f15f870f1ad9311f5ab937d79fcaeee15bb2c722bca515581b4c0')\n",
    "        lock_script = p2ms_scriptPubKey([key_1, key_2], 1)\n",
    "        # Sig script\n",
    "        sig = bytes.fromhex('3046022100a07b2821f96658c938fa9c68950af0e69f3b2ce5f8258b3a6ad254d4bc73e11e022100e82fab8df3f7e7a28e91b3609f91e8ebf663af3a4dc2fd2abd954301a5da67e701')\n",
    "        sig_script = p2ms_scriptSig([sig])\n",
    "        output = p2sh_scriptSig(sig_script, lock_script).hex()\n",
    "        correct_output = '00493046022100a07b2821f96658c938fa9c68950af0e69f3b2ce5f8258b3a6ad254d4bc73e11e022100e82fab8df3f7'\\\n",
    "            'e7a28e91b3609f91e8ebf663af3a4dc2fd2abd954301a5da67e701475121022afc20bf379bc96a2f4e9e63ffceb8652b2b6a097f63fbe'\\\n",
    "            'e6ecec2a49a48010e2103a767c7221e9f15f870f1ad9311f5ab937d79fcaeee15bb2c722bca515581b4c052ae'\n",
    "        self.assertEqual(output, correct_output)\n",
    "\n",
    "\n",
    "if __name__ == '__main__':\n",
    "    unittest.main(argv=[''], verbosity=2, exit=False)"
   ]
  }
 ],
 "metadata": {
  "kernelspec": {
   "display_name": "Python 3.10.4 ('hd-wallet-2EL5oofP')",
   "language": "python",
   "name": "python3"
  },
  "language_info": {
   "codemirror_mode": {
    "name": "ipython",
    "version": 3
   },
   "file_extension": ".py",
   "mimetype": "text/x-python",
   "name": "python",
   "nbconvert_exporter": "python",
   "pygments_lexer": "ipython3",
   "version": "3.10.4"
  },
  "orig_nbformat": 4,
  "vscode": {
   "interpreter": {
    "hash": "a61bcf1725ac39fd63ff1bfe1b2a097d9bf3f5b24512166876b54ab35169d45a"
   }
  }
 },
 "nbformat": 4,
 "nbformat_minor": 2
}
