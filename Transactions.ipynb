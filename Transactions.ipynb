{
 "cells": [
  {
   "cell_type": "markdown",
   "metadata": {},
   "source": [
    "<style>\n",
    "    .title_div {\n",
    "    padding: 60px;\n",
    "    text-align: center;\n",
    "    background: #ffffff;\n",
    "    }\n",
    "    #title {\n",
    "        color: #f2a900;\n",
    "        font-size: 80px;\n",
    "    }\n",
    "    #subtitle {\n",
    "        color: #4d4d4e;\n",
    "        font-size: 20px;\n",
    "    }\n",
    "</style>\n",
    "\n",
    "<div class=\"title_div\">\n",
    "  <h1 id=\"title\">TX</h1>\n",
    "  <p id=\"subtitle\">Transactions and Script</p>\n",
    "</div>\n",
    "\n",
    "<div style=\"color:red; text-align: center; padding: 60px\">\n",
    "⚠ The following TX examples are just to see how Bitcoin work; don't transmit nothing generated here on the mainnet. ⚠\n",
    "</div>\n",
    "\n",
    "\n",
    "## TOC:\n",
    "* [Hashes](#hasehs)\n",
    "    * [Hash256](#hash256)\n",
    "    * [Hash160](#hash160)\n",
    "* [VarInt](#varint)\n",
    "* [TxIn](#txin)\n",
    "* [TxOut](#txout)\n",
    "* [TX](#tx)\n",
    "* [Script](#script)\n",
    "    * [P2PK](#p2pk)\n",
    "    * [P2PKH](#p2pkh)\n",
    "    * [P2SH](#p2sh)"
   ]
  },
  {
   "cell_type": "code",
   "execution_count": 204,
   "metadata": {},
   "outputs": [],
   "source": [
    "from io import StringIO, BytesIO\n",
    "from hashlib import sha256, new\n",
    "import unittest\n",
    "import base58"
   ]
  },
  {
   "cell_type": "markdown",
   "metadata": {},
   "source": [
    "<a class=\"anchor\" id=\"hashes\"></a>\n",
    "## Hashes"
   ]
  },
  {
   "cell_type": "markdown",
   "metadata": {},
   "source": [
    "<a class=\"anchor\" id=\"hash256\"></a>\n",
    "### Hash256"
   ]
  },
  {
   "cell_type": "code",
   "execution_count": 205,
   "metadata": {},
   "outputs": [],
   "source": [
    "def hash256(data):\n",
    "    return sha256(sha256(data).digest()).digest()"
   ]
  },
  {
   "cell_type": "markdown",
   "metadata": {},
   "source": [
    "<a class=\"anchor\" id=\"hash160\"></a>\n",
    "### Hash160"
   ]
  },
  {
   "cell_type": "code",
   "execution_count": 206,
   "metadata": {},
   "outputs": [],
   "source": [
    "def hash160(data):\n",
    "    return new('ripemd160', sha256(data).digest()).digest()"
   ]
  },
  {
   "cell_type": "markdown",
   "metadata": {},
   "source": [
    "<a class=\"anchor\" id=\"varint\"></a>\n",
    "## VarInt"
   ]
  },
  {
   "cell_type": "code",
   "execution_count": 207,
   "metadata": {},
   "outputs": [],
   "source": [
    "def read_varint(s):\n",
    "    \n",
    "    flag = s.read(1)\n",
    "    if flag == 0xfd:\n",
    "        # 0xfd next two bytes are the number\n",
    "        return flag.read(2)\n",
    "    elif flag == 0xfe:\n",
    "        # 0xfe next four bytes are the number\n",
    "        return flag.read(4)\n",
    "    elif flag == 0xff:\n",
    "        # 0xff next eight bytes are the number\n",
    "        return flag.read(8)\n",
    "    else:\n",
    "        # the flag is the number\n",
    "        return flag\n",
    "\n",
    "\n",
    "def encode_varint(i):\n",
    "   \n",
    "    if i < 0xfd:\n",
    "        return bytes([i])\n",
    "    elif i < 0x10000:\n",
    "        return b'\\xfd' + i.to_bytes(2, 'litte')\n",
    "    elif i < 0x100000000:\n",
    "        return b'\\xfe' + i.to_bytes(4, 'litte')\n",
    "    elif i < 0x10000000000000000:\n",
    "        return b'\\xff' + i.to_bytes(8, 'litte')\n",
    "    else:\n",
    "        raise ValueError('integer too large: {}'.format(i))"
   ]
  },
  {
   "cell_type": "markdown",
   "metadata": {},
   "source": [
    "<a class=\"anchor\" id=\"txin\"></a>\n",
    "## TxIn"
   ]
  },
  {
   "cell_type": "code",
   "execution_count": 208,
   "metadata": {},
   "outputs": [],
   "source": [
    "class TxIn:\n",
    "    def __init__(self, txID, outID, scriptSig = None, sequence = 0xffffffff):\n",
    "        self.txID = txID # hex string\n",
    "        self.outIndex = outID # int\n",
    "        self.scriptSig = scriptSig # \n",
    "        self.sequence = sequence\n",
    "    \n",
    "    def serialize(self):\n",
    "        serialized_tx = self.txID[::-1]\n",
    "        serialized_tx += self.outIndex[::-1]\n",
    "        if self.scriptSig != None:\n",
    "            serialized_tx += encode_varint(len(self.scriptSig))\n",
    "            serialized_tx += self.scriptSig\n",
    "        serialized_tx += self.sequence[::-1]\n",
    "\n",
    "        return serialized_tx\n",
    "\n",
    "\n",
    "    @classmethod\n",
    "    def parse(cls, input, hex=False):\n",
    "        if hex:\n",
    "            stream = input\n",
    "        else:\n",
    "            stream = BytesIO(bytes.fromhex(input))\n",
    "        TxID = stream.read(32)[::-1]\n",
    "        index = stream.read(4)[::-1]\n",
    "        script_size = int.from_bytes(read_varint(stream), 'little')\n",
    "        script = stream.read(script_size)\n",
    "        secuence = stream.read(4)[::-1]\n",
    "        return cls(TxID, index, script, secuence)\n",
    "\n",
    "    def __repr__(self):\n",
    "        string = '[\\n\\t'\n",
    "        string += f'TxID: {self.txID.hex()}\\n\\t'\n",
    "        string += f'OutIndex: {self.outIndex.hex()}\\n\\t'\n",
    "        if self.scriptSig != None:\n",
    "            string += f'Script size: {len(self.scriptSig)}\\n\\t'\n",
    "            string += f'Script: {self.scriptSig.hex()}\\n\\t'\n",
    "        string += f'Sequence: {self.sequence.hex()}\\n' + ']'\n",
    "        return string\n",
    "\n",
    "    def colors(self):\n",
    "        result = ''\n",
    "        result += '\\033[94m' + self.txID[::-1].hex()\n",
    "        result += '\\033[91m' + self.outIndex[::-1].hex()\n",
    "        if self.scriptSig != None:\n",
    "            result += '\\033[93m' + encode_varint(len(self.scriptSig)).hex()\n",
    "            result += '\\033[96m' + self.scriptSig.hex()\n",
    "        result += '\\033[95m' + self.sequence[::-1].hex()\n",
    "        result += '\\n\\033[94m\\u2589 TxID'\n",
    "        result += '\\n\\033[91m\\u2589 Index'\n",
    "        result += '\\n\\033[93m\\u2589 Script Size'\n",
    "        result += '\\n\\033[96m\\u2589 ScriptSig'\n",
    "        result += '\\n\\033[95m\\u2589 Sequence'\n",
    "\n",
    "        return result"
   ]
  },
  {
   "cell_type": "code",
   "execution_count": 209,
   "metadata": {},
   "outputs": [
    {
     "name": "stdout",
     "output_type": "stream",
     "text": [
      "\u001b[94m7967a5185e907a25225574544c31f7b059c1a191d65b53dcc1554d339c4f9efc\u001b[91m01000000\u001b[93m6a\u001b[96m47304402206a2eb16b7b92051d0fa38c133e67684ed064effada1d7f925c842da401d4f22702201f196b10e6e4b4a9fff948e5c5d71ec5da53e90529c8dbd122bff2b1d21dc8a90121039b7bcd0824b9a9164f7ba098408e63e5b7e3cf90835cceb19868f54f8961a825\u001b[95mffffffff\n",
      "\u001b[94m▉ TxID\n",
      "\u001b[91m▉ Index\n",
      "\u001b[93m▉ Script Size\n",
      "\u001b[96m▉ ScriptSig\n",
      "\u001b[95m▉ Sequence\n"
     ]
    }
   ],
   "source": [
    "tx_in='7967a5185e907a25225574544c31f7b059c1a191d65b53dcc1554d339c4f9efc01000000\\\n",
    "    6a47304402206a2eb16b7b92051d0fa38c133e67684ed064effada1d7f925c842da401d4f227\\\n",
    "    02201f196b10e6e4b4a9fff948e5c5d71ec5da53e90529c8dbd122bff2b1d21dc8a90121039b\\\n",
    "    7bcd0824b9a9164f7ba098408e63e5b7e3cf90835cceb19868f54f8961a825ffffffff'\n",
    "\n",
    "print(TxIn.parse(tx_in).colors())"
   ]
  },
  {
   "cell_type": "markdown",
   "metadata": {},
   "source": [
    "<a class=\"anchor\" id=\"txout\"></a>\n",
    "## TxOut"
   ]
  },
  {
   "cell_type": "code",
   "execution_count": 210,
   "metadata": {},
   "outputs": [],
   "source": [
    "class TxOut:\n",
    "\n",
    "    def __init__(self, value, scriptPubKey):\n",
    "        self.value = value\n",
    "        self.scriptPubKey = scriptPubKey\n",
    "\n",
    "    def serialize(self):\n",
    "        serialized_tx = self.value[::-1]\n",
    "        serialized_tx += encode_varint(len(self.scriptPubKey))\n",
    "        serialized_tx += self.scriptPubKey\n",
    "        \n",
    "        return serialized_tx\n",
    "\n",
    "    @classmethod\n",
    "    def parse(cls, output, hex=False):\n",
    "        if hex:\n",
    "            stream = output\n",
    "        else:\n",
    "            stream = BytesIO(bytes.fromhex(output))\n",
    "        value = stream.read(8)[::-1]\n",
    "        script_size = int.from_bytes(read_varint(stream), 'little')\n",
    "        script = stream.read(script_size)\n",
    "        return cls(value, script)\n",
    "\n",
    "    def __repr__(self):\n",
    "        string = '[\\n\\t'\n",
    "        string += f'Value: {int.from_byes(self.value, \"big\")}\\n\\t'\n",
    "        string += f'Script size: {len(self.scriptPubKey)}\\n\\t'\n",
    "        string += f'Script: {self.scriptPubKey.hex()}\\n' + ']'\n",
    "        return string\n",
    "\n",
    "    def colors(self):\n",
    "        result = ''\n",
    "        result += '\\033[91m' + self.value[::-1].hex()\n",
    "        result += '\\033[93m' + encode_varint(len(self.scriptPubKey)).hex()\n",
    "        result += '\\033[96m' + self.scriptPubKey.hex()\n",
    "        result += '\\n\\033[91m\\u2589 Value'\n",
    "        result += '\\n\\033[93m\\u2589 Script Size'\n",
    "        result += '\\n\\033[96m\\u2589 ScriptPubKey'\n",
    "        return result\n"
   ]
  },
  {
   "cell_type": "code",
   "execution_count": 211,
   "metadata": {},
   "outputs": [
    {
     "name": "stdout",
     "output_type": "stream",
     "text": [
      "\u001b[91m4baf210000000000\u001b[93m19\u001b[96m76a914db4d1141d0048b1ed15839d0b7a4c488cd368b0e88ac\n",
      "\u001b[91m▉ Value\n",
      "\u001b[93m▉ Script Size\n",
      "\u001b[96m▉ ScriptPubKey\n"
     ]
    }
   ],
   "source": [
    "tx_out='4baf2100000000001976a914db4d1141d0048b1ed15839d0b7a4c488cd368b0e88ac'\n",
    "\n",
    "print(TxOut.parse(tx_out).colors())"
   ]
  },
  {
   "cell_type": "markdown",
   "metadata": {},
   "source": [
    "<a class=\"anchor\" id=\"tx\"></a>\n",
    "## TX"
   ]
  },
  {
   "cell_type": "code",
   "execution_count": 212,
   "metadata": {},
   "outputs": [],
   "source": [
    "class TX:\n",
    "    def __init__(self, inputs, outputs, version=0x00000001 , locktime=0x00000000):\n",
    "        self.inputs = inputs\n",
    "        self.outputs = outputs\n",
    "        self.version = version\n",
    "        self.locktime = locktime\n",
    "\n",
    "    def serialize(self):\n",
    "        serialized_tx = self.version[::-1]\n",
    "        serialized_tx += encode_varint(len(self.inputs))\n",
    "        for i in self.inputs:\n",
    "            serialized_tx += i.serialize()\n",
    "        \n",
    "        serialized_tx += encode_varint(len(self.outputs))\n",
    "        for i in self.outputs:\n",
    "            serialized_tx += i.serialize()\n",
    "\n",
    "        serialized_tx += self.locktime[::-1]\n",
    "        return serialized_tx\n",
    "\n",
    "    @classmethod\n",
    "    def parse(cls, tx):\n",
    "        stream = BytesIO(bytes.fromhex(tx))\n",
    "\n",
    "        version = stream.read(4)[::-1]\n",
    "\n",
    "        input_count = int.from_bytes(read_varint(stream), 'little')\n",
    "        inputs = []\n",
    "        for i in range(input_count):\n",
    "            inputs.append(TxIn.parse(stream, True))\n",
    "\n",
    "        output_count = int.from_bytes(read_varint(stream), 'little')\n",
    "        outputs = []\n",
    "        for i in range(output_count):\n",
    "            outputs.append(TxOut.parse(stream, True))\n",
    "        locktime = stream.read(4)[::-1]\n",
    "\n",
    "        return cls(inputs, outputs, version, locktime)\n",
    "\n",
    "    def colors(self):\n",
    "        result = ''\n",
    "        result += '\\033[94m' + self.version[::-1].hex()\n",
    "\n",
    "        result += '\\033[93m' + encode_varint(len(self.inputs)).hex()\n",
    "        result += '\\033[96m'\n",
    "        for i in self.inputs:\n",
    "            result += i.serialize().hex()\n",
    "        \n",
    "        result += '\\033[93m' + encode_varint(len(self.outputs)).hex()\n",
    "        result += '\\033[95m'\n",
    "        for i in self.outputs:\n",
    "            result += i.serialize().hex()\n",
    "\n",
    "        result += '\\033[92m' + self.locktime[::-1].hex()\n",
    "\n",
    "        result += '\\n\\033[94m\\u2589 Version'\n",
    "        result += '\\n\\033[93m\\u2589 Counter'\n",
    "        result += '\\n\\033[96m\\u2589 Inputs'\n",
    "        result += '\\n\\033[95m\\u2589 Outputs'\n",
    "        result += '\\n\\033[92m\\u2589 Sequence'\n",
    "\n",
    "        return result"
   ]
  },
  {
   "cell_type": "code",
   "execution_count": 213,
   "metadata": {},
   "outputs": [
    {
     "name": "stdout",
     "output_type": "stream",
     "text": [
      "\u001b[94m01000000\u001b[93m01\u001b[96m7967a5185e907a25225574544c31f7b059c1a191d65b53dcc1554d339c4f9efc010000006a47304402206a2eb16b7b92051d0fa38c133e67684ed064effada1d7f925c842da401d4f22702201f196b10e6e4b4a9fff948e5c5d71ec5da53e90529c8dbd122bff2b1d21dc8a90121039b7bcd0824b9a9164f7ba098408e63e5b7e3cf90835cceb19868f54f8961a825ffffffff\u001b[93m01\u001b[95m4baf2100000000001976a914db4d1141d0048b1ed15839d0b7a4c488cd368b0e88ac\u001b[92m00000000\n",
      "\u001b[94m▉ Version\n",
      "\u001b[93m▉ Counter\n",
      "\u001b[96m▉ Inputs\n",
      "\u001b[95m▉ Outputs\n",
      "\u001b[92m▉ Sequence\n"
     ]
    }
   ],
   "source": [
    "transaction = TX.parse('01000000017967a5185e907a25225574544c31f7b059c1a191d65b53dcc1554d339c4f9efc\\\n",
    "    010000006a47304402206a2eb16b7b92051d0fa38c133e67684ed064effada1d7f925c842da401d4f22702201f196b\\\n",
    "    10e6e4b4a9fff948e5c5d71ec5da53e90529c8dbd122bff2b1d21dc8a90121039b7bcd0824b9a9164f7ba098408e63\\\n",
    "    e5b7e3cf90835cceb19868f54f8961a825ffffffff014baf2100000000001976a914db4d1141d0048b1ed15839d0b7\\\n",
    "    a4c488cd368b0e88ac00000000')\n",
    "print(transaction.colors())"
   ]
  },
  {
   "cell_type": "markdown",
   "metadata": {},
   "source": [
    "<a class=\"anchor\" id=\"script\"></a>\n",
    "## Script"
   ]
  },
  {
   "cell_type": "code",
   "execution_count": 246,
   "metadata": {},
   "outputs": [],
   "source": [
    "def data_encoding(data):\n",
    "    count = len(data)\n",
    "    if count < 76:\n",
    "        return count.to_bytes(1, 'little') + data\n",
    "    elif count < 2**8:\n",
    "       return b'\\x4a' + count.to_bytes(1, 'little') + data #OP_PUSHDATA1\n",
    "    elif count < 2**16: # cap at 520\n",
    "        return b'\\x4d' + count.to_bytes(2, 'little') + data #OP_PUSHDATA2\n",
    "    elif count < 2**32:\n",
    "        return b'\\x4e' + count.to_bytes(4, 'little') + data #OP_PUSHDATA4\n",
    "\n",
    "def data_decoding(data):\n",
    "    code = int.from_bytes(data.read(1), 'little')\n",
    "    if code == 0x4a:\n",
    "        size = int.from_bytes(data.read(1), 'little') #OP_PUSHDATA1\n",
    "        return data.read(size)\n",
    "    elif code == 0x4d:\n",
    "        size = int.from_bytes(data.read(2), 'little') #OP_PUSHDATA2\n",
    "        return data.read(size)\n",
    "    elif code == 0x4e:\n",
    "        size = int.from_bytes(data.read(4), 'little') #OP_PUSHDATA4\n",
    "        return data.read(size)\n",
    "    else:\n",
    "        return data.read(code)"
   ]
  },
  {
   "cell_type": "markdown",
   "metadata": {},
   "source": [
    "<a class=\"anchor\" id=\"p2pk\"></a>\n",
    "### P2PK"
   ]
  },
  {
   "cell_type": "code",
   "execution_count": 215,
   "metadata": {},
   "outputs": [
    {
     "data": {
      "text/plain": [
       "142"
      ]
     },
     "execution_count": 215,
     "metadata": {},
     "output_type": "execute_result"
    }
   ],
   "source": [
    "len('30440220576497b7e6f9b553c0aba0d8929432550e092db9c130aae37b84b545e7f4a36c022066cb982ed80608372c139d7bb9af335423d5280350fe3e06bd510e695480914f01')"
   ]
  },
  {
   "cell_type": "code",
   "execution_count": 216,
   "metadata": {},
   "outputs": [
    {
     "data": {
      "text/plain": [
       "71"
      ]
     },
     "execution_count": 216,
     "metadata": {},
     "output_type": "execute_result"
    }
   ],
   "source": [
    "int.from_bytes(bytes.fromhex('47'), 'big')"
   ]
  },
  {
   "cell_type": "markdown",
   "metadata": {},
   "source": [
    "<a class=\"anchor\" id=\"p2pkh\"></a>\n",
    "### P2PKH"
   ]
  },
  {
   "cell_type": "markdown",
   "metadata": {},
   "source": [
    "<a class=\"anchor\" id=\"p2sh\"></a>\n",
    "### P2SH"
   ]
  },
  {
   "cell_type": "code",
   "execution_count": 238,
   "metadata": {},
   "outputs": [
    {
     "name": "stderr",
     "output_type": "stream",
     "text": [
      "test_TX (__main__.TestTX) ... ok\n",
      "test_TxIn (__main__.TestTX) ... ok\n",
      "test_TxOut (__main__.TestTX) ... ok\n",
      "test_data_decoding (__main__.TestTX) ... ok\n",
      "test_data_encoding (__main__.TestTX) ... ok\n",
      "\n",
      "----------------------------------------------------------------------\n",
      "Ran 5 tests in 0.004s\n",
      "\n",
      "OK\n"
     ]
    }
   ],
   "source": [
    "class TestTX(unittest.TestCase):\n",
    "    def test_TxIn(self):\n",
    "        input='7967a5185e907a25225574544c31f7b059c1a191d65b53dcc1554d339c4f9efc010000006a47304402206a2eb16b7b92051d0fa38c133e67684ed064effada1d7f925c842da401d4f22702201f196b10e6e4b4a9fff948e5c5d71ec5da53e90529c8dbd122bff2b1d21dc8a90121039b7bcd0824b9a9164f7ba098408e63e5b7e3cf90835cceb19868f54f8961a825ffffffff'\n",
    "        aux = TxIn.parse(input)\n",
    "        output = aux.serialize().hex()\n",
    "        self.assertEqual(input, output)\n",
    "\n",
    "    def test_TxOut(self):\n",
    "        input='4baf2100000000001976a914db4d1141d0048b1ed15839d0b7a4c488cd368b0e88ac'\n",
    "        aux = TxOut.parse(input)\n",
    "        output = aux.serialize().hex()\n",
    "        self.assertEqual(input, output)\n",
    "\n",
    "    def test_TX(self):\n",
    "        input='01000000017967a5185e907a25225574544c31f7b059c1a191d65b53dcc1554d339c4f9efc010000006a47304402206a2eb16b7b92051d0fa38c133e67684ed064effada1d7f925c842da401d4f22702201f196b10e6e4b4a9fff948e5c5d71ec5da53e90529c8dbd122bff2b1d21dc8a90121039b7bcd0824b9a9164f7ba098408e63e5b7e3cf90835cceb19868f54f8961a825ffffffff014baf2100000000001976a914db4d1141d0048b1ed15839d0b7a4c488cd368b0e88ac00000000'\n",
    "        aux = TX.parse(input)\n",
    "        output = aux.serialize().hex()\n",
    "        self.assertEqual(input, output)\n",
    "\n",
    "    def test_data_encoding(self):\n",
    "        test = bytes(b'Hello World!')\n",
    "        byte_count = len(test)\n",
    "        encoded_data = data_encoding(test)\n",
    "        self.assertEqual(byte_count, encoded_data[0])\n",
    "\n",
    "    def test_data_decoding(self):\n",
    "        test = bytes(b'Hello World!')\n",
    "        encoded_data = data_encoding(test)\n",
    "        encoded_data = encoded_data * 2\n",
    "        decoded_data = data_decoding(BytesIO(encoded_data))\n",
    "        self.assertEqual(test, decoded_data)\n",
    "\n",
    "if __name__ == '__main__':\n",
    "    unittest.main(argv=[''], verbosity=2, exit=False)"
   ]
  }
 ],
 "metadata": {
  "interpreter": {
   "hash": "9eace44eac3224f9c78a8322c44e45b5633d458c1d29ca3ebd0618f514a01b7b"
  },
  "kernelspec": {
   "display_name": "Python 3.9.9 64-bit ('.venv': venv)",
   "language": "python",
   "name": "python3"
  },
  "language_info": {
   "codemirror_mode": {
    "name": "ipython",
    "version": 3
   },
   "file_extension": ".py",
   "mimetype": "text/x-python",
   "name": "python",
   "nbconvert_exporter": "python",
   "pygments_lexer": "ipython3",
   "version": "3.9.9"
  },
  "orig_nbformat": 4
 },
 "nbformat": 4,
 "nbformat_minor": 2
}
