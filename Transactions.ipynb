{
 "cells": [
  {
   "cell_type": "markdown",
   "metadata": {},
   "source": [
    "<style>\n",
    "    .title_div {\n",
    "    padding: 60px;\n",
    "    text-align: center;\n",
    "    background: #ffffff;\n",
    "    }\n",
    "    #title {\n",
    "        color: #f2a900;\n",
    "        font-size: 80px;\n",
    "    }\n",
    "    #subtitle {\n",
    "        color: #4d4d4e;\n",
    "        font-size: 20px;\n",
    "    }\n",
    "</style>\n",
    "\n",
    "<div class=\"title_div\">\n",
    "  <h1 id=\"title\">TX</h1>\n",
    "  <p id=\"subtitle\">Transactions and Script</p>\n",
    "</div>\n",
    "\n",
    "<div style=\"color:red; text-align: center; padding: 60px\">\n",
    "⚠ The following TX examples are just to see how Bitcoin work; don't transmit nothing generated here on the mainnet. ⚠\n",
    "</div>\n",
    "\n",
    "\n",
    "## TOC:\n",
    "* [TxIn](#txin)\n",
    "* [TxOut](#txout)\n",
    "* [TX](#tx)\n",
    "* [Script](#script)\n",
    "    * [P2PK](#p2pk)\n",
    "    * [P2PKH](#p2pkh)\n",
    "    * [P2SH](#p2sh)"
   ]
  },
  {
   "cell_type": "code",
   "execution_count": 72,
   "metadata": {},
   "outputs": [],
   "source": [
    "import unittest\n",
    "from io import StringIO, BytesIO"
   ]
  },
  {
   "cell_type": "code",
   "execution_count": 73,
   "metadata": {},
   "outputs": [],
   "source": [
    "def read_varint(s):\n",
    "    \n",
    "    flag = s.read(1)\n",
    "    if flag == 0xfd:\n",
    "        # 0xfd next two bytes are the number\n",
    "        return flag.read(2)\n",
    "    elif flag == 0xfe:\n",
    "        # 0xfe next four bytes are the number\n",
    "        return flag.read(4)\n",
    "    elif flag == 0xff:\n",
    "        # 0xff next eight bytes are the number\n",
    "        return flag.read(8)\n",
    "    else:\n",
    "        # the flag is the number\n",
    "        return flag\n",
    "\n",
    "\n",
    "def encode_varint(i):\n",
    "   \n",
    "    if i < 0xfd:\n",
    "        return bytes([i])\n",
    "    elif i < 0x10000:\n",
    "        return b'\\xfd' + i.to_bytes(2, 'litte')\n",
    "    elif i < 0x100000000:\n",
    "        return b'\\xfe' + i.to_bytes(4, 'litte')\n",
    "    elif i < 0x10000000000000000:\n",
    "        return b'\\xff' + i.to_bytes(8, 'litte')\n",
    "    else:\n",
    "        raise ValueError('integer too large: {}'.format(i))"
   ]
  },
  {
   "cell_type": "markdown",
   "metadata": {},
   "source": [
    "<a class=\"anchor\" id=\"txin\"></a>\n",
    "## TxIn"
   ]
  },
  {
   "cell_type": "code",
   "execution_count": 74,
   "metadata": {},
   "outputs": [],
   "source": [
    "class TxIn:\n",
    "    def __init__(self, txID, outID, scriptSig = None, sequence = 0xffffffff):\n",
    "        self.txID = txID # hex string\n",
    "        self.outIndex = outID # int\n",
    "        self.scriptSig = scriptSig # \n",
    "        self.sequence = sequence\n",
    "    \n",
    "    def serialize(self):\n",
    "        serialized_tx = self.txID[::-1]\n",
    "        serialized_tx += self.outIndex[::-1]\n",
    "        if self.scriptSig != None:\n",
    "            serialized_tx += encode_varint(len(self.scriptSig))\n",
    "            serialized_tx += self.scriptSig\n",
    "        serialized_tx += self.sequence[::-1]\n",
    "\n",
    "        return serialized_tx\n",
    "\n",
    "\n",
    "    @classmethod\n",
    "    def parse(cls, input, hex=False):\n",
    "        if hex:\n",
    "            stream = input\n",
    "        else:\n",
    "            stream = BytesIO(bytes.fromhex(input))\n",
    "        TxID = stream.read(32)[::-1]\n",
    "        index = stream.read(4)[::-1]\n",
    "        script_size = int.from_bytes(read_varint(stream), 'little')\n",
    "        script = stream.read(script_size)\n",
    "        secuence = stream.read(4)[::-1]\n",
    "        return cls(TxID, index, script, secuence)\n",
    "\n",
    "    def __repr__(self):\n",
    "        string = '[\\n\\t'\n",
    "        string += f'TxID: {self.txID.hex()}\\n\\t'\n",
    "        string += f'OutIndex: {self.outIndex.hex()}\\n\\t'\n",
    "        if self.scriptSig != None:\n",
    "            string += f'Script size: {len(self.scriptSig)}\\n\\t'\n",
    "            string += f'Script: {self.scriptSig.hex()}\\n\\t'\n",
    "        string += f'Sequence: {self.sequence.hex()}\\n' + ']'\n",
    "        return string"
   ]
  },
  {
   "cell_type": "markdown",
   "metadata": {},
   "source": [
    "<a class=\"anchor\" id=\"txout\"></a>\n",
    "## TxOut"
   ]
  },
  {
   "cell_type": "code",
   "execution_count": 75,
   "metadata": {},
   "outputs": [],
   "source": [
    "class TxOut:\n",
    "\n",
    "    def __init__(self, value, scriptPubKey):\n",
    "        self.value = value\n",
    "        self.scriptPubKey = scriptPubKey\n",
    "\n",
    "    def serialize(self):\n",
    "        serialized_tx = self.value[::-1]\n",
    "        serialized_tx += encode_varint(len(self.scriptPubKey))\n",
    "        serialized_tx += self.scriptPubKey\n",
    "        \n",
    "        return serialized_tx\n",
    "\n",
    "    @classmethod\n",
    "    def parse(cls, output, hex=False):\n",
    "        if hex:\n",
    "            stream = output\n",
    "        else:\n",
    "            stream = BytesIO(bytes.fromhex(output))\n",
    "        value = stream.read(8)[::-1]\n",
    "        script_size = int.from_bytes(read_varint(stream), 'little')\n",
    "        script = stream.read(script_size)\n",
    "        return cls(value, script)\n",
    "\n",
    "    def __repr__(self):\n",
    "        string = '[\\n\\t'\n",
    "        string += f'Value: {int.from_byes(self.value, \"big\")}\\n\\t'\n",
    "        string += f'Script size: {len(self.scriptPubKey)}\\n\\t'\n",
    "        string += f'Script: {self.scriptPubKey.hex()}\\n' + ']'\n",
    "        return string\n"
   ]
  },
  {
   "cell_type": "markdown",
   "metadata": {},
   "source": [
    "<a class=\"anchor\" id=\"tx\"></a>\n",
    "## TX"
   ]
  },
  {
   "cell_type": "code",
   "execution_count": 76,
   "metadata": {},
   "outputs": [
    {
     "data": {
      "text/plain": [
       "<__main__.TX at 0x29259ee4cd0>"
      ]
     },
     "execution_count": 76,
     "metadata": {},
     "output_type": "execute_result"
    }
   ],
   "source": [
    "class TX:\n",
    "    def __init__(self, inputs, outputs, version=0x00000001 , locktime=0x00000000):\n",
    "        self.inputs = inputs\n",
    "        self.outputs = outputs\n",
    "        self.version = version\n",
    "        self.locktime = locktime\n",
    "\n",
    "    def serialize(self):\n",
    "        serialized_tx = self.version[::-1]\n",
    "        serialized_tx += encode_varint(len(self.inputs))\n",
    "        for i in self.inputs:\n",
    "            serialized_tx += i.serialize()\n",
    "        \n",
    "        serialized_tx += encode_varint(len(self.outputs))\n",
    "        for i in self.outputs:\n",
    "            serialized_tx += i.serialize()\n",
    "\n",
    "        serialized_tx += self.locktime[::-1]\n",
    "        return serialized_tx\n",
    "\n",
    "    @classmethod\n",
    "    def parse(cls, tx):\n",
    "        stream = BytesIO(bytes.fromhex(tx))\n",
    "\n",
    "        version = stream.read(4)[::-1]\n",
    "\n",
    "        input_count = int.from_bytes(read_varint(stream), 'little')\n",
    "        inputs = []\n",
    "        for i in range(input_count):\n",
    "            inputs.append(TxIn.parse(stream, True))\n",
    "\n",
    "        output_count = int.from_bytes(read_varint(stream), 'little')\n",
    "        outputs = []\n",
    "        for i in range(output_count):\n",
    "            outputs.append(TxOut.parse(stream, True))\n",
    "        locktime = stream.read(4)[::-1]\n",
    "\n",
    "        return cls(inputs, outputs, version, locktime)\n",
    "\n",
    "\n",
    "\n",
    "\n",
    "TX.parse('01000000017967a5185e907a25225574544c31f7b059c1a191d65b53dcc1554d339c4f9efc010000006a47304402206a2eb16b7b92051d0fa38c133e67684ed064effada1d7f925c842da401d4f22702201f196b10e6e4b4a9fff948e5c5d71ec5da53e90529c8dbd122bff2b1d21dc8a90121039b7bcd0824b9a9164f7ba098408e63e5b7e3cf90835cceb19868f54f8961a825ffffffff014baf2100000000001976a914db4d1141d0048b1ed15839d0b7a4c488cd368b0e88ac00000000')"
   ]
  },
  {
   "cell_type": "code",
   "execution_count": 77,
   "metadata": {},
   "outputs": [
    {
     "name": "stderr",
     "output_type": "stream",
     "text": [
      "test_TX (__main__.TestTX) ... ok\n",
      "test_TxIn (__main__.TestTX) ... ok\n",
      "test_TxOut (__main__.TestTX) ... ok\n",
      "\n",
      "----------------------------------------------------------------------\n",
      "Ran 3 tests in 0.003s\n",
      "\n",
      "OK\n"
     ]
    }
   ],
   "source": [
    "class TestTX(unittest.TestCase):\n",
    "    def test_TxIn(self):\n",
    "        input='7967a5185e907a25225574544c31f7b059c1a191d65b53dcc1554d339c4f9efc010000006a47304402206a2eb16b7b92051d0fa38c133e67684ed064effada1d7f925c842da401d4f22702201f196b10e6e4b4a9fff948e5c5d71ec5da53e90529c8dbd122bff2b1d21dc8a90121039b7bcd0824b9a9164f7ba098408e63e5b7e3cf90835cceb19868f54f8961a825ffffffff'\n",
    "        aux = TxIn.parse(input)\n",
    "        output = aux.serialize().hex()\n",
    "        self.assertEqual(input, output)\n",
    "\n",
    "    def test_TxOut(self):\n",
    "        input='4baf2100000000001976a914db4d1141d0048b1ed15839d0b7a4c488cd368b0e88ac'\n",
    "        aux = TxOut.parse(input)\n",
    "        output = aux.serialize().hex()\n",
    "        self.assertEqual(input, output)\n",
    "\n",
    "    def test_TX(self):\n",
    "        input='01000000017967a5185e907a25225574544c31f7b059c1a191d65b53dcc1554d339c4f9efc010000006a47304402206a2eb16b7b92051d0fa38c133e67684ed064effada1d7f925c842da401d4f22702201f196b10e6e4b4a9fff948e5c5d71ec5da53e90529c8dbd122bff2b1d21dc8a90121039b7bcd0824b9a9164f7ba098408e63e5b7e3cf90835cceb19868f54f8961a825ffffffff014baf2100000000001976a914db4d1141d0048b1ed15839d0b7a4c488cd368b0e88ac00000000'\n",
    "        aux = TX.parse(input)\n",
    "        output = aux.serialize().hex()\n",
    "        self.assertEqual(input, output)\n",
    "\n",
    "if __name__ == '__main__':\n",
    "    unittest.main(argv=[''], verbosity=2, exit=False)"
   ]
  }
 ],
 "metadata": {
  "interpreter": {
   "hash": "9eace44eac3224f9c78a8322c44e45b5633d458c1d29ca3ebd0618f514a01b7b"
  },
  "kernelspec": {
   "display_name": "Python 3.9.9 64-bit ('.venv': venv)",
   "language": "python",
   "name": "python3"
  },
  "language_info": {
   "codemirror_mode": {
    "name": "ipython",
    "version": 3
   },
   "file_extension": ".py",
   "mimetype": "text/x-python",
   "name": "python",
   "nbconvert_exporter": "python",
   "pygments_lexer": "ipython3",
   "version": "3.9.9"
  },
  "orig_nbformat": 4
 },
 "nbformat": 4,
 "nbformat_minor": 2
}
