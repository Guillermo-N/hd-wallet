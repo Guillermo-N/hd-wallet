{
 "cells": [
  {
   "cell_type": "markdown",
   "metadata": {},
   "source": [
    "## TOC:\n",
    "* [Parameters](#parameters)\n",
    "* [Elliptic Curve Mathematics](#ec-math)\n",
    "    * [Modular Inverse](#modular-inverse)\n",
    "    * [Double](#double)\n",
    "    * [Add](#add)\n",
    "    * [Multiply](#multiply)\n",
    "        * [Double-and-add algorithm](#double-add)\n",
    "* [ECDSA](#ecdsa)\n",
    "    * [Key Generation](#key-gen)\n",
    "    * [Sign](#sign)\n",
    "    * [Verify](#verity)\n"
   ]
  },
  {
   "cell_type": "code",
   "execution_count": 271,
   "metadata": {},
   "outputs": [],
   "source": [
    "from IPython.display import clear_output\n",
    "from time import sleep, time\n",
    "from hashlib import sha256\n",
    "from secrets import randbelow"
   ]
  },
  {
   "cell_type": "markdown",
   "metadata": {},
   "source": [
    "***\n",
    "## Parameters<a class=\"anchor\" id=\"parameters\"></a>\n",
    "\n",
    "The following variables are the ones used in secp256k1, the elliptic curve used in Bitcoin.</br></br>\n",
    "Elliptic curve fuction:   $y^2 = x^3 + ax + b$"
   ]
  },
  {
   "cell_type": "code",
   "execution_count": 272,
   "metadata": {},
   "outputs": [],
   "source": [
    "a = 0\n",
    "b = 7\n",
    "\n",
    "# prime field\n",
    "p = 2**256 - 2**32 - 2**9 - 2**8 - 2**7 - 2**6 - 2**4 - 1\n",
    "\n",
    "# order\n",
    "n = 115792089237316195423570985008687907852837564279074904382605163141518161494337\n",
    "\n",
    "G = [# genarator point\n",
    "  55066263022277343669578718895168534326250603453777594175500187360389116729240,\n",
    "  32670510020758816978083085130507043184471273380659243275938904335757337482424\n",
    "]"
   ]
  },
  {
   "cell_type": "markdown",
   "metadata": {},
   "source": [
    "***\n",
    "## Elliptic Curve Mathematics<a class=\"anchor\" id=\"ec-math\"></a>\n",
    "\n",
    "\n",
    "### Modular Inverse<a class=\"anchor\" id=\"modular-inverse\"></a>\n",
    "\n",
    "Extended Euclidean algorithm"
   ]
  },
  {
   "cell_type": "code",
   "execution_count": 273,
   "metadata": {},
   "outputs": [
    {
     "name": "stdout",
     "output_type": "stream",
     "text": [
      "29\n",
      "29\n"
     ]
    }
   ],
   "source": [
    "def inverse(a, m = p):\n",
    "    m_orig = m\n",
    "    if a == 0:\n",
    "        raise ZeroDivisionError(f\"Variable a={a}; should be bigger than 0.\")\n",
    "    a = a % m\n",
    "    prevy, y = 0, 1\n",
    "    while a > 1:\n",
    "        q = m // a\n",
    "        y, prevy = prevy - q * y, y\n",
    "        a, m = m % a, a\n",
    "    return y % m_orig\n",
    "\n",
    "print(inverse(13, 47))\n",
    "print(pow(13, -1, 47)) # pyhton3.8+ and above "
   ]
  },
  {
   "cell_type": "code",
   "execution_count": 274,
   "metadata": {},
   "outputs": [],
   "source": [
    "def animation(x, y, m):\n",
    "\n",
    "    for i in range(x, x*y+1):\n",
    "        print(\"Finite Fields: Multiplication\")\n",
    "        pos = i % m\n",
    "\n",
    "        print(\" \"+\" \"*pos+str(pos))\n",
    "        print(\"0\"+\" \"*pos+\"\\u21E9\"+\" \"*(m-pos-1)+str(m))\n",
    "        print(\"|\"+\"\\u2022\"*m+\"|\")\n",
    "\n",
    "\n",
    "        print(\"\\n{} * {} = {}\".format(x, y,str(pos)if i ==x*y else \"\"))\n",
    "        sleep(.05)\n",
    "        clear_output(wait=True)\n",
    "    result = pos\n",
    "    sleep(1.2)\n",
    "    for i in range(result + 1 ,(result-1)*pow(x, -1, m)+2):\n",
    "        print(\"Finite Fields: Multiplication (Find Inverse)\")\n",
    "        pos = i % m\n",
    "        times = i // m\n",
    "\n",
    "        print(\" \"+\" \"*pos+str(pos))\n",
    "        print(\"0\"+\" \"*pos+\"\\u21E9\"+\" \"*(m-pos-1)+str(m))\n",
    "        print(\"|\"+\"\\u2022\"*m+\"|\")\n",
    "\n",
    "\n",
    "        print(\"\\n{} * {} = {}\".format(x, y, result))\n",
    "        print(\"\\n{} * {} = {}\".format(result, times, i%m))\n",
    "        sleep(.05)\n",
    "        clear_output(wait=True)\n",
    "\n",
    "\n",
    "#animation(8, 13, 47)"
   ]
  },
  {
   "cell_type": "markdown",
   "metadata": {},
   "source": [
    "### Double<a class=\"anchor\" id=\"double\"></a>\n",
    "\n",
    "Used in case the two points are the same. We calculate the tangent to the point and find out where else does intersect the curve.\n",
    "\n",
    "$slope = (3x₁² + a) / 2y₁$</br>\n",
    "$x = slope² - 2x₁$</br>\n",
    "$y = slope * (x₁ - x) - y₁$"
   ]
  },
  {
   "cell_type": "code",
   "execution_count": 275,
   "metadata": {},
   "outputs": [
    {
     "name": "stdout",
     "output_type": "stream",
     "text": [
      "double(G): {\n",
      "\tx: 89565891926547004231252920425935692360644145829622209833684329913297188986597,\n",
      "\ty: 12158399299693830322967808612713398636155367887041628176798871954788371653930\n",
      "}\n"
     ]
    }
   ],
   "source": [
    "def double(point):\n",
    "    slope = ((3 * point[0] ** 2 + a) * inverse((2 * point[1]), p)) % p\n",
    "    x = (slope ** 2 - (2 * point[0])) % p\n",
    "    y = (slope * (point[0] - x) - point[1]) % p\n",
    "    return (x, y)\n",
    "\n",
    "result = double(G)\n",
    "print(f\"double(G): {{\\n\\tx: {result[0]},\\n\\ty: {result[1]}\\n}}\")"
   ]
  },
  {
   "cell_type": "markdown",
   "metadata": {},
   "source": [
    "### Add<a class=\"anchor\" id=\"add\"></a>\n",
    "\n",
    "Used when the points are different.\n",
    "\n",
    "$slope = (y₁ - y₂) / (x₁ - x₂)$</br>\n",
    "$x = slope² - x₁ - x₂$</br>\n",
    "$y = slope * (x₁ - x) - y₁$"
   ]
  },
  {
   "cell_type": "code",
   "execution_count": 276,
   "metadata": {},
   "outputs": [
    {
     "name": "stdout",
     "output_type": "stream",
     "text": [
      "T: {\n",
      "\tx: 89565891926547004231252920425935692360644145829622209833684329913297188986597,\n",
      "\ty: 12158399299693830322967808612713398636155367887041628176798871954788371653930\n",
      "}\n",
      "T2: {\n",
      "\tx: 112711660439710606056748659173929673102114977341539408544630613555209775888121,\n",
      "\ty: 25583027980570883691656905877401976406448868254816295069919888960541586679410\n",
      "}\n"
     ]
    }
   ],
   "source": [
    "def add(point1, point2):\n",
    "  if point1 == point2:\n",
    "    return double(point1)\n",
    "  slope = ((point1[1] - point2[1]) * inverse(point1[0] - point2[0], p)) % p\n",
    "  x = (slope ** 2 - point1[0] - point2[0]) % p\n",
    "  y = ((slope * (point1[0] - x)) - point1[1]) % p\n",
    "  return (x, y)\n",
    "\n",
    "T = add(G, G)\n",
    "print(f\"T: {{\\n\\tx: {T[0]},\\n\\ty: {T[1]}\\n}}\")\n",
    "T2 = add(T, G)\n",
    "print(f\"T2: {{\\n\\tx: {T2[0]},\\n\\ty: {T2[1]}\\n}}\")"
   ]
  },
  {
   "cell_type": "markdown",
   "metadata": {},
   "source": [
    "### Multiply<a class=\"anchor\" id=\"multiply\"></a>\n",
    "Used for sucesive additions."
   ]
  },
  {
   "cell_type": "code",
   "execution_count": 277,
   "metadata": {},
   "outputs": [
    {
     "name": "stdout",
     "output_type": "stream",
     "text": [
      "Execution time: 1976.719617843628 ms\n",
      "Result: {\n",
      "\tx: 45144681238022915379838256640648974390095578890737782493692183842300544374804,\n",
      "\ty: 15493911184894630123643928078266102650003862558761004463646228136434723692345\n",
      "}\n"
     ]
    }
   ],
   "source": [
    "def multiply(constant, point = G):\n",
    "    acu = add(point, point)\n",
    "    for _ in range(constant-2):\n",
    "        acu = add(acu, point)\n",
    "    return acu\n",
    "\n",
    "start = time()\n",
    "result = multiply(40000)\n",
    "print(f\"Execution time: {(time() - start)*1000} ms\")\n",
    "print(f\"Result: {{\\n\\tx: {result[0]},\\n\\ty: {result[1]}\\n}}\")"
   ]
  },
  {
   "cell_type": "code",
   "execution_count": 278,
   "metadata": {},
   "outputs": [
    {
     "name": "stdout",
     "output_type": "stream",
     "text": [
      "Execution time: 1.0192394256591797 ms\n",
      "Result: {\n",
      "\tx: 45144681238022915379838256640648974390095578890737782493692183842300544374804,\n",
      "\ty: 15493911184894630123643928078266102650003862558761004463646228136434723692345\n",
      "}\n"
     ]
    }
   ],
   "source": [
    "def uber_multiply(constant, point = G):\n",
    "    current = point\n",
    "    binary = bin(constant)[3:]\n",
    "    for i in binary:\n",
    "        current = double(current)\n",
    "        if i == '1':\n",
    "            current = add(current, point)\n",
    "    return current\n",
    "\n",
    "start = time()\n",
    "result = uber_multiply(40000)\n",
    "print(f\"Execution time: {(time() - start)*1000} ms\")\n",
    "print(f\"Result: {{\\n\\tx: {result[0]},\\n\\ty: {result[1]}\\n}}\")"
   ]
  },
  {
   "cell_type": "markdown",
   "metadata": {},
   "source": [
    "***\n",
    "## ECDSA <a class=\"anchor\" id=\"ecdsa\"></a>\n",
    "\n",
    "### Key Generation <a class=\"anchor\" id=\"key-gen\"></a>\n",
    "\n",
    "The private key should be a random number less than orden 'n'."
   ]
  },
  {
   "cell_type": "code",
   "execution_count": 279,
   "metadata": {},
   "outputs": [
    {
     "name": "stdout",
     "output_type": "stream",
     "text": [
      "Public 🔑: {\n",
      "\tx: 33886286099813419182054595252042348742146950914608322024530631065951421850289,\n",
      "\ty: 9529752953487881233694078263953407116222499632359298014255097182349749987176\n",
      "}\n"
     ]
    }
   ],
   "source": [
    "d = 112757557418114203588093402336452206775565751179231977388358956335153294300646 # Pvivate key\n",
    "Q = uber_multiply(d)\n",
    "\n",
    "print(\"Public {}: {{\\n\\tx: {},\\n\\ty: {}\\n}}\".format(\"\\U0001F511\",Q[0], Q[1]))"
   ]
  },
  {
   "cell_type": "markdown",
   "metadata": {},
   "source": [
    "### Sign<a class=\"anchor\" id=\"sign\"></a>\n",
    "\n",
    "What we need:\n",
    "1. Salt: $k$\n",
    "2. Message Hash: $z$\n",
    "3. Private Key: $d$"
   ]
  },
  {
   "cell_type": "code",
   "execution_count": 280,
   "metadata": {},
   "outputs": [
    {
     "name": "stdout",
     "output_type": "stream",
     "text": [
      "Salt: 12345\n",
      "Message: ECDSA is the most fun I have ever experienced\n",
      "Hash digest in decimal: 103318048148376957923607078689899464500752411597387986125144636642406244063093\n",
      "Private key: 112757557418114203588093402336452206775565751179231977388358956335153294300646\n"
     ]
    }
   ],
   "source": [
    "k = 12345\n",
    "print(f\"Salt: {k}\")\n",
    "\n",
    "message = \"ECDSA is the most fun I have ever experienced\"\n",
    "print(f\"Message: {message}\")\n",
    "\n",
    "z = sha256(message.encode('ascii')).digest()\n",
    "z = int.from_bytes(z, 'big')\n",
    "print(f\"Hash digest in decimal: {z}\")\n",
    "\n",
    "print(f\"Private key: {d}\")"
   ]
  },
  {
   "cell_type": "markdown",
   "metadata": {},
   "source": [
    "A signature is compose by the conbination of $r$ and $s$:\n",
    "\n",
    "$r = (G * k)mod(n)$</br>\n",
    "We take the random number $k$ and multiply it by the generator point to get a random point $R$. We only actually use the x-coordinate of this point, and we call this lowercase $r$.\n",
    "\n",
    "$s = k⁻¹ * (z + d * r)) mod(n)$</br>\n",
    "This is a unique number created from a combination of $z$ and $d$, which is also bound to the random point using $r$."
   ]
  },
  {
   "cell_type": "code",
   "execution_count": 281,
   "metadata": {},
   "outputs": [
    {
     "name": "stdout",
     "output_type": "stream",
     "text": [
      "Signature: {\n",
      "\tx: 108607064596551879580190606910245687803607295064141551927605737287325610911759,\n",
      "\ty: 73791001770378044883749956175832052998232581925633570497458784569540878807131\n",
      "}\n"
     ]
    }
   ],
   "source": [
    "def sign(private_k, m_hash, salt = None):\n",
    "\n",
    "    if salt == None:\n",
    "        salt = randbelow(n) # Random number within finite field order.\n",
    "\n",
    "    r = uber_multiply(salt)[0] % n\n",
    "   \n",
    "    s = (inverse(salt, n) * (m_hash + private_k * r)) % n\n",
    "\n",
    "    return (r, s)\n",
    "\n",
    "\n",
    "signature = sign(d, z, k)\n",
    "\n",
    "print(f\"Signature: {{\\n\\tx: {signature[0]},\\n\\ty: {signature[1]}\\n}}\")"
   ]
  },
  {
   "cell_type": "markdown",
   "metadata": {},
   "source": [
    "### Bad signing practice<a class=\"anchor\" id=\"bad-sign\"></a>"
   ]
  },
  {
   "cell_type": "code",
   "execution_count": 288,
   "metadata": {},
   "outputs": [
    {
     "data": {
      "text/plain": [
       "1111222233334444555566667777888899990000"
      ]
     },
     "execution_count": 288,
     "metadata": {},
     "output_type": "execute_result"
    }
   ],
   "source": [
    "prv_k = 1111222233334444555566667777888899990000\n",
    "pub_k = uber_multiply(prv_k)\n",
    "\n",
    "k = 800000\n",
    "digest1 = int.from_bytes(sha256(b'Just a simple message.').digest(), 'big')\n",
    "bad_sig1 = sign(prv_k, digest1, k)\n",
    "\n",
    "digest2 = int.from_bytes(sha256(b'I have used the same k value.').digest(), 'big')\n",
    "bad_sig2 = sign(prv_k, digest2, k)\n",
    "\n",
    "k_recovery = ((digest1 - digest2) * inverse(bad_sig1[1] - bad_sig2[1], n)) % n\n",
    "\n",
    "d_recovery = ((k_recovery * bad_sig1[1] - digest1) * inverse(bad_sig1[0], n)) % n\n",
    "\n",
    "d_recovery"
   ]
  }
 ],
 "metadata": {
  "interpreter": {
   "hash": "6323c9ba79aef14337336f5a3398d4ba2df567d4709c3031a5d2dd21f71a5c41"
  },
  "kernelspec": {
   "display_name": "Python 3 (ipykernel)",
   "language": "python",
   "name": "python3"
  },
  "language_info": {
   "codemirror_mode": {
    "name": "ipython",
    "version": 3
   },
   "file_extension": ".py",
   "mimetype": "text/x-python",
   "name": "python",
   "nbconvert_exporter": "python",
   "pygments_lexer": "ipython3",
   "version": "3.9.9"
  }
 },
 "nbformat": 4,
 "nbformat_minor": 2
}
