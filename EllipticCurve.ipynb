{
 "cells": [
  {
   "cell_type": "markdown",
   "metadata": {},
   "source": [
    "<style>\n",
    "    .title_div {\n",
    "    padding: 60px;\n",
    "    text-align: center;\n",
    "    background: #ffffff;\n",
    "    }\n",
    "    #title {\n",
    "        color: #f2a900;\n",
    "        font-size: 80px;\n",
    "    }\n",
    "    #subtitle {\n",
    "        color: #4d4d4e;\n",
    "        font-size: 20px;\n",
    "    }\n",
    "</style>\n",
    "\n",
    "<div class=\"title_div\">\n",
    "  <h1 id=\"title\">ECDSA</h1>\n",
    "  <p id=\"subtitle\">Elliptic Curve Digital Signature Algorithm</p>\n",
    "</div>\n",
    "\n",
    "<div style=\"color:red; text-align: center; padding: 60px\">\n",
    "⚠ The following examples are just to see how ECDSA work; no recommended to use this algorithms for real world signing applications. ⚠\n",
    "</div>\n",
    "\n",
    "## TOC:\n",
    "* [Parameters](#parameters)\n",
    "* [Elliptic Curve Mathematics](#ec-math)\n",
    "    * [Modular Inverse](#modular-inverse)\n",
    "    * [Double](#double)\n",
    "    * [Add](#add)\n",
    "    * [Multiply](#multiply)\n",
    "        * [Double-and-add algorithm](#uber-multiply)\n",
    "* [ECDSA](#ecdsa)\n",
    "    * [Key Generation](#key-gen)\n",
    "    * [Sign](#sign)\n",
    "        * [Bad signing practice](#bad-sign)\n",
    "    * [Verify](#verify)\n",
    "* [Encoding](#encoding)\n",
    "    * [DER encoding (sig)](#der-encoding)\n",
    "    * [Uncompressed SEC (PK)](#uncompressed-sec)\n",
    "    * [Compressed SEC (PK)](#compressed-sec)\n",
    "* [Test](#test)"
   ]
  },
  {
   "cell_type": "code",
   "execution_count": 1,
   "metadata": {},
   "outputs": [],
   "source": [
    "from IPython.display import clear_output\n",
    "from time import sleep, time\n",
    "from hashlib import sha256\n",
    "from secrets import randbelow\n",
    "\n",
    "# EC plot\n",
    "import numpy as np\n",
    "import matplotlib.pyplot as plt\n",
    "\n",
    "# Also needed (Test)\n",
    "from cryptography.hazmat.primitives import hashes\n",
    "from cryptography.hazmat.primitives.asymmetric import ec\n",
    "from cryptography.exceptions import InvalidSignature"
   ]
  },
  {
   "cell_type": "markdown",
   "metadata": {},
   "source": [
    "***\n",
    "## Parameters<a class=\"anchor\" id=\"parameters\"></a>\n",
    "\n",
    "The following variables are the ones used in secp256k1, the elliptic curve used in Bitcoin.<br></br>\n",
    "Elliptic curve fuction:   $y^2 = x^3 + ax + b$"
   ]
  },
  {
   "cell_type": "code",
   "execution_count": 2,
   "metadata": {},
   "outputs": [
    {
     "data": {
      "image/png": "[encoded data removed]",
      "text/plain": [
       "<Figure size 432x288 with 1 Axes>"
      ]
     },
     "metadata": {
      "needs_background": "light"
     },
     "output_type": "display_data"
    }
   ],
   "source": [
    "a = 0\n",
    "b = 7\n",
    "\n",
    "# prime field\n",
    "p = 2**256 - 2**32 - 2**9 - 2**8 - 2**7 - 2**6 - 2**4 - 1\n",
    "\n",
    "# order\n",
    "n = 115792089237316195423570985008687907852837564279074904382605163141518161494337\n",
    "\n",
    "G = [# genarator point\n",
    "  55066263022277343669578718895168534326250603453777594175500187360389116729240,\n",
    "  32670510020758816978083085130507043184471273380659243275938904335757337482424\n",
    "]\n",
    "\n",
    "# Ploting curve\n",
    "y, x = np.ogrid[-5:5:100j, -5:5:100j]\n",
    "plt.contour(x.ravel(), y.ravel(), pow(y, 2) - pow(x, 3) - x * a - b, [0])\n",
    "plt.title('secp256k1')\n",
    "frame1 = plt.gca()\n",
    "frame1.axes.xaxis.set_visible(False)\n",
    "frame1.axes.yaxis.set_visible(False)\n",
    "plt.show()"
   ]
  },
  {
   "cell_type": "markdown",
   "metadata": {},
   "source": [
    "***\n",
    "## Elliptic Curve Mathematics<a class=\"anchor\" id=\"ec-math\"></a>\n",
    "\n",
    "\n",
    "### Modular Inverse<a class=\"anchor\" id=\"modular-inverse\"></a>\n",
    "\n",
    "Extended Euclidean algorithm"
   ]
  },
  {
   "cell_type": "code",
   "execution_count": 3,
   "metadata": {},
   "outputs": [
    {
     "name": "stdout",
     "output_type": "stream",
     "text": [
      "29\n",
      "29\n"
     ]
    }
   ],
   "source": [
    "def inverse(a, m = p):\n",
    "    m_orig = m\n",
    "    if a == 0:\n",
    "        raise ZeroDivisionError(f\"Variable a={a}; should be bigger than 0.\")\n",
    "    a = a % m\n",
    "    prevy, y = 0, 1\n",
    "    while a > 1:\n",
    "        q = m // a\n",
    "        y, prevy = prevy - q * y, y\n",
    "        a, m = m % a, a\n",
    "    return y % m_orig\n",
    "\n",
    "print(inverse(13, 47))\n",
    "print(pow(13, -1, 47)) # pyhton3.8+ and above "
   ]
  },
  {
   "cell_type": "markdown",
   "metadata": {},
   "source": [
    "In a finite field you can multiply by the inverse of a number to achieve the same result as division."
   ]
  },
  {
   "cell_type": "code",
   "execution_count": 4,
   "metadata": {},
   "outputs": [
    {
     "name": "stdout",
     "output_type": "stream",
     "text": [
      "Finite Fields: Multiplication (Find Inverse)\n",
      "         8\n",
      "0        ⇩                                      47\n",
      "|••\u001b[92m•\u001b[0m\u001b[92m•\u001b[0m•\u001b[92m•\u001b[0m\u001b[92m•\u001b[0m•\u001b[92m•\u001b[0m\u001b[92m•\u001b[0m••\u001b[92m•\u001b[0m\u001b[92m•\u001b[0m•\u001b[92m•\u001b[0m\u001b[92m•\u001b[0m••\u001b[92m•\u001b[0m\u001b[92m•\u001b[0m•\u001b[92m•\u001b[0m\u001b[92m•\u001b[0m•\u001b[92m•\u001b[0m\u001b[92m•\u001b[0m••\u001b[92m•\u001b[0m\u001b[92m•\u001b[0m•\u001b[92m•\u001b[0m\u001b[92m•\u001b[0m•\u001b[92m•\u001b[0m\u001b[92m•\u001b[0m••\u001b[92m•\u001b[0m\u001b[92m•\u001b[0m•\u001b[92m•\u001b[0m\u001b[92m•\u001b[0m•\u001b[92m•\u001b[0m\u001b[92m•\u001b[0m|\n",
      "         ⇪\n",
      "\n",
      "8 * 13 = 10\n",
      "10 * 29 = 8\n"
     ]
    }
   ],
   "source": [
    "def animation(y, m, x = 8):\n",
    "\n",
    "    for i in range(x, x*y+1):\n",
    "        print(\"Finite Fields: Multiplication\")\n",
    "        pos = i % m\n",
    "\n",
    "        print(\" \"+\" \"*pos+str(pos))\n",
    "        print(\"0\"+\" \"*pos+\"\\u21E9\"+\" \"*(m-pos-1)+str(m))\n",
    "        print(\"|\"+\"\\u2022\"*m+\"|\")\n",
    "        print(\" \"+\" \"*x+\"\\u21EA\")\n",
    "\n",
    "        print(\"\\n{} * {} = {}\".format(x, y, pos))\n",
    "    \n",
    "        if i == x:\n",
    "            sleep(1)\n",
    "        else:\n",
    "            sleep(.05)\n",
    "        clear_output(wait=True)\n",
    "    result = pos\n",
    "    sleep(1.2)\n",
    "    hit = []\n",
    "    for i in range(result + 1, result * pow(y, -1, m) + 1):\n",
    "        print(\"Finite Fields: Multiplication (Find Inverse)\")\n",
    "        pos = i % m\n",
    "        if not i % result:\n",
    "            hit.append(pos)\n",
    "\n",
    "        print(\" \"+\" \"*pos+str(pos))\n",
    "        print(\"0\"+\" \"*pos+\"\\u21E9\"+\" \"*(m-pos-1)+str(m))\n",
    "        print(\"|\"+\"\".join(['\\u2022' if i not in hit else '\\033[92m\\u2022\\033[0m' for i in range(m)])+\"|\")\n",
    "        print(\" \"+\" \"*x+\"\\u21EA\")\n",
    "\n",
    "        print(\"\\n{} * {} = {}\".format(x, y, result))\n",
    "        print(\"{} * {} = {}\".format(result, i // result, pos))\n",
    "    \n",
    "        sleep(.02)\n",
    "        clear_output(wait=True)\n",
    "\n",
    "animation(13, 47)"
   ]
  },
  {
   "cell_type": "markdown",
   "metadata": {},
   "source": [
    "### Double<a class=\"anchor\" id=\"double\"></a>\n",
    "\n",
    "Used in case the two points are the same. We calculate the tangent to the point and find out where else does intersect the curve.\n",
    "\n",
    "$slope = (3x₁² + a) / 2y₁$<br>\n",
    "$x = slope² - 2x₁$<br>\n",
    "$y = slope \\times (x₁ - x) - y₁$"
   ]
  },
  {
   "cell_type": "code",
   "execution_count": 5,
   "metadata": {},
   "outputs": [
    {
     "name": "stdout",
     "output_type": "stream",
     "text": [
      "double(G): {\n",
      "\tx: 89565891926547004231252920425935692360644145829622209833684329913297188986597,\n",
      "\ty: 12158399299693830322967808612713398636155367887041628176798871954788371653930\n",
      "}\n"
     ]
    }
   ],
   "source": [
    "def double(point):\n",
    "    slope = ((3 * point[0] ** 2 + a) * inverse((2 * point[1]), p)) % p\n",
    "    x = (slope ** 2 - (2 * point[0])) % p\n",
    "    y = (slope * (point[0] - x) - point[1]) % p\n",
    "    return (x, y)\n",
    "\n",
    "result = double(G)\n",
    "print(f\"double(G): {{\\n\\tx: {result[0]},\\n\\ty: {result[1]}\\n}}\")"
   ]
  },
  {
   "cell_type": "markdown",
   "metadata": {},
   "source": [
    "### Add<a class=\"anchor\" id=\"add\"></a>\n",
    "\n",
    "Used when the points are different.\n",
    "\n",
    "$slope = (y₁ - y₂) / (x₁ - x₂)$<br>\n",
    "$x = slope² - x₁ - x₂$<br>\n",
    "$y = slope \\times (x₁ - x) - y₁$"
   ]
  },
  {
   "cell_type": "code",
   "execution_count": 6,
   "metadata": {},
   "outputs": [
    {
     "name": "stdout",
     "output_type": "stream",
     "text": [
      "T: {\n",
      "\tx: 89565891926547004231252920425935692360644145829622209833684329913297188986597,\n",
      "\ty: 12158399299693830322967808612713398636155367887041628176798871954788371653930\n",
      "}\n",
      "T2: {\n",
      "\tx: 112711660439710606056748659173929673102114977341539408544630613555209775888121,\n",
      "\ty: 25583027980570883691656905877401976406448868254816295069919888960541586679410\n",
      "}\n"
     ]
    }
   ],
   "source": [
    "def add(point1, point2):\n",
    "  if point1 == point2:\n",
    "    return double(point1)\n",
    "  slope = ((point1[1] - point2[1]) * inverse(point1[0] - point2[0], p)) % p\n",
    "  x = (slope ** 2 - point1[0] - point2[0]) % p\n",
    "  y = ((slope * (point1[0] - x)) - point1[1]) % p\n",
    "  return (x, y)\n",
    "\n",
    "T = add(G, G)\n",
    "print(f\"T: {{\\n\\tx: {T[0]},\\n\\ty: {T[1]}\\n}}\")\n",
    "T2 = add(T, G)\n",
    "print(f\"T2: {{\\n\\tx: {T2[0]},\\n\\ty: {T2[1]}\\n}}\")\n",
    "\n",
    "del T, T2"
   ]
  },
  {
   "cell_type": "markdown",
   "metadata": {},
   "source": [
    "### Multiply<a class=\"anchor\" id=\"multiply\"></a>\n",
    "Used for sucesive additions."
   ]
  },
  {
   "cell_type": "code",
   "execution_count": 7,
   "metadata": {},
   "outputs": [
    {
     "name": "stdout",
     "output_type": "stream",
     "text": [
      "Execution time: 2028.754711151123 ms\n",
      "Result: {\n",
      "\tx: 45144681238022915379838256640648974390095578890737782493692183842300544374804,\n",
      "\ty: 15493911184894630123643928078266102650003862558761004463646228136434723692345\n",
      "}\n"
     ]
    }
   ],
   "source": [
    "def multiply(constant, point = G):\n",
    "    acu = add(point, point)\n",
    "    for _ in range(constant-2):\n",
    "        acu = add(acu, point)\n",
    "    return acu\n",
    "\n",
    "start = time()\n",
    "result = multiply(40000)\n",
    "print(f\"Execution time: {(time() - start)*1000} ms\")\n",
    "print(f\"Result: {{\\n\\tx: {result[0]},\\n\\ty: {result[1]}\\n}}\")\n",
    "\n",
    "del start, result"
   ]
  },
  {
   "cell_type": "markdown",
   "metadata": {},
   "source": [
    "#### Double-and-add algorithm<a class=\"anchor\" id=\"uber-multiply\"></a>\n",
    "\n",
    "Amazingly, if you convert any integer in to its binary representation, the 1s and 0s will provide a map for the sequence of double() and add() operations you need to perform to reach that multiple.\n",
    "\n",
    "Working from left to right and ignoring the first number:\n",
    "\n",
    "* 0 = double\n",
    "* 1 = double and add\n",
    "\n",
    "<pre>\n",
    "e.g. 1 * 21\n",
    "\n",
    "21 = 10101 (binary)\n",
    "      │││└ double and add = 21\n",
    "      ││└─ double         = 10\n",
    "      │└── double and add = 5\n",
    "      └─── double         = 2\n",
    "                            1  <- start here\n",
    "</pre>"
   ]
  },
  {
   "cell_type": "code",
   "execution_count": 8,
   "metadata": {},
   "outputs": [
    {
     "name": "stdout",
     "output_type": "stream",
     "text": [
      "Execution time: 0.9989738464355469 ms\n",
      "Result: {\n",
      "\tx: 45144681238022915379838256640648974390095578890737782493692183842300544374804,\n",
      "\ty: 15493911184894630123643928078266102650003862558761004463646228136434723692345\n",
      "}\n"
     ]
    }
   ],
   "source": [
    "def uber_multiply(constant, point = G):\n",
    "    current = point\n",
    "    binary = bin(constant)[3:]\n",
    "    for i in binary:\n",
    "        current = double(current)\n",
    "        if i == '1':\n",
    "            current = add(current, point)\n",
    "    return current\n",
    "\n",
    "start = time()\n",
    "result = uber_multiply(40000)\n",
    "print(f\"Execution time: {(time() - start)*1000} ms\")\n",
    "print(f\"Result: {{\\n\\tx: {result[0]},\\n\\ty: {result[1]}\\n}}\")\n",
    "\n",
    "del start, result"
   ]
  },
  {
   "cell_type": "markdown",
   "metadata": {},
   "source": [
    "***\n",
    "## ECDSA <a class=\"anchor\" id=\"ecdsa\"></a>\n",
    "\n",
    "### Key Generation <a class=\"anchor\" id=\"key-gen\"></a>\n",
    "\n",
    "The private key should be a random number less than orden 'n'."
   ]
  },
  {
   "cell_type": "code",
   "execution_count": 9,
   "metadata": {},
   "outputs": [
    {
     "name": "stdout",
     "output_type": "stream",
     "text": [
      "Public 🔑: {\n",
      "\tx: 33886286099813419182054595252042348742146950914608322024530631065951421850289,\n",
      "\ty: 9529752953487881233694078263953407116222499632359298014255097182349749987176\n",
      "}\n"
     ]
    }
   ],
   "source": [
    "d = 112757557418114203588093402336452206775565751179231977388358956335153294300646 # Pvivate key\n",
    "Q = uber_multiply(d)\n",
    "\n",
    "print(\"Public {}: {{\\n\\tx: {},\\n\\ty: {}\\n}}\".format(\"\\U0001F511\",Q[0], Q[1]))"
   ]
  },
  {
   "cell_type": "markdown",
   "metadata": {},
   "source": [
    "### Sign<a class=\"anchor\" id=\"sign\"></a>\n",
    "\n",
    "What we need:\n",
    "1. Salt: $k$\n",
    "2. Message Hash: $z$\n",
    "3. Private Key: $d$"
   ]
  },
  {
   "cell_type": "code",
   "execution_count": 10,
   "metadata": {},
   "outputs": [
    {
     "name": "stdout",
     "output_type": "stream",
     "text": [
      "Salt: 18181818181818181818181\n",
      "Message: ECDSA (Elliptic Curve Digital Signature Algorithm)\n",
      "Hash digest in decimal: 49410833204725140173526597860441273720434304053996485655430536493502439593083\n",
      "Private key: 112757557418114203588093402336452206775565751179231977388358956335153294300646\n"
     ]
    }
   ],
   "source": [
    "k = 18181818181818181818181\n",
    "print(f\"Salt: {k}\")\n",
    "\n",
    "message = \"ECDSA (Elliptic Curve Digital Signature Algorithm)\"\n",
    "print(f\"Message: {message}\")\n",
    "\n",
    "z = sha256(message.encode('ascii')).digest()\n",
    "z = int.from_bytes(z, 'big')\n",
    "print(f\"Hash digest in decimal: {z}\")\n",
    "\n",
    "print(f\"Private key: {d}\")"
   ]
  },
  {
   "cell_type": "markdown",
   "metadata": {},
   "source": [
    "A signature is compose by the conbination of $r$ and $s$:\n",
    "\n",
    "$r = (G \\times k)mod(n)$<br>\n",
    "We take the random number $k$ and multiply it by the generator point to get a random point $R$. We only actually use the x-coordinate of this point, and we call this lowercase $r$.\n",
    "\n",
    "$s = k⁻¹ \\times (z + d \\times r)) mod(n)$<br>\n",
    "This is a unique number created from a combination of $z$ and $d$, which is also bound to the random point using $r$."
   ]
  },
  {
   "cell_type": "code",
   "execution_count": 11,
   "metadata": {},
   "outputs": [
    {
     "name": "stdout",
     "output_type": "stream",
     "text": [
      "Signature: {\n",
      "\tx: 54767518919804132415261250426954620798001685863099591615502827291246864032477,\n",
      "\ty: 98602259575904705330380232146105755454407891657434652824036155561569926413905\n",
      "}\n"
     ]
    }
   ],
   "source": [
    "def sign(private_k, m_hash, salt = None):\n",
    "\n",
    "    if salt == None:\n",
    "        salt = randbelow(n) # Random number within finite field order.\n",
    "\n",
    "    r = uber_multiply(salt)[0] % n\n",
    "   \n",
    "    s = (inverse(salt, n) * (m_hash + private_k * r)) % n\n",
    "\n",
    "    return (r, s)\n",
    "\n",
    "\n",
    "signature = sign(d, z, k)\n",
    "\n",
    "print(f\"Signature: {{\\n\\tx: {signature[0]},\\n\\ty: {signature[1]}\\n}}\")"
   ]
  },
  {
   "cell_type": "markdown",
   "metadata": {},
   "source": [
    "#### Bad signing practice<a class=\"anchor\" id=\"bad-sign\"></a>\n",
    "\n",
    "Is streamly important to have a good random source for $k$; because if someone realize we are using the same $r$ value in different signs they can trace back our private key."
   ]
  },
  {
   "cell_type": "code",
   "execution_count": 12,
   "metadata": {},
   "outputs": [
    {
     "name": "stdout",
     "output_type": "stream",
     "text": [
      "Private key (1111222233334444555566667777888899990000) reversed: True\n"
     ]
    }
   ],
   "source": [
    "prv_k = 1111222233334444555566667777888899990000\n",
    "pub_k = uber_multiply(prv_k)\n",
    "\n",
    "k = 12345 # No random on pourpose.\n",
    "\n",
    "digest1 = int.from_bytes(sha256(b'Just a simple message.').digest(), 'big')\n",
    "bad_sig1 = sign(prv_k, digest1, k)\n",
    "\n",
    "digest2 = int.from_bytes(sha256(b'I have used the same k value.').digest(), 'big')\n",
    "bad_sig2 = sign(prv_k, digest2, k)\n",
    "\n",
    "k_recovery = ((digest1 - digest2) * inverse(bad_sig1[1] - bad_sig2[1], n)) % n\n",
    "\n",
    "d_recovery = ((k_recovery * bad_sig1[1] - digest1) * inverse(bad_sig1[0], n)) % n\n",
    "\n",
    "print(\"Private key ({}) reversed: {}\".format(prv_k, d_recovery == prv_k))\n",
    "\n",
    "del k_recovery, d_recovery, digest1, digest2, bad_sig1, bad_sig2, prv_k, pub_k, k"
   ]
  },
  {
   "cell_type": "markdown",
   "metadata": {},
   "source": [
    "### Verify<a class=\"anchor\" id=\"verify\"></a>\n",
    "\n",
    "We calculate point one and point two; trace a line thought those and in the third intersection calculate the reflection. If this new $R$ value first term matches with signature $r$, the sign is correct.\n",
    "\n",
    "$R = (s⁻¹ \\times z)G + (s⁻¹ \\times r)Q$\n",
    "\n",
    "What we need:\n",
    "1. Public key: $Q$\n",
    "2. Message: So we can create $z$.\n",
    "3. Signature: $[r, s]$\n",
    "\n"
   ]
  },
  {
   "cell_type": "code",
   "execution_count": 13,
   "metadata": {},
   "outputs": [
    {
     "name": "stdout",
     "output_type": "stream",
     "text": [
      "SHA-256 digest: 49410833204725140173526597860441273720434304053996485655430536493502439593083\n",
      "Signature [r, s]: {\n",
      "\tx: 54767518919804132415261250426954620798001685863099591615502827291246864032477,\n",
      "\ty: 98602259575904705330380232146105755454407891657434652824036155561569926413905\n",
      "}\n",
      "Public key Q: {\n",
      "\tx: 33886286099813419182054595252042348742146950914608322024530631065951421850289,\n",
      "\ty: 9529752953487881233694078263953407116222499632359298014255097182349749987176\n",
      "}\n",
      "✅ ECDSA (Elliptic Curve Digital Signature Algorithm)\n"
     ]
    }
   ],
   "source": [
    "def verify(public_k, signature, hash):\n",
    "\n",
    "    point1 = uber_multiply(inverse(signature[1], n) * hash)\n",
    "    point2 = uber_multiply((inverse(signature[1], n )* signature[0]), public_k)\n",
    "    \n",
    "    point3 = add(point1, point2)\n",
    "    return point3[0] == signature[0]\n",
    "\n",
    "def pretty_verify(*args):\n",
    "    message_digest = sha256(args[2].encode('ascii')).digest()\n",
    "    message_digest = int.from_bytes(message_digest, 'big')\n",
    "    print(\"{} \".format(\"\\u2705\" if verify(*args[:2], message_digest) else \"\\u274C\"), end=\"\")\n",
    "    print(args[2])\n",
    "\n",
    "print(f\"SHA-256 digest: {z}\")\n",
    "print(f\"Signature [r, s]: {{\\n\\tx: {signature[0]},\\n\\ty: {signature[1]}\\n}}\")\n",
    "print(f\"Public key Q: {{\\n\\tx: {Q[0]},\\n\\ty: {Q[1]}\\n}}\")\n",
    "\n",
    "pretty_verify(Q, signature, message)\n"
   ]
  },
  {
   "cell_type": "markdown",
   "metadata": {},
   "source": [
    "***\n",
    "## Encoding <a class=\"anchor\" id=\"encoding\"></a>\n",
    "\n",
    "### DER encoding <a class=\"anchor\" id=\"der-encoding\"></a>\n",
    "\n",
    "Encoding the signature:\n",
    "\n",
    "1. Start with the 0x30 byte.\n",
    "2. Encode the length of the rest of the signature (usually 0x44 or 0x45) and append.\n",
    "3. Append the marker byte, 0x02.\n",
    "4. Encode $r$ as a big-endian integer, but prepend it with the 0x00 byte if $r’s$ first byte ≥ 0x80. Prepend the resulting length to $r$. Add this to the result.\n",
    "5. Append the marker byte, 0x02.\n",
    "6. Encode $s$ as a big-endian integer, but prepend with the 0x00 byte if $s’s$ first byte ≥ 0x80. Prepend the resulting length to $s$. Add this to the result."
   ]
  },
  {
   "cell_type": "code",
   "execution_count": 14,
   "metadata": {},
   "outputs": [
    {
     "name": "stdout",
     "output_type": "stream",
     "text": [
      "\u001b[91m30\u001b[94m45\u001b[95m02\u001b[92m20\u001b[93m791551345a2e80dc53dd2d607429c98be30c5bfa38258dfeb722e049b696e2dd\u001b[95m02\u001b[92m21\u001b[93m00d9fee6b4e7fef80cf80770eb04f01db3be7fe024cc53f4b73435cc782d3a7e51\n",
      "\u001b[91m▉ Marker\n",
      "\u001b[94m▉ Length of sig\n",
      "\u001b[95m▉ [r, s] markers\n",
      "\u001b[92m▉ [r, s] lenghts\n",
      "\u001b[93m▉ [r, s]\n"
     ]
    }
   ],
   "source": [
    "colors = {'purple':'\\033[95m', 'red':'\\033[91m', 'yellow':'\\033[93m', 'green':'\\033[92m', 'blue':'\\033[94m'}\n",
    "\n",
    "def der_encoding(signature):\n",
    "\n",
    "    rbin = signature[0].to_bytes(32, byteorder='big')\n",
    "    rbin = rbin.lstrip(b'\\x00')\n",
    "    \n",
    "    if rbin[0] & 0x80:\n",
    "        rbin = b'\\x00' + rbin\n",
    "    result = bytes([2, len(rbin)]) + rbin\n",
    "\n",
    "    sbin = signature[1].to_bytes(32, byteorder='big')\n",
    "    sbin = sbin.lstrip(b'\\x00')\n",
    "    \n",
    "    if sbin[0] & 0x80:\n",
    "        sbin = b'\\x00' + sbin\n",
    "    result += bytes([2, len(sbin)]) + sbin\n",
    "    return bytes([0x30, len(result)]) + result\n",
    "\n",
    "encoded_sig = der_encoding(signature)\n",
    "\n",
    "hex_sig = encoded_sig.hex()\n",
    "\n",
    "r_len = int(hex_sig[6:8], 16) * 2 + 8\n",
    "\n",
    "print(colors['red']+hex_sig[0:2], end=\"\")\n",
    "print(colors['blue']+hex_sig[2:4], end=\"\")\n",
    "print(colors['purple']+hex_sig[4:6], end=\"\")\n",
    "print(colors['green']+hex_sig[6:8], end=\"\")\n",
    "print(colors['yellow']+hex_sig[8:r_len], end=\"\")\n",
    "print(colors['purple']+hex_sig[r_len:r_len+2], end=\"\")\n",
    "print(colors['green']+hex_sig[r_len+2:r_len+4], end=\"\")\n",
    "print(colors['yellow']+hex_sig[r_len+4:], end=\"\\n\")\n",
    "\n",
    "print(f\"{colors['red']}\\u2589 {'Marker'}\")\n",
    "print(f\"{colors['blue']}\\u2589 {'Length of sig'}\")\n",
    "print(f\"{colors['purple']}\\u2589 {'[r, s] markers'}\")\n",
    "print(f\"{colors['green']}\\u2589 {'[r, s] lenghts'}\")\n",
    "print(f\"{colors['yellow']}\\u2589 {'[r, s]'}\")\n",
    "\n",
    "del r_len, hex_sig\n",
    "\n"
   ]
  },
  {
   "cell_type": "markdown",
   "metadata": {},
   "source": [
    "### Uncompressed SEC <a class=\"anchor\" id=\"uncompressed-sec\"></a>\n",
    "\n",
    "Prefix '04' follow by the X and Y cordinates."
   ]
  },
  {
   "cell_type": "code",
   "execution_count": 15,
   "metadata": {},
   "outputs": [
    {
     "name": "stdout",
     "output_type": "stream",
     "text": [
      "\u001b[95m04\u001b[93m4aeaf55040fa16de37303d13ca1dde85f4ca9baa36e2963a27a1c0c1165fe2b1\u001b[91m1511a626b232de4ed05b204bd9eccaf1b79f5752e14dd1e847aa2f4db6a52768\n",
      "\u001b[95m▉ Marker\n",
      "\u001b[93m▉ X coordinate\n",
      "\u001b[91m▉ Y coordinate\n"
     ]
    }
   ],
   "source": [
    "def uncompress_sec(public_key):\n",
    "    return b'\\x04' + public_key[0].to_bytes(32, 'big') + public_key[1].to_bytes(32, 'big')\n",
    "\n",
    "\n",
    "uncompressed_pk = uncompress_sec(Q)\n",
    "uncompressed_pk_hex = uncompressed_pk.hex()\n",
    "\n",
    "print(colors['purple']+uncompressed_pk_hex[0:2], end=\"\")\n",
    "print(colors['yellow']+uncompressed_pk_hex[2:66], end=\"\")\n",
    "print(colors['red']+uncompressed_pk_hex[66:], end=\"\\n\")\n",
    "print(f\"{colors['purple']}\\u2589 {'Marker'}\")\n",
    "print(f\"{colors['yellow']}\\u2589 {'X coordinate'}\")\n",
    "print(f\"{colors['red']}\\u2589 {'Y coordinate'}\")\n",
    "\n",
    "del uncompressed_pk, uncompressed_pk_hex"
   ]
  },
  {
   "cell_type": "markdown",
   "metadata": {},
   "source": [
    "### Compressed SEC <a class=\"anchor\" id=\"compressed-sec\"></a>\n",
    "We use the X cordinate with a prefix marker denotating if the Y cordinate is or or even."
   ]
  },
  {
   "cell_type": "code",
   "execution_count": 16,
   "metadata": {},
   "outputs": [
    {
     "name": "stdout",
     "output_type": "stream",
     "text": [
      "\u001b[95m02\u001b[93m4aeaf55040fa16de37303d13ca1dde85f4ca9baa36e2963a27a1c0c1165fe2b1\n",
      "\u001b[95m▉ Marker\n",
      "\u001b[93m▉ X coordinate\n"
     ]
    }
   ],
   "source": [
    "def sec_pk(public_key, compressed=True):\n",
    "        # return byte version of the PK\n",
    "        if compressed:\n",
    "            if public_key[1] % 2 == 0:\n",
    "                return b'\\x02' + public_key[0].to_bytes(32, 'big')\n",
    "            else:\n",
    "                return b'\\x03' + public_key[0].to_bytes(32, 'big')\n",
    "        else:\n",
    "            return b'\\x04' + public_key[0].to_bytes(32, 'big') + public_key[1].to_bytes(32, 'big')\n",
    "\n",
    "compressed_pk = sec_pk(Q)\n",
    "compressed_pk_hex = compressed_pk.hex()\n",
    "\n",
    "print(colors['purple']+compressed_pk_hex[0:2], end=\"\")\n",
    "print(colors['yellow']+compressed_pk_hex[2:], end=\"\\n\")\n",
    "print(f\"{colors['purple']}\\u2589 {'Marker'}\")\n",
    "print(f\"{colors['yellow']}\\u2589 {'X coordinate'}\")\n",
    "\n",
    "del compressed_pk_hex"
   ]
  },
  {
   "cell_type": "markdown",
   "metadata": {},
   "source": [
    "***\n",
    "## Test <a class=\"anchor\" id=\"test\"></a>\n",
    "\n",
    "Checking sign against a crypto secure library."
   ]
  },
  {
   "cell_type": "code",
   "execution_count": 17,
   "metadata": {},
   "outputs": [
    {
     "name": "stdout",
     "output_type": "stream",
     "text": [
      "Everything correct.\n"
     ]
    }
   ],
   "source": [
    "data = message.encode('ascii')\n",
    "\n",
    "public_key = ec.EllipticCurvePublicKey.from_encoded_point( ec.SECP256K1(), compressed_pk)\n",
    "\n",
    "try:\n",
    "    public_key.verify(encoded_sig, data, ec.ECDSA(hashes.SHA256()))\n",
    "    print(\"Everything correct.\")\n",
    "except InvalidSignature:\n",
    "    print(\"Broken sign.\")\n",
    "\n",
    "del data, public_key"
   ]
  }
 ],
 "metadata": {
  "interpreter": {
   "hash": "6323c9ba79aef14337336f5a3398d4ba2df567d4709c3031a5d2dd21f71a5c41"
  },
  "kernelspec": {
   "display_name": "Python 3 (ipykernel)",
   "language": "python",
   "name": "python3"
  },
  "language_info": {
   "codemirror_mode": {
    "name": "ipython",
    "version": 3
   },
   "file_extension": ".py",
   "mimetype": "text/x-python",
   "name": "python",
   "nbconvert_exporter": "python",
   "pygments_lexer": "ipython3",
   "version": "3.9.7"
  }
 },
 "nbformat": 4,
 "nbformat_minor": 2
}
