{
 "cells": [
  {
   "cell_type": "markdown",
   "metadata": {},
   "source": [
    "## TOC:\n",
    "* [Parameters](#parameters)\n",
    "    * [Finite element](#finite-element)\n",
    "    * [Addition && Subtraction](#field-add-sub)\n",
    "    * [Multiplication && Exponentiation](#field-mul-expo)\n",
    "    * [Division](#division)\n",
    "* [Elliptic cuve](#ec)\n",
    "    * [Intro](#ec-intro)\n",
    "    * [EC Point](#ec-point)\n",
    "    * [EC Addition](#ec-addition)\n"
   ]
  },
  {
   "cell_type": "markdown",
   "metadata": {},
   "source": [
    "## Parameters<a class=\"anchor\" id=\"parameters\"></a>"
   ]
  },
  {
   "cell_type": "code",
   "execution_count": 2,
   "metadata": {},
   "outputs": [],
   "source": [
    "a = 0\n",
    "b = 7\n",
    "\n",
    "# prime field\n",
    "p = 2**256 - 2**32 - 2**9 - 2**8 - 2**7 - 2**6 - 2**4 - 1\n",
    "\n",
    "# order\n",
    "n = 115792089237316195423570985008687907852837564279074904382605163141518161494337\n",
    "\n",
    "G = {# genarator point\n",
    "  'x':55066263022277343669578718895168534326250603453777594175500187360389116729240,\n",
    "  'y':32670510020758816978083085130507043184471273380659243275938904335757337482424,\n",
    "}"
   ]
  }
 ],
 "metadata": {
  "interpreter": {
   "hash": "6323c9ba79aef14337336f5a3398d4ba2df567d4709c3031a5d2dd21f71a5c41"
  },
  "kernelspec": {
   "display_name": "Python 3 (ipykernel)",
   "language": "python",
   "name": "python3"
  },
  "language_info": {
   "codemirror_mode": {
    "name": "ipython",
    "version": 3
   },
   "file_extension": ".py",
   "mimetype": "text/x-python",
   "name": "python",
   "nbconvert_exporter": "python",
   "pygments_lexer": "ipython3",
   "version": "3.9.9"
  }
 },
 "nbformat": 4,
 "nbformat_minor": 2
}
