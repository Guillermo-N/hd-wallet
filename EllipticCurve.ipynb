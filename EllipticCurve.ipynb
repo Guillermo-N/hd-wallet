{
 "cells": [
  {
   "cell_type": "markdown",
   "metadata": {},
   "source": [
    "## TOC:\n",
    "* [Finite fields](#finite-fields)\n",
    "    * [Finite element](#finite-element)\n",
    "    * [Addition && Subtraction](#field-add-sub)\n",
    "    * [Multiplication && Exponentiation](#field-mul-expo)\n",
    "    * [Division](#division)\n",
    "* [Elliptic cuve](#ec)\n",
    "    * [Intro](#ec-intro)\n",
    "    * [EC Point](#ec-point)\n",
    "    * [EC Addition](#ec-addition)\n"
   ]
  },
  {
   "cell_type": "markdown",
   "metadata": {},
   "source": [
    "# Finite fields<a class=\"anchor\" id=\"finite-fields\"></a>"
   ]
  },
  {
   "cell_type": "code",
   "execution_count": 2,
   "metadata": {},
   "outputs": [],
   "source": [
    "import numpy as np\n",
    "import matplotlib.pyplot as plt\n",
    "from math import sqrt"
   ]
  },
  {
   "cell_type": "markdown",
   "metadata": {},
   "source": [
    "## Finite element <a class=\"anchor\" id=\"finite-element\"></a>"
   ]
  },
  {
   "cell_type": "code",
   "execution_count": 3,
   "metadata": {},
   "outputs": [
    {
     "name": "stdout",
     "output_type": "stream",
     "text": [
      "False\n",
      "True\n",
      "False\n",
      "True\n"
     ]
    }
   ],
   "source": [
    "class FieldElement:\n",
    "\n",
    "    def __init__(self, num, prime):\n",
    "        if num >= prime or num < 0:\n",
    "            error = 'Num {} not in field range 0 to {}'.format(num, prime - 1)\n",
    "            raise ValueError(error)\n",
    "        self.num = num \n",
    "        self.prime = prime\n",
    "\n",
    "    def __repr__(self):\n",
    "        return 'FieldElement_{}({})'.format(self.prime, self.num)\n",
    "\n",
    "    def __eq__(self, other):\n",
    "        if other is None:\n",
    "            return False\n",
    "        return self.num == other.num and self.prime == other.prime\n",
    "\n",
    "    def __ne__(self, other):\n",
    "        if other is None:\n",
    "            return False\n",
    "        return self.num != other.num or self.prime != other.prime\n",
    "\n",
    "\n",
    "if __name__ == '__main__':\n",
    "    a = FieldElement(7, 13)\n",
    "    b = FieldElement(6, 13)\n",
    "    print(a == b)\n",
    "    print(a == a)\n",
    "    print(a != a)\n",
    "    print(a != b)"
   ]
  },
  {
   "cell_type": "markdown",
   "metadata": {},
   "source": [
    "## Adition && Subtraction<a class=\"anchor\" id=\"field-add-sub\"></a>"
   ]
  },
  {
   "cell_type": "code",
   "execution_count": 4,
   "metadata": {},
   "outputs": [
    {
     "name": "stdout",
     "output_type": "stream",
     "text": [
      "FieldElement_13(0)\n",
      "FieldElement_13(1)\n"
     ]
    }
   ],
   "source": [
    "\n",
    "def __add__(self, other):\n",
    "    if self.prime != other.prime:\n",
    "        raise TypeError('Cannot add two numbers in different Fields')\n",
    "    num = (self.num + other.num) % self.prime\n",
    "    return self.__class__(num, self.prime)\n",
    "\n",
    "\n",
    "def __sub__(self, other):\n",
    "    if self.prime != other.prime:\n",
    "        raise TypeError('Cannot subtract two numbers in different Fields')\n",
    "    num = (self.num - other.num) % self.prime\n",
    "    return self.__class__(num, self.prime)\n",
    "\n",
    "setattr(FieldElement, '__add__', __add__)\n",
    "setattr(FieldElement, '__sub__', __sub__)\n",
    "\n",
    "if __name__ == '__main__':\n",
    "    print(a+b)\n",
    "    print(a-b)\n"
   ]
  },
  {
   "cell_type": "markdown",
   "metadata": {},
   "source": [
    "## Multiplication && Exponentiation <a class=\"anchor\" id=\"field-mul-expo\"></a>"
   ]
  },
  {
   "cell_type": "code",
   "execution_count": 5,
   "metadata": {},
   "outputs": [
    {
     "name": "stdout",
     "output_type": "stream",
     "text": [
      "True\n",
      "FieldElement_13(3)\n",
      "True\n"
     ]
    }
   ],
   "source": [
    "def __mul__(self, other):\n",
    "    if self.prime != other.prime:\n",
    "        raise TypeError('Cannot multiply two numbers in different Fields')\n",
    "    num = (self.num * other.num) % self.prime\n",
    "    return self.__class__(num, self.prime)\n",
    "\n",
    "def __pow__(self, exponent):\n",
    "    n = exponent % (self.prime - 1)\n",
    "    num = pow(self.num, n, self.prime)\n",
    "    return self.__class__(num, self.prime)\n",
    "\n",
    "setattr(FieldElement, '__mul__', __mul__)\n",
    "setattr(FieldElement, '__pow__', __pow__)\n",
    "\n",
    "\n",
    "if __name__ == '__main__':\n",
    "    a = FieldElement(3, 13)\n",
    "    b = FieldElement(12, 13)\n",
    "    c = FieldElement(10, 13)\n",
    "    print(a*b==c)\n",
    "    print(a**4)\n",
    "\n",
    "    a = FieldElement(7, 13)\n",
    "    b = FieldElement(8, 13)\n",
    "    print(a**-3==b)\n"
   ]
  },
  {
   "cell_type": "markdown",
   "metadata": {},
   "source": [
    "## Division <a class=\"anchor\" id=\"division\"></a>"
   ]
  },
  {
   "cell_type": "code",
   "execution_count": 6,
   "metadata": {},
   "outputs": [
    {
     "name": "stdout",
     "output_type": "stream",
     "text": [
      "FieldElement_13(9)\n"
     ]
    }
   ],
   "source": [
    "def __truediv__(self, other):\n",
    "    if self.prime != other.prime:\n",
    "        raise TypeError('Cannot divide two numbers in different Fields')\n",
    "    num = self.num * pow(other.num, self.prime - 2, self.prime) % self.prime\n",
    "    return self.__class__(num, self.prime)\n",
    "\n",
    "setattr(FieldElement, '__truediv__', __truediv__)\n",
    "\n",
    "if __name__ == '__main__':\n",
    "    a = FieldElement(7, 13)\n",
    "    b = FieldElement(8, 13)\n",
    "    print(a/b)"
   ]
  },
  {
   "cell_type": "markdown",
   "metadata": {},
   "source": [
    "# Elliptic Curve<a class=\"anchor\" id=\"ec\"></a>"
   ]
  },
  {
   "cell_type": "markdown",
   "metadata": {},
   "source": [
    "## Intro<a class=\"anchor\" id=\"ec-intro\"></a>"
   ]
  },
  {
   "cell_type": "markdown",
   "metadata": {},
   "source": [
    "Eliptic curves are deffined by:\n",
    "$y^2 = x^3 + ax + b$\n",
    "\n",
    "In case of bitcoin we use:\n",
    "$y^2 = x^3 + 7$\n",
    "\n",
    "Where $a=0$ and $b=7$"
   ]
  },
  {
   "cell_type": "code",
   "execution_count": 7,
   "metadata": {},
   "outputs": [
    {
     "data": {
      "image/png": "[encoded data removed]",
      "text/plain": [
       "<Figure size 432x288 with 1 Axes>"
      ]
     },
     "metadata": {
      "needs_background": "light"
     },
     "output_type": "display_data"
    }
   ],
   "source": [
    "def plot_curve(a, b):\n",
    "    y, x = np.ogrid[-5:5:100j, -5:5:100j]\n",
    "    plt.contour(x.ravel(), y.ravel(), pow(y, 2) - pow(x, 3) - x * a - b, [0])\n",
    "    plt.grid()\n",
    "    plt.show()\n",
    "\n",
    "if __name__ == '__main__':\n",
    "    plot_curve(0, 7)"
   ]
  },
  {
   "cell_type": "markdown",
   "metadata": {},
   "source": [
    "## EC Point<a class=\"anchor\" id=\"ec-point\"></a>"
   ]
  },
  {
   "cell_type": "code",
   "execution_count": 8,
   "metadata": {},
   "outputs": [
    {
     "name": "stdout",
     "output_type": "stream",
     "text": [
      "False\n"
     ]
    }
   ],
   "source": [
    "class Point:\n",
    "\n",
    "    def __init__(self, x, y, a, b):\n",
    "        self.a = a\n",
    "        self.b = b\n",
    "        self.x = x\n",
    "        self.y = y\n",
    "        if self.y**2 != self.x**3 + a * x + b:\n",
    "            raise ValueError('({}, {}) is not on the curve'.format(x, y))\n",
    "\n",
    "    def __repr__(self):\n",
    "        return 'EC_(A={}, B={})_point({})'.format(self.a, self.b ,(self.x, self.y ))\n",
    "\n",
    "    def __eq__(self, other):\n",
    "        return self.x == other.x & self.y == other.y & self.a == other.a & self.b == other.b\n",
    "    \n",
    "    def __ne__(self, other):\n",
    "        return not (self == other)\n",
    "\n",
    "\n",
    "if __name__ == '__main__':\n",
    "    p1 = Point(-1, -1, 5, 7)\n",
    "    p2 = Point(18, 77, 5, 7)\n",
    "    print(p1 == p2)"
   ]
  },
  {
   "cell_type": "markdown",
   "metadata": {},
   "source": [
    "## EC Addition<a class=\"anchor\" id=\"ec-addition\"></a>"
   ]
  },
  {
   "cell_type": "code",
   "execution_count": 9,
   "metadata": {},
   "outputs": [
    {
     "name": "stdout",
     "output_type": "stream",
     "text": [
      "EC_(A=5, B=7)_point((-1, -1))\n",
      "EC_(A=5, B=7)_point((-1, -1))\n",
      "None\n"
     ]
    }
   ],
   "source": [
    "\n",
    "def inf_val_init(self, x, y, a, b):\n",
    "    self.a = a\n",
    "    self.b = b\n",
    "    self.x = x\n",
    "    self.y = y\n",
    "    if self.x is None and self.y is None:\n",
    "        return\n",
    "    if self.y**2 != self.x**3 + a * x + b:\n",
    "        raise ValueError('({}, {}) is not on the curve'.format(x, y))\n",
    "\n",
    "\n",
    "def __add__(self, other):\n",
    "    if self.a != other.a or self.b != other.b:\n",
    "        raise TypeError('Points {}, {} are not on the same curve'.format(self, other))\n",
    "    if self.x is None:\n",
    "        return other\n",
    "    if other.x is None:\n",
    "        return self\n",
    "    if self.x == other.y and self.y != other.y:\n",
    "        return self.__class__(None, None, self.a, self.b)\n",
    "    if self.x != other.x:\n",
    "        s = (other.y - self.y) / (other.x - self.x)\n",
    "        x = s**2 - self.x - other.x\n",
    "        y = s * (self.x - x) - self.y\n",
    "        return self.__class__(x, y, self.a, self.b)\n",
    "    if self == other:\n",
    "        s = (3 * self.x**2 + self.a) / (2 * self.y)\n",
    "        x = s**2 - 2 * self.x\n",
    "        y = s * (self.x - x) - self.y\n",
    "        return self.__class__(x, y, self.a, self.b)\n",
    "    if self == other and self.y == 0 * self.x:\n",
    "\t    return self.__class__(None, None, self.a, self.b)\n",
    "\n",
    "setattr(Point, '__init__', inf_val_init)\n",
    "\n",
    "setattr(Point, '__add__', __add__)\n",
    "\n",
    "\n",
    "\n",
    "if __name__ == '__main__':\n",
    "    p1 = Point(-1, -1, 5, 7)\n",
    "    p2 = Point(-1, -1, 5, 7)\n",
    "    inf = Point(None, None, 5, 7)\n",
    "    print(p1 + inf)\n",
    "    print(inf + p2)\n",
    "    print(p1 + p2)"
   ]
  }
 ],
 "metadata": {
  "interpreter": {
   "hash": "6323c9ba79aef14337336f5a3398d4ba2df567d4709c3031a5d2dd21f71a5c41"
  },
  "kernelspec": {
   "display_name": "Python 3 (ipykernel)",
   "language": "python",
   "name": "python3"
  },
  "language_info": {
   "codemirror_mode": {
    "name": "ipython",
    "version": 3
   },
   "file_extension": ".py",
   "mimetype": "text/x-python",
   "name": "python",
   "nbconvert_exporter": "python",
   "pygments_lexer": "ipython3",
   "version": "3.9.9"
  }
 },
 "nbformat": 4,
 "nbformat_minor": 2
}
