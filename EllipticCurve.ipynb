{
 "cells": [
  {
   "cell_type": "markdown",
   "metadata": {},
   "source": [
    "## TOC:\n",
    "* [Parameters](#parameters)\n",
    "* [Elliptic Curve Mathematics](#ec-math)\n",
    "    * [Modular Inverse](#modular-inverse)\n",
    "    * [Double](#double)\n",
    "    * [Add](#add)\n",
    "    * [Multiply](#multiply)\n",
    "        * [Double-and-add algorithm](#double-add)\n",
    "* [ECDSA](#ecdsa)\n",
    "    * [Key Generation](#key-gen)\n",
    "    * [Sign](#sign)\n",
    "    * [Verify](#verity)\n"
   ]
  },
  {
   "cell_type": "code",
   "execution_count": 1,
   "metadata": {},
   "outputs": [],
   "source": [
    "from IPython.display import clear_output\n",
    "from time import sleep, time"
   ]
  },
  {
   "cell_type": "markdown",
   "metadata": {},
   "source": [
    "***\n",
    "## Parameters<a class=\"anchor\" id=\"parameters\"></a>\n",
    "\n",
    "The following variables are the ones used in secp256k1, the elliptic curve used in Bitcoin.</br></br>\n",
    "Elliptic curve fuction:   $y^2 = x^3 + ax + b$"
   ]
  },
  {
   "cell_type": "code",
   "execution_count": 2,
   "metadata": {},
   "outputs": [],
   "source": [
    "a = 0\n",
    "b = 7\n",
    "\n",
    "# prime field\n",
    "p = 2**256 - 2**32 - 2**9 - 2**8 - 2**7 - 2**6 - 2**4 - 1\n",
    "\n",
    "# order\n",
    "n = 115792089237316195423570985008687907852837564279074904382605163141518161494337\n",
    "\n",
    "G = [# genarator point\n",
    "  55066263022277343669578718895168534326250603453777594175500187360389116729240,\n",
    "  32670510020758816978083085130507043184471273380659243275938904335757337482424\n",
    "]"
   ]
  },
  {
   "cell_type": "markdown",
   "metadata": {},
   "source": [
    "***\n",
    "## Elliptic Curve Mathematics<a class=\"anchor\" id=\"ec-math\"></a>\n",
    "\n",
    "\n",
    "### Modular Inverse<a class=\"anchor\" id=\"modular-inverse\"></a>\n",
    "\n",
    "Extended Euclidean algorithm"
   ]
  },
  {
   "cell_type": "code",
   "execution_count": 3,
   "metadata": {},
   "outputs": [
    {
     "name": "stdout",
     "output_type": "stream",
     "text": [
      "29\n",
      "29\n"
     ]
    }
   ],
   "source": [
    "def inverse(a, m = p):\n",
    "    m_orig = m\n",
    "    if a == 0:\n",
    "        raise ZeroDivisionError(f\"Variable a={a}; should be bigger than 0.\")\n",
    "    a = a % m\n",
    "    prevy, y = 0, 1\n",
    "    while a > 1:\n",
    "        q = m // a\n",
    "        y, prevy = prevy - q * y, y\n",
    "        a, m = m % a, a\n",
    "    return y % m_orig\n",
    "\n",
    "print(inverse(13, 47))\n",
    "print(pow(13, -1, 47)) # pyhton3.8+ and above "
   ]
  },
  {
   "cell_type": "code",
   "execution_count": 4,
   "metadata": {},
   "outputs": [],
   "source": [
    "def animation(x, y, m):\n",
    "\n",
    "    for i in range(x, x*y+1):\n",
    "        print(\"Finite Fields: Multiplication\")\n",
    "        pos = i % m\n",
    "\n",
    "        print(\" \"+\" \"*pos+str(pos))\n",
    "        print(\"0\"+\" \"*pos+\"\\u21E9\"+\" \"*(m-pos-1)+str(m))\n",
    "        print(\"|\"+\"\\u2022\"*m+\"|\")\n",
    "\n",
    "\n",
    "        print(\"\\n{} * {} = {}\".format(x, y,str(pos)if i ==x*y else \"\"))\n",
    "        sleep(.05)\n",
    "        clear_output(wait=True)\n",
    "    result = pos\n",
    "    sleep(1.2)\n",
    "    for i in range(result + 1 ,(result-1)*pow(x, -1, m)+2):\n",
    "        print(\"Finite Fields: Multiplication (Find Inverse)\")\n",
    "        pos = i % m\n",
    "        times = i // m\n",
    "\n",
    "        print(\" \"+\" \"*pos+str(pos))\n",
    "        print(\"0\"+\" \"*pos+\"\\u21E9\"+\" \"*(m-pos-1)+str(m))\n",
    "        print(\"|\"+\"\\u2022\"*m+\"|\")\n",
    "\n",
    "\n",
    "        print(\"\\n{} * {} = {}\".format(x, y, result))\n",
    "        print(\"\\n{} * {} = {}\".format(result, times, i%m))\n",
    "        sleep(.05)\n",
    "        clear_output(wait=True)\n",
    "\n",
    "\n",
    "#animation(8, 13, 47)"
   ]
  },
  {
   "cell_type": "markdown",
   "metadata": {},
   "source": [
    "### Double<a class=\"anchor\" id=\"double\"></a>\n",
    "\n",
    "Used in case the two points are the same. We calculate the tangent to the point and find out where else does intersect the curve.\n",
    "\n",
    "$slope = (3x₁² + a) / 2y₁$</br>\n",
    "$x = slope² - 2x₁$</br>\n",
    "$y = slope * (x₁ - x) - y₁$"
   ]
  },
  {
   "cell_type": "code",
   "execution_count": 5,
   "metadata": {},
   "outputs": [
    {
     "data": {
      "text/plain": [
       "(89565891926547004231252920425935692360644145829622209833684329913297188986597,\n",
       " 12158399299693830322967808612713398636155367887041628176798871954788371653930)"
      ]
     },
     "execution_count": 5,
     "metadata": {},
     "output_type": "execute_result"
    }
   ],
   "source": [
    "def double(point):\n",
    "    slope = ((3 * point[0] ** 2 + a) * inverse((2 * point[1]), p)) % p\n",
    "    x = (slope ** 2 - (2 * point[0])) % p\n",
    "    y = (slope * (point[0] - x) - point[1]) % p\n",
    "    return (x, y)\n",
    "\n",
    "double(G)"
   ]
  },
  {
   "cell_type": "markdown",
   "metadata": {},
   "source": [
    "### Add<a class=\"anchor\" id=\"add\"></a>\n",
    "\n",
    "Used when the points are different.\n",
    "\n",
    "$slope = (y₁ - y₂) / (x₁ - x₂)$</br>\n",
    "$x = slope² - x₁ - x₂$</br>\n",
    "$y = slope * (x₁ - x) - y₁$"
   ]
  },
  {
   "cell_type": "code",
   "execution_count": 6,
   "metadata": {},
   "outputs": [
    {
     "name": "stdout",
     "output_type": "stream",
     "text": [
      "(89565891926547004231252920425935692360644145829622209833684329913297188986597, 12158399299693830322967808612713398636155367887041628176798871954788371653930)\n"
     ]
    },
    {
     "data": {
      "text/plain": [
       "(112711660439710606056748659173929673102114977341539408544630613555209775888121,\n",
       " 25583027980570883691656905877401976406448868254816295069919888960541586679410)"
      ]
     },
     "execution_count": 6,
     "metadata": {},
     "output_type": "execute_result"
    }
   ],
   "source": [
    "def add(point1, point2):\n",
    "  if point1 == point2:\n",
    "    return double(point1)\n",
    "  slope = ((point1[1] - point2[1]) * inverse(point1[0] - point2[0], p)) % p\n",
    "  x = (slope ** 2 - point1[0] - point2[0]) % p\n",
    "  y = ((slope * (point1[0] - x)) - point1[1]) % p\n",
    "  return (x, y)\n",
    "\n",
    "T = add(G, G)\n",
    "print(T)\n",
    "add(T, G)"
   ]
  },
  {
   "cell_type": "markdown",
   "metadata": {},
   "source": [
    "### Multiply<a class=\"anchor\" id=\"multiply\"></a>\n",
    "Used for sucesive additions."
   ]
  },
  {
   "cell_type": "code",
   "execution_count": 131,
   "metadata": {},
   "outputs": [
    {
     "name": "stdout",
     "output_type": "stream",
     "text": [
      "Execution time: 2053.1883239746094 ms\n",
      "(45144681238022915379838256640648974390095578890737782493692183842300544374804, 15493911184894630123643928078266102650003862558761004463646228136434723692345)\n"
     ]
    }
   ],
   "source": [
    "def multiply(constant, point = G):\n",
    "    acu = add(point, point)\n",
    "    for _ in range(constant-2):\n",
    "        acu = add(acu, point)\n",
    "    return acu\n",
    "\n",
    "start = time()\n",
    "result = multiply(40000)\n",
    "print(f\"Execution time: {(time() - start)*1000} ms\")\n",
    "print(result)"
   ]
  },
  {
   "cell_type": "code",
   "execution_count": 132,
   "metadata": {},
   "outputs": [
    {
     "name": "stdout",
     "output_type": "stream",
     "text": [
      "Execution time: 1.0018348693847656 ms\n",
      "(45144681238022915379838256640648974390095578890737782493692183842300544374804, 15493911184894630123643928078266102650003862558761004463646228136434723692345)\n"
     ]
    }
   ],
   "source": [
    "def uber_multiply(constant, point = G):\n",
    "    current = point\n",
    "    binary = bin(constant)[3:]\n",
    "    for i in binary:\n",
    "        current = double(current)\n",
    "        if i == '1':\n",
    "            current = add(current, point)\n",
    "    return current\n",
    "\n",
    "start = time()\n",
    "result = uber_multiply(40000)\n",
    "print(f\"Execution time: {(time() - start)*1000} ms\")\n",
    "print(result)"
   ]
  },
  {
   "cell_type": "markdown",
   "metadata": {},
   "source": [
    "***\n",
    "## ECDSA <a class=\"anchor\" id=\"ecdsa\"></a>\n",
    "\n",
    "### Key Generation <a class=\"anchor\" id=\"key-gen\"></a>\n",
    "\n",
    "The private key should be a random number less than orden 'n'."
   ]
  },
  {
   "cell_type": "code",
   "execution_count": 143,
   "metadata": {},
   "outputs": [
    {
     "name": "stdout",
     "output_type": "stream",
     "text": [
      "Public 🔑: (33886286099813419182054595252042348742146950914608322024530631065951421850289, 9529752953487881233694078263953407116222499632359298014255097182349749987176)\n"
     ]
    }
   ],
   "source": [
    "d = 112757557418114203588093402336452206775565751179231977388358956335153294300646 # Pvivate key\n",
    "Q = uber_multiply(d)\n",
    "\n",
    "print(\"Public {}: {}\".format(\"\\U0001F511\",Q))"
   ]
  },
  {
   "cell_type": "markdown",
   "metadata": {},
   "source": [
    "### Sign<a class=\"anchor\" id=\"sign\"></a>"
   ]
  },
  {
   "cell_type": "markdown",
   "metadata": {},
   "source": []
  }
 ],
 "metadata": {
  "interpreter": {
   "hash": "6323c9ba79aef14337336f5a3398d4ba2df567d4709c3031a5d2dd21f71a5c41"
  },
  "kernelspec": {
   "display_name": "Python 3 (ipykernel)",
   "language": "python",
   "name": "python3"
  },
  "language_info": {
   "codemirror_mode": {
    "name": "ipython",
    "version": 3
   },
   "file_extension": ".py",
   "mimetype": "text/x-python",
   "name": "python",
   "nbconvert_exporter": "python",
   "pygments_lexer": "ipython3",
   "version": "3.9.9"
  }
 },
 "nbformat": 4,
 "nbformat_minor": 2
}
