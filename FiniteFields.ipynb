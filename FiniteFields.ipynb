{
 "cells": [
  {
   "cell_type": "markdown",
   "metadata": {},
   "source": [
    "# Finite fields\n",
    "\n",
    "## TOC:\n",
    "* [Finite field](#finite-fields)\n",
    "* [Addition && Subtraction](#field-add-sub)\n",
    "* [Multiplication && Exponentiation](#field-mul-expo)\n",
    "* [Division](#division)"
   ]
  },
  {
   "cell_type": "markdown",
   "metadata": {},
   "source": [
    "## Finite field <a class=\"anchor\" id=\"finite-fields\"></a>"
   ]
  },
  {
   "cell_type": "code",
   "execution_count": 55,
   "metadata": {},
   "outputs": [
    {
     "name": "stdout",
     "output_type": "stream",
     "text": [
      "False\n",
      "True\n",
      "False\n",
      "True\n"
     ]
    }
   ],
   "source": [
    "class FieldElement:\n",
    "\n",
    "    def __init__(self, num, prime):\n",
    "        if num >= prime or num < 0:\n",
    "            error = 'Num {} not in field range 0 to {}'.format(num, prime - 1)\n",
    "            raise ValueError(error)\n",
    "        self.num = num \n",
    "        self.prime = prime\n",
    "\n",
    "    def __repr__(self):\n",
    "        return 'FieldElement_{}({})'.format(self.prime, self.num)\n",
    "\n",
    "    def __eq__(self, other):\n",
    "        if other is None:\n",
    "            return False\n",
    "        return self.num == other.num and self.prime == other.prime\n",
    "\n",
    "    def __ne__(self, other):\n",
    "        if other is None:\n",
    "            return False\n",
    "        return self.num != other.num or self.prime != other.prime\n",
    "\n",
    "a = FieldElement(7, 13)\n",
    "b = FieldElement(6, 13)\n",
    "print(a == b)\n",
    "print(a == a)\n",
    "print(a != a)\n",
    "print(a != b)"
   ]
  },
  {
   "cell_type": "markdown",
   "metadata": {},
   "source": [
    "## Adition && Subtraction<a class=\"anchor\" id=\"field-add-sub\"></a>"
   ]
  },
  {
   "cell_type": "code",
   "execution_count": 56,
   "metadata": {},
   "outputs": [
    {
     "name": "stdout",
     "output_type": "stream",
     "text": [
      "FieldElement_13(0)\n",
      "FieldElement_13(1)\n"
     ]
    }
   ],
   "source": [
    "\n",
    "def __add__(self, other):\n",
    "    if self.prime != other.prime:\n",
    "        raise TypeError('Cannot add two numbers in different Fields')\n",
    "    num = (self.num + other.num) % self.prime\n",
    "    return self.__class__(num, self.prime)\n",
    "\n",
    "\n",
    "def __sub__(self, other):\n",
    "    if self.prime != other.prime:\n",
    "        raise TypeError('Cannot subtract two numbers in different Fields')\n",
    "    num = (self.num - other.num) % self.prime\n",
    "    return self.__class__(num, self.prime)\n",
    "\n",
    "setattr(FieldElement, '__add__', __add__)\n",
    "setattr(FieldElement, '__sub__', __sub__)\n",
    "\n",
    "print(a+b)\n",
    "print(a-b)\n"
   ]
  },
  {
   "cell_type": "markdown",
   "metadata": {},
   "source": [
    "## Multiplication && Exponentiation <a class=\"anchor\" id=\"field-mul-expo\"></a>"
   ]
  },
  {
   "cell_type": "code",
   "execution_count": 57,
   "metadata": {},
   "outputs": [
    {
     "name": "stdout",
     "output_type": "stream",
     "text": [
      "True\n",
      "FieldElement_13(3)\n",
      "True\n"
     ]
    }
   ],
   "source": [
    "def __mul__(self, other):\n",
    "    if self.prime != other.prime:\n",
    "        raise TypeError('Cannot multiply two numbers in different Fields')\n",
    "    num = (self.num * other.num) % self.prime\n",
    "    return self.__class__(num, self.prime)\n",
    "\n",
    "def __pow__(self, exponent):\n",
    "    n = exponent % (self.prime - 1)\n",
    "    num = pow(self.num, n, self.prime)\n",
    "    return self.__class__(num, self.prime)\n",
    "\n",
    "setattr(FieldElement, '__mul__', __mul__)\n",
    "setattr(FieldElement, '__pow__', __pow__)\n",
    "\n",
    "a = FieldElement(3, 13)\n",
    "b = FieldElement(12, 13)\n",
    "c = FieldElement(10, 13)\n",
    "print(a*b==c)\n",
    "print(a**4)\n",
    "\n",
    "a = FieldElement(7, 13)\n",
    "b = FieldElement(8, 13)\n",
    "print(a**-3==b)\n"
   ]
  },
  {
   "cell_type": "markdown",
   "metadata": {},
   "source": [
    "## Division <a class=\"anchor\" id=\"division\"></a>"
   ]
  },
  {
   "cell_type": "code",
   "execution_count": 58,
   "metadata": {},
   "outputs": [
    {
     "name": "stdout",
     "output_type": "stream",
     "text": [
      "FieldElement_13(9)\n"
     ]
    }
   ],
   "source": [
    "def __truediv__(self, other):\n",
    "    if self.prime != other.prime:\n",
    "        raise TypeError('Cannot divide two numbers in different Fields')\n",
    "    num = self.num * pow(other.num, self.prime - 2, self.prime) % self.prime\n",
    "    return self.__class__(num, self.prime)\n",
    "\n",
    "setattr(FieldElement, '__truediv__', __truediv__)\n",
    "\n",
    "a = FieldElement(7, 13)\n",
    "b = FieldElement(8, 13)\n",
    "print(a/b)"
   ]
  }
 ],
 "metadata": {
  "interpreter": {
   "hash": "6323c9ba79aef14337336f5a3398d4ba2df567d4709c3031a5d2dd21f71a5c41"
  },
  "kernelspec": {
   "display_name": "Python 3.9.9 64-bit (windows store)",
   "language": "python",
   "name": "python3"
  },
  "language_info": {
   "codemirror_mode": {
    "name": "ipython",
    "version": 3
   },
   "file_extension": ".py",
   "mimetype": "text/x-python",
   "name": "python",
   "nbconvert_exporter": "python",
   "pygments_lexer": "ipython3",
   "version": "3.9.9"
  },
  "orig_nbformat": 4
 },
 "nbformat": 4,
 "nbformat_minor": 2
}
