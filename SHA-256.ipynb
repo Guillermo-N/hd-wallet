{
 "cells": [
  {
   "cell_type": "markdown",
   "metadata": {},
   "source": [
    "<style>\n",
    "    .title_div {\n",
    "    padding: 60px;\n",
    "    text-align: center;\n",
    "    background: #ffffff;\n",
    "    }\n",
    "    #title {\n",
    "        color: #f2a900;\n",
    "        font-size: 80px;\n",
    "    }\n",
    "    #subtitle {\n",
    "        color: #4d4d4e;\n",
    "        font-size: 20px;\n",
    "    }\n",
    "</style>\n",
    "\n",
    "<div class=\"title_div\">\n",
    "  <h1 id=\"title\">SHA-256</h1>\n",
    "  <p id=\"subtitle\">Secure Hasing Algorithm 256 bits</p>\n",
    "</div>\n",
    "\n",
    "<div style=\"color:red; text-align: center; padding: 60px\">\n",
    "⚠ The following examples are just to see how SHA-256 work; no recommended to use this algorithms for hashing. ⚠\n",
    "</div>\n",
    "\n",
    "\n",
    "## TOC:\n",
    "* [First look](#First-Look)\n",
    "* [Atomic operations](#Atomic-Operations)\n",
    "    1. [SHR](#SHR)\n",
    "    2. [ROTR](#ROTR)\n",
    "    3. [XOR](#XOR)\n",
    "    4. [SUM](#SUM)\n",
    "* [Coumpound operations](#Compound-Operations)\n",
    "    1. [$\\sigma0$](#sigma0)\n",
    "    2. [$\\sigma1$](#sigma1)\n",
    "    3. [$\\Sigma0$](#Sigma0)\n",
    "    4. [$\\Sigma1$](#Sigma1)\n",
    "    5. [Choice](#Choice)\n",
    "    6. [Majority](#Majority)\n",
    "* [Constant K](#Constant-k)\n",
    "* [Hashing](#Hashing)\n",
    "    * [Encode](#Encode)\n",
    "    * [Padding](#Padding)\n",
    "    * [Message Schedule](#Message-Schedule)\n",
    "        * [Block Iterator](#Block-Iterator)\n",
    "        * [Word Iterator](#Word-Iterator)\n",
    "        * [Initializing message schedule](#Initializing-message-schedule)\n",
    "        * [Extending message shcedule](#Extending-message-schedule)\n",
    "    * [Compression](#Compression)\n",
    "        * [Initializing stage registers](#Initializing-stage-regs)\n",
    "        * [Block Compression](#Block-Compression)\n",
    "        * [Sum UP](#Sum-UP)\n",
    "* [Checking the result](#Checking-Result)\n",
    "* [Consolidating operations](#Consolidating-Operations)\n",
    "* [Testing](#Testing)\n",
    "    * [Simple Test](#Simple-Test)\n",
    "    * [Multiblock Test](#Multiblock-Test)\n",
    "    * [Unittest testing](#Unitest-Testing)"
   ]
  },
  {
   "cell_type": "code",
   "execution_count": 8,
   "metadata": {},
   "outputs": [],
   "source": [
    "# Needed modules for running all notebook cells\n",
    "from IPython.display import clear_output\n",
    "from bitarray import bitarray, util\n",
    "from hashlib import sha256, sha512, new\n",
    "from time import sleep\n",
    "from math import sqrt, floor\n",
    "\n",
    "# tests\n",
    "import unittest"
   ]
  },
  {
   "cell_type": "markdown",
   "metadata": {},
   "source": [
    "<a ID=\"First-Look\"></a>\n",
    "## First look\n",
    "\n",
    "Using the SHA-256 function incuded in the hashlib module as reference."
   ]
  },
  {
   "cell_type": "code",
   "execution_count": 15,
   "metadata": {},
   "outputs": [
    {
     "name": "stdout",
     "output_type": "stream",
     "text": [
      "Hash type:\tsha256\n",
      "Void digest:\te3b0c44298fc1c149afbf4c8996fb92427ae41e4649b934ca495991b7852b855\n",
      "Digest size:\t32\n",
      "\n",
      "String:\tHello World!\n",
      "Digest:\t7f83b1657ff1fc53b92dc18148a1d65dfc2d4b1fa3d677284addd200126d9069\n"
     ]
    }
   ],
   "source": [
    "m = sha256()\n",
    "print(f\"Hash type:\\t{m.name}\")\n",
    "print(f\"Void digest:\\t{m.hexdigest()}\")\n",
    "print(f\"Digest size:\\t{m.digest_size}\")\n",
    "\n",
    "string = \"Hello World!\"\n",
    "m.update(string.encode())\n",
    "print(f\"\\nString:\\t{string}\")\n",
    "print(f\"Digest:\\t{m.hexdigest()}\")\n",
    "\n",
    "del m, string"
   ]
  },
  {
   "cell_type": "markdown",
   "metadata": {},
   "source": [
    "<a ID=\"Atomic-Operations\"></a>\n",
    "## Atomic bit level operations\n",
    "\n",
    "1. [SHR](#SHR)\n",
    "2. [ROTR](#ROTR)\n",
    "3. [XOR](#XOR)\n",
    "4. [SUM](#SUM)"
   ]
  },
  {
   "cell_type": "markdown",
   "metadata": {},
   "source": [
    "<a ID=\"SHR\"></a>\n",
    "### 1. SHR\n",
    "Shift right, left bits populated with '0'."
   ]
  },
  {
   "cell_type": "code",
   "execution_count": 81,
   "metadata": {},
   "outputs": [
    {
     "name": "stdout",
     "output_type": "stream",
     "text": [
      "\n",
      "      A: 11111111000000001111111100000000\n",
      " SHR 32: 00000000000000000000000000000000"
     ]
    }
   ],
   "source": [
    "def shr(bits, shifts):\n",
    "    for _ in range(shifts):\n",
    "        bits.pop()\n",
    "        bits.insert(0, 0)\n",
    "    return bits\n",
    "\n",
    "a = bitarray(endian='big')\n",
    "a.frombytes(b'\\xff\\x00\\xff\\x00')\n",
    "\n",
    "print(\"\\n{:>8} {:>32}\".format(\"A:\", a.to01()))\n",
    "for i in range(32):\n",
    "    print(\"\\r{:>8} {:>32}\".format(\"SHR \"+str(i+1)+\":\", shr(a,1).to01()), end=\"\")\n",
    "    sleep(0.2)\n",
    "del a, i"
   ]
  },
  {
   "cell_type": "markdown",
   "metadata": {},
   "source": [
    "<a ID=\"ROTR\"></a>\n",
    "### 2. ROTR\n",
    "Rotation right, dropping bits over right appear on the left hand side."
   ]
  },
  {
   "cell_type": "code",
   "execution_count": 84,
   "metadata": {},
   "outputs": [
    {
     "name": "stdout",
     "output_type": "stream",
     "text": [
      "\n",
      "      A: 11111111000000001111111100000000\n",
      "ROTR 32: 11111111000000001111111100000000"
     ]
    }
   ],
   "source": [
    "def rotr(bits, shifts):\n",
    "    for _ in range(shifts):\n",
    "        bits.insert(0,bits.pop())\n",
    "    return bits\n",
    "\n",
    "a = bitarray(endian='big')\n",
    "a.frombytes(b'\\xff\\x00\\xff\\x00')\n",
    "\n",
    "print(\"\\n{:>8} {:>32}\".format(\"A:\", a.to01()))\n",
    "for i in range(32):\n",
    "    print(\"\\r{:>8} {:>32}\".format(\"ROTR \"+str(i+1)+\":\", rotr(a,1).to01()), end=\"\")\n",
    "    sleep(0.2)\n",
    "del a, i"
   ]
  },
  {
   "cell_type": "markdown",
   "metadata": {},
   "source": [
    "<a ID=\"XOR\"></a>\n",
    "### 3. XOR\n",
    "Exclusive OR\n",
    "\n",
    "\n",
    "\n",
    "| A | B | XOR |\n",
    "|---|---|-----|\n",
    "| 0 | 0 | 0   |\n",
    "| 0 | 1 | 1   |\n",
    "| 1 | 0 | 1   |\n",
    "| 1 | 1 | 0   |   \n",
    "\n"
   ]
  },
  {
   "cell_type": "code",
   "execution_count": 10,
   "metadata": {},
   "outputs": [
    {
     "name": "stdout",
     "output_type": "stream",
     "text": [
      "      A: 11111111000000001111111100000000\n",
      "      B: 00000000111111111111111100000000 XOR\n",
      "         --------------------------------\n",
      "         11111111111111110000000000000000"
     ]
    }
   ],
   "source": [
    "def xor(a, b):\n",
    "    return a^b\n",
    "\n",
    "a = bitarray(endian='big')\n",
    "b = bitarray(endian='big')\n",
    "a.frombytes(b'\\xff\\x00\\xff\\x00')\n",
    "b.frombytes(b'\\x00\\xff\\xff\\x00')\n",
    "\n",
    "print(\"{:>8} {:>32}\".format(\"A:\", a.to01()))\n",
    "print(\"{:>8} {:>32} XOR\".format(\"B:\", b.to01()))\n",
    "print(\"{:>8} {:>32}\".format(\"\", \"-\"*32))\n",
    "for i in range(32):\n",
    "    print(\"\\r{:>8} {:>32}\".format(\"\", xor(a,b).to01()[32-1-i:]), end=\"\")\n",
    "    sleep(0.2)\n",
    "del a, b, i\n"
   ]
  },
  {
   "cell_type": "markdown",
   "metadata": {},
   "source": [
    "<a ID=\"SUM\"></a>\n",
    "### 4. SUM\n",
    "Binary addition <br>\n",
    "Mod 32, ignoring the carry out that will overflow the 32 bit."
   ]
  },
  {
   "cell_type": "code",
   "execution_count": 11,
   "metadata": {},
   "outputs": [
    {
     "name": "stdout",
     "output_type": "stream",
     "text": [
      "      A: 10000000001100001111111111111111\n",
      "      B: 10000000010100000000000000000000 +\n",
      "         --------------------------------\n",
      "         00000000100000001111111111111111"
     ]
    }
   ],
   "source": [
    "def add(a, b):\n",
    "    result = bitarray(endian='big')\n",
    "    carry = 0\n",
    "    for i in range(32-1, -1, -1):\n",
    "        result.insert(0,(a[i]^b[i]^carry))\n",
    "        carry = 1 if (a[i] + b[i] + carry) > 1 else 0\n",
    "    return result\n",
    "\n",
    "\n",
    "a = bitarray(endian='big')\n",
    "b = bitarray(endian='big')\n",
    "a.frombytes(b'\\x80\\x30\\xff\\xff')\n",
    "b.frombytes(b'\\x80\\x50\\x00\\x00')\n",
    "\n",
    "print(\"{:>8} {:>32}\".format(\"A:\", a.to01()))\n",
    "print(\"{:>8} {:>32} +\".format(\"B:\", b.to01()))\n",
    "print(\"{:>8} {:>32}\".format(\"\", \"-\"*32))\n",
    "out = add(a,b)\n",
    "for i in range(32):\n",
    "    print(\"\\r{:>8} {:>32}\".format(\"\", out.to01()[32-1-i:]), end=\"\")\n",
    "    sleep(0.2)\n",
    "\n",
    "del a, b, i, out"
   ]
  },
  {
   "cell_type": "markdown",
   "metadata": {},
   "source": [
    "***\n",
    "<a ID=\"Compound-Operations\"></a>\n",
    "## Compound operations\n",
    "\n",
    "1. [$\\sigma0$](#sigma0)\n",
    "2. [$\\sigma1$](#sigma1)\n",
    "3. [$\\Sigma0$](#Sigma0)\n",
    "4. [$\\Sigma1$](#Sigma1)\n",
    "5. [Choice](#Choice)\n",
    "6. [Majority](#Majority)\n"
   ]
  },
  {
   "cell_type": "markdown",
   "metadata": {},
   "source": [
    "<a ID=\"sigma0\"></a>\n",
    "### 1. $\\sigma0$"
   ]
  },
  {
   "cell_type": "code",
   "execution_count": 12,
   "metadata": {},
   "outputs": [
    {
     "name": "stdout",
     "output_type": "stream",
     "text": [
      " Origin: 00000000000000000011111111111111\n",
      "         --------------------------------\n",
      "ROTR  7: 11111110000000000000000001111111\n",
      "ROTR 18: 00001111111111111100000000000000 XOR\n",
      " SHR  7: 00000000000000000000011111111111 XOR\n",
      "         --------------------------------\n",
      "     σ0: 11110001111111111100011110000000\n"
     ]
    }
   ],
   "source": [
    "def sigma0(a, b, c):\n",
    "    rotr(a, 7)\n",
    "    rotr(b, 18)\n",
    "    shr(c, 3)\n",
    "    return xor(xor(a,b),c)\n",
    "\n",
    "origin = bitarray(endian='big')\n",
    "origin.frombytes(b'\\x00\\x00\\x3f\\xff')\n",
    "\n",
    "a = origin.copy()\n",
    "b = origin.copy()\n",
    "c = origin.copy()\n",
    "\n",
    "result = sigma0(a, b, c)\n",
    "\n",
    "print(\"{:>8} {:>32}\".format(\"Origin:\", origin.to01()))\n",
    "print(\"{:>8} {:>32}\".format(\"\", \"-\"*32))\n",
    "print(\"{:>8} {:>32}\".format(\"ROTR  7:\", a.to01()))\n",
    "print(\"{:>8} {:>32} XOR\".format(\"ROTR 18:\", b.to01()))\n",
    "print(\"{:>8} {:>32} XOR\".format(\"SHR  7:\", c.to01()))\n",
    "print(\"{:>8} {:>32}\".format(\"\", \"-\"*32))\n",
    "print(\"{:>8} {:>32}\".format(\"\\u03C30:\", result.to01()))\n",
    "\n",
    "del a, b, c, result, origin\n",
    "\n"
   ]
  },
  {
   "cell_type": "markdown",
   "metadata": {},
   "source": [
    "<a ID=\"sigma1\"></a>\n",
    "### 1. $\\sigma1$"
   ]
  },
  {
   "cell_type": "code",
   "execution_count": 13,
   "metadata": {},
   "outputs": [
    {
     "name": "stdout",
     "output_type": "stream",
     "text": [
      " Origin: 00000000000000000011111111111111\n",
      "         --------------------------------\n",
      "ROTR 17: 00011111111111111000000000000000\n",
      "ROTR 19: 00000111111111111110000000000000 XOR\n",
      " SHR 10: 00000000000000000000000000001111 XOR\n",
      "         --------------------------------\n",
      "     σ1: 00011000000000000110000000001111\n"
     ]
    }
   ],
   "source": [
    "def sigma1(a, b, c):\n",
    "    rotr(a, 17)\n",
    "    rotr(b, 19)\n",
    "    shr(c, 10)\n",
    "    return xor(xor(a,b),c)\n",
    "\n",
    "origin = bitarray(endian='big')\n",
    "origin.frombytes(b'\\x00\\x00\\x3f\\xff')\n",
    "\n",
    "a = origin.copy()\n",
    "b = origin.copy()\n",
    "c = origin.copy()\n",
    "\n",
    "result = sigma1(a, b, c)\n",
    "\n",
    "print(\"{:>8} {:>32}\".format(\"Origin:\", origin.to01()))\n",
    "print(\"{:>8} {:>32}\".format(\"\", \"-\"*32))\n",
    "print(\"{:>8} {:>32}\".format(\"ROTR 17:\", a.to01()))\n",
    "print(\"{:>8} {:>32} XOR\".format(\"ROTR 19:\", b.to01()))\n",
    "print(\"{:>8} {:>32} XOR\".format(\"SHR 10:\", c.to01()))\n",
    "print(\"{:>8} {:>32}\".format(\"\", \"-\"*32))\n",
    "print(\"{:>8} {:>32}\".format(\"\\u03C31:\", result.to01()))\n",
    "\n",
    "del a, b, c, result, origin\n"
   ]
  },
  {
   "cell_type": "markdown",
   "metadata": {},
   "source": [
    "<a ID=\"Sigma0\"></a>\n",
    "### 3. $\\Sigma0$"
   ]
  },
  {
   "cell_type": "code",
   "execution_count": 14,
   "metadata": {},
   "outputs": [
    {
     "name": "stdout",
     "output_type": "stream",
     "text": [
      " Origin: 00000000000000000011111111111111\n",
      "         --------------------------------\n",
      "ROTR  2: 11000000000000000000111111111111\n",
      "ROTR 13: 11111111111110000000000000000001 XOR\n",
      "ROTR 22: 00000000111111111111110000000000 XOR\n",
      "         --------------------------------\n",
      "     Σ0: 00111111000001111111001111111110\n"
     ]
    }
   ],
   "source": [
    "def Sigma0(a, b, c):\n",
    "    rotr(a, 2)\n",
    "    rotr(b, 13)\n",
    "    rotr(c, 22)\n",
    "    return xor(xor(a,b),c)\n",
    "\n",
    "origin = bitarray(endian='big')\n",
    "origin.frombytes(b'\\x00\\x00\\x3f\\xff')\n",
    "\n",
    "a = origin.copy()\n",
    "b = origin.copy()\n",
    "c = origin.copy()\n",
    "\n",
    "result = Sigma0(a, b, c)\n",
    "\n",
    "print(\"{:>8} {:>32}\".format(\"Origin:\", origin.to01()))\n",
    "print(\"{:>8} {:>32}\".format(\"\", \"-\"*32))\n",
    "print(\"{:>8} {:>32}\".format(\"ROTR  2:\", a.to01()))\n",
    "print(\"{:>8} {:>32} XOR\".format(\"ROTR 13:\", b.to01()))\n",
    "print(\"{:>8} {:>32} XOR\".format(\"ROTR 22:\", c.to01()))\n",
    "print(\"{:>8} {:>32}\".format(\"\", \"-\"*32))\n",
    "print(\"{:>8} {:>32}\".format(\"\\u03A30:\", result.to01()))\n",
    "\n",
    "del a, b, c, result, origin\n"
   ]
  },
  {
   "cell_type": "markdown",
   "metadata": {},
   "source": [
    "<a ID=\"Sigma1\"></a>\n",
    "### 4. $\\Sigma1$"
   ]
  },
  {
   "cell_type": "code",
   "execution_count": 15,
   "metadata": {},
   "outputs": [
    {
     "name": "stdout",
     "output_type": "stream",
     "text": [
      " Origin: 00000000000000000011111111111111\n",
      "         --------------------------------\n",
      "ROTR  6: 11111100000000000000000011111111\n",
      "ROTR 11: 11111111111000000000000000000111 XOR\n",
      "ROTR 25: 00000000000111111111111110000000 XOR\n",
      "         --------------------------------\n",
      "     Σ1: 00000011111111111111111101111000\n"
     ]
    }
   ],
   "source": [
    "def Sigma1(a, b, c):\n",
    "    rotr(a, 6)\n",
    "    rotr(b, 11)\n",
    "    rotr(c, 25)\n",
    "    return xor(xor(a,b),c)\n",
    "\n",
    "origin = bitarray(endian='big')\n",
    "origin.frombytes(b'\\x00\\x00\\x3f\\xff')\n",
    "\n",
    "a = origin.copy()\n",
    "b = origin.copy()\n",
    "c = origin.copy()\n",
    "\n",
    "result = Sigma1(a, b, c)\n",
    "\n",
    "print(\"{:>8} {:>32}\".format(\"Origin:\", origin.to01()))\n",
    "print(\"{:>8} {:>32}\".format(\"\", \"-\"*32))\n",
    "print(\"{:>8} {:>32}\".format(\"ROTR  6:\", a.to01()))\n",
    "print(\"{:>8} {:>32} XOR\".format(\"ROTR 11:\", b.to01()))\n",
    "print(\"{:>8} {:>32} XOR\".format(\"ROTR 25:\", c.to01()))\n",
    "print(\"{:>8} {:>32}\".format(\"\", \"-\"*32))\n",
    "print(\"{:>8} {:>32}\".format(\"\\u03A31:\", result.to01()))\n",
    "\n",
    "del a, b, c, result, origin"
   ]
  },
  {
   "cell_type": "markdown",
   "metadata": {},
   "source": [
    "<a ID=\"Choice\"></a>\n",
    "### 5. Choice\n",
    "\n",
    "Choose the bit at possition $X$ from 'a' in case choice bit '0' or from 'b' in case choice bit '1'."
   ]
  },
  {
   "cell_type": "code",
   "execution_count": 16,
   "metadata": {},
   "outputs": [
    {
     "name": "stdout",
     "output_type": "stream",
     "text": [
      "         ⇓\n",
      "      A: 00000000111111110000000011111111\n",
      "      B: 00000000000000001111111111111111 \n",
      "      C: 11111111111111110000000000000000 ⇦\n",
      "         --------------------------------\n",
      "    OUT: 11111111000000000000000011111111\n"
     ]
    }
   ],
   "source": [
    "def choice(choice, a, b):\n",
    "    result = choice.copy()\n",
    "    for i in range(32):\n",
    "        if choice[i] == 1:\n",
    "            result[i] = a[i]\n",
    "        elif choice[i] == 0:\n",
    "            result[i] = b[i]\n",
    "    return result\n",
    "\n",
    "a = bitarray(endian='big')\n",
    "b = bitarray(endian='big')\n",
    "c = bitarray(endian='big')\n",
    "\n",
    "a.frombytes(b'\\x00\\xff\\x00\\xff')\n",
    "b.frombytes(b'\\x00\\x00\\xff\\xff')\n",
    "c.frombytes(b'\\xff\\xff\\x00\\x00')\n",
    "\n",
    "result = choice(a, b, c)\n",
    "\n",
    "for i in range(32):\n",
    "\n",
    "    print(\" \"*(41-(i+1))+\"\\u21D3\")\n",
    "    print(\"{:>8} {:>32}\".format(\"A:\", a.to01()))\n",
    "    print(\"{:>8} {:>32} {}\".format(\"B:\", b.to01(), \"\" if a[i]==1 else \"\\u21E6\"))\n",
    "    print(\"{:>8} {:>32} {}\".format(\"C:\", c.to01(), \"\" if a[i]==0 else \"\\u21E6\"))\n",
    "    print(\"{:>8} {:>32}\".format(\"\", \"-\"*32))\n",
    "    print(\"{:>8} {:>32}\".format(\"OUT:\", result.to01()[32-(i+1):]))\n",
    "    \n",
    "    sleep(0.2)\n",
    "    clear_output(wait=True)\n",
    "    \n",
    "\n",
    "del a, b, c, result"
   ]
  },
  {
   "cell_type": "markdown",
   "metadata": {},
   "source": [
    "<a ID=\"Majority\"></a>\n",
    "### 6. Majority"
   ]
  },
  {
   "cell_type": "code",
   "execution_count": 17,
   "metadata": {},
   "outputs": [
    {
     "name": "stdout",
     "output_type": "stream",
     "text": [
      "         ⇓\n",
      "      A: 00000000111111110000000011111111  0\n",
      "      B: 00000000000000001111111111111111  0\n",
      "      C: 11111111111111110000000000000000  1\n",
      "         --------------------------------\n",
      "    OUT: 00000000111111110000000011111111\n"
     ]
    }
   ],
   "source": [
    "def majority(a, b, c):\n",
    "    result = bitarray(\"0\"*32)\n",
    "    for i in range(32):\n",
    "        result[i] = 1 if a[i]+b[i]+c[i] > 1 else 0\n",
    "    return result\n",
    "\n",
    "a = bitarray(endian='big')\n",
    "b = bitarray(endian='big')\n",
    "c = bitarray(endian='big')\n",
    "\n",
    "a.frombytes(b'\\x00\\xff\\x00\\xff')\n",
    "b.frombytes(b'\\x00\\x00\\xff\\xff')\n",
    "c.frombytes(b'\\xff\\xff\\x00\\x00')\n",
    "\n",
    "result = majority(a, b, c)\n",
    "\n",
    "for i in range(32):\n",
    "\n",
    "    print(\" \"*(41-(i+1))+\"\\u21D3\")\n",
    "    print(\"{:>8} {:>32} {}\".format(\"A:\", a.to01(), \" \"+str(a[32-(i+1)])))\n",
    "    print(\"{:>8} {:>32} {}\".format(\"B:\", b.to01(), \" \"+str(b[32-(i+1)])))\n",
    "    print(\"{:>8} {:>32} {}\".format(\"C:\", c.to01(), \" \"+str(c[32-(i+1)])))\n",
    "    print(\"{:>8} {:>32}\".format(\"\", \"-\"*32))\n",
    "    print(\"{:>8} {:>32}\".format(\"OUT:\", result.to01()[32-(i+1):]))\n",
    "    \n",
    "    sleep(0.2)\n",
    "    clear_output(wait=True)\n",
    "    \n",
    "\n",
    "del a, b, c, result"
   ]
  },
  {
   "cell_type": "markdown",
   "metadata": {},
   "source": [
    "***\n",
    "<a Id=\"Constant-K\"></a>\n",
    "## Constant K\n",
    "List of length 64 containing 32 bits from the decimal part of the cubic root of the 64 first prime numbers."
   ]
  },
  {
   "cell_type": "code",
   "execution_count": 18,
   "metadata": {},
   "outputs": [
    {
     "name": "stdout",
     "output_type": "stream",
     "text": [
      "   1 ⇾   ∛2 ⇾ 1.2599210498948732 ⇾ 0.2599210498948732 ⇾ 01000010100010100010111110011000  \n",
      "   2 ⇾   ∛3 ⇾ 1.4422495703074083 ⇾ 0.4422495703074083 ⇾ 01110001001101110100010010010001  \n",
      "   3 ⇾   ∛5 ⇾ 1.7099759466766968 ⇾ 0.7099759466766968 ⇾ 10110101110000001111101111001111  \n",
      "   4 ⇾   ∛7 ⇾  1.912931182772389 ⇾  0.912931182772389 ⇾ 11101001101101011101101110100101  \n",
      "   5 ⇾  ∛11 ⇾ 2.2239800905693152 ⇾ 0.2239800905693152 ⇾ 00111001010101101100001001011011  \n",
      "   6 ⇾  ∛13 ⇾ 2.3513346877207573 ⇾ 0.3513346877207573 ⇾ 01011001111100010001000111110001  \n",
      "   7 ⇾  ∛17 ⇾  2.571281590658235 ⇾  0.571281590658235 ⇾ 10010010001111111000001010100100  \n",
      "   8 ⇾  ∛19 ⇾  2.668401648721945 ⇾  0.668401648721945 ⇾ 10101011000111000101111011010101  \n",
      "   9 ⇾  ∛23 ⇾ 2.8438669798515654 ⇾ 0.8438669798515654 ⇾ 11011000000001111010101010011000  \n",
      "  10 ⇾  ∛29 ⇾  3.072316825685847 ⇾  0.072316825685847 ⇾ 00010010100000110101101100000001  \n",
      "  11 ⇾  ∛31 ⇾ 3.1413806523913927 ⇾ 0.1413806523913927 ⇾ 00100100001100011000010110111110  \n",
      "  12 ⇾  ∛37 ⇾  3.332221851645953 ⇾  0.332221851645953 ⇾ 01010101000011000111110111000011  \n",
      "  13 ⇾  ∛41 ⇾ 3.4482172403827303 ⇾ 0.4482172403827303 ⇾ 01110010101111100101110101110100  \n",
      "  14 ⇾  ∛43 ⇾  3.503398060386724 ⇾  0.503398060386724 ⇾ 10000000110111101011000111111110  \n",
      "  15 ⇾  ∛47 ⇾ 3.6088260801386944 ⇾ 0.6088260801386944 ⇾ 10011011110111000000011010100111  \n",
      "  16 ⇾  ∛53 ⇾  3.756285754221072 ⇾  0.756285754221072 ⇾ 11000001100110111111000101110100  \n",
      "  17 ⇾  ∛59 ⇾ 3.8929964158732604 ⇾ 0.8929964158732604 ⇾ 11100100100110110110100111000001  \n",
      "  18 ⇾  ∛61 ⇾ 3.9364971831021727 ⇾ 0.9364971831021727 ⇾ 11101111101111100100011110000110  \n",
      "  19 ⇾  ∛67 ⇾ 4.0615481004456795 ⇾ 0.0615481004456795 ⇾ 00001111110000011001110111000110  \n",
      "  20 ⇾  ∛71 ⇾  4.140817749422853 ⇾  0.140817749422853 ⇾ 00100100000011001010000111001100  \n",
      "  21 ⇾  ∛73 ⇾  4.179339196381232 ⇾  0.179339196381232 ⇾ 00101101111010010010110001101111  \n",
      "  22 ⇾  ∛79 ⇾  4.290840427026207 ⇾  0.290840427026207 ⇾ 01001010011101001000010010101010  \n",
      "  23 ⇾  ∛83 ⇾  4.362070671454838 ⇾  0.362070671454838 ⇾ 01011100101100001010100111011100  \n",
      "  24 ⇾  ∛89 ⇾  4.464745095584537 ⇾  0.464745095584537 ⇾ 01110110111110011000100011011010  \n",
      "  25 ⇾  ∛97 ⇾  4.594700892207039 ⇾  0.594700892207039 ⇾ 10011000001111100101000101010010  \n",
      "  26 ⇾ ∛101 ⇾  4.657009507803835 ⇾  0.657009507803835 ⇾ 10101000001100011100011001101101  \n",
      "  27 ⇾ ∛103 ⇾  4.687548147653597 ⇾  0.687548147653597 ⇾ 10110000000000110010011111001000  \n",
      "  28 ⇾ ∛107 ⇾    4.7474593985234 ⇾    0.7474593985234 ⇾ 10111111010110010111111111000111  \n",
      "  29 ⇾ ∛109 ⇾  4.776856181035017 ⇾  0.776856181035017 ⇾ 11000110111000000000101111110011  \n",
      "  30 ⇾ ∛113 ⇾  4.834588127111639 ⇾  0.834588127111639 ⇾ 11010101101001111001000101000111  \n",
      "  31 ⇾ ∛127 ⇾  5.026525695313479 ⇾  0.026525695313479 ⇾ 00000110110010100110001101010001  \n",
      "  32 ⇾ ∛131 ⇾    5.0787530781327 ⇾    0.0787530781327 ⇾ 00010100001010010010100101100111  \n",
      "  33 ⇾ ∛137 ⇾  5.155136735475772 ⇾  0.155136735475772 ⇾ 00100111101101110000101010000101  \n",
      "  34 ⇾ ∛139 ⇾  5.180101467380292 ⇾  0.180101467380292 ⇾ 00101110000110110010000100111000  \n",
      "  35 ⇾ ∛149 ⇾  5.301459192380904 ⇾  0.301459192380904 ⇾ 01001101001011000110110111111100  \n",
      "  36 ⇾ ∛151 ⇾  5.325074021614986 ⇾  0.325074021614986 ⇾ 01010011001110000000110100010011  \n",
      "  37 ⇾ ∛157 ⇾  5.394690712109591 ⇾  0.394690712109591 ⇾ 01100101000010100111001101010100  \n",
      "  38 ⇾ ∛163 ⇾  5.462555571281397 ⇾  0.462555571281397 ⇾ 01110110011010100000101010111011  \n",
      "  39 ⇾ ∛167 ⇾  5.506878446387352 ⇾  0.506878446387352 ⇾ 10000001110000101100100100101110  \n",
      "  40 ⇾ ∛173 ⇾ 5.5720546555426225 ⇾ 0.5720546555426225 ⇾ 10010010011100100010110010000101  \n",
      "  41 ⇾ ∛179 ⇾  5.635740794544236 ⇾  0.635740794544236 ⇾ 10100010101111111110100010100001  \n",
      "  42 ⇾ ∛181 ⇾   5.65665282582291 ⇾   0.65665282582291 ⇾ 10101000000110100110011001001011  \n",
      "  43 ⇾ ∛191 ⇾  5.758965220492401 ⇾  0.758965220492401 ⇾ 11000010010010111000101101110000  \n",
      "  44 ⇾ ∛193 ⇾  5.778996565152129 ⇾  0.778996565152129 ⇾ 11000111011011000101000110100011  \n",
      "  45 ⇾ ∛197 ⇾  5.818647867496961 ⇾  0.818647867496961 ⇾ 11010001100100101110100000011001  \n",
      "  46 ⇾ ∛199 ⇾  5.838272460814002 ⇾  0.838272460814002 ⇾ 11010110100110010000011000100100  \n",
      "  47 ⇾ ∛211 ⇾  5.953341813139051 ⇾  0.953341813139051 ⇾ 11110100000011100011010110000101  \n",
      "  48 ⇾ ∛223 ⇾  6.064126994506963 ⇾  0.064126994506963 ⇾ 00010000011010101010000001110000  \n",
      "  49 ⇾ ∛227 ⇾  6.100170200393062 ⇾  0.100170200393062 ⇾ 00011001101001001100000100010110  \n",
      "  50 ⇾ ∛229 ⇾   6.11803317263662 ⇾   0.11803317263662 ⇾ 00011110001101110110110000001000  \n",
      "  51 ⇾ ∛233 ⇾  6.153449493663682 ⇾  0.153449493663682 ⇾ 00100111010010000111011101001100  \n",
      "  52 ⇾ ∛239 ⇾  6.205821794895751 ⇾  0.205821794895751 ⇾ 00110100101100001011110010110101  \n",
      "  53 ⇾ ∛241 ⇾  6.223084253206058 ⇾  0.223084253206058 ⇾ 00111001000111000000110010110011  \n",
      "  54 ⇾ ∛251 ⇾  6.307993548663267 ⇾  0.307993548663267 ⇾ 01001110110110001010101001001010  \n",
      "  55 ⇾ ∛257 ⇾    6.3578611797342 ⇾    0.3578611797342 ⇾ 01011011100111001100101001001111  \n",
      "  56 ⇾ ∛263 ⇾ 6.4069585771855575 ⇾ 0.4069585771855575 ⇾ 01101000001011100110111111110011  \n",
      "  57 ⇾ ∛269 ⇾  6.455314810938885 ⇾  0.455314810938885 ⇾ 01110100100011111000001011101110  \n",
      "  58 ⇾ ∛271 ⇾  6.471273626960365 ⇾  0.471273626960365 ⇾ 01111000101001010110001101101111  \n",
      "  59 ⇾ ∛277 ⇾  6.518683915173769 ⇾  0.518683915173769 ⇾ 10000100110010000111100000010100  \n",
      "  60 ⇾ ∛281 ⇾  6.549911620119374 ⇾  0.549911620119374 ⇾ 10001100110001110000001000001000  \n",
      "  61 ⇾ ∛283 ⇾  6.565414427346138 ⇾  0.565414427346138 ⇾ 10010000101111101111111111111010  \n",
      "  62 ⇾ ∛293 ⇾ 6.6418521953442085 ⇾ 0.6418521953442085 ⇾ 10100100010100000110110011101011  \n",
      "  63 ⇾ ∛307 ⇾  6.745996711705424 ⇾  0.745996711705424 ⇾ 10111110111110011010001111110111  \n",
      "  64 ⇾ ∛311 ⇾  6.775168952273312 ⇾  0.775168952273312 ⇾ 11000110011100010111100011110010  \n"
     ]
    }
   ],
   "source": [
    "first64primes = [2, 3, 5, 7, 11, 13, 17, 19, 23, 29, 31, 37, 41, 43, 47, 53, 59, 61, 67, 71, 73, 79, 83, 89,\n",
    " 97, 101, 103, 107, 109, 113, 127, 131, 137, 139, 149, 151, 157, 163, 167, 173, 179, 181, 191, 193, 197,\n",
    " 199, 211, 223, 227, 229, 233, 239, 241, 251, 257, 263, 269, 271, 277, 281, 283, 293, 307, 311]\n",
    "\n",
    "K = [] # The list is indexed from 0 even tho is printed starting from 1.\n",
    "\n",
    "def frac2bin(frac):\n",
    "    x = floor(frac*(2**32))\n",
    "    bin32 = \"\"\n",
    "    \n",
    "    for _ in range(32):\n",
    "        bin32 += str(x % 2)\n",
    "        x = x // 2\n",
    "\n",
    "    return bin32[::-1]\n",
    "    \n",
    "\n",
    "\n",
    "for j, i in enumerate(first64primes):\n",
    "    sqrt3 = i**(1./3.)\n",
    "    deciaml_part = float(str(sqrt3)[1:])\n",
    "    K.append(bitarray(frac2bin(deciaml_part)))\n",
    "\n",
    "    print(\"{:>4} \\u21FE {:>4} \\u21FE {:>18} \\u21FE {:>18} \\u21FE {:>32}  \".format(j+1, \"\\u221B\"+str(i), sqrt3, deciaml_part,K[j].to01()))\n",
    "\n",
    "del first64primes, deciaml_part, sqrt3, i, j\n",
    "\n"
   ]
  },
  {
   "cell_type": "markdown",
   "metadata": {},
   "source": [
    "***\n",
    "<a ID=\"Hashing\"></a>\n",
    "## Hashing\n",
    "\n",
    "1. [Encode](#Encode)\n",
    "2. [Padding](#Padding)\n",
    "3. [Message Schedule](#Message-Schedule)\n",
    "    1. [Block Iterator](#Block-Iterator)\n",
    "    2. [Word Iterator](#Word-Iterator)\n",
    "    3. [Initializing message schedule](#Initializing-message-schedule)\n",
    "    4. [Extending message shcedule](#Extending-message-schedule)\n",
    "4. [Compression](#Compression)\n",
    "    1. [Initializing stage registers](#Initializing-stage-regs)\n",
    "    1. [Block Compression](#Block-Compression)\n",
    "    3. [Sum UP](#Sum-UP)\n",
    "\n",
    "\n",
    "\n",
    "<a ID=\"Encode\"></a>\n",
    "### Encode\n",
    "Always use the same encode to have a solid and consistent output; in the case of SHA256 we use ASCII (American Standard Code II)"
   ]
  },
  {
   "cell_type": "code",
   "execution_count": 19,
   "metadata": {},
   "outputs": [
    {
     "name": "stdout",
     "output_type": "stream",
     "text": [
      "Message:\n",
      "\tInput: \"Hello World!\"\n",
      "\tEncoding: ASCII\n",
      "\tMessage: 010010000110010101101100011011000110111100100000010101110110111101110010011011000110010000100001\n"
     ]
    }
   ],
   "source": [
    "string = \"Hello World!\"\n",
    "message = bitarray(endian='big')\n",
    "message.frombytes(string.encode('ascii')) # passing it to binary with a ASCII encoding\n",
    "\n",
    "print(\"Message:\")\n",
    "print(\"\\t{} \\\"{}\\\"\".format(\"Input:\", string))\n",
    "print(\"\\tEncoding: ASCII\")\n",
    "print(\"\\t{} {}\".format(\"Message:\", message.to01()))\n",
    "\n"
   ]
  },
  {
   "cell_type": "markdown",
   "metadata": {},
   "source": [
    "<a ID=\"Padding\"></a>\n",
    "### Padding\n",
    "Hashing algorithms work in badges or blocks. Padding adds bits to make the message length a multiple of the block size required."
   ]
  },
  {
   "cell_type": "code",
   "execution_count": 20,
   "metadata": {},
   "outputs": [
    {
     "name": "stdout",
     "output_type": "stream",
     "text": [
      "SHA-256 block size: 512 bits\n"
     ]
    }
   ],
   "source": [
    "print(f\"SHA-256 block size: {sha256().block_size*8} bits\")"
   ]
  },
  {
   "cell_type": "markdown",
   "metadata": {},
   "source": [
    "Pdding structure:\n",
    "* Padding flag bit, added right after the message.\n",
    "* Cero padding, ceros added to the message in order to make its length a multiple of the block.\n",
    "* Length on the message encoded in the last 64 bits."
   ]
  },
  {
   "cell_type": "code",
   "execution_count": 21,
   "metadata": {},
   "outputs": [
    {
     "name": "stdout",
     "output_type": "stream",
     "text": [
      "Padding message size: 512 bits\n",
      "Message:\n",
      "\u001b[95m0\u001b[95m1\u001b[95m0\u001b[95m0\u001b[95m1\u001b[95m0\u001b[95m0\u001b[95m0\u001b[95m0\u001b[95m1\u001b[95m1\u001b[95m0\u001b[95m0\u001b[95m1\u001b[95m0\u001b[95m1\u001b[95m0\u001b[95m1\u001b[95m1\u001b[95m0\u001b[95m1\u001b[95m1\u001b[95m0\u001b[95m0\u001b[95m0\u001b[95m1\u001b[95m1\u001b[95m0\u001b[95m1\u001b[95m1\u001b[95m0\u001b[95m0\u001b[95m0\u001b[95m1\u001b[95m1\u001b[95m0\u001b[95m1\u001b[95m1\u001b[95m1\u001b[95m1\u001b[95m0\u001b[95m0\u001b[95m1\u001b[95m0\u001b[95m0\u001b[95m0\u001b[95m0\u001b[95m0\u001b[95m0\u001b[95m1\u001b[95m0\u001b[95m1\u001b[95m0\u001b[95m1\u001b[95m1\u001b[95m1\u001b[95m0\u001b[95m1\u001b[95m1\u001b[95m0\u001b[95m1\u001b[95m1\u001b[95m1\u001b[95m1\u001b[95m0\u001b[95m1\u001b[95m1\u001b[95m1\u001b[95m0\u001b[95m0\u001b[95m1\u001b[95m0\u001b[95m0\u001b[95m1\u001b[95m1\u001b[95m0\u001b[95m1\u001b[95m1\u001b[95m0\u001b[95m0\u001b[95m0\u001b[95m1\u001b[95m1\u001b[95m0\u001b[95m0\u001b[95m1\u001b[95m0\u001b[95m0\u001b[95m0\u001b[95m0\u001b[95m1\u001b[95m0\u001b[95m0\u001b[95m0\u001b[95m0\u001b[95m1\u001b[91m1\u001b[93m0\u001b[93m0\u001b[93m0\u001b[93m0\u001b[93m0\u001b[93m0\u001b[93m0\u001b[93m0\u001b[93m0\u001b[93m0\u001b[93m0\u001b[93m0\u001b[93m0\u001b[93m0\u001b[93m0\u001b[93m0\u001b[93m0\u001b[93m0\u001b[93m0\u001b[93m0\u001b[93m0\u001b[93m0\u001b[93m0\u001b[93m0\u001b[93m0\u001b[93m0\u001b[93m0\u001b[93m0\u001b[93m0\u001b[93m0\u001b[93m0\u001b[93m0\u001b[93m0\u001b[93m0\u001b[93m0\u001b[93m0\u001b[93m0\u001b[93m0\u001b[93m0\u001b[93m0\u001b[93m0\u001b[93m0\u001b[93m0\u001b[93m0\u001b[93m0\u001b[93m0\u001b[93m0\u001b[93m0\u001b[93m0\u001b[93m0\u001b[93m0\u001b[93m0\u001b[93m0\u001b[93m0\u001b[93m0\u001b[93m0\u001b[93m0\u001b[93m0\u001b[93m0\u001b[93m0\u001b[93m0\u001b[93m0\u001b[93m0\u001b[93m0\u001b[93m0\u001b[93m0\u001b[93m0\u001b[93m0\u001b[93m0\u001b[93m0\u001b[93m0\u001b[93m0\u001b[93m0\u001b[93m0\u001b[93m0\u001b[93m0\u001b[93m0\u001b[93m0\u001b[93m0\u001b[93m0\u001b[93m0\u001b[93m0\u001b[93m0\u001b[93m0\u001b[93m0\u001b[93m0\u001b[93m0\u001b[93m0\u001b[93m0\u001b[93m0\u001b[93m0\u001b[93m0\u001b[93m0\u001b[93m0\u001b[93m0\u001b[93m0\u001b[93m0\u001b[93m0\u001b[93m0\u001b[93m0\u001b[93m0\u001b[93m0\u001b[93m0\u001b[93m0\u001b[93m0\u001b[93m0\u001b[93m0\u001b[93m0\u001b[93m0\u001b[93m0\u001b[93m0\u001b[93m0\u001b[93m0\u001b[93m0\u001b[93m0\u001b[93m0\u001b[93m0\u001b[93m0\u001b[93m0\u001b[93m0\u001b[93m0\u001b[93m0\u001b[93m0\u001b[93m0\u001b[93m0\u001b[93m0\u001b[93m0\u001b[93m0\u001b[93m0\u001b[93m0\u001b[93m0\u001b[93m0\u001b[93m0\u001b[93m0\u001b[93m0\u001b[93m0\u001b[93m0\u001b[93m0\u001b[93m0\u001b[93m0\u001b[93m0\u001b[93m0\u001b[93m0\u001b[93m0\u001b[93m0\u001b[93m0\u001b[93m0\u001b[93m0\u001b[93m0\u001b[93m0\u001b[93m0\u001b[93m0\u001b[93m0\u001b[93m0\u001b[93m0\u001b[93m0\u001b[93m0\u001b[93m0\u001b[93m0\u001b[93m0\u001b[93m0\u001b[93m0\u001b[93m0\u001b[93m0\u001b[93m0\u001b[93m0\u001b[93m0\u001b[93m0\u001b[93m0\u001b[93m0\u001b[93m0\u001b[93m0\u001b[93m0\u001b[93m0\u001b[93m0\u001b[93m0\u001b[93m0\u001b[93m0\u001b[93m0\u001b[93m0\u001b[93m0\u001b[93m0\u001b[93m0\u001b[93m0\u001b[93m0\u001b[93m0\u001b[93m0\u001b[93m0\u001b[93m0\u001b[93m0\u001b[93m0\u001b[93m0\u001b[93m0\u001b[93m0\u001b[93m0\u001b[93m0\u001b[93m0\u001b[93m0\u001b[93m0\u001b[93m0\u001b[93m0\u001b[93m0\u001b[93m0\u001b[93m0\u001b[93m0\u001b[93m0\u001b[93m0\u001b[93m0\u001b[93m0\u001b[93m0\u001b[93m0\u001b[93m0\u001b[93m0\u001b[93m0\u001b[93m0\u001b[93m0\u001b[93m0\u001b[93m0\u001b[93m0\u001b[93m0\u001b[93m0\u001b[93m0\u001b[93m0\u001b[93m0\u001b[93m0\u001b[93m0\u001b[93m0\u001b[93m0\u001b[93m0\u001b[93m0\u001b[93m0\u001b[93m0\u001b[93m0\u001b[93m0\u001b[93m0\u001b[93m0\u001b[93m0\u001b[93m0\u001b[93m0\u001b[93m0\u001b[93m0\u001b[93m0\u001b[93m0\u001b[93m0\u001b[93m0\u001b[93m0\u001b[93m0\u001b[93m0\u001b[93m0\u001b[93m0\u001b[93m0\u001b[93m0\u001b[93m0\u001b[93m0\u001b[93m0\u001b[93m0\u001b[93m0\u001b[93m0\u001b[93m0\u001b[93m0\u001b[93m0\u001b[93m0\u001b[93m0\u001b[93m0\u001b[93m0\u001b[93m0\u001b[93m0\u001b[93m0\u001b[93m0\u001b[93m0\u001b[93m0\u001b[93m0\u001b[93m0\u001b[93m0\u001b[93m0\u001b[93m0\u001b[93m0\u001b[93m0\u001b[93m0\u001b[93m0\u001b[93m0\u001b[93m0\u001b[93m0\u001b[93m0\u001b[93m0\u001b[93m0\u001b[93m0\u001b[93m0\u001b[93m0\u001b[93m0\u001b[93m0\u001b[93m0\u001b[93m0\u001b[93m0\u001b[93m0\u001b[93m0\u001b[93m0\u001b[93m0\u001b[93m0\u001b[93m0\u001b[93m0\u001b[93m0\u001b[93m0\u001b[93m0\u001b[93m0\u001b[93m0\u001b[93m0\u001b[93m0\u001b[93m0\u001b[93m0\u001b[93m0\u001b[93m0\u001b[93m0\u001b[93m0\u001b[93m0\u001b[93m0\u001b[93m0\u001b[93m0\u001b[93m0\u001b[93m0\u001b[93m0\u001b[93m0\u001b[93m0\u001b[93m0\u001b[93m0\u001b[93m0\u001b[93m0\u001b[93m0\u001b[93m0\u001b[93m0\u001b[93m0\u001b[93m0\u001b[93m0\u001b[93m0\u001b[93m0\u001b[93m0\u001b[93m0\u001b[93m0\u001b[93m0\u001b[93m0\u001b[93m0\u001b[93m0\u001b[93m0\u001b[93m0\u001b[93m0\u001b[93m0\u001b[93m0\u001b[93m0\u001b[93m0\u001b[93m0\u001b[93m0\u001b[96m0\u001b[96m0\u001b[96m0\u001b[96m0\u001b[96m0\u001b[96m0\u001b[96m0\u001b[96m0\u001b[96m0\u001b[96m0\u001b[96m0\u001b[96m0\u001b[96m0\u001b[96m0\u001b[96m0\u001b[96m0\u001b[96m0\u001b[96m0\u001b[96m0\u001b[96m0\u001b[96m0\u001b[96m0\u001b[96m0\u001b[96m0\u001b[96m0\u001b[96m0\u001b[96m0\u001b[96m0\u001b[96m0\u001b[96m0\u001b[96m0\u001b[96m0\u001b[96m0\u001b[96m0\u001b[96m0\u001b[96m0\u001b[96m0\u001b[96m0\u001b[96m0\u001b[96m0\u001b[96m0\u001b[96m0\u001b[96m0\u001b[96m0\u001b[96m0\u001b[96m0\u001b[96m0\u001b[96m0\u001b[96m0\u001b[96m0\u001b[96m0\u001b[96m0\u001b[96m0\u001b[96m0\u001b[96m0\u001b[96m0\u001b[96m0\u001b[94m1\u001b[94m1\u001b[94m0\u001b[94m0\u001b[94m0\u001b[94m0\u001b[94m0\n",
      "\u001b[95m▉ Message\n",
      "\u001b[91m▉ Padding flag\n",
      "\u001b[93m▉ Padding\n",
      "\u001b[96m▉ Reserved bits for mesage length\n",
      "\u001b[94m▉ Message length\n"
     ]
    }
   ],
   "source": [
    "def padding(message):\n",
    "\n",
    "    p_message = message.to01()\n",
    "    blocks = len(message) // 512 +1 # Number of block the message is gonna take\n",
    "\n",
    "    if (len(message) % 512 >= (512 - 65)):\n",
    "        blocks += 1\n",
    "\n",
    "    p_message += '1' # Padding flag\n",
    "\n",
    "    # Same result as the commented loop\n",
    "    p_message += '0'*(blocks*512 - 64 - len(p_message))\n",
    "    #for _ in range(len(p_message), blocks*512 - 64):\n",
    "    #    p_message += '0'\n",
    "\n",
    "    # Last 64 bits with message length\n",
    "    bin_len_message = bin(len(message))[2:]\n",
    "    len_bin_len_message = len(bin_len_message)\n",
    "    p_message += '0'*(64-len_bin_len_message) + bin_len_message\n",
    "\n",
    "    return bitarray(p_message)\n",
    "\n",
    "\n",
    "\n",
    "p_message = padding(message)\n",
    "\n",
    "print(f\"Padding message size: {len(p_message)} bits\")\n",
    "print(\"Message:\")\n",
    "\n",
    "colors = {'Message':'\\033[95m', 'Padding flag':'\\033[91m', 'Padding':'\\033[93m', 'Length':'\\033[96m', 'Message Length':'\\033[94m'}\n",
    "\n",
    "for i, bit in enumerate(p_message.to01()):\n",
    "    if i >= len(p_message) - len(bin(len(message))[2:]):\n",
    "        color = colors['Message Length']\n",
    "    elif i >= len(p_message) - 64:\n",
    "        color = colors['Length']\n",
    "    elif i >= len(message) + 1:\n",
    "        color = colors['Padding']\n",
    "    elif i >= len(message):\n",
    "        color = colors['Padding flag']\n",
    "    else:\n",
    "        color = colors['Message']\n",
    "    print(color+bit, end=\"\")\n",
    "\n",
    "print(f\"\\n{colors['Message']}\\u2589 {'Message'}\")\n",
    "print(f\"{colors['Padding flag']}\\u2589 {'Padding flag'}\")\n",
    "print(f\"{colors['Padding']}\\u2589 {'Padding'}\")\n",
    "print(f\"{colors['Length']}\\u2589 {'Reserved bits for mesage length'}\")\n",
    "print(f\"{colors['Message Length']}\\u2589 {'Message length'}\")\n",
    "\n",
    "del color, colors, bit, i"
   ]
  },
  {
   "cell_type": "markdown",
   "metadata": {},
   "source": [
    "<a ID='Message-Schedule'></a>\n",
    "### Message Schedule\n",
    "\n",
    "<a ID=\"Block-Iterator\"></a>\n",
    "#### Block Iterator\n",
    "Iterates over the chunks \"blocks\" of data of the padding message."
   ]
  },
  {
   "cell_type": "code",
   "execution_count": 22,
   "metadata": {},
   "outputs": [],
   "source": [
    "def blck_iter(message):\n",
    "    N_blck = len(message) // 512\n",
    "    for blck in range(N_blck):\n",
    "        yield message[blck*512:(blck+1)*512]"
   ]
  },
  {
   "cell_type": "markdown",
   "metadata": {},
   "source": [
    "<a ID=\"Word-Iterator\"></a>\n",
    "#### Word Iterator\n",
    "Iterates over words (32 bit chuncks) of the block."
   ]
  },
  {
   "cell_type": "code",
   "execution_count": 23,
   "metadata": {},
   "outputs": [],
   "source": [
    "def word_iter(block):\n",
    "    N_words = len(block) // 32\n",
    "    for word in range(N_words):\n",
    "        yield block[word*32:(word+1)*32]"
   ]
  },
  {
   "cell_type": "markdown",
   "metadata": {},
   "source": [
    "<a ID='Initializing-message-schedule'></a>\n",
    "#### Initializing message schedule\n",
    "Creates a list of 16 words of 32 bits each, from the block data."
   ]
  },
  {
   "cell_type": "code",
   "execution_count": 24,
   "metadata": {},
   "outputs": [
    {
     "name": "stdout",
     "output_type": "stream",
     "text": [
      "  W1: 01001000011001010110110001101100\n",
      "  W2: 01101111001000000101011101101111\n",
      "  W3: 01110010011011000110010000100001\n",
      "  W4: 10000000000000000000000000000000\n",
      "  W5: 00000000000000000000000000000000\n",
      "  W6: 00000000000000000000000000000000\n",
      "  W7: 00000000000000000000000000000000\n",
      "  W8: 00000000000000000000000000000000\n",
      "  W9: 00000000000000000000000000000000\n",
      " W10: 00000000000000000000000000000000\n",
      " W11: 00000000000000000000000000000000\n",
      " W12: 00000000000000000000000000000000\n",
      " W13: 00000000000000000000000000000000\n",
      " W14: 00000000000000000000000000000000\n",
      " W15: 00000000000000000000000000000000\n",
      " W16: 00000000000000000000000001100000\n"
     ]
    }
   ],
   "source": [
    "\n",
    "def init_message_schedule(message):\n",
    "\n",
    "    words = []\n",
    "\n",
    "    for i in blck_iter(message):\n",
    "        words = []\n",
    "        for j in word_iter(i):\n",
    "            words.append(j)\n",
    "        yield words\n",
    "\n",
    "word_list = next(init_message_schedule(p_message))\n",
    "\n",
    "for i, w in enumerate(word_list):\n",
    "    print(\"{:>4}: {}\".format(\"W\"+str(i+1), w.to01()))\n",
    "\n",
    "del i, w"
   ]
  },
  {
   "cell_type": "markdown",
   "metadata": {},
   "source": [
    "<a ID='Extending-message-schedule'></a>\n",
    "#### Extending message schedule\n",
    "\n",
    "Compute the following formula for the remaining 48 words, for a total of 64 (48 + 16 = 64). <br></br>\n",
    "$Wx = σ1(W(x-2)) + W(x-7) + σ0(W(x-15)) + W(x-16)$"
   ]
  },
  {
   "cell_type": "code",
   "execution_count": 25,
   "metadata": {},
   "outputs": [
    {
     "name": "stdout",
     "output_type": "stream",
     "text": [
      " W49: 00101000010011000001010111100011 —————→ 00101000010011000001010111100011\n",
      " W50: 01100000100110100111100100010101 — σ0 → 10111000100101110010001111110110\n",
      " W51: 00101110010011110010110010011011 \n",
      " W52: 00111100111101010110101001101111 \n",
      " W53: 00101111111000100011111111011010 \n",
      " W54: 10111010110110111100001001000000 \n",
      " W55: 11111100111000011110000010011110 \n",
      " W56: 00100101011000010000011010011001 \n",
      " W57: 10001010111000101101111000001001 —————→ 10001010111000101101111000001001\n",
      " W58: 00001101100101110101010101110011 \n",
      " W59: 11010000101011001011001011101101 \n",
      " W60: 01111001010011101000000001100111 \n",
      " W61: 01111111010111101000110101100100 \n",
      " W62: 10100000011110010111000001000111 — σ1 → 10010110000000110011101001101111\n",
      " W63: 10111111101001110000111111010111 \n",
      " W64: 01000110110000011000010010000010 ←————— σ1(W62) + W57 + σ0(W50) + W49\n"
     ]
    }
   ],
   "source": [
    "def extend_message_schedule(words):\n",
    "    for i in range(64-16):\n",
    "        N = len(words)\n",
    "        a = words[N-16].copy()\n",
    "        b = sigma0(*[words[N-15].copy() for _ in range(3)]) # Weird unpaking to match args\n",
    "        c = words[N-7].copy()\n",
    "        d = sigma1(*[words[N-2].copy() for _ in range(3)]) # Weird unpaking to match args\n",
    "        words.append(add(add(a, b), add(c, d)))\n",
    "    return words\n",
    "    \n",
    "    \n",
    "if(len(word_list) < 64):\n",
    "    # To refresh extended word list you must first rerun the aboce cell\n",
    "    word_list = extend_message_schedule(word_list.copy())\n",
    "\n",
    "\n",
    "for i in range(16, len(word_list)-15):\n",
    "\n",
    "    for j in range(i, i + 16):\n",
    "        if (j == i):\n",
    "            right_side = f\"\\u2014\"*5+f\"\\u2192 {word_list[j].to01()}\"\n",
    "        elif( j == i + 1):\n",
    "            right_side = f\"\\u2014 \\u03C30 \\u2192 {sigma0(*[word_list[j].copy() for _ in range(3)]).to01()}\"\n",
    "        elif( j == i + 8):\n",
    "            right_side = f\"\\u2014\"*5+f\"\\u2192 {word_list[j].to01()}\"\n",
    "        elif( j == i + 13):\n",
    "            right_side = f\"\\u2014 \\u03C31 \\u2192 {sigma1(*[word_list[j].copy() for _ in range(3)]).to01()}\"\n",
    "        elif( j == i + 15):\n",
    "            right_side = \"\\u2190\"+\"\\u2014\"*5+f\" \\u03C31(W{i + 14}) + W{i + 9} + \\u03C30(W{i + 2}) + W{i + 1}\"\n",
    "        else:\n",
    "            right_side = \"\"\n",
    "        print(\"{:>4}: {:>32} {}\".format(\"W\"+str(j+1), word_list[j].to01(), right_side))\n",
    "\n",
    "    sleep(0.3)\n",
    "    clear_output(wait=True)\n",
    "\n",
    "del i, j, right_side"
   ]
  },
  {
   "cell_type": "markdown",
   "metadata": {},
   "source": [
    "<a ID='Compression'></a>\n",
    "### Compression\n",
    "<a ID='Initializing-stage-regs'></a>\n",
    "#### Initializing stage registers\n",
    "Initializing stage registers with the 32 first bits of the fractional part of the 8 first primes square roots."
   ]
  },
  {
   "cell_type": "code",
   "execution_count": 26,
   "metadata": {},
   "outputs": [
    {
     "name": "stdout",
     "output_type": "stream",
     "text": [
      "   2 ⇾   √2 ⇾ 1.4142135623730951 ⇾  0.41421356237309515 ⇾ 01101010000010011110011001100111  \n",
      "   3 ⇾   √3 ⇾ 1.7320508075688772 ⇾   0.7320508075688772 ⇾ 10111011011001111010111010000101  \n",
      "   5 ⇾   √5 ⇾   2.23606797749979 ⇾   0.2360679774997898 ⇾ 00111100011011101111001101110010  \n",
      "   7 ⇾   √7 ⇾ 2.6457513110645907 ⇾   0.6457513110645907 ⇾ 10100101010011111111010100111010  \n",
      "  11 ⇾  √11 ⇾    3.3166247903554 ⇾   0.3166247903553998 ⇾ 01010001000011100101001001111111  \n",
      "  13 ⇾  √13 ⇾  3.605551275463989 ⇾   0.6055512754639891 ⇾ 10011011000001010110100010001100  \n",
      "  17 ⇾  √17 ⇾  4.123105625617661 ⇾  0.12310562561766059 ⇾ 00011111100000111101100110101011  \n",
      "  19 ⇾  √19 ⇾  4.358898943540674 ⇾    0.358898943540674 ⇾ 01011011111000001100110100011001  \n"
     ]
    }
   ],
   "source": [
    "def init_stage_registers():\n",
    "    regs = [2, 3, 5, 7, 11, 13, 17, 19]\n",
    "    for i in range(len(regs)):\n",
    "        aux = bin(int((sqrt(regs[i])%1)*2**32))[2:]\n",
    "        regs[i] = bitarray(\"0\"*(32-len(aux))+aux)\n",
    "    return regs\n",
    "\n",
    "stage_reg = init_stage_registers()\n",
    "\n",
    "for i, p in zip([2, 3, 5, 7, 11, 13, 17, 19], stage_reg):\n",
    "    print(\"{:>4} \\u21FE {:>4} \\u21FE {:>18} \\u21FE {:>20} \\u21FE {:>32}  \".format(i, \"\\u221A\"+str(i), sqrt(i), sqrt(i)%1, p.to01()))\n",
    "    #print(\"{:>2} {}\".format(i, p.to01()))\n",
    "\n",
    "del i, p"
   ]
  },
  {
   "cell_type": "markdown",
   "metadata": {},
   "source": [
    "<a ID=\"Block-Compression\"></a>\n",
    "#### Block compression\n",
    "\n",
    "For the compression step we take our stage or working register we had previusly initialize, the first word from our schedule, the first K constant, and solve the following operations:\n",
    "\n",
    "$T1 = Σ1(e) + Choice(e, f, g) + h + Ki + Wi$<br>\n",
    "$T2 = Σ0(a) + Majority(a, b, c)$\n",
    "<div class=\"alert alert-block alert-info\">\n",
    "<b>Tip:</b> 'i' is the index in our word schelu array and K array.\n",
    "</div>\n",
    "\n",
    "Then we shift each of the 8 registers moving the last one out of the array and populating the first one with ( $T1 + T2$ ). We also update 5th register by adding $T1$ to it and repeat this two steps for each Word and (K) constant pair."
   ]
  },
  {
   "cell_type": "code",
   "execution_count": 27,
   "metadata": {},
   "outputs": [
    {
     "name": "stdout",
     "output_type": "stream",
     "text": [
      "W64: 01000110110000011000010010000010\n",
      "K64: 11000110011100010111100011110010\n",
      "\n",
      "T1: 00111010011110110111000110111100 = Σ1(e) + Choice(e, f, g) + h + K64 + W64\n",
      "T2: 11011010111111100101100101000010 = Σ0(a) + Majority(a, b, c)\n",
      "\n",
      "   a = 00010101011110011100101011111110 ←— T2 + T1\n",
      "   b = 11000100100010100100110111001110 \n",
      "   c = 01111100101111101100111000001111 \n",
      "   d = 10100011010100011110000100100011 \n",
      "   e = 10101011000111101111100010100000 ←— e + T1\n",
      "   f = 00001000110100010000111010011100 \n",
      "   g = 00101011010110011111100001010101 \n",
      "   h = 10110110100011001100001101010000 \n",
      "\n"
     ]
    }
   ],
   "source": [
    "def block_compress(stage_reg, word_list, K, animation=False):\n",
    "\n",
    "    working_stage_reg = stage_reg\n",
    "\n",
    "    temp1 = bitarray(endian='big')\n",
    "    temp2 = bitarray(endian='big')\n",
    "\n",
    "    for i in range(64):\n",
    "        temp1 = add( add( add( Sigma1(*[working_stage_reg[4].copy() for _ in range(3)]), choice(working_stage_reg[4].copy(), working_stage_reg[5].copy(), working_stage_reg[6].copy())), add( working_stage_reg[7].copy(), K[i])), word_list[i])\n",
    "        temp2 = add(Sigma0(*[working_stage_reg[0].copy() for _ in range(3)]), majority(working_stage_reg[0].copy(), working_stage_reg[1].copy(), working_stage_reg[2].copy()))\n",
    "        top = working_stage_reg[0].copy()\n",
    "        working_stage_reg.insert(0, add(temp1, temp2))\n",
    "        trash = working_stage_reg.pop()\n",
    "        working_stage_reg[4] = add(working_stage_reg[4], temp1)\n",
    "\n",
    "        if animation:\n",
    "            for scene in range(3):\n",
    "                print(\"W{}: {}\".format(i+1, word_list[i].to01()))\n",
    "                print(\"K{}: {}\\n\".format(i+1, K[i].to01()))\n",
    "\n",
    "                print(\"T1: {:>32} = {}\".format(temp1.to01(), \"\\u03A31(e) + Choice(e, f, g) + h + K\"+str(i+1)+\" + W\"+str(i+1)))\n",
    "                print(\"T2: {:>32} = {}\\n\".format(temp2.to01(), \"\\u03A30(a) + Majority(a, b, c)\"))\n",
    "\n",
    "                if(scene == 0):\n",
    "                    right_side = \"\\u2193\"\n",
    "                    print(\"{:>4} = {:>32} {}\".format(chr(97), top.to01(), right_side))\n",
    "                    for j, reg in enumerate(working_stage_reg[:-1]):\n",
    "                        print(\"{:>4} = {:>32} {}\".format(chr(j+97+1), reg.to01(), right_side))\n",
    "                    print(\"\")\n",
    "                elif(scene == 1):\n",
    "                    for j, reg in enumerate(working_stage_reg):\n",
    "                        if( j == 0):\n",
    "                            reg = \"...\"\n",
    "                            right_side = \"\"\n",
    "                            print(\"{:>4} = {:<32} {}\".format(chr(j+97), reg, right_side))\n",
    "                        else:\n",
    "                            right_side = \"\"\n",
    "                            print(\"{:>4} = {:>32} {}\".format(chr(j+97), reg.to01(), right_side))\n",
    "                    print(\"{:>4} {:>32} {}\".format(\"\\U0001F6AE\", trash.to01(), right_side))\n",
    "                elif(scene == 2):\n",
    "                    for j, reg in enumerate(working_stage_reg):\n",
    "                        if( j == 0):\n",
    "                            right_side = \"\\u2190\"+\"\\u2014 T2 + T1\"\n",
    "                        elif( j == 4):\n",
    "                            right_side = \"\\u2190\"+\"\\u2014 e + T1\"\n",
    "                        else:\n",
    "                            right_side = \"\"\n",
    "                        print(\"{:>4} = {:>32} {}\".format(chr(j+97), reg.to01(), right_side))\n",
    "                    print(\"\")\n",
    "\n",
    "                if i < 12:\n",
    "                    sleep(0.5)\n",
    "                else:\n",
    "                    sleep(0.05)\n",
    "                clear_output(wait=True)\n",
    "    \n",
    "    return working_stage_reg\n",
    "\n",
    "stage_reg = block_compress(stage_reg.copy(), word_list, K, True)\n"
   ]
  },
  {
   "cell_type": "markdown",
   "metadata": {},
   "source": [
    "<a ID=\"Sum-UP\"></a>\n",
    "### Sum UP\n",
    "\n",
    "As the final step we add the stage or working registers with the values of the initial registers, and encode this to hexadecimal. Then concatenate the hexadecimal values from first to last on a sigle string, and we have our hash digest."
   ]
  },
  {
   "cell_type": "code",
   "execution_count": 28,
   "metadata": {},
   "outputs": [
    {
     "name": "stdout",
     "output_type": "stream",
     "text": [
      "  HEX                  Results                       Initial reg values              Final compression values    \n",
      "-----------------------------------------------------------------------------------------------------------------\n",
      "7f83b165 ← 01111111100000111011000101100101 = 01101010000010011110011001100111 + 00010101011110011100101011111110\n",
      "7ff1fc53 ← 01111111111100011111110001010011 = 10111011011001111010111010000101 + 11000100100010100100110111001110\n",
      "b92dc181 ← 10111001001011011100000110000001 = 00111100011011101111001101110010 + 01111100101111101100111000001111\n",
      "48a1d65d ← 01001000101000011101011001011101 = 10100101010011111111010100111010 + 10100011010100011110000100100011\n",
      "fc2d4b1f ← 11111100001011010100101100011111 = 01010001000011100101001001111111 + 10101011000111101111100010100000\n",
      "a3d67728 ← 10100011110101100111011100101000 = 10011011000001010110100010001100 + 00001000110100010000111010011100\n",
      "4addd200 ← 01001010110111011101001000000000 = 00011111100000111101100110101011 + 00101011010110011111100001010101\n",
      "126d9069 ← 00010010011011011001000001101001 = 01011011111000001100110100011001 + 10110110100011001100001101010000\n",
      "\n",
      "\t┏━━━━━━━━━━━━━━━━━━━━━━━━━━━━━━━━━━━━━━━━━━━━━━━━━━━━━━━━━━━━━━━━━━━━━━━━━━┓\n",
      "\t┃ Digest: 7f83b1657ff1fc53b92dc18148a1d65dfc2d4b1fa3d677284addd200126d9069 ┃\n",
      "\t┗━━━━━━━━━━━━━━━━━━━━━━━━━━━━━━━━━━━━━━━━━━━━━━━━━━━━━━━━━━━━━━━━━━━━━━━━━━┛\n"
     ]
    }
   ],
   "source": [
    "\n",
    "def sum_up(stage_reg, animation = False):\n",
    "    result = []\n",
    "    hexa = []\n",
    "    if animation:\n",
    "        print(\"{:8}   {:32}   {:32}   {:32}\".format(\"HEX\".center(8), \"Results\".center(32), \"Initial reg values\".center(32), \"Final compression values\".center(32)))\n",
    "        print(\"-\"*113)\n",
    "    for init_reg, temp_reg in zip(init_stage_registers(), stage_reg):\n",
    "        result.append(add(init_reg, temp_reg))\n",
    "        hexa.append(util.ba2hex(result[-1]))\n",
    "        if animation:\n",
    "            print(\"{} \\u2190 {} = {} + {}\".format(hexa[-1], result[-1].to01(), init_reg.to01(), temp_reg.to01()))\n",
    "    return \"\".join(hexa)\n",
    "        \n",
    "\n",
    "digest = sum_up(stage_reg, True)\n",
    "\n",
    "print(\"\\n\\t\\u250F\"+\"\\u2501\"*74+\"\\u2513\")\n",
    "print(\"\\t\\u2503 Digest: \"+digest+\" \\u2503\")\n",
    "print(\"\\t\\u2517\"+\"\\u2501\"*74+\"\\u251B\")"
   ]
  },
  {
   "cell_type": "markdown",
   "metadata": {},
   "source": [
    "***\n",
    "<a ID=\"Checking-Result\"></a>\n",
    "## Checking the result\n",
    "\n",
    "Checking the result of our hashing fuction against the SHA-256 build in hashlib module."
   ]
  },
  {
   "cell_type": "code",
   "execution_count": 29,
   "metadata": {},
   "outputs": [
    {
     "name": "stdout",
     "output_type": "stream",
     "text": [
      "   Type                              Our digest                                                     Hashlib digest                         \n",
      "-------------------------------------------------------------------------------------------------------------------------------------------------\n",
      "  \"Correct\"   \u001b[92m7\u001b[92mf\u001b[92m8\u001b[92m3\u001b[92mb\u001b[92m1\u001b[92m6\u001b[92m5\u001b[92m7\u001b[92mf\u001b[92mf\u001b[92m1\u001b[92mf\u001b[92mc\u001b[92m5\u001b[92m3\u001b[92mb\u001b[92m9\u001b[92m2\u001b[92md\u001b[92mc\u001b[92m1\u001b[92m8\u001b[92m1\u001b[92m4\u001b[92m8\u001b[92ma\u001b[92m1\u001b[92md\u001b[92m6\u001b[92m5\u001b[92md\u001b[92mf\u001b[92mc\u001b[92m2\u001b[92md\u001b[92m4\u001b[92mb\u001b[92m1\u001b[92mf\u001b[92ma\u001b[92m3\u001b[92md\u001b[92m6\u001b[92m7\u001b[92m7\u001b[92m2\u001b[92m8\u001b[92m4\u001b[92ma\u001b[92md\u001b[92md\u001b[92md\u001b[92m2\u001b[92m0\u001b[92m0\u001b[92m1\u001b[92m2\u001b[92m6\u001b[92md\u001b[92m9\u001b[92m0\u001b[92m6\u001b[92m9 \u001b[92m7\u001b[92mf\u001b[92m8\u001b[92m3\u001b[92mb\u001b[92m1\u001b[92m6\u001b[92m5\u001b[92m7\u001b[92mf\u001b[92mf\u001b[92m1\u001b[92mf\u001b[92mc\u001b[92m5\u001b[92m3\u001b[92mb\u001b[92m9\u001b[92m2\u001b[92md\u001b[92mc\u001b[92m1\u001b[92m8\u001b[92m1\u001b[92m4\u001b[92m8\u001b[92ma\u001b[92m1\u001b[92md\u001b[92m6\u001b[92m5\u001b[92md\u001b[92mf\u001b[92mc\u001b[92m2\u001b[92md\u001b[92m4\u001b[92mb\u001b[92m1\u001b[92mf\u001b[92ma\u001b[92m3\u001b[92md\u001b[92m6\u001b[92m7\u001b[92m7\u001b[92m2\u001b[92m8\u001b[92m4\u001b[92ma\u001b[92md\u001b[92md\u001b[92md\u001b[92m2\u001b[92m0\u001b[92m0\u001b[92m1\u001b[92m2\u001b[92m6\u001b[92md\u001b[92m9\u001b[92m0\u001b[92m6\u001b[92m9 ✅\u001b[0m\n",
      "  \"Wrong\"     \u001b[91m7\u001b[91mf\u001b[91m8\u001b[92m3\u001b[91mb\u001b[91m1\u001b[91m6\u001b[91m5\u001b[91m7\u001b[91mf\u001b[91mf\u001b[91m1\u001b[91mf\u001b[91mc\u001b[91m5\u001b[91m3\u001b[91mb\u001b[91m9\u001b[91m2\u001b[92md\u001b[91mc\u001b[92m1\u001b[91m8\u001b[91m1\u001b[91m4\u001b[91m8\u001b[91ma\u001b[91m1\u001b[91md\u001b[91m6\u001b[91m5\u001b[91md\u001b[92mf\u001b[91mc\u001b[91m2\u001b[91md\u001b[91m4\u001b[91mb\u001b[91m1\u001b[91mf\u001b[91ma\u001b[91m3\u001b[91md\u001b[91m6\u001b[91m7\u001b[91m7\u001b[91m2\u001b[92m8\u001b[91m4\u001b[91ma\u001b[91md\u001b[91md\u001b[92md\u001b[91m2\u001b[91m0\u001b[91m0\u001b[91m1\u001b[91m2\u001b[91m6\u001b[91md\u001b[91m9\u001b[91m0\u001b[91m6\u001b[91m9 \u001b[91me\u001b[91m2\u001b[91me\u001b[92m3\u001b[91m0\u001b[91m5\u001b[91m0\u001b[91md\u001b[91m0\u001b[91m5\u001b[91m7\u001b[91me\u001b[91m0\u001b[91m5\u001b[91m3\u001b[91m1\u001b[91m9\u001b[91m3\u001b[91mc\u001b[92md\u001b[91ma\u001b[92m1\u001b[91mc\u001b[91m4\u001b[91mf\u001b[91mf\u001b[91m4\u001b[91m6\u001b[91m1\u001b[91m2\u001b[91m4\u001b[91m6\u001b[92mf\u001b[91m3\u001b[91m3\u001b[91ma\u001b[91m2\u001b[91m4\u001b[91mc\u001b[91ma\u001b[91mb\u001b[91m1\u001b[91m6\u001b[91me\u001b[91mb\u001b[91m6\u001b[91m9\u001b[92m8\u001b[91m3\u001b[91m4\u001b[91m7\u001b[91ma\u001b[92md\u001b[91m9\u001b[91m3\u001b[91m4\u001b[91mf\u001b[91m5\u001b[91mb\u001b[91m0\u001b[91md\u001b[91m3\u001b[91md\u001b[91ma ❌\u001b[0m\n"
     ]
    }
   ],
   "source": [
    "def compare_digests(digest1, digest2):\n",
    "    printout1 = \"\"\n",
    "    printout2 = \"\"\n",
    "    for i, j in zip(digest1, digest2):\n",
    "        if i != j:\n",
    "            color = \"\\033[91m\"\n",
    "        else:\n",
    "            color = \"\\033[92m\"\n",
    "        printout1 += color+i\n",
    "        printout2 += color+j\n",
    "    check = \"\\u2705\" if digest1 == digest2 else \"\\u274C\"\n",
    "    \n",
    "    print(printout1+\" \"+printout2+\" \"+check+\"\\033[0m\")\n",
    "\n",
    "print(f\"{'Type'.center(9)} {'Our digest'.center(64)} {'Hashlib digest'.center(64)}\\n\"+\"-\"*145)\n",
    "print(f\"  \\\"Correct\\\"   \", end=\"\")\n",
    "compare_digests(digest, sha256(string.encode('ascii')).hexdigest())\n",
    "print(\"  \\\"Wrong\\\"     \", end=\"\")\n",
    "compare_digests(digest, sha256(b\"Hello Kitty!\").hexdigest()) # Wrong on purpose, to see different output\n"
   ]
  },
  {
   "cell_type": "markdown",
   "metadata": {},
   "source": [
    "<a ID=\"Consolidating-Operations\"></a>\n",
    "## Consolidating operations\n",
    "\n",
    "All the diferent parts and steps putted tougether in a single fucntion that can handle more than one block hashes."
   ]
  },
  {
   "cell_type": "code",
   "execution_count": 30,
   "metadata": {},
   "outputs": [],
   "source": [
    "def diy_sha256(data):\n",
    "    message = bitarray(endian='big')\n",
    "    message.frombytes(data)\n",
    "    message = padding(message)\n",
    "    #print(message)\n",
    "    virgin_stage_registers = init_stage_registers()\n",
    "    m_schedule = init_message_schedule(message)\n",
    "    working_stage_registers = init_stage_registers()#virgin_stage_registers\n",
    "    \n",
    "    #print(virgin_stage_registers)\n",
    "    for i, word_batch in enumerate(m_schedule):\n",
    "        \n",
    "        \n",
    "        #print(working_stage_registers)\n",
    "        word_batch = extend_message_schedule(word_batch.copy())\n",
    "        working_stage_registers = block_compress(working_stage_registers, word_batch, K)\n",
    "\n",
    "        for n in range(8):\n",
    "            working_stage_registers[n] = add(virgin_stage_registers[n], working_stage_registers[n])\n",
    "\n",
    "        virgin_stage_registers = working_stage_registers.copy()\n",
    "    \n",
    "    hex_regs = []\n",
    "    for i in working_stage_registers:\n",
    "        hex_regs.append(util.ba2hex(i))\n",
    "\n",
    "    #print(hex_regs)\n",
    "    \n",
    "    return \"\".join(hex_regs) #sum_up(working_stage_registers)\n",
    "    \n"
   ]
  },
  {
   "cell_type": "markdown",
   "metadata": {},
   "source": [
    "<a ID=\"Testing\"></a>\n",
    "## Testing\n",
    "\n",
    "<a ID=\"Simple-test\"></a>\n",
    "#### Simple test\n",
    "\n",
    "Uses a word list to check for a couple of diferent inputs.\n",
    "\n",
    "<div class=\"alert alert-block alert-warning\">\n",
    "<b>Tip:</b> The file \"BIP-0039_english.txt\" must be in the same directory as the notebook.\n",
    "</div>"
   ]
  },
  {
   "cell_type": "code",
   "execution_count": 31,
   "metadata": {},
   "outputs": [
    {
     "name": "stdout",
     "output_type": "stream",
     "text": [
      "   N       Input                            Our digest                                                     Hashlib digest                         \n",
      "------------------------------------------------------------------------------------------------------------------------------------------------------\n",
      "   0      abandon \u001b[92md\u001b[92mf\u001b[92m8\u001b[92m6\u001b[92m4\u001b[92mc\u001b[92m0\u001b[92m5\u001b[92m9\u001b[92m6\u001b[92ma\u001b[92ma\u001b[92m1\u001b[92ma\u001b[92m4\u001b[92m3\u001b[92m2\u001b[92m2\u001b[92m0\u001b[92m5\u001b[92mc\u001b[92mc\u001b[92mf\u001b[92mb\u001b[92m6\u001b[92me\u001b[92m6\u001b[92m5\u001b[92m9\u001b[92mf\u001b[92m6\u001b[92mc\u001b[92mb\u001b[92md\u001b[92m0\u001b[92mf\u001b[92m5\u001b[92m5\u001b[92m3\u001b[92m5\u001b[92mb\u001b[92m3\u001b[92m5\u001b[92m8\u001b[92ma\u001b[92md\u001b[92m1\u001b[92mf\u001b[92m0\u001b[92md\u001b[92ma\u001b[92me\u001b[92m2\u001b[92m4\u001b[92mb\u001b[92m5\u001b[92m0\u001b[92m0\u001b[92m2\u001b[92mb\u001b[92m4\u001b[92m8\u001b[92m9\u001b[92m4 \u001b[92md\u001b[92mf\u001b[92m8\u001b[92m6\u001b[92m4\u001b[92mc\u001b[92m0\u001b[92m5\u001b[92m9\u001b[92m6\u001b[92ma\u001b[92ma\u001b[92m1\u001b[92ma\u001b[92m4\u001b[92m3\u001b[92m2\u001b[92m2\u001b[92m0\u001b[92m5\u001b[92mc\u001b[92mc\u001b[92mf\u001b[92mb\u001b[92m6\u001b[92me\u001b[92m6\u001b[92m5\u001b[92m9\u001b[92mf\u001b[92m6\u001b[92mc\u001b[92mb\u001b[92md\u001b[92m0\u001b[92mf\u001b[92m5\u001b[92m5\u001b[92m3\u001b[92m5\u001b[92mb\u001b[92m3\u001b[92m5\u001b[92m8\u001b[92ma\u001b[92md\u001b[92m1\u001b[92mf\u001b[92m0\u001b[92md\u001b[92ma\u001b[92me\u001b[92m2\u001b[92m4\u001b[92mb\u001b[92m5\u001b[92m0\u001b[92m0\u001b[92m2\u001b[92mb\u001b[92m4\u001b[92m8\u001b[92m9\u001b[92m4 ✅\u001b[0m\n",
      "  85        apple \u001b[92m3\u001b[92ma\u001b[92m7\u001b[92mb\u001b[92md\u001b[92m3\u001b[92me\u001b[92m2\u001b[92m3\u001b[92m6\u001b[92m0\u001b[92ma\u001b[92m3\u001b[92md\u001b[92m2\u001b[92m9\u001b[92me\u001b[92me\u001b[92ma\u001b[92m4\u001b[92m3\u001b[92m6\u001b[92mf\u001b[92mc\u001b[92mf\u001b[92mb\u001b[92m7\u001b[92me\u001b[92m4\u001b[92m4\u001b[92mc\u001b[92m7\u001b[92m3\u001b[92m5\u001b[92md\u001b[92m1\u001b[92m1\u001b[92m7\u001b[92mc\u001b[92m4\u001b[92m2\u001b[92md\u001b[92m1\u001b[92mc\u001b[92m1\u001b[92m8\u001b[92m3\u001b[92m5\u001b[92m4\u001b[92m2\u001b[92m0\u001b[92mb\u001b[92m6\u001b[92mb\u001b[92m9\u001b[92m9\u001b[92m4\u001b[92m2\u001b[92md\u001b[92md\u001b[92m4\u001b[92mf\u001b[92m1\u001b[92mb \u001b[92m3\u001b[92ma\u001b[92m7\u001b[92mb\u001b[92md\u001b[92m3\u001b[92me\u001b[92m2\u001b[92m3\u001b[92m6\u001b[92m0\u001b[92ma\u001b[92m3\u001b[92md\u001b[92m2\u001b[92m9\u001b[92me\u001b[92me\u001b[92ma\u001b[92m4\u001b[92m3\u001b[92m6\u001b[92mf\u001b[92mc\u001b[92mf\u001b[92mb\u001b[92m7\u001b[92me\u001b[92m4\u001b[92m4\u001b[92mc\u001b[92m7\u001b[92m3\u001b[92m5\u001b[92md\u001b[92m1\u001b[92m1\u001b[92m7\u001b[92mc\u001b[92m4\u001b[92m2\u001b[92md\u001b[92m1\u001b[92mc\u001b[92m1\u001b[92m8\u001b[92m3\u001b[92m5\u001b[92m4\u001b[92m2\u001b[92m0\u001b[92mb\u001b[92m6\u001b[92mb\u001b[92m9\u001b[92m9\u001b[92m4\u001b[92m2\u001b[92md\u001b[92md\u001b[92m4\u001b[92mf\u001b[92m1\u001b[92mb ✅\u001b[0m\n",
      " 170         best \u001b[92m8\u001b[92mf\u001b[92m4\u001b[92m3\u001b[92m7\u001b[92m5\u001b[92me\u001b[92mc\u001b[92m6\u001b[92m5\u001b[92mc\u001b[92m2\u001b[92mc\u001b[92m4\u001b[92m0\u001b[92m9\u001b[92m2\u001b[92ma\u001b[92m1\u001b[92mc\u001b[92mc\u001b[92m2\u001b[92m1\u001b[92me\u001b[92m7\u001b[92m6\u001b[92m7\u001b[92m1\u001b[92m2\u001b[92m4\u001b[92m7\u001b[92m2\u001b[92me\u001b[92ma\u001b[92me\u001b[92m0\u001b[92md\u001b[92me\u001b[92m9\u001b[92m9\u001b[92m9\u001b[92m3\u001b[92m8\u001b[92m4\u001b[92me\u001b[92m8\u001b[92m3\u001b[92m2\u001b[92m7\u001b[92mc\u001b[92m4\u001b[92m9\u001b[92m5\u001b[92m9\u001b[92m5\u001b[92m7\u001b[92m1\u001b[92m2\u001b[92m1\u001b[92md\u001b[92mb\u001b[92m9\u001b[92mc\u001b[92m2 \u001b[92m8\u001b[92mf\u001b[92m4\u001b[92m3\u001b[92m7\u001b[92m5\u001b[92me\u001b[92mc\u001b[92m6\u001b[92m5\u001b[92mc\u001b[92m2\u001b[92mc\u001b[92m4\u001b[92m0\u001b[92m9\u001b[92m2\u001b[92ma\u001b[92m1\u001b[92mc\u001b[92mc\u001b[92m2\u001b[92m1\u001b[92me\u001b[92m7\u001b[92m6\u001b[92m7\u001b[92m1\u001b[92m2\u001b[92m4\u001b[92m7\u001b[92m2\u001b[92me\u001b[92ma\u001b[92me\u001b[92m0\u001b[92md\u001b[92me\u001b[92m9\u001b[92m9\u001b[92m9\u001b[92m3\u001b[92m8\u001b[92m4\u001b[92me\u001b[92m8\u001b[92m3\u001b[92m2\u001b[92m7\u001b[92mc\u001b[92m4\u001b[92m9\u001b[92m5\u001b[92m9\u001b[92m5\u001b[92m7\u001b[92m1\u001b[92m2\u001b[92m1\u001b[92md\u001b[92mb\u001b[92m9\u001b[92mc\u001b[92m2 ✅\u001b[0m\n",
      " 255        cable \u001b[92m7\u001b[92md\u001b[92m6\u001b[92me\u001b[92m1\u001b[92m8\u001b[92md\u001b[92m0\u001b[92mf\u001b[92mf\u001b[92m4\u001b[92mb\u001b[92me\u001b[92md\u001b[92m3\u001b[92mb\u001b[92m1\u001b[92md\u001b[92m1\u001b[92mf\u001b[92m3\u001b[92ma\u001b[92mf\u001b[92mc\u001b[92m8\u001b[92m2\u001b[92mf\u001b[92mf\u001b[92ma\u001b[92m1\u001b[92m2\u001b[92m4\u001b[92mf\u001b[92m8\u001b[92m3\u001b[92mf\u001b[92mf\u001b[92m2\u001b[92mb\u001b[92m4\u001b[92m3\u001b[92mc\u001b[92m8\u001b[92m3\u001b[92mb\u001b[92mf\u001b[92m1\u001b[92m4\u001b[92ma\u001b[92m6\u001b[92m9\u001b[92m5\u001b[92m6\u001b[92m2\u001b[92mc\u001b[92m8\u001b[92me\u001b[92m2\u001b[92m2\u001b[92mf\u001b[92m0\u001b[92mb\u001b[92m2\u001b[92mc \u001b[92m7\u001b[92md\u001b[92m6\u001b[92me\u001b[92m1\u001b[92m8\u001b[92md\u001b[92m0\u001b[92mf\u001b[92mf\u001b[92m4\u001b[92mb\u001b[92me\u001b[92md\u001b[92m3\u001b[92mb\u001b[92m1\u001b[92md\u001b[92m1\u001b[92mf\u001b[92m3\u001b[92ma\u001b[92mf\u001b[92mc\u001b[92m8\u001b[92m2\u001b[92mf\u001b[92mf\u001b[92ma\u001b[92m1\u001b[92m2\u001b[92m4\u001b[92mf\u001b[92m8\u001b[92m3\u001b[92mf\u001b[92mf\u001b[92m2\u001b[92mb\u001b[92m4\u001b[92m3\u001b[92mc\u001b[92m8\u001b[92m3\u001b[92mb\u001b[92mf\u001b[92m1\u001b[92m4\u001b[92ma\u001b[92m6\u001b[92m9\u001b[92m5\u001b[92m6\u001b[92m2\u001b[92mc\u001b[92m8\u001b[92me\u001b[92m2\u001b[92m2\u001b[92mf\u001b[92m0\u001b[92mb\u001b[92m2\u001b[92mc ✅\u001b[0m\n",
      " 340       clever \u001b[92m0\u001b[92me\u001b[92m8\u001b[92m9\u001b[92m5\u001b[92mc\u001b[92m3\u001b[92m2\u001b[92m3\u001b[92mc\u001b[92mc\u001b[92m7\u001b[92m8\u001b[92m6\u001b[92me\u001b[92m1\u001b[92m7\u001b[92m5\u001b[92m4\u001b[92m7\u001b[92m1\u001b[92m2\u001b[92m5\u001b[92ma\u001b[92m4\u001b[92m5\u001b[92m4\u001b[92m8\u001b[92m6\u001b[92m8\u001b[92m0\u001b[92m9\u001b[92m9\u001b[92m0\u001b[92md\u001b[92m2\u001b[92m2\u001b[92me\u001b[92me\u001b[92m9\u001b[92m4\u001b[92m5\u001b[92m9\u001b[92m5\u001b[92m6\u001b[92m1\u001b[92m8\u001b[92m0\u001b[92m4\u001b[92md\u001b[92mf\u001b[92mc\u001b[92m6\u001b[92mf\u001b[92m4\u001b[92m1\u001b[92m3\u001b[92md\u001b[92m3\u001b[92m0\u001b[92m6\u001b[92m1\u001b[92m8\u001b[92ma \u001b[92m0\u001b[92me\u001b[92m8\u001b[92m9\u001b[92m5\u001b[92mc\u001b[92m3\u001b[92m2\u001b[92m3\u001b[92mc\u001b[92mc\u001b[92m7\u001b[92m8\u001b[92m6\u001b[92me\u001b[92m1\u001b[92m7\u001b[92m5\u001b[92m4\u001b[92m7\u001b[92m1\u001b[92m2\u001b[92m5\u001b[92ma\u001b[92m4\u001b[92m5\u001b[92m4\u001b[92m8\u001b[92m6\u001b[92m8\u001b[92m0\u001b[92m9\u001b[92m9\u001b[92m0\u001b[92md\u001b[92m2\u001b[92m2\u001b[92me\u001b[92me\u001b[92m9\u001b[92m4\u001b[92m5\u001b[92m9\u001b[92m5\u001b[92m6\u001b[92m1\u001b[92m8\u001b[92m0\u001b[92m4\u001b[92md\u001b[92mf\u001b[92mc\u001b[92m6\u001b[92mf\u001b[92m4\u001b[92m1\u001b[92m3\u001b[92md\u001b[92m3\u001b[92m0\u001b[92m6\u001b[92m1\u001b[92m8\u001b[92ma ✅\u001b[0m\n",
      " 425          cry \u001b[92m5\u001b[92m8\u001b[92ma\u001b[92m6\u001b[92m9\u001b[92mb\u001b[92m8\u001b[92mb\u001b[92mb\u001b[92m1\u001b[92mf\u001b[92m5\u001b[92me\u001b[92m6\u001b[92m6\u001b[92m6\u001b[92mc\u001b[92m3\u001b[92m5\u001b[92m4\u001b[92ma\u001b[92m4\u001b[92mb\u001b[92m8\u001b[92m7\u001b[92m5\u001b[92m3\u001b[92ma\u001b[92me\u001b[92m0\u001b[92m6\u001b[92mc\u001b[92m8\u001b[92me\u001b[92m6\u001b[92ma\u001b[92m5\u001b[92m9\u001b[92me\u001b[92m6\u001b[92mc\u001b[92m2\u001b[92m2\u001b[92mf\u001b[92ma\u001b[92mf\u001b[92me\u001b[92m1\u001b[92md\u001b[92m9\u001b[92m2\u001b[92m8\u001b[92m2\u001b[92mb\u001b[92m8\u001b[92ma\u001b[92m9\u001b[92m5\u001b[92m0\u001b[92m1\u001b[92m0\u001b[92mb\u001b[92m3\u001b[92m2 \u001b[92m5\u001b[92m8\u001b[92ma\u001b[92m6\u001b[92m9\u001b[92mb\u001b[92m8\u001b[92mb\u001b[92mb\u001b[92m1\u001b[92mf\u001b[92m5\u001b[92me\u001b[92m6\u001b[92m6\u001b[92m6\u001b[92mc\u001b[92m3\u001b[92m5\u001b[92m4\u001b[92ma\u001b[92m4\u001b[92mb\u001b[92m8\u001b[92m7\u001b[92m5\u001b[92m3\u001b[92ma\u001b[92me\u001b[92m0\u001b[92m6\u001b[92mc\u001b[92m8\u001b[92me\u001b[92m6\u001b[92ma\u001b[92m5\u001b[92m9\u001b[92me\u001b[92m6\u001b[92mc\u001b[92m2\u001b[92m2\u001b[92mf\u001b[92ma\u001b[92mf\u001b[92me\u001b[92m1\u001b[92md\u001b[92m9\u001b[92m2\u001b[92m8\u001b[92m2\u001b[92mb\u001b[92m8\u001b[92ma\u001b[92m9\u001b[92m5\u001b[92m0\u001b[92m1\u001b[92m0\u001b[92mb\u001b[92m3\u001b[92m2 ✅\u001b[0m\n",
      " 510       divert \u001b[92m3\u001b[92me\u001b[92md\u001b[92ma\u001b[92mb\u001b[92m1\u001b[92mf\u001b[92mf\u001b[92m7\u001b[92me\u001b[92mb\u001b[92m6\u001b[92mb\u001b[92mf\u001b[92m3\u001b[92m3\u001b[92mf\u001b[92m1\u001b[92m0\u001b[92m8\u001b[92me\u001b[92m9\u001b[92ma\u001b[92mc\u001b[92m1\u001b[92ma\u001b[92m0\u001b[92m8\u001b[92me\u001b[92mb\u001b[92m1\u001b[92m6\u001b[92mc\u001b[92m9\u001b[92m5\u001b[92m4\u001b[92mb\u001b[92m8\u001b[92m8\u001b[92ma\u001b[92m8\u001b[92m4\u001b[92m4\u001b[92me\u001b[92m3\u001b[92m1\u001b[92m1\u001b[92m9\u001b[92ma\u001b[92md\u001b[92mf\u001b[92m5\u001b[92m9\u001b[92m5\u001b[92m0\u001b[92mb\u001b[92m4\u001b[92m4\u001b[92m0\u001b[92m1\u001b[92m4\u001b[92me\u001b[92mb\u001b[92m6 \u001b[92m3\u001b[92me\u001b[92md\u001b[92ma\u001b[92mb\u001b[92m1\u001b[92mf\u001b[92mf\u001b[92m7\u001b[92me\u001b[92mb\u001b[92m6\u001b[92mb\u001b[92mf\u001b[92m3\u001b[92m3\u001b[92mf\u001b[92m1\u001b[92m0\u001b[92m8\u001b[92me\u001b[92m9\u001b[92ma\u001b[92mc\u001b[92m1\u001b[92ma\u001b[92m0\u001b[92m8\u001b[92me\u001b[92mb\u001b[92m1\u001b[92m6\u001b[92mc\u001b[92m9\u001b[92m5\u001b[92m4\u001b[92mb\u001b[92m8\u001b[92m8\u001b[92ma\u001b[92m8\u001b[92m4\u001b[92m4\u001b[92me\u001b[92m3\u001b[92m1\u001b[92m1\u001b[92m9\u001b[92ma\u001b[92md\u001b[92mf\u001b[92m5\u001b[92m9\u001b[92m5\u001b[92m0\u001b[92mb\u001b[92m4\u001b[92m4\u001b[92m0\u001b[92m1\u001b[92m4\u001b[92me\u001b[92mb\u001b[92m6 ✅\u001b[0m\n",
      " 595       engine \u001b[92me\u001b[92md\u001b[92m9\u001b[92mf\u001b[92m6\u001b[92mf\u001b[92m2\u001b[92m5\u001b[92m0\u001b[92m6\u001b[92m8\u001b[92m6\u001b[92m0\u001b[92m8\u001b[92me\u001b[92mf\u001b[92md\u001b[92m4\u001b[92m1\u001b[92m2\u001b[92m9\u001b[92m5\u001b[92m8\u001b[92md\u001b[92ma\u001b[92m4\u001b[92md\u001b[92mf\u001b[92mc\u001b[92m1\u001b[92m9\u001b[92m3\u001b[92m2\u001b[92m8\u001b[92mc\u001b[92ma\u001b[92m3\u001b[92m5\u001b[92m1\u001b[92m1\u001b[92m2\u001b[92m5\u001b[92m1\u001b[92mf\u001b[92ma\u001b[92m6\u001b[92md\u001b[92m5\u001b[92mf\u001b[92m9\u001b[92mc\u001b[92m4\u001b[92m2\u001b[92mb\u001b[92ma\u001b[92mf\u001b[92m2\u001b[92m3\u001b[92m0\u001b[92me\u001b[92m3\u001b[92m2\u001b[92mf\u001b[92m8 \u001b[92me\u001b[92md\u001b[92m9\u001b[92mf\u001b[92m6\u001b[92mf\u001b[92m2\u001b[92m5\u001b[92m0\u001b[92m6\u001b[92m8\u001b[92m6\u001b[92m0\u001b[92m8\u001b[92me\u001b[92mf\u001b[92md\u001b[92m4\u001b[92m1\u001b[92m2\u001b[92m9\u001b[92m5\u001b[92m8\u001b[92md\u001b[92ma\u001b[92m4\u001b[92md\u001b[92mf\u001b[92mc\u001b[92m1\u001b[92m9\u001b[92m3\u001b[92m2\u001b[92m8\u001b[92mc\u001b[92ma\u001b[92m3\u001b[92m5\u001b[92m1\u001b[92m1\u001b[92m2\u001b[92m5\u001b[92m1\u001b[92mf\u001b[92ma\u001b[92m6\u001b[92md\u001b[92m5\u001b[92mf\u001b[92m9\u001b[92mc\u001b[92m4\u001b[92m2\u001b[92mb\u001b[92ma\u001b[92mf\u001b[92m2\u001b[92m3\u001b[92m0\u001b[92me\u001b[92m3\u001b[92m2\u001b[92mf\u001b[92m8 ✅\u001b[0m\n",
      " 680        fence \u001b[92m8\u001b[92m7\u001b[92m3\u001b[92m4\u001b[92m6\u001b[92me\u001b[92mb\u001b[92m2\u001b[92m8\u001b[92m2\u001b[92m3\u001b[92m5\u001b[92m2\u001b[92mf\u001b[92md\u001b[92ma\u001b[92m7\u001b[92m4\u001b[92ma\u001b[92md\u001b[92md\u001b[92md\u001b[92m2\u001b[92ma\u001b[92m9\u001b[92m8\u001b[92m8\u001b[92m2\u001b[92mf\u001b[92mb\u001b[92m0\u001b[92mc\u001b[92mf\u001b[92m5\u001b[92m5\u001b[92m7\u001b[92m3\u001b[92m6\u001b[92m6\u001b[92m0\u001b[92m4\u001b[92m4\u001b[92mf\u001b[92m1\u001b[92mf\u001b[92mb\u001b[92m5\u001b[92m6\u001b[92m5\u001b[92m7\u001b[92m9\u001b[92mc\u001b[92md\u001b[92ma\u001b[92mf\u001b[92m2\u001b[92m4\u001b[92mb\u001b[92mc\u001b[92mc\u001b[92m3\u001b[92m3\u001b[92mb\u001b[92m6 \u001b[92m8\u001b[92m7\u001b[92m3\u001b[92m4\u001b[92m6\u001b[92me\u001b[92mb\u001b[92m2\u001b[92m8\u001b[92m2\u001b[92m3\u001b[92m5\u001b[92m2\u001b[92mf\u001b[92md\u001b[92ma\u001b[92m7\u001b[92m4\u001b[92ma\u001b[92md\u001b[92md\u001b[92md\u001b[92m2\u001b[92ma\u001b[92m9\u001b[92m8\u001b[92m8\u001b[92m2\u001b[92mf\u001b[92mb\u001b[92m0\u001b[92mc\u001b[92mf\u001b[92m5\u001b[92m5\u001b[92m7\u001b[92m3\u001b[92m6\u001b[92m6\u001b[92m0\u001b[92m4\u001b[92m4\u001b[92mf\u001b[92m1\u001b[92mf\u001b[92mb\u001b[92m5\u001b[92m6\u001b[92m5\u001b[92m7\u001b[92m9\u001b[92mc\u001b[92md\u001b[92ma\u001b[92mf\u001b[92m2\u001b[92m4\u001b[92mb\u001b[92mc\u001b[92mc\u001b[92m3\u001b[92m3\u001b[92mb\u001b[92m6 ✅\u001b[0m\n",
      " 765       garden \u001b[92m2\u001b[92m3\u001b[92me\u001b[92me\u001b[92mb\u001b[92m6\u001b[92m9\u001b[92mc\u001b[92m6\u001b[92m8\u001b[92m1\u001b[92md\u001b[92mf\u001b[92md\u001b[92mb\u001b[92m8\u001b[92me\u001b[92ma\u001b[92mc\u001b[92mc\u001b[92m7\u001b[92mc\u001b[92me\u001b[92m9\u001b[92me\u001b[92m5\u001b[92m5\u001b[92me\u001b[92ma\u001b[92m0\u001b[92m0\u001b[92m7\u001b[92md\u001b[92m4\u001b[92m1\u001b[92mc\u001b[92m2\u001b[92md\u001b[92md\u001b[92m5\u001b[92m2\u001b[92m7\u001b[92m3\u001b[92m8\u001b[92m4\u001b[92m8\u001b[92mc\u001b[92m5\u001b[92m9\u001b[92m7\u001b[92mf\u001b[92m1\u001b[92mb\u001b[92m3\u001b[92me\u001b[92m4\u001b[92m9\u001b[92md\u001b[92mb\u001b[92md\u001b[92m8\u001b[92m6\u001b[92me\u001b[92m1 \u001b[92m2\u001b[92m3\u001b[92me\u001b[92me\u001b[92mb\u001b[92m6\u001b[92m9\u001b[92mc\u001b[92m6\u001b[92m8\u001b[92m1\u001b[92md\u001b[92mf\u001b[92md\u001b[92mb\u001b[92m8\u001b[92me\u001b[92ma\u001b[92mc\u001b[92mc\u001b[92m7\u001b[92mc\u001b[92me\u001b[92m9\u001b[92me\u001b[92m5\u001b[92m5\u001b[92me\u001b[92ma\u001b[92m0\u001b[92m0\u001b[92m7\u001b[92md\u001b[92m4\u001b[92m1\u001b[92mc\u001b[92m2\u001b[92md\u001b[92md\u001b[92m5\u001b[92m2\u001b[92m7\u001b[92m3\u001b[92m8\u001b[92m4\u001b[92m8\u001b[92mc\u001b[92m5\u001b[92m9\u001b[92m7\u001b[92mf\u001b[92m1\u001b[92mb\u001b[92m3\u001b[92me\u001b[92m4\u001b[92m9\u001b[92md\u001b[92mb\u001b[92md\u001b[92m8\u001b[92m6\u001b[92me\u001b[92m1 ✅\u001b[0m\n",
      " 850        heart \u001b[92m3\u001b[92mc\u001b[92mb\u001b[92m9\u001b[92m6\u001b[92m8\u001b[92ma\u001b[92m9\u001b[92m8\u001b[92m2\u001b[92m0\u001b[92m8\u001b[92m0\u001b[92mb\u001b[92me\u001b[92m1\u001b[92md\u001b[92m7\u001b[92ma\u001b[92m5\u001b[92md\u001b[92mf\u001b[92m9\u001b[92m8\u001b[92md\u001b[92mc\u001b[92m4\u001b[92m9\u001b[92m6\u001b[92m7\u001b[92m3\u001b[92ma\u001b[92m8\u001b[92mc\u001b[92m0\u001b[92m5\u001b[92m2\u001b[92md\u001b[92m2\u001b[92m6\u001b[92m4\u001b[92m2\u001b[92me\u001b[92mf\u001b[92m7\u001b[92m7\u001b[92m3\u001b[92m0\u001b[92mb\u001b[92m7\u001b[92m7\u001b[92m5\u001b[92m3\u001b[92mc\u001b[92me\u001b[92me\u001b[92m5\u001b[92mb\u001b[92m8\u001b[92m7\u001b[92mc\u001b[92m3\u001b[92md\u001b[92md \u001b[92m3\u001b[92mc\u001b[92mb\u001b[92m9\u001b[92m6\u001b[92m8\u001b[92ma\u001b[92m9\u001b[92m8\u001b[92m2\u001b[92m0\u001b[92m8\u001b[92m0\u001b[92mb\u001b[92me\u001b[92m1\u001b[92md\u001b[92m7\u001b[92ma\u001b[92m5\u001b[92md\u001b[92mf\u001b[92m9\u001b[92m8\u001b[92md\u001b[92mc\u001b[92m4\u001b[92m9\u001b[92m6\u001b[92m7\u001b[92m3\u001b[92ma\u001b[92m8\u001b[92mc\u001b[92m0\u001b[92m5\u001b[92m2\u001b[92md\u001b[92m2\u001b[92m6\u001b[92m4\u001b[92m2\u001b[92me\u001b[92mf\u001b[92m7\u001b[92m7\u001b[92m3\u001b[92m0\u001b[92mb\u001b[92m7\u001b[92m7\u001b[92m5\u001b[92m3\u001b[92mc\u001b[92me\u001b[92me\u001b[92m5\u001b[92mb\u001b[92m8\u001b[92m7\u001b[92mc\u001b[92m3\u001b[92md\u001b[92md ✅\u001b[0m\n",
      " 935       insane \u001b[92m8\u001b[92me\u001b[92ma\u001b[92m7\u001b[92m4\u001b[92m8\u001b[92mb\u001b[92m0\u001b[92m9\u001b[92mb\u001b[92m1\u001b[92m1\u001b[92m7\u001b[92me\u001b[92m6\u001b[92mc\u001b[92mc\u001b[92m6\u001b[92m9\u001b[92m1\u001b[92m9\u001b[92m0\u001b[92m8\u001b[92m3\u001b[92ma\u001b[92me\u001b[92m6\u001b[92m8\u001b[92m0\u001b[92m8\u001b[92m8\u001b[92m7\u001b[92m3\u001b[92m2\u001b[92m4\u001b[92m1\u001b[92m6\u001b[92m8\u001b[92mb\u001b[92me\u001b[92m8\u001b[92me\u001b[92m8\u001b[92m2\u001b[92m5\u001b[92m6\u001b[92m5\u001b[92mf\u001b[92mf\u001b[92m0\u001b[92m9\u001b[92m4\u001b[92m3\u001b[92m0\u001b[92m2\u001b[92mb\u001b[92m0\u001b[92mc\u001b[92m2\u001b[92m6\u001b[92m0\u001b[92mc\u001b[92mb\u001b[92m6 \u001b[92m8\u001b[92me\u001b[92ma\u001b[92m7\u001b[92m4\u001b[92m8\u001b[92mb\u001b[92m0\u001b[92m9\u001b[92mb\u001b[92m1\u001b[92m1\u001b[92m7\u001b[92me\u001b[92m6\u001b[92mc\u001b[92mc\u001b[92m6\u001b[92m9\u001b[92m1\u001b[92m9\u001b[92m0\u001b[92m8\u001b[92m3\u001b[92ma\u001b[92me\u001b[92m6\u001b[92m8\u001b[92m0\u001b[92m8\u001b[92m8\u001b[92m7\u001b[92m3\u001b[92m2\u001b[92m4\u001b[92m1\u001b[92m6\u001b[92m8\u001b[92mb\u001b[92me\u001b[92m8\u001b[92me\u001b[92m8\u001b[92m2\u001b[92m5\u001b[92m6\u001b[92m5\u001b[92mf\u001b[92mf\u001b[92m0\u001b[92m9\u001b[92m4\u001b[92m3\u001b[92m0\u001b[92m2\u001b[92mb\u001b[92m0\u001b[92mc\u001b[92m2\u001b[92m6\u001b[92m0\u001b[92mc\u001b[92mb\u001b[92m6 ✅\u001b[0m\n",
      "1020       legend \u001b[92mb\u001b[92ma\u001b[92m2\u001b[92m9\u001b[92m2\u001b[92m9\u001b[92m7\u001b[92mb\u001b[92m6\u001b[92mc\u001b[92m4\u001b[92mf\u001b[92m8\u001b[92m4\u001b[92m8\u001b[92m6\u001b[92mc\u001b[92mb\u001b[92m3\u001b[92mf\u001b[92m9\u001b[92m2\u001b[92mf\u001b[92m5\u001b[92mf\u001b[92mf\u001b[92m0\u001b[92m9\u001b[92mf\u001b[92m9\u001b[92m3\u001b[92mc\u001b[92ma\u001b[92m5\u001b[92me\u001b[92m1\u001b[92m6\u001b[92mc\u001b[92me\u001b[92mb\u001b[92m1\u001b[92m9\u001b[92m8\u001b[92md\u001b[92m9\u001b[92mb\u001b[92m5\u001b[92me\u001b[92m1\u001b[92m5\u001b[92m9\u001b[92ma\u001b[92ma\u001b[92m0\u001b[92mc\u001b[92ma\u001b[92m4\u001b[92m7\u001b[92mf\u001b[92m9\u001b[92m4\u001b[92m0\u001b[92m3\u001b[92m3 \u001b[92mb\u001b[92ma\u001b[92m2\u001b[92m9\u001b[92m2\u001b[92m9\u001b[92m7\u001b[92mb\u001b[92m6\u001b[92mc\u001b[92m4\u001b[92mf\u001b[92m8\u001b[92m4\u001b[92m8\u001b[92m6\u001b[92mc\u001b[92mb\u001b[92m3\u001b[92mf\u001b[92m9\u001b[92m2\u001b[92mf\u001b[92m5\u001b[92mf\u001b[92mf\u001b[92m0\u001b[92m9\u001b[92mf\u001b[92m9\u001b[92m3\u001b[92mc\u001b[92ma\u001b[92m5\u001b[92me\u001b[92m1\u001b[92m6\u001b[92mc\u001b[92me\u001b[92mb\u001b[92m1\u001b[92m9\u001b[92m8\u001b[92md\u001b[92m9\u001b[92mb\u001b[92m5\u001b[92me\u001b[92m1\u001b[92m5\u001b[92m9\u001b[92ma\u001b[92ma\u001b[92m0\u001b[92mc\u001b[92ma\u001b[92m4\u001b[92m7\u001b[92mf\u001b[92m9\u001b[92m4\u001b[92m0\u001b[92m3\u001b[92m3 ✅\u001b[0m\n",
      "1105     mechanic \u001b[92m6\u001b[92mc\u001b[92m8\u001b[92ma\u001b[92m7\u001b[92m3\u001b[92m9\u001b[92m5\u001b[92m3\u001b[92m6\u001b[92m9\u001b[92m6\u001b[92m1\u001b[92mb\u001b[92mc\u001b[92mf\u001b[92m3\u001b[92m4\u001b[92md\u001b[92mc\u001b[92mc\u001b[92mc\u001b[92m3\u001b[92m4\u001b[92m3\u001b[92m9\u001b[92m0\u001b[92m8\u001b[92m4\u001b[92m0\u001b[92m6\u001b[92md\u001b[92m4\u001b[92m8\u001b[92m1\u001b[92m3\u001b[92m9\u001b[92m3\u001b[92m4\u001b[92m4\u001b[92md\u001b[92ma\u001b[92m4\u001b[92m7\u001b[92m5\u001b[92m4\u001b[92md\u001b[92m4\u001b[92mc\u001b[92mf\u001b[92me\u001b[92m4\u001b[92m3\u001b[92md\u001b[92mc\u001b[92mf\u001b[92m8\u001b[92md\u001b[92m6\u001b[92m6\u001b[92m2\u001b[92m6\u001b[92m0\u001b[92m7 \u001b[92m6\u001b[92mc\u001b[92m8\u001b[92ma\u001b[92m7\u001b[92m3\u001b[92m9\u001b[92m5\u001b[92m3\u001b[92m6\u001b[92m9\u001b[92m6\u001b[92m1\u001b[92mb\u001b[92mc\u001b[92mf\u001b[92m3\u001b[92m4\u001b[92md\u001b[92mc\u001b[92mc\u001b[92mc\u001b[92m3\u001b[92m4\u001b[92m3\u001b[92m9\u001b[92m0\u001b[92m8\u001b[92m4\u001b[92m0\u001b[92m6\u001b[92md\u001b[92m4\u001b[92m8\u001b[92m1\u001b[92m3\u001b[92m9\u001b[92m3\u001b[92m4\u001b[92m4\u001b[92md\u001b[92ma\u001b[92m4\u001b[92m7\u001b[92m5\u001b[92m4\u001b[92md\u001b[92m4\u001b[92mc\u001b[92mf\u001b[92me\u001b[92m4\u001b[92m3\u001b[92md\u001b[92mc\u001b[92mf\u001b[92m8\u001b[92md\u001b[92m6\u001b[92m6\u001b[92m2\u001b[92m6\u001b[92m0\u001b[92m7 ✅\u001b[0m\n",
      "1190      network \u001b[92m3\u001b[92m0\u001b[92m0\u001b[92m9\u001b[92mb\u001b[92me\u001b[92m7\u001b[92m6\u001b[92m9\u001b[92mf\u001b[92mb\u001b[92m8\u001b[92mf\u001b[92m9\u001b[92m5\u001b[92m6\u001b[92me\u001b[92m8\u001b[92m4\u001b[92m1\u001b[92m3\u001b[92me\u001b[92me\u001b[92m9\u001b[92mf\u001b[92m3\u001b[92me\u001b[92m0\u001b[92m8\u001b[92m3\u001b[92m6\u001b[92me\u001b[92m3\u001b[92m4\u001b[92m9\u001b[92m6\u001b[92m8\u001b[92mb\u001b[92mc\u001b[92m4\u001b[92m0\u001b[92m4\u001b[92m5\u001b[92m7\u001b[92md\u001b[92m0\u001b[92ma\u001b[92m1\u001b[92m0\u001b[92mc\u001b[92m5\u001b[92m4\u001b[92m9\u001b[92md\u001b[92m2\u001b[92me\u001b[92md\u001b[92mc\u001b[92mf\u001b[92m0\u001b[92m0\u001b[92mc\u001b[92mc\u001b[92m1 \u001b[92m3\u001b[92m0\u001b[92m0\u001b[92m9\u001b[92mb\u001b[92me\u001b[92m7\u001b[92m6\u001b[92m9\u001b[92mf\u001b[92mb\u001b[92m8\u001b[92mf\u001b[92m9\u001b[92m5\u001b[92m6\u001b[92me\u001b[92m8\u001b[92m4\u001b[92m1\u001b[92m3\u001b[92me\u001b[92me\u001b[92m9\u001b[92mf\u001b[92m3\u001b[92me\u001b[92m0\u001b[92m8\u001b[92m3\u001b[92m6\u001b[92me\u001b[92m3\u001b[92m4\u001b[92m9\u001b[92m6\u001b[92m8\u001b[92mb\u001b[92mc\u001b[92m4\u001b[92m0\u001b[92m4\u001b[92m5\u001b[92m7\u001b[92md\u001b[92m0\u001b[92ma\u001b[92m1\u001b[92m0\u001b[92mc\u001b[92m5\u001b[92m4\u001b[92m9\u001b[92md\u001b[92m2\u001b[92me\u001b[92md\u001b[92mc\u001b[92mf\u001b[92m0\u001b[92m0\u001b[92mc\u001b[92mc\u001b[92m1 ✅\u001b[0m\n",
      "1275        panda \u001b[92ma\u001b[92m7\u001b[92mc\u001b[92md\u001b[92mf\u001b[92m5\u001b[92md\u001b[92m0\u001b[92m5\u001b[92m8\u001b[92m6\u001b[92mb\u001b[92m3\u001b[92m9\u001b[92m2\u001b[92m4\u001b[92m7\u001b[92m3\u001b[92md\u001b[92md\u001b[92m0\u001b[92mc\u001b[92md\u001b[92m0\u001b[92m8\u001b[92mc\u001b[92m9\u001b[92mb\u001b[92ma\u001b[92m8\u001b[92m3\u001b[92m3\u001b[92m2\u001b[92m4\u001b[92m0\u001b[92m0\u001b[92m0\u001b[92m6\u001b[92ma\u001b[92m8\u001b[92ma\u001b[92m7\u001b[92m3\u001b[92m1\u001b[92m0\u001b[92mb\u001b[92mf\u001b[92m9\u001b[92mb\u001b[92mc\u001b[92m8\u001b[92mb\u001b[92mf\u001b[92m1\u001b[92ma\u001b[92me\u001b[92mf\u001b[92md\u001b[92mf\u001b[92ma\u001b[92me\u001b[92ma\u001b[92md\u001b[92mb \u001b[92ma\u001b[92m7\u001b[92mc\u001b[92md\u001b[92mf\u001b[92m5\u001b[92md\u001b[92m0\u001b[92m5\u001b[92m8\u001b[92m6\u001b[92mb\u001b[92m3\u001b[92m9\u001b[92m2\u001b[92m4\u001b[92m7\u001b[92m3\u001b[92md\u001b[92md\u001b[92m0\u001b[92mc\u001b[92md\u001b[92m0\u001b[92m8\u001b[92mc\u001b[92m9\u001b[92mb\u001b[92ma\u001b[92m8\u001b[92m3\u001b[92m3\u001b[92m2\u001b[92m4\u001b[92m0\u001b[92m0\u001b[92m0\u001b[92m6\u001b[92ma\u001b[92m8\u001b[92ma\u001b[92m7\u001b[92m3\u001b[92m1\u001b[92m0\u001b[92mb\u001b[92mf\u001b[92m9\u001b[92mb\u001b[92mc\u001b[92m8\u001b[92mb\u001b[92mf\u001b[92m1\u001b[92ma\u001b[92me\u001b[92mf\u001b[92md\u001b[92mf\u001b[92ma\u001b[92me\u001b[92ma\u001b[92md\u001b[92mb ✅\u001b[0m\n",
      "1360      present \u001b[92m4\u001b[92md\u001b[92m4\u001b[92mc\u001b[92m7\u001b[92me\u001b[92me\u001b[92me\u001b[92m2\u001b[92me\u001b[92m2\u001b[92m8\u001b[92md\u001b[92m0\u001b[92m3\u001b[92mc\u001b[92mb\u001b[92m2\u001b[92md\u001b[92mb\u001b[92mf\u001b[92m3\u001b[92md\u001b[92mf\u001b[92m6\u001b[92m3\u001b[92m9\u001b[92mc\u001b[92m3\u001b[92m2\u001b[92m9\u001b[92m0\u001b[92ma\u001b[92md\u001b[92me\u001b[92m6\u001b[92m6\u001b[92me\u001b[92m1\u001b[92m8\u001b[92m7\u001b[92m5\u001b[92m5\u001b[92me\u001b[92m8\u001b[92m3\u001b[92mc\u001b[92ma\u001b[92ma\u001b[92md\u001b[92me\u001b[92m2\u001b[92md\u001b[92m8\u001b[92mf\u001b[92m3\u001b[92m7\u001b[92mb\u001b[92md\u001b[92m8\u001b[92mc\u001b[92m0\u001b[92m4\u001b[92m4 \u001b[92m4\u001b[92md\u001b[92m4\u001b[92mc\u001b[92m7\u001b[92me\u001b[92me\u001b[92me\u001b[92m2\u001b[92me\u001b[92m2\u001b[92m8\u001b[92md\u001b[92m0\u001b[92m3\u001b[92mc\u001b[92mb\u001b[92m2\u001b[92md\u001b[92mb\u001b[92mf\u001b[92m3\u001b[92md\u001b[92mf\u001b[92m6\u001b[92m3\u001b[92m9\u001b[92mc\u001b[92m3\u001b[92m2\u001b[92m9\u001b[92m0\u001b[92ma\u001b[92md\u001b[92me\u001b[92m6\u001b[92m6\u001b[92me\u001b[92m1\u001b[92m8\u001b[92m7\u001b[92m5\u001b[92m5\u001b[92me\u001b[92m8\u001b[92m3\u001b[92mc\u001b[92ma\u001b[92ma\u001b[92md\u001b[92me\u001b[92m2\u001b[92md\u001b[92m8\u001b[92mf\u001b[92m3\u001b[92m7\u001b[92mb\u001b[92md\u001b[92m8\u001b[92mc\u001b[92m0\u001b[92m4\u001b[92m4 ✅\u001b[0m\n",
      "1445       regret \u001b[92md\u001b[92m5\u001b[92m2\u001b[92m5\u001b[92m9\u001b[92ma\u001b[92mc\u001b[92me\u001b[92mc\u001b[92m0\u001b[92md\u001b[92m8\u001b[92m0\u001b[92mc\u001b[92m4\u001b[92mf\u001b[92me\u001b[92m1\u001b[92m3\u001b[92m4\u001b[92m7\u001b[92mf\u001b[92mc\u001b[92m3\u001b[92ma\u001b[92ma\u001b[92m8\u001b[92m0\u001b[92m5\u001b[92m6\u001b[92m2\u001b[92m4\u001b[92mb\u001b[92m6\u001b[92mf\u001b[92m3\u001b[92m7\u001b[92ma\u001b[92m0\u001b[92m5\u001b[92m2\u001b[92md\u001b[92m2\u001b[92m4\u001b[92m0\u001b[92m1\u001b[92m8\u001b[92ma\u001b[92m8\u001b[92mc\u001b[92m3\u001b[92m8\u001b[92mf\u001b[92m3\u001b[92mc\u001b[92m2\u001b[92me\u001b[92m9\u001b[92m8\u001b[92m0\u001b[92m7\u001b[92md\u001b[92m2\u001b[92m1 \u001b[92md\u001b[92m5\u001b[92m2\u001b[92m5\u001b[92m9\u001b[92ma\u001b[92mc\u001b[92me\u001b[92mc\u001b[92m0\u001b[92md\u001b[92m8\u001b[92m0\u001b[92mc\u001b[92m4\u001b[92mf\u001b[92me\u001b[92m1\u001b[92m3\u001b[92m4\u001b[92m7\u001b[92mf\u001b[92mc\u001b[92m3\u001b[92ma\u001b[92ma\u001b[92m8\u001b[92m0\u001b[92m5\u001b[92m6\u001b[92m2\u001b[92m4\u001b[92mb\u001b[92m6\u001b[92mf\u001b[92m3\u001b[92m7\u001b[92ma\u001b[92m0\u001b[92m5\u001b[92m2\u001b[92md\u001b[92m2\u001b[92m4\u001b[92m0\u001b[92m1\u001b[92m8\u001b[92ma\u001b[92m8\u001b[92mc\u001b[92m3\u001b[92m8\u001b[92mf\u001b[92m3\u001b[92mc\u001b[92m2\u001b[92me\u001b[92m9\u001b[92m8\u001b[92m0\u001b[92m7\u001b[92md\u001b[92m2\u001b[92m1 ✅\u001b[0m\n",
      "1530      satisfy \u001b[92m7\u001b[92m6\u001b[92m8\u001b[92m8\u001b[92mb\u001b[92md\u001b[92m7\u001b[92mc\u001b[92m4\u001b[92m2\u001b[92m7\u001b[92m2\u001b[92m0\u001b[92m6\u001b[92mc\u001b[92mb\u001b[92me\u001b[92m6\u001b[92mc\u001b[92m6\u001b[92mf\u001b[92mf\u001b[92m0\u001b[92ma\u001b[92m7\u001b[92mf\u001b[92m2\u001b[92m3\u001b[92m5\u001b[92m1\u001b[92m5\u001b[92m5\u001b[92mf\u001b[92mb\u001b[92m6\u001b[92m5\u001b[92ma\u001b[92m5\u001b[92m6\u001b[92m2\u001b[92md\u001b[92m0\u001b[92m3\u001b[92md\u001b[92mb\u001b[92m6\u001b[92m8\u001b[92m8\u001b[92md\u001b[92m0\u001b[92m7\u001b[92me\u001b[92mc\u001b[92m9\u001b[92mc\u001b[92me\u001b[92m0\u001b[92m8\u001b[92m1\u001b[92mb\u001b[92m7\u001b[92m1\u001b[92mc\u001b[92mf \u001b[92m7\u001b[92m6\u001b[92m8\u001b[92m8\u001b[92mb\u001b[92md\u001b[92m7\u001b[92mc\u001b[92m4\u001b[92m2\u001b[92m7\u001b[92m2\u001b[92m0\u001b[92m6\u001b[92mc\u001b[92mb\u001b[92me\u001b[92m6\u001b[92mc\u001b[92m6\u001b[92mf\u001b[92mf\u001b[92m0\u001b[92ma\u001b[92m7\u001b[92mf\u001b[92m2\u001b[92m3\u001b[92m5\u001b[92m1\u001b[92m5\u001b[92m5\u001b[92mf\u001b[92mb\u001b[92m6\u001b[92m5\u001b[92ma\u001b[92m5\u001b[92m6\u001b[92m2\u001b[92md\u001b[92m0\u001b[92m3\u001b[92md\u001b[92mb\u001b[92m6\u001b[92m8\u001b[92m8\u001b[92md\u001b[92m0\u001b[92m7\u001b[92me\u001b[92mc\u001b[92m9\u001b[92mc\u001b[92me\u001b[92m0\u001b[92m8\u001b[92m1\u001b[92mb\u001b[92m7\u001b[92m1\u001b[92mc\u001b[92mf ✅\u001b[0m\n",
      "1615         size \u001b[92mc\u001b[92mc\u001b[92md\u001b[92mc\u001b[92mb\u001b[92me\u001b[92m8\u001b[92m4\u001b[92m6\u001b[92mf\u001b[92m3\u001b[92md\u001b[92ma\u001b[92m4\u001b[92me\u001b[92mb\u001b[92m0\u001b[92m4\u001b[92m4\u001b[92mf\u001b[92mb\u001b[92md\u001b[92mf\u001b[92m6\u001b[92m4\u001b[92mb\u001b[92mf\u001b[92m6\u001b[92mb\u001b[92m5\u001b[92m7\u001b[92m9\u001b[92m0\u001b[92m2\u001b[92m3\u001b[92m8\u001b[92m8\u001b[92ma\u001b[92mb\u001b[92m7\u001b[92m2\u001b[92mf\u001b[92mb\u001b[92m0\u001b[92mc\u001b[92m8\u001b[92m5\u001b[92m2\u001b[92mb\u001b[92ma\u001b[92m7\u001b[92m2\u001b[92m2\u001b[92m8\u001b[92m0\u001b[92mf\u001b[92m8\u001b[92md\u001b[92m4\u001b[92m7\u001b[92m8\u001b[92mb\u001b[92m4\u001b[92m0 \u001b[92mc\u001b[92mc\u001b[92md\u001b[92mc\u001b[92mb\u001b[92me\u001b[92m8\u001b[92m4\u001b[92m6\u001b[92mf\u001b[92m3\u001b[92md\u001b[92ma\u001b[92m4\u001b[92me\u001b[92mb\u001b[92m0\u001b[92m4\u001b[92m4\u001b[92mf\u001b[92mb\u001b[92md\u001b[92mf\u001b[92m6\u001b[92m4\u001b[92mb\u001b[92mf\u001b[92m6\u001b[92mb\u001b[92m5\u001b[92m7\u001b[92m9\u001b[92m0\u001b[92m2\u001b[92m3\u001b[92m8\u001b[92m8\u001b[92ma\u001b[92mb\u001b[92m7\u001b[92m2\u001b[92mf\u001b[92mb\u001b[92m0\u001b[92mc\u001b[92m8\u001b[92m5\u001b[92m2\u001b[92mb\u001b[92ma\u001b[92m7\u001b[92m2\u001b[92m2\u001b[92m8\u001b[92m0\u001b[92mf\u001b[92m8\u001b[92md\u001b[92m4\u001b[92m7\u001b[92m8\u001b[92mb\u001b[92m4\u001b[92m0 ✅\u001b[0m\n",
      "1700        stand \u001b[92md\u001b[92m3\u001b[92m7\u001b[92ma\u001b[92m2\u001b[92m4\u001b[92mb\u001b[92m8\u001b[92m0\u001b[92m1\u001b[92mc\u001b[92m6\u001b[92me\u001b[92m2\u001b[92me\u001b[92m3\u001b[92m3\u001b[92m8\u001b[92m2\u001b[92m4\u001b[92m3\u001b[92mb\u001b[92m7\u001b[92m3\u001b[92m6\u001b[92m1\u001b[92mc\u001b[92m5\u001b[92m9\u001b[92m8\u001b[92m5\u001b[92me\u001b[92m1\u001b[92md\u001b[92m8\u001b[92me\u001b[92m2\u001b[92m6\u001b[92mb\u001b[92mc\u001b[92mf\u001b[92m5\u001b[92m5\u001b[92m5\u001b[92m5\u001b[92md\u001b[92md\u001b[92m0\u001b[92m8\u001b[92mc\u001b[92md\u001b[92m8\u001b[92mc\u001b[92m9\u001b[92m6\u001b[92m9\u001b[92me\u001b[92m0\u001b[92m1\u001b[92me\u001b[92m1\u001b[92m6\u001b[92m7\u001b[92m0 \u001b[92md\u001b[92m3\u001b[92m7\u001b[92ma\u001b[92m2\u001b[92m4\u001b[92mb\u001b[92m8\u001b[92m0\u001b[92m1\u001b[92mc\u001b[92m6\u001b[92me\u001b[92m2\u001b[92me\u001b[92m3\u001b[92m3\u001b[92m8\u001b[92m2\u001b[92m4\u001b[92m3\u001b[92mb\u001b[92m7\u001b[92m3\u001b[92m6\u001b[92m1\u001b[92mc\u001b[92m5\u001b[92m9\u001b[92m8\u001b[92m5\u001b[92me\u001b[92m1\u001b[92md\u001b[92m8\u001b[92me\u001b[92m2\u001b[92m6\u001b[92mb\u001b[92mc\u001b[92mf\u001b[92m5\u001b[92m5\u001b[92m5\u001b[92m5\u001b[92md\u001b[92md\u001b[92m0\u001b[92m8\u001b[92mc\u001b[92md\u001b[92m8\u001b[92mc\u001b[92m9\u001b[92m6\u001b[92m9\u001b[92me\u001b[92m0\u001b[92m1\u001b[92me\u001b[92m1\u001b[92m6\u001b[92m7\u001b[92m0 ✅\u001b[0m\n",
      "1785       tennis \u001b[92mf\u001b[92m1\u001b[92m9\u001b[92m9\u001b[92m6\u001b[92ma\u001b[92m7\u001b[92mc\u001b[92md\u001b[92ma\u001b[92m4\u001b[92m8\u001b[92mb\u001b[92mc\u001b[92ma\u001b[92m0\u001b[92md\u001b[92mc\u001b[92m8\u001b[92m7\u001b[92mf\u001b[92m7\u001b[92m0\u001b[92m0\u001b[92mb\u001b[92m1\u001b[92m8\u001b[92m3\u001b[92m2\u001b[92m6\u001b[92m6\u001b[92me\u001b[92me\u001b[92md\u001b[92m3\u001b[92ma\u001b[92m7\u001b[92m7\u001b[92m0\u001b[92m3\u001b[92m3\u001b[92m0\u001b[92md\u001b[92m9\u001b[92m2\u001b[92m4\u001b[92mf\u001b[92mb\u001b[92m1\u001b[92m5\u001b[92m0\u001b[92m7\u001b[92mb\u001b[92m3\u001b[92m0\u001b[92m3\u001b[92m6\u001b[92me\u001b[92m3\u001b[92m7\u001b[92mb\u001b[92m0\u001b[92mf\u001b[92mf \u001b[92mf\u001b[92m1\u001b[92m9\u001b[92m9\u001b[92m6\u001b[92ma\u001b[92m7\u001b[92mc\u001b[92md\u001b[92ma\u001b[92m4\u001b[92m8\u001b[92mb\u001b[92mc\u001b[92ma\u001b[92m0\u001b[92md\u001b[92mc\u001b[92m8\u001b[92m7\u001b[92mf\u001b[92m7\u001b[92m0\u001b[92m0\u001b[92mb\u001b[92m1\u001b[92m8\u001b[92m3\u001b[92m2\u001b[92m6\u001b[92m6\u001b[92me\u001b[92me\u001b[92md\u001b[92m3\u001b[92ma\u001b[92m7\u001b[92m7\u001b[92m0\u001b[92m3\u001b[92m3\u001b[92m0\u001b[92md\u001b[92m9\u001b[92m2\u001b[92m4\u001b[92mf\u001b[92mb\u001b[92m1\u001b[92m5\u001b[92m0\u001b[92m7\u001b[92mb\u001b[92m3\u001b[92m0\u001b[92m3\u001b[92m6\u001b[92me\u001b[92m3\u001b[92m7\u001b[92mb\u001b[92m0\u001b[92mf\u001b[92mf ✅\u001b[0m\n",
      "1870        truth \u001b[92mc\u001b[92m5\u001b[92mc\u001b[92m4\u001b[92mb\u001b[92ma\u001b[92md\u001b[92m8\u001b[92m9\u001b[92me\u001b[92me\u001b[92m4\u001b[92m4\u001b[92mb\u001b[92m4\u001b[92md\u001b[92ma\u001b[92m0\u001b[92m3\u001b[92m2\u001b[92m1\u001b[92m3\u001b[92m4\u001b[92m4\u001b[92m9\u001b[92m6\u001b[92m4\u001b[92mf\u001b[92m1\u001b[92m4\u001b[92m5\u001b[92md\u001b[92md\u001b[92m3\u001b[92m0\u001b[92m2\u001b[92m3\u001b[92mf\u001b[92mc\u001b[92m1\u001b[92ma\u001b[92mb\u001b[92m0\u001b[92md\u001b[92m9\u001b[92mc\u001b[92m2\u001b[92m4\u001b[92m7\u001b[92m3\u001b[92me\u001b[92m2\u001b[92m7\u001b[92m1\u001b[92m6\u001b[92mb\u001b[92m7\u001b[92m8\u001b[92m8\u001b[92m4\u001b[92m8\u001b[92m1\u001b[92ma\u001b[92me \u001b[92mc\u001b[92m5\u001b[92mc\u001b[92m4\u001b[92mb\u001b[92ma\u001b[92md\u001b[92m8\u001b[92m9\u001b[92me\u001b[92me\u001b[92m4\u001b[92m4\u001b[92mb\u001b[92m4\u001b[92md\u001b[92ma\u001b[92m0\u001b[92m3\u001b[92m2\u001b[92m1\u001b[92m3\u001b[92m4\u001b[92m4\u001b[92m9\u001b[92m6\u001b[92m4\u001b[92mf\u001b[92m1\u001b[92m4\u001b[92m5\u001b[92md\u001b[92md\u001b[92m3\u001b[92m0\u001b[92m2\u001b[92m3\u001b[92mf\u001b[92mc\u001b[92m1\u001b[92ma\u001b[92mb\u001b[92m0\u001b[92md\u001b[92m9\u001b[92mc\u001b[92m2\u001b[92m4\u001b[92m7\u001b[92m3\u001b[92me\u001b[92m2\u001b[92m7\u001b[92m1\u001b[92m6\u001b[92mb\u001b[92m7\u001b[92m8\u001b[92m8\u001b[92m4\u001b[92m8\u001b[92m1\u001b[92ma\u001b[92me ✅\u001b[0m\n",
      "1955      virtual \u001b[92me\u001b[92m2\u001b[92me\u001b[92mf\u001b[92md\u001b[92md\u001b[92m7\u001b[92md\u001b[92mb\u001b[92m9\u001b[92m2\u001b[92m4\u001b[92mf\u001b[92m3\u001b[92m1\u001b[92md\u001b[92mc\u001b[92m8\u001b[92m1\u001b[92mb\u001b[92m6\u001b[92m5\u001b[92m9\u001b[92md\u001b[92mb\u001b[92m0\u001b[92m7\u001b[92me\u001b[92m6\u001b[92me\u001b[92mb\u001b[92ma\u001b[92m3\u001b[92m0\u001b[92m3\u001b[92m4\u001b[92m9\u001b[92m7\u001b[92mf\u001b[92m1\u001b[92m1\u001b[92m0\u001b[92ma\u001b[92mc\u001b[92mb\u001b[92me\u001b[92m8\u001b[92md\u001b[92md\u001b[92md\u001b[92mb\u001b[92m8\u001b[92mc\u001b[92m1\u001b[92m3\u001b[92mf\u001b[92m2\u001b[92me\u001b[92m3\u001b[92m7\u001b[92m8\u001b[92m6\u001b[92md\u001b[92m7 \u001b[92me\u001b[92m2\u001b[92me\u001b[92mf\u001b[92md\u001b[92md\u001b[92m7\u001b[92md\u001b[92mb\u001b[92m9\u001b[92m2\u001b[92m4\u001b[92mf\u001b[92m3\u001b[92m1\u001b[92md\u001b[92mc\u001b[92m8\u001b[92m1\u001b[92mb\u001b[92m6\u001b[92m5\u001b[92m9\u001b[92md\u001b[92mb\u001b[92m0\u001b[92m7\u001b[92me\u001b[92m6\u001b[92me\u001b[92mb\u001b[92ma\u001b[92m3\u001b[92m0\u001b[92m3\u001b[92m4\u001b[92m9\u001b[92m7\u001b[92mf\u001b[92m1\u001b[92m1\u001b[92m0\u001b[92ma\u001b[92mc\u001b[92mb\u001b[92me\u001b[92m8\u001b[92md\u001b[92md\u001b[92md\u001b[92mb\u001b[92m8\u001b[92mc\u001b[92m1\u001b[92m3\u001b[92mf\u001b[92m2\u001b[92me\u001b[92m3\u001b[92m7\u001b[92m8\u001b[92m6\u001b[92md\u001b[92m7 ✅\u001b[0m\n",
      "2040       yellow \u001b[92mc\u001b[92m6\u001b[92m8\u001b[92m5\u001b[92ma\u001b[92m2\u001b[92mc\u001b[92m9\u001b[92mb\u001b[92ma\u001b[92mb\u001b[92m2\u001b[92m3\u001b[92m5\u001b[92mc\u001b[92mc\u001b[92md\u001b[92md\u001b[92m2\u001b[92ma\u001b[92mb\u001b[92m0\u001b[92me\u001b[92ma\u001b[92m9\u001b[92m2\u001b[92m2\u001b[92m8\u001b[92m1\u001b[92ma\u001b[92m5\u001b[92m2\u001b[92m1\u001b[92mc\u001b[92m8\u001b[92ma\u001b[92ma\u001b[92mf\u001b[92m3\u001b[92m7\u001b[92m8\u001b[92m9\u001b[92m5\u001b[92m4\u001b[92m9\u001b[92m3\u001b[92md\u001b[92m0\u001b[92m8\u001b[92m0\u001b[92m0\u001b[92m7\u001b[92m0\u001b[92me\u001b[92ma\u001b[92m0\u001b[92m0\u001b[92mf\u001b[92mc\u001b[92m7\u001b[92mf\u001b[92m5\u001b[92md\u001b[92m7 \u001b[92mc\u001b[92m6\u001b[92m8\u001b[92m5\u001b[92ma\u001b[92m2\u001b[92mc\u001b[92m9\u001b[92mb\u001b[92ma\u001b[92mb\u001b[92m2\u001b[92m3\u001b[92m5\u001b[92mc\u001b[92mc\u001b[92md\u001b[92md\u001b[92m2\u001b[92ma\u001b[92mb\u001b[92m0\u001b[92me\u001b[92ma\u001b[92m9\u001b[92m2\u001b[92m2\u001b[92m8\u001b[92m1\u001b[92ma\u001b[92m5\u001b[92m2\u001b[92m1\u001b[92mc\u001b[92m8\u001b[92ma\u001b[92ma\u001b[92mf\u001b[92m3\u001b[92m7\u001b[92m8\u001b[92m9\u001b[92m5\u001b[92m4\u001b[92m9\u001b[92m3\u001b[92md\u001b[92m0\u001b[92m8\u001b[92m0\u001b[92m0\u001b[92m7\u001b[92m0\u001b[92me\u001b[92ma\u001b[92m0\u001b[92m0\u001b[92mf\u001b[92mc\u001b[92m7\u001b[92mf\u001b[92m5\u001b[92md\u001b[92m7 ✅\u001b[0m\n"
     ]
    }
   ],
   "source": [
    "print(f\"{'   N'}\"+\" \"*7+f\"{'Input'} {'Our digest'.center(64)} {'Hashlib digest'.center(64)}\\n\"+\"-\"*150)\n",
    "with open(\"BIP-0039_english.txt\", 'r') as file:\n",
    "    for i, item in enumerate(file):\n",
    "        if i % 85 == 0:\n",
    "            print(\"{:>4} {:>12} \".format(i,item.rstrip()), end=\"\")\n",
    "            binary_item = item.rstrip().encode('ascii')\n",
    "            compare_digests(diy_sha256(binary_item), sha256(binary_item).hexdigest())"
   ]
  },
  {
   "cell_type": "markdown",
   "metadata": {},
   "source": [
    "<a ID=\"Multiblock-Test\"></a>\n",
    "#### Multiblock test\n",
    "\n",
    "The following code increments the size of a string in each of its iterations to proof the algorith with different block sizes."
   ]
  },
  {
   "cell_type": "code",
   "execution_count": 32,
   "metadata": {},
   "outputs": [
    {
     "name": "stdout",
     "output_type": "stream",
     "text": [
      "Bits  Blcks                            Our digest                                                     Hashlib digest                         \n",
      "--------------------------------------------------------------------------------------------------------------------------------------------\n",
      "   0    0  \u001b[92me\u001b[92m3\u001b[92mb\u001b[92m0\u001b[92mc\u001b[92m4\u001b[92m4\u001b[92m2\u001b[92m9\u001b[92m8\u001b[92mf\u001b[92mc\u001b[92m1\u001b[92mc\u001b[92m1\u001b[92m4\u001b[92m9\u001b[92ma\u001b[92mf\u001b[92mb\u001b[92mf\u001b[92m4\u001b[92mc\u001b[92m8\u001b[92m9\u001b[92m9\u001b[92m6\u001b[92mf\u001b[92mb\u001b[92m9\u001b[92m2\u001b[92m4\u001b[92m2\u001b[92m7\u001b[92ma\u001b[92me\u001b[92m4\u001b[92m1\u001b[92me\u001b[92m4\u001b[92m6\u001b[92m4\u001b[92m9\u001b[92mb\u001b[92m9\u001b[92m3\u001b[92m4\u001b[92mc\u001b[92ma\u001b[92m4\u001b[92m9\u001b[92m5\u001b[92m9\u001b[92m9\u001b[92m1\u001b[92mb\u001b[92m7\u001b[92m8\u001b[92m5\u001b[92m2\u001b[92mb\u001b[92m8\u001b[92m5\u001b[92m5 \u001b[92me\u001b[92m3\u001b[92mb\u001b[92m0\u001b[92mc\u001b[92m4\u001b[92m4\u001b[92m2\u001b[92m9\u001b[92m8\u001b[92mf\u001b[92mc\u001b[92m1\u001b[92mc\u001b[92m1\u001b[92m4\u001b[92m9\u001b[92ma\u001b[92mf\u001b[92mb\u001b[92mf\u001b[92m4\u001b[92mc\u001b[92m8\u001b[92m9\u001b[92m9\u001b[92m6\u001b[92mf\u001b[92mb\u001b[92m9\u001b[92m2\u001b[92m4\u001b[92m2\u001b[92m7\u001b[92ma\u001b[92me\u001b[92m4\u001b[92m1\u001b[92me\u001b[92m4\u001b[92m6\u001b[92m4\u001b[92m9\u001b[92mb\u001b[92m9\u001b[92m3\u001b[92m4\u001b[92mc\u001b[92ma\u001b[92m4\u001b[92m9\u001b[92m5\u001b[92m9\u001b[92m9\u001b[92m1\u001b[92mb\u001b[92m7\u001b[92m8\u001b[92m5\u001b[92m2\u001b[92mb\u001b[92m8\u001b[92m5\u001b[92m5 ✅\u001b[0m\n",
      " 560    1  \u001b[92mf\u001b[92m8\u001b[92mf\u001b[92m3\u001b[92m4\u001b[92m0\u001b[92mb\u001b[92m6\u001b[92m8\u001b[92m8\u001b[92m7\u001b[92m9\u001b[92m5\u001b[92mf\u001b[92m5\u001b[92m0\u001b[92m9\u001b[92m1\u001b[92m3\u001b[92m9\u001b[92m3\u001b[92me\u001b[92mb\u001b[92ma\u001b[92m9\u001b[92m3\u001b[92md\u001b[92mf\u001b[92md\u001b[92m6\u001b[92m5\u001b[92m7\u001b[92m4\u001b[92mf\u001b[92m5\u001b[92m7\u001b[92m5\u001b[92m0\u001b[92m9\u001b[92m4\u001b[92md\u001b[92md\u001b[92mc\u001b[92mf\u001b[92mc\u001b[92mc\u001b[92m6\u001b[92me\u001b[92md\u001b[92m9\u001b[92m7\u001b[92ma\u001b[92m7\u001b[92m3\u001b[92m1\u001b[92m7\u001b[92ma\u001b[92m3\u001b[92m8\u001b[92md\u001b[92m8\u001b[92mf\u001b[92m9\u001b[92m2 \u001b[92mf\u001b[92m8\u001b[92mf\u001b[92m3\u001b[92m4\u001b[92m0\u001b[92mb\u001b[92m6\u001b[92m8\u001b[92m8\u001b[92m7\u001b[92m9\u001b[92m5\u001b[92mf\u001b[92m5\u001b[92m0\u001b[92m9\u001b[92m1\u001b[92m3\u001b[92m9\u001b[92m3\u001b[92me\u001b[92mb\u001b[92ma\u001b[92m9\u001b[92m3\u001b[92md\u001b[92mf\u001b[92md\u001b[92m6\u001b[92m5\u001b[92m7\u001b[92m4\u001b[92mf\u001b[92m5\u001b[92m7\u001b[92m5\u001b[92m0\u001b[92m9\u001b[92m4\u001b[92md\u001b[92md\u001b[92mc\u001b[92mf\u001b[92mc\u001b[92mc\u001b[92m6\u001b[92me\u001b[92md\u001b[92m9\u001b[92m7\u001b[92ma\u001b[92m7\u001b[92m3\u001b[92m1\u001b[92m7\u001b[92ma\u001b[92m3\u001b[92m8\u001b[92md\u001b[92m8\u001b[92mf\u001b[92m9\u001b[92m2 ✅\u001b[0m\n",
      "1120    2  \u001b[92md\u001b[92m1\u001b[92me\u001b[92m7\u001b[92m9\u001b[92md\u001b[92m1\u001b[92m0\u001b[92m1\u001b[92mb\u001b[92m8\u001b[92me\u001b[92m6\u001b[92m0\u001b[92md\u001b[92m9\u001b[92m0\u001b[92m6\u001b[92me\u001b[92m1\u001b[92mb\u001b[92m7\u001b[92me\u001b[92m6\u001b[92m0\u001b[92m4\u001b[92mb\u001b[92md\u001b[92m6\u001b[92m7\u001b[92me\u001b[92mb\u001b[92ma\u001b[92m0\u001b[92mf\u001b[92m8\u001b[92m1\u001b[92m8\u001b[92m5\u001b[92m4\u001b[92mc\u001b[92m7\u001b[92m1\u001b[92m9\u001b[92m1\u001b[92m4\u001b[92m1\u001b[92ma\u001b[92md\u001b[92me\u001b[92me\u001b[92md\u001b[92md\u001b[92mc\u001b[92mc\u001b[92m1\u001b[92m4\u001b[92me\u001b[92m9\u001b[92mb\u001b[92m2\u001b[92m0\u001b[92m4\u001b[92m7 \u001b[92md\u001b[92m1\u001b[92me\u001b[92m7\u001b[92m9\u001b[92md\u001b[92m1\u001b[92m0\u001b[92m1\u001b[92mb\u001b[92m8\u001b[92me\u001b[92m6\u001b[92m0\u001b[92md\u001b[92m9\u001b[92m0\u001b[92m6\u001b[92me\u001b[92m1\u001b[92mb\u001b[92m7\u001b[92me\u001b[92m6\u001b[92m0\u001b[92m4\u001b[92mb\u001b[92md\u001b[92m6\u001b[92m7\u001b[92me\u001b[92mb\u001b[92ma\u001b[92m0\u001b[92mf\u001b[92m8\u001b[92m1\u001b[92m8\u001b[92m5\u001b[92m4\u001b[92mc\u001b[92m7\u001b[92m1\u001b[92m9\u001b[92m1\u001b[92m4\u001b[92m1\u001b[92ma\u001b[92md\u001b[92me\u001b[92me\u001b[92md\u001b[92md\u001b[92mc\u001b[92mc\u001b[92m1\u001b[92m4\u001b[92me\u001b[92m9\u001b[92mb\u001b[92m2\u001b[92m0\u001b[92m4\u001b[92m7 ✅\u001b[0m\n",
      "1680    3  \u001b[92m6\u001b[92ma\u001b[92m9\u001b[92m1\u001b[92mf\u001b[92m2\u001b[92m3\u001b[92m3\u001b[92m8\u001b[92me\u001b[92m2\u001b[92mb\u001b[92m9\u001b[92m7\u001b[92me\u001b[92m8\u001b[92mb\u001b[92me\u001b[92m6\u001b[92m2\u001b[92m5\u001b[92mb\u001b[92ma\u001b[92mf\u001b[92m7\u001b[92m6\u001b[92mf\u001b[92m0\u001b[92m3\u001b[92mc\u001b[92m5\u001b[92ma\u001b[92me\u001b[92m4\u001b[92mb\u001b[92mf\u001b[92m2\u001b[92md\u001b[92m0\u001b[92me\u001b[92ma\u001b[92m5\u001b[92m8\u001b[92md\u001b[92m2\u001b[92m4\u001b[92ma\u001b[92ma\u001b[92m5\u001b[92m1\u001b[92mc\u001b[92m6\u001b[92m6\u001b[92m4\u001b[92md\u001b[92m0\u001b[92m9\u001b[92m2\u001b[92m4\u001b[92m7\u001b[92md\u001b[92m4\u001b[92mb\u001b[92m0 \u001b[92m6\u001b[92ma\u001b[92m9\u001b[92m1\u001b[92mf\u001b[92m2\u001b[92m3\u001b[92m3\u001b[92m8\u001b[92me\u001b[92m2\u001b[92mb\u001b[92m9\u001b[92m7\u001b[92me\u001b[92m8\u001b[92mb\u001b[92me\u001b[92m6\u001b[92m2\u001b[92m5\u001b[92mb\u001b[92ma\u001b[92mf\u001b[92m7\u001b[92m6\u001b[92mf\u001b[92m0\u001b[92m3\u001b[92mc\u001b[92m5\u001b[92ma\u001b[92me\u001b[92m4\u001b[92mb\u001b[92mf\u001b[92m2\u001b[92md\u001b[92m0\u001b[92me\u001b[92ma\u001b[92m5\u001b[92m8\u001b[92md\u001b[92m2\u001b[92m4\u001b[92ma\u001b[92ma\u001b[92m5\u001b[92m1\u001b[92mc\u001b[92m6\u001b[92m6\u001b[92m4\u001b[92md\u001b[92m0\u001b[92m9\u001b[92m2\u001b[92m4\u001b[92m7\u001b[92md\u001b[92m4\u001b[92mb\u001b[92m0 ✅\u001b[0m\n",
      "2240    4  \u001b[92m7\u001b[92m6\u001b[92m1\u001b[92mc\u001b[92m6\u001b[92m7\u001b[92mb\u001b[92m5\u001b[92m5\u001b[92m9\u001b[92mf\u001b[92m8\u001b[92m5\u001b[92m9\u001b[92m4\u001b[92m9\u001b[92ma\u001b[92me\u001b[92m6\u001b[92m3\u001b[92mf\u001b[92m9\u001b[92m0\u001b[92mf\u001b[92m6\u001b[92m1\u001b[92md\u001b[92md\u001b[92m2\u001b[92mf\u001b[92m4\u001b[92me\u001b[92m9\u001b[92m2\u001b[92md\u001b[92mf\u001b[92md\u001b[92ma\u001b[92mf\u001b[92m9\u001b[92m9\u001b[92m6\u001b[92md\u001b[92ma\u001b[92md\u001b[92mb\u001b[92me\u001b[92m3\u001b[92mf\u001b[92m6\u001b[92m0\u001b[92m3\u001b[92m8\u001b[92m2\u001b[92m8\u001b[92m6\u001b[92ma\u001b[92mb\u001b[92me\u001b[92m9\u001b[92m2\u001b[92m4\u001b[92mf\u001b[92m9 \u001b[92m7\u001b[92m6\u001b[92m1\u001b[92mc\u001b[92m6\u001b[92m7\u001b[92mb\u001b[92m5\u001b[92m5\u001b[92m9\u001b[92mf\u001b[92m8\u001b[92m5\u001b[92m9\u001b[92m4\u001b[92m9\u001b[92ma\u001b[92me\u001b[92m6\u001b[92m3\u001b[92mf\u001b[92m9\u001b[92m0\u001b[92mf\u001b[92m6\u001b[92m1\u001b[92md\u001b[92md\u001b[92m2\u001b[92mf\u001b[92m4\u001b[92me\u001b[92m9\u001b[92m2\u001b[92md\u001b[92mf\u001b[92md\u001b[92ma\u001b[92mf\u001b[92m9\u001b[92m9\u001b[92m6\u001b[92md\u001b[92ma\u001b[92md\u001b[92mb\u001b[92me\u001b[92m3\u001b[92mf\u001b[92m6\u001b[92m0\u001b[92m3\u001b[92m8\u001b[92m2\u001b[92m8\u001b[92m6\u001b[92ma\u001b[92mb\u001b[92me\u001b[92m9\u001b[92m2\u001b[92m4\u001b[92mf\u001b[92m9 ✅\u001b[0m\n",
      "2800    5  \u001b[92m4\u001b[92mf\u001b[92ma\u001b[92m3\u001b[92m0\u001b[92me\u001b[92mb\u001b[92me\u001b[92m6\u001b[92m3\u001b[92m4\u001b[92m1\u001b[92m8\u001b[92m1\u001b[92m4\u001b[92mc\u001b[92m0\u001b[92md\u001b[92ma\u001b[92ma\u001b[92m1\u001b[92m4\u001b[92mc\u001b[92m0\u001b[92m3\u001b[92m6\u001b[92m6\u001b[92m4\u001b[92m6\u001b[92m0\u001b[92m6\u001b[92m2\u001b[92md\u001b[92m3\u001b[92me\u001b[92m9\u001b[92md\u001b[92m2\u001b[92m4\u001b[92ma\u001b[92m3\u001b[92m4\u001b[92m8\u001b[92mb\u001b[92m2\u001b[92m7\u001b[92m9\u001b[92m1\u001b[92mf\u001b[92m9\u001b[92m3\u001b[92m3\u001b[92m4\u001b[92m3\u001b[92mc\u001b[92m4\u001b[92m8\u001b[92m7\u001b[92md\u001b[92m9\u001b[92m7\u001b[92ma\u001b[92m9\u001b[92m7 \u001b[92m4\u001b[92mf\u001b[92ma\u001b[92m3\u001b[92m0\u001b[92me\u001b[92mb\u001b[92me\u001b[92m6\u001b[92m3\u001b[92m4\u001b[92m1\u001b[92m8\u001b[92m1\u001b[92m4\u001b[92mc\u001b[92m0\u001b[92md\u001b[92ma\u001b[92ma\u001b[92m1\u001b[92m4\u001b[92mc\u001b[92m0\u001b[92m3\u001b[92m6\u001b[92m6\u001b[92m4\u001b[92m6\u001b[92m0\u001b[92m6\u001b[92m2\u001b[92md\u001b[92m3\u001b[92me\u001b[92m9\u001b[92md\u001b[92m2\u001b[92m4\u001b[92ma\u001b[92m3\u001b[92m4\u001b[92m8\u001b[92mb\u001b[92m2\u001b[92m7\u001b[92m9\u001b[92m1\u001b[92mf\u001b[92m9\u001b[92m3\u001b[92m3\u001b[92m4\u001b[92m3\u001b[92mc\u001b[92m4\u001b[92m8\u001b[92m7\u001b[92md\u001b[92m9\u001b[92m7\u001b[92ma\u001b[92m9\u001b[92m7 ✅\u001b[0m\n",
      "3360    6  \u001b[92m9\u001b[92m3\u001b[92mb\u001b[92md\u001b[92m3\u001b[92m4\u001b[92m9\u001b[92m5\u001b[92m3\u001b[92m7\u001b[92mb\u001b[92m5\u001b[92m1\u001b[92me\u001b[92m0\u001b[92m0\u001b[92m8\u001b[92mb\u001b[92mf\u001b[92m6\u001b[92m3\u001b[92m9\u001b[92m6\u001b[92ma\u001b[92m3\u001b[92m2\u001b[92m8\u001b[92m1\u001b[92mf\u001b[92m6\u001b[92mb\u001b[92m0\u001b[92mb\u001b[92me\u001b[92m7\u001b[92m8\u001b[92m6\u001b[92m1\u001b[92m5\u001b[92md\u001b[92m7\u001b[92m6\u001b[92mc\u001b[92m2\u001b[92m9\u001b[92m0\u001b[92mf\u001b[92m3\u001b[92mc\u001b[92mb\u001b[92m5\u001b[92m6\u001b[92m3\u001b[92m3\u001b[92mc\u001b[92mc\u001b[92m7\u001b[92mf\u001b[92m3\u001b[92m8\u001b[92m4\u001b[92m9\u001b[92m5\u001b[92m1 \u001b[92m9\u001b[92m3\u001b[92mb\u001b[92md\u001b[92m3\u001b[92m4\u001b[92m9\u001b[92m5\u001b[92m3\u001b[92m7\u001b[92mb\u001b[92m5\u001b[92m1\u001b[92me\u001b[92m0\u001b[92m0\u001b[92m8\u001b[92mb\u001b[92mf\u001b[92m6\u001b[92m3\u001b[92m9\u001b[92m6\u001b[92ma\u001b[92m3\u001b[92m2\u001b[92m8\u001b[92m1\u001b[92mf\u001b[92m6\u001b[92mb\u001b[92m0\u001b[92mb\u001b[92me\u001b[92m7\u001b[92m8\u001b[92m6\u001b[92m1\u001b[92m5\u001b[92md\u001b[92m7\u001b[92m6\u001b[92mc\u001b[92m2\u001b[92m9\u001b[92m0\u001b[92mf\u001b[92m3\u001b[92mc\u001b[92mb\u001b[92m5\u001b[92m6\u001b[92m3\u001b[92m3\u001b[92mc\u001b[92mc\u001b[92m7\u001b[92mf\u001b[92m3\u001b[92m8\u001b[92m4\u001b[92m9\u001b[92m5\u001b[92m1 ✅\u001b[0m\n",
      "3920    7  \u001b[92m9\u001b[92ma\u001b[92m8\u001b[92mb\u001b[92me\u001b[92m6\u001b[92m3\u001b[92mf\u001b[92mc\u001b[92mc\u001b[92m4\u001b[92m7\u001b[92m3\u001b[92md\u001b[92mc\u001b[92md\u001b[92m6\u001b[92mf\u001b[92ma\u001b[92me\u001b[92mf\u001b[92m2\u001b[92m7\u001b[92m7\u001b[92md\u001b[92mf\u001b[92m0\u001b[92mc\u001b[92m0\u001b[92m0\u001b[92me\u001b[92m7\u001b[92m0\u001b[92m4\u001b[92mc\u001b[92m4\u001b[92m3\u001b[92m2\u001b[92m1\u001b[92mc\u001b[92m5\u001b[92md\u001b[92m6\u001b[92mf\u001b[92m8\u001b[92m2\u001b[92md\u001b[92mb\u001b[92m8\u001b[92m8\u001b[92m4\u001b[92m0\u001b[92md\u001b[92m3\u001b[92m6\u001b[92mf\u001b[92mc\u001b[92me\u001b[92m6\u001b[92ma\u001b[92m5\u001b[92m9\u001b[92me\u001b[92m0 \u001b[92m9\u001b[92ma\u001b[92m8\u001b[92mb\u001b[92me\u001b[92m6\u001b[92m3\u001b[92mf\u001b[92mc\u001b[92mc\u001b[92m4\u001b[92m7\u001b[92m3\u001b[92md\u001b[92mc\u001b[92md\u001b[92m6\u001b[92mf\u001b[92ma\u001b[92me\u001b[92mf\u001b[92m2\u001b[92m7\u001b[92m7\u001b[92md\u001b[92mf\u001b[92m0\u001b[92mc\u001b[92m0\u001b[92m0\u001b[92me\u001b[92m7\u001b[92m0\u001b[92m4\u001b[92mc\u001b[92m4\u001b[92m3\u001b[92m2\u001b[92m1\u001b[92mc\u001b[92m5\u001b[92md\u001b[92m6\u001b[92mf\u001b[92m8\u001b[92m2\u001b[92md\u001b[92mb\u001b[92m8\u001b[92m8\u001b[92m4\u001b[92m0\u001b[92md\u001b[92m3\u001b[92m6\u001b[92mf\u001b[92mc\u001b[92me\u001b[92m6\u001b[92ma\u001b[92m5\u001b[92m9\u001b[92me\u001b[92m0 ✅\u001b[0m\n",
      "4480    8  \u001b[92m0\u001b[92m4\u001b[92me\u001b[92m4\u001b[92m1\u001b[92m1\u001b[92me\u001b[92m6\u001b[92m8\u001b[92m9\u001b[92m4\u001b[92mf\u001b[92m0\u001b[92mc\u001b[92m1\u001b[92m1\u001b[92md\u001b[92m4\u001b[92mc\u001b[92md\u001b[92mb\u001b[92m6\u001b[92m0\u001b[92m2\u001b[92m7\u001b[92m9\u001b[92me\u001b[92mf\u001b[92m7\u001b[92m6\u001b[92m5\u001b[92m3\u001b[92mc\u001b[92mb\u001b[92me\u001b[92m1\u001b[92mb\u001b[92m9\u001b[92mb\u001b[92md\u001b[92m6\u001b[92m3\u001b[92m2\u001b[92ma\u001b[92mc\u001b[92m1\u001b[92m3\u001b[92m1\u001b[92m0\u001b[92m3\u001b[92m5\u001b[92md\u001b[92mf\u001b[92m8\u001b[92md\u001b[92m3\u001b[92m1\u001b[92m7\u001b[92m3\u001b[92m2\u001b[92mc\u001b[92md\u001b[92m9\u001b[92mc \u001b[92m0\u001b[92m4\u001b[92me\u001b[92m4\u001b[92m1\u001b[92m1\u001b[92me\u001b[92m6\u001b[92m8\u001b[92m9\u001b[92m4\u001b[92mf\u001b[92m0\u001b[92mc\u001b[92m1\u001b[92m1\u001b[92md\u001b[92m4\u001b[92mc\u001b[92md\u001b[92mb\u001b[92m6\u001b[92m0\u001b[92m2\u001b[92m7\u001b[92m9\u001b[92me\u001b[92mf\u001b[92m7\u001b[92m6\u001b[92m5\u001b[92m3\u001b[92mc\u001b[92mb\u001b[92me\u001b[92m1\u001b[92mb\u001b[92m9\u001b[92mb\u001b[92md\u001b[92m6\u001b[92m3\u001b[92m2\u001b[92ma\u001b[92mc\u001b[92m1\u001b[92m3\u001b[92m1\u001b[92m0\u001b[92m3\u001b[92m5\u001b[92md\u001b[92mf\u001b[92m8\u001b[92md\u001b[92m3\u001b[92m1\u001b[92m7\u001b[92m3\u001b[92m2\u001b[92mc\u001b[92md\u001b[92m9\u001b[92mc ✅\u001b[0m\n",
      "5040    9  \u001b[92m2\u001b[92m6\u001b[92mb\u001b[92mb\u001b[92ma\u001b[92m6\u001b[92m3\u001b[92ma\u001b[92m0\u001b[92m8\u001b[92mc\u001b[92m1\u001b[92m9\u001b[92ma\u001b[92mb\u001b[92ma\u001b[92m3\u001b[92m3\u001b[92m3\u001b[92m6\u001b[92m7\u001b[92mc\u001b[92me\u001b[92mc\u001b[92m7\u001b[92m5\u001b[92m5\u001b[92m3\u001b[92m3\u001b[92m1\u001b[92mc\u001b[92m5\u001b[92m3\u001b[92m4\u001b[92md\u001b[92m4\u001b[92ma\u001b[92md\u001b[92md\u001b[92md\u001b[92m7\u001b[92m9\u001b[92m6\u001b[92m7\u001b[92m1\u001b[92mb\u001b[92m4\u001b[92m6\u001b[92mb\u001b[92m6\u001b[92mc\u001b[92m4\u001b[92m9\u001b[92md\u001b[92md\u001b[92m1\u001b[92ma\u001b[92m3\u001b[92md\u001b[92m2\u001b[92m8\u001b[92m4\u001b[92m7\u001b[92m0 \u001b[92m2\u001b[92m6\u001b[92mb\u001b[92mb\u001b[92ma\u001b[92m6\u001b[92m3\u001b[92ma\u001b[92m0\u001b[92m8\u001b[92mc\u001b[92m1\u001b[92m9\u001b[92ma\u001b[92mb\u001b[92ma\u001b[92m3\u001b[92m3\u001b[92m3\u001b[92m6\u001b[92m7\u001b[92mc\u001b[92me\u001b[92mc\u001b[92m7\u001b[92m5\u001b[92m5\u001b[92m3\u001b[92m3\u001b[92m1\u001b[92mc\u001b[92m5\u001b[92m3\u001b[92m4\u001b[92md\u001b[92m4\u001b[92ma\u001b[92md\u001b[92md\u001b[92md\u001b[92m7\u001b[92m9\u001b[92m6\u001b[92m7\u001b[92m1\u001b[92mb\u001b[92m4\u001b[92m6\u001b[92mb\u001b[92m6\u001b[92mc\u001b[92m4\u001b[92m9\u001b[92md\u001b[92md\u001b[92m1\u001b[92ma\u001b[92m3\u001b[92md\u001b[92m2\u001b[92m8\u001b[92m4\u001b[92m7\u001b[92m0 ✅\u001b[0m\n"
     ]
    }
   ],
   "source": [
    "\n",
    "print(\"{:>4}  {:>4} {:>64} {:>64}\\n\".format(\"Bits\", \"Blcks\", 'Our digest'.center(64), 'Hashlib digest'.center(64))+\"-\"*140)\n",
    "for i in range(10):\n",
    "    long_string = \"SHA-256\"*i*10\n",
    "    print(\"{:>4} {:>4} \".format(len(long_string)*8, len(long_string) // sha256().block_size), end=\" \")\n",
    "    bin_long_string = long_string.encode('ascii')\n",
    "    compare_digests(diy_sha256(bin_long_string), sha256(bin_long_string).hexdigest())\n"
   ]
  },
  {
   "cell_type": "markdown",
   "metadata": {},
   "source": [
    "<a class=\"anchor\" id=\"Unitest-Testing\"></a>\n",
    "#### Unittest testing"
   ]
  },
  {
   "cell_type": "code",
   "execution_count": 72,
   "metadata": {},
   "outputs": [
    {
     "name": "stderr",
     "output_type": "stream",
     "text": [
      "test_empty (__main__.TestSHA256) ... ok\n",
      "test_failbyonebyte (__main__.TestSHA256) ... ok\n",
      "test_loremipsum (__main__.TestSHA256) ... ok\n",
      "test_multiblok (__main__.TestSHA256) ... ok\n",
      "test_sigleblock (__main__.TestSHA256) ... ok\n",
      "\n",
      "----------------------------------------------------------------------\n",
      "Ran 5 tests in 47.584s\n",
      "\n",
      "OK\n"
     ]
    },
    {
     "data": {
      "text/plain": [
       "<unittest.main.TestProgram at 0x142b097e3d0>"
      ]
     },
     "execution_count": 72,
     "metadata": {},
     "output_type": "execute_result"
    }
   ],
   "source": [
    "class TestSHA256(unittest.TestCase):\n",
    "    def test_sigleblock(self):\n",
    "        with open(\"BIP-0039_english.txt\", 'r') as file:\n",
    "            for i, item in enumerate(file):\n",
    "                binary_item = item.rstrip().encode('ascii')\n",
    "                diy_digest = diy_sha256(binary_item)\n",
    "                hashlib_digest = sha256(binary_item).hexdigest()\n",
    "                self.assertEqual(diy_digest, hashlib_digest)\n",
    "\n",
    "    def test_multiblok(self):\n",
    "        for i in range(200, 500):\n",
    "                binary_item = ('0'*i).encode('ascii')\n",
    "                diy_digest = diy_sha256(binary_item)\n",
    "                hashlib_digest = sha256(binary_item).hexdigest()\n",
    "                self.assertEqual(diy_digest, hashlib_digest)\n",
    "\n",
    "    def test_empty(self):\n",
    "        binary_item = \"\".encode('ascii')\n",
    "        diy_digest = diy_sha256(binary_item)\n",
    "        hashlib_digest = sha256(binary_item).hexdigest()\n",
    "        self.assertEqual(diy_digest, hashlib_digest)\n",
    "\n",
    "    def test_loremipsum(self):\n",
    "        text = \"\"\"Lorem ipsum dolor sit amet, consectetur adipiscing elit. Pellentesque ex nulla, tincidunt sed pretium vitae, sagittis nec urna.\n",
    "        Donec tempus scelerisque semper. Aliquam ut vestibulum ex, a varius tortor. Suspendisse eget metus condimentum, tincidunt nulla quis, eleifend nunc.\n",
    "        Vivamus sed volutpat eros. Vestibulum malesuada ac orci in fermentum. Aenean fringilla, elit in efficitur facilisis, arcu dolor convallis arcu, sed finibus leo orci id turpis.\n",
    "        Aliquam erat volutpat. Vestibulum ante ipsum primis in faucibus orci luctus et ultrices posuere cubilia curae; Duis blandit congue massa. Aenean scelerisque turpis id elit aliquet efficitur.\n",
    "        Nam dignissim semper ultricies. Aliquam sed nunc in ligula finibus egestas eu eu mi. Donec pharetra nunc id turpis iaculis sagittis. Nulla in eleifend arcu.\n",
    "        Donec porta elit at cursus elementum. Nulla consectetur varius dui ac congue. Suspendisse at nisl ut augue placerat cursus at at mauris. Fusce ultricies dignissim velit, eu sodales ex venenatis augue.\"\"\"\n",
    "        binary_item = text.encode('ascii')\n",
    "        diy_digest = diy_sha256(binary_item)\n",
    "        hashlib_digest = sha256(binary_item).hexdigest()\n",
    "        self.assertEqual(diy_digest, hashlib_digest)\n",
    "    \n",
    "    def test_failbyonebyte(self):\n",
    "        binary_ascii = b'Hello World'\n",
    "        binary_utf = b'Hello world'\n",
    "        ascii_digest = diy_sha256(binary_ascii)\n",
    "        utf_digest = diy_sha256(binary_utf)\n",
    "        self.assertNotEqual(ascii_digest, utf_digest)\n",
    "\n",
    "\n",
    "\n",
    "unittest.main(argv=[''], verbosity=2, exit=False)"
   ]
  }
 ],
 "metadata": {
  "interpreter": {
   "hash": "538196654465a6317e433d2c2ddf9845b085aecd674c7696920b9eb59c908812"
  },
  "kernelspec": {
   "display_name": "Python 3.9.7 64-bit",
   "name": "python3"
  },
  "language_info": {
   "codemirror_mode": {
    "name": "ipython",
    "version": 3
   },
   "file_extension": ".py",
   "mimetype": "text/x-python",
   "name": "python",
   "nbconvert_exporter": "python",
   "pygments_lexer": "ipython3",
   "version": "3.9.7"
  },
  "orig_nbformat": 4
 },
 "nbformat": 4,
 "nbformat_minor": 2
}
