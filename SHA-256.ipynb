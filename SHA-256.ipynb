{
 "cells": [
  {
   "cell_type": "markdown",
   "metadata": {},
   "source": [
    "# How does SHA-256 work?\n",
    "### Simple hasing algorithm 256 (256 indicates the length of the digest)"
   ]
  },
  {
   "cell_type": "code",
   "execution_count": 2,
   "metadata": {},
   "outputs": [],
   "source": [
    "# Needed modules for running all notebook cells\n",
    "from IPython.display import clear_output\n",
    "from bitarray import bitarray\n",
    "from hashlib import sha256\n",
    "from time import sleep\n",
    "from math import sqrt, floor"
   ]
  },
  {
   "cell_type": "code",
   "execution_count": 3,
   "metadata": {},
   "outputs": [
    {
     "name": "stdout",
     "output_type": "stream",
     "text": [
      "Hash type:\tsha256\n",
      "Void digest:\te3b0c44298fc1c149afbf4c8996fb92427ae41e4649b934ca495991b7852b855\n",
      "Digest size:\t32\n",
      "\n",
      "String:\tHello World!\n",
      "Digest:\t7f83b1657ff1fc53b92dc18148a1d65dfc2d4b1fa3d677284addd200126d9069\n"
     ]
    }
   ],
   "source": [
    "m = sha256()\n",
    "print(f\"Hash type:\\t{m.name}\")\n",
    "print(f\"Void digest:\\t{m.hexdigest()}\")\n",
    "print(f\"Digest size:\\t{m.digest_size}\")\n",
    "\n",
    "string = \"Hello World!\"\n",
    "m.update(string.encode())\n",
    "print(f\"\\nString:\\t{string}\")\n",
    "print(f\"Digest:\\t{m.hexdigest()}\")\n",
    "\n",
    "del m, string"
   ]
  },
  {
   "cell_type": "markdown",
   "metadata": {},
   "source": [
    "## Atomic bit level operations\n",
    "\n",
    "1. [SHR](#SHR)\n",
    "2. [ROTR](#ROTR)\n",
    "3. [XOR](#XOR)\n",
    "4. [SUM](#SUM)"
   ]
  },
  {
   "cell_type": "markdown",
   "metadata": {},
   "source": [
    "<a ID=\"SHR\"></a>\n",
    "### 1. SHR\n",
    "Shift right"
   ]
  },
  {
   "cell_type": "code",
   "execution_count": 4,
   "metadata": {},
   "outputs": [
    {
     "name": "stdout",
     "output_type": "stream",
     "text": [
      "      A: 11111111000000001111111100000000\n",
      " SHR 32: 00000000000000000000000000000000"
     ]
    }
   ],
   "source": [
    "def shr(bits, shifts):\n",
    "    for _ in range(shifts):\n",
    "        bits.pop()\n",
    "        bits.insert(0, 0)\n",
    "    return bits\n",
    "\n",
    "a = bitarray(endian='big')\n",
    "a.frombytes(b'\\xff\\x00\\xff\\x00')\n",
    "\n",
    "print(\"{:>8} {:>32}\".format(\"A:\", a.to01()))\n",
    "for i in range(32):\n",
    "    print(\"\\r{:>8} {:>32}\".format(\"SHR \"+str(i+1)+\":\", shr(a,1).to01()), end=\"\")\n",
    "    sleep(0.2)\n",
    "del a, i"
   ]
  },
  {
   "cell_type": "markdown",
   "metadata": {},
   "source": [
    "<a ID=\"ROTR\"></a>\n",
    "### 2. ROTR\n",
    "Rotation right"
   ]
  },
  {
   "cell_type": "code",
   "execution_count": 5,
   "metadata": {},
   "outputs": [
    {
     "name": "stdout",
     "output_type": "stream",
     "text": [
      "      A: 11111111000000001111111100000000\n",
      "ROTR 32: 11111111000000001111111100000000"
     ]
    }
   ],
   "source": [
    "def rotr(bits, shifts):\n",
    "    for _ in range(shifts):\n",
    "        bits.insert(0,bits.pop())\n",
    "    return bits\n",
    "\n",
    "a = bitarray(endian='big')\n",
    "a.frombytes(b'\\xff\\x00\\xff\\x00')\n",
    "\n",
    "print(\"{:>8} {:>32}\".format(\"A:\", a.to01()))\n",
    "for i in range(32):\n",
    "    print(\"\\r{:>8} {:>32}\".format(\"ROTR \"+str(i+1)+\":\", rotr(a,1).to01()), end=\"\")\n",
    "    sleep(0.2)\n",
    "del a, i"
   ]
  },
  {
   "cell_type": "markdown",
   "metadata": {},
   "source": [
    "<a ID=\"XOR\"></a>\n",
    "### 3. XOR\n",
    "Exclusive OR\n",
    "\n",
    "\n",
    "\n",
    "| A | B | XOR |\n",
    "|---|---|-----|\n",
    "| 0 | 0 | 0   |\n",
    "| 0 | 1 | 1   |\n",
    "| 1 | 0 | 1   |\n",
    "| 1 | 1 | 0   |   \n",
    "\n"
   ]
  },
  {
   "cell_type": "code",
   "execution_count": 6,
   "metadata": {},
   "outputs": [
    {
     "name": "stdout",
     "output_type": "stream",
     "text": [
      "      A: 11111111000000001111111100000000\n",
      "      B: 00000000111111111111111100000000 XOR\n",
      "         --------------------------------\n",
      "         11111111111111110000000000000000"
     ]
    }
   ],
   "source": [
    "def xor(a, b):\n",
    "    return a^b\n",
    "\n",
    "a = bitarray(endian='big')\n",
    "b = bitarray(endian='big')\n",
    "a.frombytes(b'\\xff\\x00\\xff\\x00')\n",
    "b.frombytes(b'\\x00\\xff\\xff\\x00')\n",
    "\n",
    "print(\"{:>8} {:>32}\".format(\"A:\", a.to01()))\n",
    "print(\"{:>8} {:>32} XOR\".format(\"B:\", b.to01()))\n",
    "print(\"{:>8} {:>32}\".format(\"\", \"-\"*32))\n",
    "for i in range(32):\n",
    "    print(\"\\r{:>8} {:>32}\".format(\"\", xor(a,b).to01()[32-1-i:]), end=\"\")\n",
    "    sleep(0.2)\n",
    "del a, b, i\n"
   ]
  },
  {
   "cell_type": "markdown",
   "metadata": {},
   "source": [
    "<a ID=\"SUM\"></a>\n",
    "### 4. SUM\n",
    "Binary addition <br>\n",
    "Mod 32, ignoring the carry out that will overflow the 32 bit."
   ]
  },
  {
   "cell_type": "code",
   "execution_count": 7,
   "metadata": {},
   "outputs": [
    {
     "name": "stdout",
     "output_type": "stream",
     "text": [
      "      A: 10000000001100001111111111111111\n",
      "      B: 10000000010100000000000000000000 +\n",
      "         --------------------------------\n",
      "         00000000100000001111111111111111"
     ]
    }
   ],
   "source": [
    "def add(a, b):\n",
    "    result = bitarray(endian='big')\n",
    "    carry = 0\n",
    "    for i in range(32-1, -1, -1):\n",
    "        result.insert(0,(a[i]^b[i]^carry))\n",
    "        carry = 1 if (a[i] + b[i] + carry) > 1 else 0\n",
    "    return result\n",
    "\n",
    "\n",
    "a = bitarray(endian='big')\n",
    "b = bitarray(endian='big')\n",
    "a.frombytes(b'\\x80\\x30\\xff\\xff')\n",
    "b.frombytes(b'\\x80\\x50\\x00\\x00')\n",
    "\n",
    "print(\"{:>8} {:>32}\".format(\"A:\", a.to01()))\n",
    "print(\"{:>8} {:>32} +\".format(\"B:\", b.to01()))\n",
    "print(\"{:>8} {:>32}\".format(\"\", \"-\"*32))\n",
    "out = add(a,b)\n",
    "for i in range(32):\n",
    "    print(\"\\r{:>8} {:>32}\".format(\"\", out.to01()[32-1-i:]), end=\"\")\n",
    "    sleep(0.2)\n",
    "del a, b, i"
   ]
  },
  {
   "cell_type": "markdown",
   "metadata": {},
   "source": [
    "***\n",
    "## Compound operations\n",
    "\n",
    "1. [$\\sigma0$](#sigma0)\n",
    "2. [$\\sigma1$](#sigma1)\n",
    "3. [$\\Sigma0$](#Sigma0)\n",
    "4. [$\\Sigma1$](#Sigma1)\n",
    "5. [Choice](#Choice)\n",
    "6. [Majority](#Majority)\n"
   ]
  },
  {
   "cell_type": "markdown",
   "metadata": {},
   "source": [
    "<a ID=\"sigma0\"></a>\n",
    "### 1. $\\sigma0$"
   ]
  },
  {
   "cell_type": "code",
   "execution_count": 8,
   "metadata": {},
   "outputs": [
    {
     "name": "stdout",
     "output_type": "stream",
     "text": [
      " Origin: 00000000000000000011111111111111\n",
      "         --------------------------------\n",
      "ROTR  7: 11111110000000000000000001111111\n",
      "ROTR 18: 00001111111111111100000000000000 XOR\n",
      " SHR  7: 00000000000000000000011111111111 XOR\n",
      "         --------------------------------\n",
      "     σ0: 11110001111111111100011110000000\n"
     ]
    }
   ],
   "source": [
    "def sigma0(a, b, c):\n",
    "    rotr(a, 7)\n",
    "    rotr(b, 18)\n",
    "    shr(c, 3)\n",
    "    return xor(xor(a,b),c)\n",
    "\n",
    "origin = bitarray(endian='big')\n",
    "origin.frombytes(b'\\x00\\x00\\x3f\\xff')\n",
    "\n",
    "a = origin.copy()\n",
    "b = origin.copy()\n",
    "c = origin.copy()\n",
    "\n",
    "result = sigma0(a, b, c)\n",
    "\n",
    "print(\"{:>8} {:>32}\".format(\"Origin:\", origin.to01()))\n",
    "print(\"{:>8} {:>32}\".format(\"\", \"-\"*32))\n",
    "print(\"{:>8} {:>32}\".format(\"ROTR  7:\", a.to01()))\n",
    "print(\"{:>8} {:>32} XOR\".format(\"ROTR 18:\", b.to01()))\n",
    "print(\"{:>8} {:>32} XOR\".format(\"SHR  7:\", c.to01()))\n",
    "print(\"{:>8} {:>32}\".format(\"\", \"-\"*32))\n",
    "print(\"{:>8} {:>32}\".format(\"\\u03C30:\", result.to01()))\n",
    "\n",
    "del a, b, c, result, origin\n",
    "\n"
   ]
  },
  {
   "cell_type": "markdown",
   "metadata": {},
   "source": [
    "<a ID=\"sigma1\"></a>\n",
    "### 1. $\\sigma1$"
   ]
  },
  {
   "cell_type": "code",
   "execution_count": 9,
   "metadata": {},
   "outputs": [
    {
     "name": "stdout",
     "output_type": "stream",
     "text": [
      " Origin: 00000000000000000011111111111111\n",
      "         --------------------------------\n",
      "ROTR 17: 00011111111111111000000000000000\n",
      "ROTR 19: 00000111111111111110000000000000 XOR\n",
      " SHR 10: 00000000000000000000000000001111 XOR\n",
      "         --------------------------------\n",
      "     σ1: 00011000000000000110000000001111\n"
     ]
    }
   ],
   "source": [
    "def sigma1(a, b, c):\n",
    "    rotr(a, 17)\n",
    "    rotr(b, 19)\n",
    "    shr(c, 10)\n",
    "    return xor(xor(a,b),c)\n",
    "\n",
    "origin = bitarray(endian='big')\n",
    "origin.frombytes(b'\\x00\\x00\\x3f\\xff')\n",
    "\n",
    "a = origin.copy()\n",
    "b = origin.copy()\n",
    "c = origin.copy()\n",
    "\n",
    "result = sigma1(a, b, c)\n",
    "\n",
    "print(\"{:>8} {:>32}\".format(\"Origin:\", origin.to01()))\n",
    "print(\"{:>8} {:>32}\".format(\"\", \"-\"*32))\n",
    "print(\"{:>8} {:>32}\".format(\"ROTR 17:\", a.to01()))\n",
    "print(\"{:>8} {:>32} XOR\".format(\"ROTR 19:\", b.to01()))\n",
    "print(\"{:>8} {:>32} XOR\".format(\"SHR 10:\", c.to01()))\n",
    "print(\"{:>8} {:>32}\".format(\"\", \"-\"*32))\n",
    "print(\"{:>8} {:>32}\".format(\"\\u03C31:\", result.to01()))\n",
    "\n",
    "del a, b, c, result, origin\n"
   ]
  },
  {
   "cell_type": "markdown",
   "metadata": {},
   "source": [
    "<a ID=\"Sigma0\"></a>\n",
    "### 3. $\\Sigma0$"
   ]
  },
  {
   "cell_type": "code",
   "execution_count": 10,
   "metadata": {},
   "outputs": [
    {
     "name": "stdout",
     "output_type": "stream",
     "text": [
      " Origin: 00000000000000000011111111111111\n",
      "         --------------------------------\n",
      "ROTR  2: 11000000000000000000111111111111\n",
      "ROTR 13: 11111111111110000000000000000001 XOR\n",
      "ROTR 22: 00000000111111111111110000000000 XOR\n",
      "         --------------------------------\n",
      "     Σ0: 00111111000001111111001111111110\n"
     ]
    }
   ],
   "source": [
    "def Sigma0(a, b, c):\n",
    "    rotr(a, 2)\n",
    "    rotr(b, 13)\n",
    "    rotr(c, 22)\n",
    "    return xor(xor(a,b),c)\n",
    "\n",
    "origin = bitarray(endian='big')\n",
    "origin.frombytes(b'\\x00\\x00\\x3f\\xff')\n",
    "\n",
    "a = origin.copy()\n",
    "b = origin.copy()\n",
    "c = origin.copy()\n",
    "\n",
    "result = Sigma0(a, b, c)\n",
    "\n",
    "print(\"{:>8} {:>32}\".format(\"Origin:\", origin.to01()))\n",
    "print(\"{:>8} {:>32}\".format(\"\", \"-\"*32))\n",
    "print(\"{:>8} {:>32}\".format(\"ROTR  2:\", a.to01()))\n",
    "print(\"{:>8} {:>32} XOR\".format(\"ROTR 13:\", b.to01()))\n",
    "print(\"{:>8} {:>32} XOR\".format(\"ROTR 22:\", c.to01()))\n",
    "print(\"{:>8} {:>32}\".format(\"\", \"-\"*32))\n",
    "print(\"{:>8} {:>32}\".format(\"\\u03A30:\", result.to01()))\n",
    "\n",
    "del a, b, c, result, origin\n"
   ]
  },
  {
   "cell_type": "markdown",
   "metadata": {},
   "source": [
    "<a ID=\"Sigma1\"></a>\n",
    "### 4. $\\Sigma1$"
   ]
  },
  {
   "cell_type": "code",
   "execution_count": 11,
   "metadata": {},
   "outputs": [
    {
     "name": "stdout",
     "output_type": "stream",
     "text": [
      " Origin: 00000000000000000011111111111111\n",
      "         --------------------------------\n",
      "ROTR  6: 11111100000000000000000011111111\n",
      "ROTR 11: 11111111111000000000000000000111 XOR\n",
      "ROTR 25: 00000000000111111111111110000000 XOR\n",
      "         --------------------------------\n",
      "     Σ1: 00000011111111111111111101111000\n"
     ]
    }
   ],
   "source": [
    "def Sigma1(a, b, c):\n",
    "    rotr(a, 6)\n",
    "    rotr(b, 11)\n",
    "    rotr(c, 25)\n",
    "    return xor(xor(a,b),c)\n",
    "\n",
    "origin = bitarray(endian='big')\n",
    "origin.frombytes(b'\\x00\\x00\\x3f\\xff')\n",
    "\n",
    "a = origin.copy()\n",
    "b = origin.copy()\n",
    "c = origin.copy()\n",
    "\n",
    "result = Sigma1(a, b, c)\n",
    "\n",
    "print(\"{:>8} {:>32}\".format(\"Origin:\", origin.to01()))\n",
    "print(\"{:>8} {:>32}\".format(\"\", \"-\"*32))\n",
    "print(\"{:>8} {:>32}\".format(\"ROTR  6:\", a.to01()))\n",
    "print(\"{:>8} {:>32} XOR\".format(\"ROTR 11:\", b.to01()))\n",
    "print(\"{:>8} {:>32} XOR\".format(\"ROTR 25:\", c.to01()))\n",
    "print(\"{:>8} {:>32}\".format(\"\", \"-\"*32))\n",
    "print(\"{:>8} {:>32}\".format(\"\\u03A31:\", result.to01()))\n",
    "\n",
    "del a, b, c, result, origin"
   ]
  },
  {
   "cell_type": "markdown",
   "metadata": {},
   "source": [
    "<a ID=\"Choice\"></a>\n",
    "### 5. Choice"
   ]
  },
  {
   "cell_type": "code",
   "execution_count": 12,
   "metadata": {},
   "outputs": [
    {
     "name": "stdout",
     "output_type": "stream",
     "text": [
      "         ⇓\n",
      "      A: 00000000111111110000000011111111\n",
      "      B: 00000000000000001111111111111111 \n",
      "      C: 11111111111111110000000000000000 ⇦\n",
      "         --------------------------------\n",
      "    OUT: 11111111000000000000000011111111\n"
     ]
    }
   ],
   "source": [
    "def choice(choice, a, b):\n",
    "    result = choice.copy()\n",
    "    for i in range(32):\n",
    "        if choice[i] == 1:\n",
    "            result[i] = a[i]\n",
    "        elif choice[i] == 0:\n",
    "            result[i] = b[i]\n",
    "    return result\n",
    "\n",
    "a = bitarray(endian='big')\n",
    "b = bitarray(endian='big')\n",
    "c = bitarray(endian='big')\n",
    "\n",
    "a.frombytes(b'\\x00\\xff\\x00\\xff')\n",
    "b.frombytes(b'\\x00\\x00\\xff\\xff')\n",
    "c.frombytes(b'\\xff\\xff\\x00\\x00')\n",
    "\n",
    "result = choice(a, b, c)\n",
    "\n",
    "for i in range(32):\n",
    "\n",
    "    print(\" \"*(41-(i+1))+\"\\u21D3\")\n",
    "    print(\"{:>8} {:>32}\".format(\"A:\", a.to01()))\n",
    "    print(\"{:>8} {:>32} {}\".format(\"B:\", b.to01(), \"\" if a[i]==1 else \"\\u21E6\"))\n",
    "    print(\"{:>8} {:>32} {}\".format(\"C:\", c.to01(), \"\" if a[i]==0 else \"\\u21E6\"))\n",
    "    print(\"{:>8} {:>32}\".format(\"\", \"-\"*32))\n",
    "    print(\"{:>8} {:>32}\".format(\"OUT:\", result.to01()[32-(i+1):]))\n",
    "    \n",
    "    sleep(0.2)\n",
    "    clear_output(wait=True)\n",
    "    \n",
    "\n",
    "del a, b, c, result"
   ]
  },
  {
   "cell_type": "markdown",
   "metadata": {},
   "source": [
    "<a ID=\"Majority\"></a>\n",
    "### 6. Majority"
   ]
  },
  {
   "cell_type": "code",
   "execution_count": 13,
   "metadata": {},
   "outputs": [
    {
     "name": "stdout",
     "output_type": "stream",
     "text": [
      "         ⇓\n",
      "      A: 00000000111111110000000011111111  0\n",
      "      B: 00000000000000001111111111111111  0\n",
      "      C: 11111111111111110000000000000000  1\n",
      "         --------------------------------\n",
      "    OUT: 00000000111111110000000011111111\n"
     ]
    }
   ],
   "source": [
    "def majority(a, b, c):\n",
    "    result = a.copy()\n",
    "    for i in range(32):\n",
    "        result[i] = 1 if a[i]+b[i]+c[i] > 1 else 0\n",
    "    return result\n",
    "\n",
    "a = bitarray(endian='big')\n",
    "b = bitarray(endian='big')\n",
    "c = bitarray(endian='big')\n",
    "\n",
    "a.frombytes(b'\\x00\\xff\\x00\\xff')\n",
    "b.frombytes(b'\\x00\\x00\\xff\\xff')\n",
    "c.frombytes(b'\\xff\\xff\\x00\\x00')\n",
    "\n",
    "result = majority(a, b, c)\n",
    "\n",
    "for i in range(32):\n",
    "\n",
    "    print(\" \"*(41-(i+1))+\"\\u21D3\")\n",
    "    print(\"{:>8} {:>32} {}\".format(\"A:\", a.to01(), \" \"+str(a[32-(i+1)])))\n",
    "    print(\"{:>8} {:>32} {}\".format(\"B:\", b.to01(), \" \"+str(b[32-(i+1)])))\n",
    "    print(\"{:>8} {:>32} {}\".format(\"C:\", c.to01(), \" \"+str(c[32-(i+1)])))\n",
    "    print(\"{:>8} {:>32}\".format(\"\", \"-\"*32))\n",
    "    print(\"{:>8} {:>32}\".format(\"OUT:\", result.to01()[32-(i+1):]))\n",
    "    \n",
    "    sleep(0.2)\n",
    "    clear_output(wait=True)\n",
    "    \n",
    "\n",
    "del a, b, c, result"
   ]
  },
  {
   "cell_type": "markdown",
   "metadata": {},
   "source": [
    "***\n",
    "## Constant K\n",
    "List of length 64 containing 32 bits from the decimal part of the cubic root of the 64 first prime numbers."
   ]
  },
  {
   "cell_type": "code",
   "execution_count": 15,
   "metadata": {},
   "outputs": [
    {
     "name": "stdout",
     "output_type": "stream",
     "text": [
      "   1 ⇾   ∛2 ⇾ 1.2599210498948732 ⇾ 0.2599210498948732 ⇾ 01000010100010100010111110011000  \n",
      "   2 ⇾   ∛3 ⇾ 1.4422495703074083 ⇾ 0.4422495703074083 ⇾ 01110001001101110100010010010001  \n",
      "   3 ⇾   ∛5 ⇾ 1.7099759466766968 ⇾ 0.7099759466766968 ⇾ 10110101110000001111101111001111  \n",
      "   4 ⇾   ∛7 ⇾  1.912931182772389 ⇾  0.912931182772389 ⇾ 11101001101101011101101110100101  \n",
      "   5 ⇾  ∛11 ⇾ 2.2239800905693152 ⇾ 0.2239800905693152 ⇾ 00111001010101101100001001011011  \n",
      "   6 ⇾  ∛13 ⇾ 2.3513346877207573 ⇾ 0.3513346877207573 ⇾ 01011001111100010001000111110001  \n",
      "   7 ⇾  ∛17 ⇾  2.571281590658235 ⇾  0.571281590658235 ⇾ 10010010001111111000001010100100  \n",
      "   8 ⇾  ∛19 ⇾  2.668401648721945 ⇾  0.668401648721945 ⇾ 10101011000111000101111011010101  \n",
      "   9 ⇾  ∛23 ⇾ 2.8438669798515654 ⇾ 0.8438669798515654 ⇾ 11011000000001111010101010011000  \n",
      "  10 ⇾  ∛29 ⇾  3.072316825685847 ⇾  0.072316825685847 ⇾ 00010010100000110101101100000001  \n",
      "  11 ⇾  ∛31 ⇾ 3.1413806523913927 ⇾ 0.1413806523913927 ⇾ 00100100001100011000010110111110  \n",
      "  12 ⇾  ∛37 ⇾  3.332221851645953 ⇾  0.332221851645953 ⇾ 01010101000011000111110111000011  \n",
      "  13 ⇾  ∛41 ⇾ 3.4482172403827303 ⇾ 0.4482172403827303 ⇾ 01110010101111100101110101110100  \n",
      "  14 ⇾  ∛43 ⇾  3.503398060386724 ⇾  0.503398060386724 ⇾ 10000000110111101011000111111110  \n",
      "  15 ⇾  ∛47 ⇾ 3.6088260801386944 ⇾ 0.6088260801386944 ⇾ 10011011110111000000011010100111  \n",
      "  16 ⇾  ∛53 ⇾  3.756285754221072 ⇾  0.756285754221072 ⇾ 11000001100110111111000101110100  \n",
      "  17 ⇾  ∛59 ⇾ 3.8929964158732604 ⇾ 0.8929964158732604 ⇾ 11100100100110110110100111000001  \n",
      "  18 ⇾  ∛61 ⇾ 3.9364971831021727 ⇾ 0.9364971831021727 ⇾ 11101111101111100100011110000110  \n",
      "  19 ⇾  ∛67 ⇾ 4.0615481004456795 ⇾ 0.0615481004456795 ⇾ 00001111110000011001110111000110  \n",
      "  20 ⇾  ∛71 ⇾  4.140817749422853 ⇾  0.140817749422853 ⇾ 00100100000011001010000111001100  \n",
      "  21 ⇾  ∛73 ⇾  4.179339196381232 ⇾  0.179339196381232 ⇾ 00101101111010010010110001101111  \n",
      "  22 ⇾  ∛79 ⇾  4.290840427026207 ⇾  0.290840427026207 ⇾ 01001010011101001000010010101010  \n",
      "  23 ⇾  ∛83 ⇾  4.362070671454838 ⇾  0.362070671454838 ⇾ 01011100101100001010100111011100  \n",
      "  24 ⇾  ∛89 ⇾  4.464745095584537 ⇾  0.464745095584537 ⇾ 01110110111110011000100011011010  \n",
      "  25 ⇾  ∛97 ⇾  4.594700892207039 ⇾  0.594700892207039 ⇾ 10011000001111100101000101010010  \n",
      "  26 ⇾ ∛101 ⇾  4.657009507803835 ⇾  0.657009507803835 ⇾ 10101000001100011100011001101101  \n",
      "  27 ⇾ ∛103 ⇾  4.687548147653597 ⇾  0.687548147653597 ⇾ 10110000000000110010011111001000  \n",
      "  28 ⇾ ∛107 ⇾    4.7474593985234 ⇾    0.7474593985234 ⇾ 10111111010110010111111111000111  \n",
      "  29 ⇾ ∛109 ⇾  4.776856181035017 ⇾  0.776856181035017 ⇾ 11000110111000000000101111110011  \n",
      "  30 ⇾ ∛113 ⇾  4.834588127111639 ⇾  0.834588127111639 ⇾ 11010101101001111001000101000111  \n",
      "  31 ⇾ ∛127 ⇾  5.026525695313479 ⇾  0.026525695313479 ⇾ 00000110110010100110001101010001  \n",
      "  32 ⇾ ∛131 ⇾    5.0787530781327 ⇾    0.0787530781327 ⇾ 00010100001010010010100101100111  \n",
      "  33 ⇾ ∛137 ⇾  5.155136735475772 ⇾  0.155136735475772 ⇾ 00100111101101110000101010000101  \n",
      "  34 ⇾ ∛139 ⇾  5.180101467380292 ⇾  0.180101467380292 ⇾ 00101110000110110010000100111000  \n",
      "  35 ⇾ ∛149 ⇾  5.301459192380904 ⇾  0.301459192380904 ⇾ 01001101001011000110110111111100  \n",
      "  36 ⇾ ∛151 ⇾  5.325074021614986 ⇾  0.325074021614986 ⇾ 01010011001110000000110100010011  \n",
      "  37 ⇾ ∛157 ⇾  5.394690712109591 ⇾  0.394690712109591 ⇾ 01100101000010100111001101010100  \n",
      "  38 ⇾ ∛163 ⇾  5.462555571281397 ⇾  0.462555571281397 ⇾ 01110110011010100000101010111011  \n",
      "  39 ⇾ ∛167 ⇾  5.506878446387352 ⇾  0.506878446387352 ⇾ 10000001110000101100100100101110  \n",
      "  40 ⇾ ∛173 ⇾ 5.5720546555426225 ⇾ 0.5720546555426225 ⇾ 10010010011100100010110010000101  \n",
      "  41 ⇾ ∛179 ⇾  5.635740794544236 ⇾  0.635740794544236 ⇾ 10100010101111111110100010100001  \n",
      "  42 ⇾ ∛181 ⇾   5.65665282582291 ⇾   0.65665282582291 ⇾ 10101000000110100110011001001011  \n",
      "  43 ⇾ ∛191 ⇾  5.758965220492401 ⇾  0.758965220492401 ⇾ 11000010010010111000101101110000  \n",
      "  44 ⇾ ∛193 ⇾  5.778996565152129 ⇾  0.778996565152129 ⇾ 11000111011011000101000110100011  \n",
      "  45 ⇾ ∛197 ⇾  5.818647867496961 ⇾  0.818647867496961 ⇾ 11010001100100101110100000011001  \n",
      "  46 ⇾ ∛199 ⇾  5.838272460814002 ⇾  0.838272460814002 ⇾ 11010110100110010000011000100100  \n",
      "  47 ⇾ ∛211 ⇾  5.953341813139051 ⇾  0.953341813139051 ⇾ 11110100000011100011010110000101  \n",
      "  48 ⇾ ∛223 ⇾  6.064126994506963 ⇾  0.064126994506963 ⇾ 00010000011010101010000001110000  \n",
      "  49 ⇾ ∛227 ⇾  6.100170200393062 ⇾  0.100170200393062 ⇾ 00011001101001001100000100010110  \n",
      "  50 ⇾ ∛229 ⇾   6.11803317263662 ⇾   0.11803317263662 ⇾ 00011110001101110110110000001000  \n",
      "  51 ⇾ ∛233 ⇾  6.153449493663682 ⇾  0.153449493663682 ⇾ 00100111010010000111011101001100  \n",
      "  52 ⇾ ∛239 ⇾  6.205821794895751 ⇾  0.205821794895751 ⇾ 00110100101100001011110010110101  \n",
      "  53 ⇾ ∛241 ⇾  6.223084253206058 ⇾  0.223084253206058 ⇾ 00111001000111000000110010110011  \n",
      "  54 ⇾ ∛251 ⇾  6.307993548663267 ⇾  0.307993548663267 ⇾ 01001110110110001010101001001010  \n",
      "  55 ⇾ ∛257 ⇾    6.3578611797342 ⇾    0.3578611797342 ⇾ 01011011100111001100101001001111  \n",
      "  56 ⇾ ∛263 ⇾ 6.4069585771855575 ⇾ 0.4069585771855575 ⇾ 01101000001011100110111111110011  \n",
      "  57 ⇾ ∛269 ⇾  6.455314810938885 ⇾  0.455314810938885 ⇾ 01110100100011111000001011101110  \n",
      "  58 ⇾ ∛271 ⇾  6.471273626960365 ⇾  0.471273626960365 ⇾ 01111000101001010110001101101111  \n",
      "  59 ⇾ ∛277 ⇾  6.518683915173769 ⇾  0.518683915173769 ⇾ 10000100110010000111100000010100  \n",
      "  60 ⇾ ∛281 ⇾  6.549911620119374 ⇾  0.549911620119374 ⇾ 10001100110001110000001000001000  \n",
      "  61 ⇾ ∛283 ⇾  6.565414427346138 ⇾  0.565414427346138 ⇾ 10010000101111101111111111111010  \n",
      "  62 ⇾ ∛293 ⇾ 6.6418521953442085 ⇾ 0.6418521953442085 ⇾ 10100100010100000110110011101011  \n",
      "  63 ⇾ ∛307 ⇾  6.745996711705424 ⇾  0.745996711705424 ⇾ 10111110111110011010001111110111  \n",
      "  64 ⇾ ∛311 ⇾  6.775168952273312 ⇾  0.775168952273312 ⇾ 11000110011100010111100011110010  \n"
     ]
    }
   ],
   "source": [
    "first64primes = [2, 3, 5, 7, 11, 13, 17, 19, 23, 29, 31, 37, 41, 43, 47, 53, 59, 61, 67, 71, 73, 79, 83, 89,\n",
    " 97, 101, 103, 107, 109, 113, 127, 131, 137, 139, 149, 151, 157, 163, 167, 173, 179, 181, 191, 193, 197,\n",
    " 199, 211, 223, 227, 229, 233, 239, 241, 251, 257, 263, 269, 271, 277, 281, 283, 293, 307, 311]\n",
    "\n",
    "K = [] # The list is indexed from 0 even tho is printed starting form 1.\n",
    "\n",
    "def frac2bin(frac):\n",
    "    x = floor(frac*(2**32))\n",
    "    bin32 = \"\"\n",
    "    \n",
    "    for _ in range(32):\n",
    "        bin32 += str(x % 2)\n",
    "        x = x // 2\n",
    "\n",
    "    return bin32[::-1]\n",
    "    \n",
    "\n",
    "\n",
    "for j, i in enumerate(first64primes):\n",
    "    sqrt3 = i**(1./3.)\n",
    "    deciaml_part = float(str(sqrt3)[1:])\n",
    "    K.append(bitarray(frac2bin(deciaml_part)))\n",
    "\n",
    "    print(\"{:>4} \\u21FE {:>4} \\u21FE {:>18} \\u21FE {:>18} \\u21FE {:>32}  \".format(j+1, \"\\u221B\"+str(i), sqrt3, deciaml_part,K[j].to01()))\n",
    "\n",
    "del first64primes, deciaml_part, sqrt3, i, j\n",
    "\n"
   ]
  },
  {
   "cell_type": "markdown",
   "metadata": {},
   "source": [
    "***\n",
    "<a ID=\"Hashing\"></a>\n",
    "## Hashing\n",
    "\n",
    "1. [Encode](#Encode)\n",
    "2. [Padding](#Padding)\n",
    "3. [Block Iterator](#Block-Iterator)\n",
    "\n",
    "\n",
    "\n",
    "<a ID=\"Encode\"></a>\n",
    "### Encode\n",
    "Always use the same encode to have a solid and consistent output; in the case of SHA256 we use ASCII (American Standard Code II)"
   ]
  },
  {
   "cell_type": "code",
   "execution_count": 16,
   "metadata": {},
   "outputs": [
    {
     "name": "stdout",
     "output_type": "stream",
     "text": [
      "Message:\n",
      "\tInput: \"abc\"\n",
      "\tEncoding: ASCII\n",
      "\tMessage: 011000010110001001100011\n"
     ]
    }
   ],
   "source": [
    "string = \"abc\"\n",
    "message = bitarray(endian='big')\n",
    "message.frombytes(string.encode('ascii')) # passing it to binary with a ASCII encoding\n",
    "\n",
    "print(\"Message:\")\n",
    "print(\"\\t{} \\\"{}\\\"\".format(\"Input:\", string))\n",
    "print(\"\\tEncoding: ASCII\")\n",
    "print(\"\\t{} {}\".format(\"Message:\", message.to01()))\n",
    "\n"
   ]
  },
  {
   "cell_type": "markdown",
   "metadata": {},
   "source": [
    "<a ID=\"Padding\"></a>\n",
    "### Padding\n",
    "Hashing algorithms work in badges or blocks. Padding adds bits to make the message length a multiple of the block size required."
   ]
  },
  {
   "cell_type": "code",
   "execution_count": 17,
   "metadata": {},
   "outputs": [
    {
     "name": "stdout",
     "output_type": "stream",
     "text": [
      "SHA-256 block size: 512 bits\n"
     ]
    }
   ],
   "source": [
    "m = sha256()\n",
    "print(f\"SHA-256 block size: {m.block_size*8} bits\")\n",
    "\n",
    "del m"
   ]
  },
  {
   "cell_type": "markdown",
   "metadata": {},
   "source": [
    "Pdding structure:\n",
    "* Padding flag bit, added right after the message.\n",
    "* Cero padding, ceros added to the message in order to make its length a multiple of the block.\n",
    "* Length on the message encoded in the last 64 bits."
   ]
  },
  {
   "cell_type": "code",
   "execution_count": 104,
   "metadata": {},
   "outputs": [
    {
     "name": "stdout",
     "output_type": "stream",
     "text": [
      "Padding message size: 512 bits\n",
      "Message:\n",
      "\u001b[95m0\u001b[95m1\u001b[95m1\u001b[95m0\u001b[95m0\u001b[95m0\u001b[95m0\u001b[95m1\u001b[95m0\u001b[95m1\u001b[95m1\u001b[95m0\u001b[95m0\u001b[95m0\u001b[95m1\u001b[95m0\u001b[95m0\u001b[95m1\u001b[95m1\u001b[95m0\u001b[95m0\u001b[95m0\u001b[95m1\u001b[95m1\u001b[91m1\u001b[93m0\u001b[93m0\u001b[93m0\u001b[93m0\u001b[93m0\u001b[93m0\u001b[93m0\u001b[93m0\u001b[93m0\u001b[93m0\u001b[93m0\u001b[93m0\u001b[93m0\u001b[93m0\u001b[93m0\u001b[93m0\u001b[93m0\u001b[93m0\u001b[93m0\u001b[93m0\u001b[93m0\u001b[93m0\u001b[93m0\u001b[93m0\u001b[93m0\u001b[93m0\u001b[93m0\u001b[93m0\u001b[93m0\u001b[93m0\u001b[93m0\u001b[93m0\u001b[93m0\u001b[93m0\u001b[93m0\u001b[93m0\u001b[93m0\u001b[93m0\u001b[93m0\u001b[93m0\u001b[93m0\u001b[93m0\u001b[93m0\u001b[93m0\u001b[93m0\u001b[93m0\u001b[93m0\u001b[93m0\u001b[93m0\u001b[93m0\u001b[93m0\u001b[93m0\u001b[93m0\u001b[93m0\u001b[93m0\u001b[93m0\u001b[93m0\u001b[93m0\u001b[93m0\u001b[93m0\u001b[93m0\u001b[93m0\u001b[93m0\u001b[93m0\u001b[93m0\u001b[93m0\u001b[93m0\u001b[93m0\u001b[93m0\u001b[93m0\u001b[93m0\u001b[93m0\u001b[93m0\u001b[93m0\u001b[93m0\u001b[93m0\u001b[93m0\u001b[93m0\u001b[93m0\u001b[93m0\u001b[93m0\u001b[93m0\u001b[93m0\u001b[93m0\u001b[93m0\u001b[93m0\u001b[93m0\u001b[93m0\u001b[93m0\u001b[93m0\u001b[93m0\u001b[93m0\u001b[93m0\u001b[93m0\u001b[93m0\u001b[93m0\u001b[93m0\u001b[93m0\u001b[93m0\u001b[93m0\u001b[93m0\u001b[93m0\u001b[93m0\u001b[93m0\u001b[93m0\u001b[93m0\u001b[93m0\u001b[93m0\u001b[93m0\u001b[93m0\u001b[93m0\u001b[93m0\u001b[93m0\u001b[93m0\u001b[93m0\u001b[93m0\u001b[93m0\u001b[93m0\u001b[93m0\u001b[93m0\u001b[93m0\u001b[93m0\u001b[93m0\u001b[93m0\u001b[93m0\u001b[93m0\u001b[93m0\u001b[93m0\u001b[93m0\u001b[93m0\u001b[93m0\u001b[93m0\u001b[93m0\u001b[93m0\u001b[93m0\u001b[93m0\u001b[93m0\u001b[93m0\u001b[93m0\u001b[93m0\u001b[93m0\u001b[93m0\u001b[93m0\u001b[93m0\u001b[93m0\u001b[93m0\u001b[93m0\u001b[93m0\u001b[93m0\u001b[93m0\u001b[93m0\u001b[93m0\u001b[93m0\u001b[93m0\u001b[93m0\u001b[93m0\u001b[93m0\u001b[93m0\u001b[93m0\u001b[93m0\u001b[93m0\u001b[93m0\u001b[93m0\u001b[93m0\u001b[93m0\u001b[93m0\u001b[93m0\u001b[93m0\u001b[93m0\u001b[93m0\u001b[93m0\u001b[93m0\u001b[93m0\u001b[93m0\u001b[93m0\u001b[93m0\u001b[93m0\u001b[93m0\u001b[93m0\u001b[93m0\u001b[93m0\u001b[93m0\u001b[93m0\u001b[93m0\u001b[93m0\u001b[93m0\u001b[93m0\u001b[93m0\u001b[93m0\u001b[93m0\u001b[93m0\u001b[93m0\u001b[93m0\u001b[93m0\u001b[93m0\u001b[93m0\u001b[93m0\u001b[93m0\u001b[93m0\u001b[93m0\u001b[93m0\u001b[93m0\u001b[93m0\u001b[93m0\u001b[93m0\u001b[93m0\u001b[93m0\u001b[93m0\u001b[93m0\u001b[93m0\u001b[93m0\u001b[93m0\u001b[93m0\u001b[93m0\u001b[93m0\u001b[93m0\u001b[93m0\u001b[93m0\u001b[93m0\u001b[93m0\u001b[93m0\u001b[93m0\u001b[93m0\u001b[93m0\u001b[93m0\u001b[93m0\u001b[93m0\u001b[93m0\u001b[93m0\u001b[93m0\u001b[93m0\u001b[93m0\u001b[93m0\u001b[93m0\u001b[93m0\u001b[93m0\u001b[93m0\u001b[93m0\u001b[93m0\u001b[93m0\u001b[93m0\u001b[93m0\u001b[93m0\u001b[93m0\u001b[93m0\u001b[93m0\u001b[93m0\u001b[93m0\u001b[93m0\u001b[93m0\u001b[93m0\u001b[93m0\u001b[93m0\u001b[93m0\u001b[93m0\u001b[93m0\u001b[93m0\u001b[93m0\u001b[93m0\u001b[93m0\u001b[93m0\u001b[93m0\u001b[93m0\u001b[93m0\u001b[93m0\u001b[93m0\u001b[93m0\u001b[93m0\u001b[93m0\u001b[93m0\u001b[93m0\u001b[93m0\u001b[93m0\u001b[93m0\u001b[93m0\u001b[93m0\u001b[93m0\u001b[93m0\u001b[93m0\u001b[93m0\u001b[93m0\u001b[93m0\u001b[93m0\u001b[93m0\u001b[93m0\u001b[93m0\u001b[93m0\u001b[93m0\u001b[93m0\u001b[93m0\u001b[93m0\u001b[93m0\u001b[93m0\u001b[93m0\u001b[93m0\u001b[93m0\u001b[93m0\u001b[93m0\u001b[93m0\u001b[93m0\u001b[93m0\u001b[93m0\u001b[93m0\u001b[93m0\u001b[93m0\u001b[93m0\u001b[93m0\u001b[93m0\u001b[93m0\u001b[93m0\u001b[93m0\u001b[93m0\u001b[93m0\u001b[93m0\u001b[93m0\u001b[93m0\u001b[93m0\u001b[93m0\u001b[93m0\u001b[93m0\u001b[93m0\u001b[93m0\u001b[93m0\u001b[93m0\u001b[93m0\u001b[93m0\u001b[93m0\u001b[93m0\u001b[93m0\u001b[93m0\u001b[93m0\u001b[93m0\u001b[93m0\u001b[93m0\u001b[93m0\u001b[93m0\u001b[93m0\u001b[93m0\u001b[93m0\u001b[93m0\u001b[93m0\u001b[93m0\u001b[93m0\u001b[93m0\u001b[93m0\u001b[93m0\u001b[93m0\u001b[93m0\u001b[93m0\u001b[93m0\u001b[93m0\u001b[93m0\u001b[93m0\u001b[93m0\u001b[93m0\u001b[93m0\u001b[93m0\u001b[93m0\u001b[93m0\u001b[93m0\u001b[93m0\u001b[93m0\u001b[93m0\u001b[93m0\u001b[93m0\u001b[93m0\u001b[93m0\u001b[93m0\u001b[93m0\u001b[93m0\u001b[93m0\u001b[93m0\u001b[93m0\u001b[93m0\u001b[93m0\u001b[93m0\u001b[93m0\u001b[93m0\u001b[93m0\u001b[93m0\u001b[93m0\u001b[93m0\u001b[93m0\u001b[93m0\u001b[93m0\u001b[93m0\u001b[93m0\u001b[93m0\u001b[93m0\u001b[93m0\u001b[93m0\u001b[93m0\u001b[93m0\u001b[93m0\u001b[93m0\u001b[93m0\u001b[93m0\u001b[93m0\u001b[93m0\u001b[93m0\u001b[93m0\u001b[93m0\u001b[93m0\u001b[93m0\u001b[93m0\u001b[93m0\u001b[93m0\u001b[93m0\u001b[93m0\u001b[93m0\u001b[93m0\u001b[93m0\u001b[93m0\u001b[93m0\u001b[93m0\u001b[93m0\u001b[93m0\u001b[93m0\u001b[93m0\u001b[93m0\u001b[93m0\u001b[93m0\u001b[93m0\u001b[96m0\u001b[96m0\u001b[96m0\u001b[96m0\u001b[96m0\u001b[96m0\u001b[96m0\u001b[96m0\u001b[96m0\u001b[96m0\u001b[96m0\u001b[96m0\u001b[96m0\u001b[96m0\u001b[96m0\u001b[96m0\u001b[96m0\u001b[96m0\u001b[96m0\u001b[96m0\u001b[96m0\u001b[96m0\u001b[96m0\u001b[96m0\u001b[96m0\u001b[96m0\u001b[96m0\u001b[96m0\u001b[96m0\u001b[96m0\u001b[96m0\u001b[96m0\u001b[96m0\u001b[96m0\u001b[96m0\u001b[96m0\u001b[96m0\u001b[96m0\u001b[96m0\u001b[96m0\u001b[96m0\u001b[96m0\u001b[96m0\u001b[96m0\u001b[96m0\u001b[96m0\u001b[96m0\u001b[96m0\u001b[96m0\u001b[96m0\u001b[96m0\u001b[96m0\u001b[96m0\u001b[96m0\u001b[96m0\u001b[96m0\u001b[96m0\u001b[96m0\u001b[96m0\u001b[94m1\u001b[94m1\u001b[94m0\u001b[94m0\u001b[94m0\n",
      "\u001b[95m▉ Message\n",
      "\u001b[91m▉ Padding flag\n",
      "\u001b[93m▉ Padding\n",
      "\u001b[96m▉ Reserved bits for mesage length\n",
      "\u001b[94m▉ Message length\n"
     ]
    }
   ],
   "source": [
    "def padding(message):\n",
    "\n",
    "    p_message = message.to01()\n",
    "    blocks = len(message) // 512 +1 # Number of block the message is gonna take\n",
    "\n",
    "    p_message += '1' # Padding flag\n",
    "\n",
    "    # Same result as the commented loop\n",
    "    p_message += '0'*(blocks*512 - 64 - len(p_message))\n",
    "    #for _ in range(len(p_message), blocks*512 - 64):\n",
    "    #    p_message += '0'\n",
    "\n",
    "    # Last 64 bits with message length\n",
    "    bin_len_message = bin(len(message))[2:]\n",
    "    len_bin_len_message = len(bin_len_message)\n",
    "    p_message += '0'*(64-len_bin_len_message) + bin_len_message\n",
    "\n",
    "    return bitarray(p_message)\n",
    "\n",
    "\n",
    "\n",
    "p_message = padding(message)\n",
    "\n",
    "print(f\"Padding message size: {len(p_message)} bits\")\n",
    "print(\"Message:\")\n",
    "\n",
    "colors = {'Message':'\\033[95m', 'Padding flag':'\\033[91m', 'Padding':'\\033[93m', 'Length':'\\033[96m', 'Message Length':'\\033[94m'}\n",
    "\n",
    "for i, bit in enumerate(p_message.to01()):\n",
    "    if i >= len(p_message) - len(bin(len(message))[2:]):\n",
    "        color = colors['Message Length']\n",
    "    elif i >= len(p_message) - 64:\n",
    "        color = colors['Length']\n",
    "    elif i >= len(message) + 1:\n",
    "        color = colors['Padding']\n",
    "    elif i >= len(message):\n",
    "        color = colors['Padding flag']\n",
    "    else:\n",
    "        color = colors['Message']\n",
    "    print(color+bit, end=\"\")\n",
    "\n",
    "print(f\"\\n{colors['Message']}\\u2589 {'Message'}\")\n",
    "print(f\"{colors['Padding flag']}\\u2589 {'Padding flag'}\")\n",
    "print(f\"{colors['Padding']}\\u2589 {'Padding'}\")\n",
    "print(f\"{colors['Length']}\\u2589 {'Reserved bits for mesage length'}\")\n",
    "print(f\"{colors['Message Length']}\\u2589 {'Message length'}\")\n",
    "\n",
    "del color, colors, bit, i"
   ]
  },
  {
   "cell_type": "markdown",
   "metadata": {},
   "source": [
    "<a ID=\"Block-Iterator\"></a>\n",
    "### Block Iterator"
   ]
  },
  {
   "cell_type": "code",
   "execution_count": 108,
   "metadata": {},
   "outputs": [],
   "source": [
    "def blck_iter(message):\n",
    "    N_blck = len(message) // 512\n",
    "    print(N_blck)\n",
    "    for blck in range(N_blck):\n",
    "        yield message[blck*512:(blck+1)*512]"
   ]
  },
  {
   "cell_type": "code",
   "execution_count": 110,
   "metadata": {},
   "outputs": [
    {
     "name": "stdout",
     "output_type": "stream",
     "text": [
      "1\n",
      "bitarray('01100001011000100110001110000000000000000000000000000000000000000000000000000000000000000000000000000000000000000000000000000000000000000000000000000000000000000000000000000000000000000000000000000000000000000000000000000000000000000000000000000000000000000000000000000000000000000000000000000000000000000000000000000000000000000000000000000000000000000000000000000000000000000000000000000000000000000000000000000000000000000000000000000000000000000000000000000000000000000000000000000000000000000000000000011000')\n"
     ]
    }
   ],
   "source": [
    "\n",
    "for i in blck_iter(p_message):\n",
    "    print(i)"
   ]
  }
 ],
 "metadata": {
  "interpreter": {
   "hash": "6323c9ba79aef14337336f5a3398d4ba2df567d4709c3031a5d2dd21f71a5c41"
  },
  "kernelspec": {
   "display_name": "Python 3.9.7 64-bit (windows store)",
   "language": "python",
   "name": "python3"
  },
  "language_info": {
   "codemirror_mode": {
    "name": "ipython",
    "version": 3
   },
   "file_extension": ".py",
   "mimetype": "text/x-python",
   "name": "python",
   "nbconvert_exporter": "python",
   "pygments_lexer": "ipython3",
   "version": "3.9.7"
  },
  "orig_nbformat": 4
 },
 "nbformat": 4,
 "nbformat_minor": 2
}
