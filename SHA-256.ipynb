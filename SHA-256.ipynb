{
 "cells": [
  {
   "cell_type": "markdown",
   "metadata": {},
   "source": [
    "# How does SHA-256 work?\n",
    "### Simple hasing algorithm 256"
   ]
  },
  {
   "cell_type": "code",
   "execution_count": 48,
   "metadata": {},
   "outputs": [
    {
     "name": "stdout",
     "output_type": "stream",
     "text": [
      "Hash type:\tsha256\n",
      "Void digest:\te3b0c44298fc1c149afbf4c8996fb92427ae41e4649b934ca495991b7852b855\n",
      "Digest size:\t32\n",
      "\n",
      "String:\tHello World!\n",
      "Digest:\t7f83b1657ff1fc53b92dc18148a1d65dfc2d4b1fa3d677284addd200126d9069\n"
     ]
    }
   ],
   "source": [
    "from hashlib import sha256\n",
    "\n",
    "m = sha256()\n",
    "print(f\"Hash type:\\t{m.name}\")\n",
    "print(f\"Void digest:\\t{m.hexdigest()}\")\n",
    "print(f\"Digest size:\\t{m.digest_size}\")\n",
    "\n",
    "string = \"Hello World!\"\n",
    "m.update(string.encode())\n",
    "print(f\"\\nString:\\t{string}\")\n",
    "print(f\"Digest:\\t{m.hexdigest()}\")\n"
   ]
  },
  {
   "cell_type": "markdown",
   "metadata": {},
   "source": [
    "## Atomic bit level operations\n",
    "\n",
    "1. SHR\n",
    "2. ROTR\n",
    "3. XOR\n",
    "4. SUM"
   ]
  },
  {
   "cell_type": "code",
   "execution_count": 49,
   "metadata": {},
   "outputs": [],
   "source": [
    "from bitarray import bitarray\n",
    "from time import sleep"
   ]
  },
  {
   "cell_type": "markdown",
   "metadata": {},
   "source": [
    "### 1. SHR\n",
    "Shift right"
   ]
  },
  {
   "cell_type": "code",
   "execution_count": 50,
   "metadata": {},
   "outputs": [
    {
     "name": "stdout",
     "output_type": "stream",
     "text": [
      "      A: 11111111000000001111111100000000\n",
      " SHR 32: 00000000000000000000000000000000"
     ]
    }
   ],
   "source": [
    "def shr(bits, shifts):\n",
    "    for _ in range(shifts):\n",
    "        bits.pop()\n",
    "        bits.insert(0, 0)\n",
    "    return bits\n",
    "\n",
    "a = bitarray(endian='big')\n",
    "a.frombytes(b'\\xff\\x00\\xff\\x00')\n",
    "\n",
    "print(\"{:>8} {:>32}\".format(\"A:\", a.to01()))\n",
    "for i in range(32):\n",
    "    print(\"\\r{:>8} {:>32}\".format(\"SHR \"+str(i+1)+\":\", shr(a,1).to01()), end=\"\")\n",
    "    sleep(0.2)\n",
    "del a, i"
   ]
  },
  {
   "cell_type": "markdown",
   "metadata": {},
   "source": [
    "### 2. ROTR\n",
    "Rotation right"
   ]
  },
  {
   "cell_type": "code",
   "execution_count": 51,
   "metadata": {},
   "outputs": [
    {
     "name": "stdout",
     "output_type": "stream",
     "text": [
      "      A: 11111111000000001111111100000000\n",
      "ROTR 32: 11111111000000001111111100000000"
     ]
    }
   ],
   "source": [
    "def rotr(bits, shifts):\n",
    "    for _ in range(shifts):\n",
    "        bits.insert(0,bits.pop())\n",
    "    return bits\n",
    "\n",
    "a = bitarray(endian='big')\n",
    "a.frombytes(b'\\xff\\x00\\xff\\x00')\n",
    "\n",
    "print(\"{:>8} {:>32}\".format(\"A:\", a.to01()))\n",
    "for i in range(32):\n",
    "    print(\"\\r{:>8} {:>32}\".format(\"ROTR \"+str(i+1)+\":\", rotr(a,1).to01()), end=\"\")\n",
    "    sleep(0.2)\n",
    "del a, i"
   ]
  },
  {
   "cell_type": "markdown",
   "metadata": {},
   "source": [
    "### 3. XOR\n",
    "Exclusive OR\n",
    "\n",
    "\n",
    "\n",
    "| A | B | XOR |\n",
    "|---|---|-----|\n",
    "| 0 | 0 | 0   |\n",
    "| 0 | 1 | 1   |\n",
    "| 1 | 0 | 1   |\n",
    "| 1 | 1 | 0   |   \n",
    "\n"
   ]
  },
  {
   "cell_type": "code",
   "execution_count": 52,
   "metadata": {},
   "outputs": [
    {
     "name": "stdout",
     "output_type": "stream",
     "text": [
      "      A: 11111111000000001111111100000000\n",
      "      B: 00000000111111111111111100000000 XOR\n",
      "         --------------------------------\n",
      "         11111111111111110000000000000000"
     ]
    }
   ],
   "source": [
    "def xor(a, b):\n",
    "    return a^b\n",
    "\n",
    "a = bitarray(endian='big')\n",
    "b = bitarray(endian='big')\n",
    "a.frombytes(b'\\xff\\x00\\xff\\x00')\n",
    "b.frombytes(b'\\x00\\xff\\xff\\x00')\n",
    "\n",
    "print(\"{:>8} {:>32}\".format(\"A:\", a.to01()))\n",
    "print(\"{:>8} {:>32} XOR\".format(\"B:\", b.to01()))\n",
    "print(\"{:>8} {:>32}\".format(\"\", \"-\"*32))\n",
    "for i in range(32):\n",
    "    print(\"\\r{:>8} {:>32}\".format(\"\", xor(a,b).to01()[32-1-i:]), end=\"\")\n",
    "    sleep(0.2)\n",
    "del a, b, i\n"
   ]
  },
  {
   "cell_type": "markdown",
   "metadata": {},
   "source": [
    "### 4. SUM\n",
    "Binary addition <br>\n",
    "Mod 32, ignoring the carry out that will overflow the 32 bit."
   ]
  },
  {
   "cell_type": "code",
   "execution_count": 74,
   "metadata": {},
   "outputs": [
    {
     "name": "stdout",
     "output_type": "stream",
     "text": [
      "      A: 10000000001100001111111111111111\n",
      "      B: 10000000010100000000000000000000 +\n",
      "         --------------------------------\n",
      "         00000000100000001111111111111111"
     ]
    }
   ],
   "source": [
    "def add(a, b):\n",
    "    result = bitarray(endian='big')\n",
    "    carry = 0\n",
    "    for i in range(32-1, -1, -1):\n",
    "        result.insert(0,(a[i]^b[i]^carry))\n",
    "        carry = 1 if (a[i] + b[i] + carry) > 1 else 0\n",
    "    return result\n",
    "\n",
    "\n",
    "a = bitarray(endian='big')\n",
    "b = bitarray(endian='big')\n",
    "a.frombytes(b'\\x80\\x30\\xff\\xff')\n",
    "b.frombytes(b'\\x80\\x50\\x00\\x00')\n",
    "\n",
    "print(\"{:>8} {:>32}\".format(\"A:\", a.to01()))\n",
    "print(\"{:>8} {:>32} +\".format(\"B:\", b.to01()))\n",
    "print(\"{:>8} {:>32}\".format(\"\", \"-\"*32))\n",
    "out = add(a,b)\n",
    "for i in range(32):\n",
    "    print(\"\\r{:>8} {:>32}\".format(\"\", out.to01()[32-1-i:]), end=\"\")\n",
    "    sleep(0.2)\n",
    "del a, b, i"
   ]
  }
 ],
 "metadata": {
  "interpreter": {
   "hash": "6323c9ba79aef14337336f5a3398d4ba2df567d4709c3031a5d2dd21f71a5c41"
  },
  "kernelspec": {
   "display_name": "Python 3.9.7 64-bit (windows store)",
   "language": "python",
   "name": "python3"
  },
  "language_info": {
   "codemirror_mode": {
    "name": "ipython",
    "version": 3
   },
   "file_extension": ".py",
   "mimetype": "text/x-python",
   "name": "python",
   "nbconvert_exporter": "python",
   "pygments_lexer": "ipython3",
   "version": "3.9.7"
  },
  "orig_nbformat": 4
 },
 "nbformat": 4,
 "nbformat_minor": 2
}
