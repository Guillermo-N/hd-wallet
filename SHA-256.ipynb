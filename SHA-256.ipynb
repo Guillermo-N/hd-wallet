{
 "cells": [
  {
   "cell_type": "markdown",
   "metadata": {},
   "source": [
    "# How does SHA-256 work?\n",
    "### Simple hasing algorithm 256"
   ]
  },
  {
   "cell_type": "code",
   "execution_count": 75,
   "metadata": {},
   "outputs": [
    {
     "name": "stdout",
     "output_type": "stream",
     "text": [
      "Hash type:\tsha256\n",
      "Void digest:\te3b0c44298fc1c149afbf4c8996fb92427ae41e4649b934ca495991b7852b855\n",
      "Digest size:\t32\n",
      "\n",
      "String:\tHello World!\n",
      "Digest:\t7f83b1657ff1fc53b92dc18148a1d65dfc2d4b1fa3d677284addd200126d9069\n"
     ]
    }
   ],
   "source": [
    "from hashlib import sha256\n",
    "\n",
    "m = sha256()\n",
    "print(f\"Hash type:\\t{m.name}\")\n",
    "print(f\"Void digest:\\t{m.hexdigest()}\")\n",
    "print(f\"Digest size:\\t{m.digest_size}\")\n",
    "\n",
    "string = \"Hello World!\"\n",
    "m.update(string.encode())\n",
    "print(f\"\\nString:\\t{string}\")\n",
    "print(f\"Digest:\\t{m.hexdigest()}\")\n"
   ]
  },
  {
   "cell_type": "markdown",
   "metadata": {},
   "source": [
    "## Atomic bit level operations\n",
    "\n",
    "1. SHR\n",
    "2. ROTR\n",
    "3. XOR\n",
    "4. SUM"
   ]
  },
  {
   "cell_type": "code",
   "execution_count": 127,
   "metadata": {},
   "outputs": [],
   "source": [
    "from IPython.display import clear_output\n",
    "from bitarray import bitarray\n",
    "from time import sleep"
   ]
  },
  {
   "cell_type": "markdown",
   "metadata": {},
   "source": [
    "### 1. SHR\n",
    "Shift right"
   ]
  },
  {
   "cell_type": "code",
   "execution_count": 77,
   "metadata": {},
   "outputs": [
    {
     "name": "stdout",
     "output_type": "stream",
     "text": [
      "      A: 11111111000000001111111100000000\n",
      " SHR 32: 00000000000000000000000000000000"
     ]
    }
   ],
   "source": [
    "def shr(bits, shifts):\n",
    "    for _ in range(shifts):\n",
    "        bits.pop()\n",
    "        bits.insert(0, 0)\n",
    "    return bits\n",
    "\n",
    "a = bitarray(endian='big')\n",
    "a.frombytes(b'\\xff\\x00\\xff\\x00')\n",
    "\n",
    "print(\"{:>8} {:>32}\".format(\"A:\", a.to01()))\n",
    "for i in range(32):\n",
    "    print(\"\\r{:>8} {:>32}\".format(\"SHR \"+str(i+1)+\":\", shr(a,1).to01()), end=\"\")\n",
    "    sleep(0.2)\n",
    "del a, i"
   ]
  },
  {
   "cell_type": "markdown",
   "metadata": {},
   "source": [
    "### 2. ROTR\n",
    "Rotation right"
   ]
  },
  {
   "cell_type": "code",
   "execution_count": 78,
   "metadata": {},
   "outputs": [
    {
     "name": "stdout",
     "output_type": "stream",
     "text": [
      "      A: 11111111000000001111111100000000\n",
      "ROTR 32: 11111111000000001111111100000000"
     ]
    }
   ],
   "source": [
    "def rotr(bits, shifts):\n",
    "    for _ in range(shifts):\n",
    "        bits.insert(0,bits.pop())\n",
    "    return bits\n",
    "\n",
    "a = bitarray(endian='big')\n",
    "a.frombytes(b'\\xff\\x00\\xff\\x00')\n",
    "\n",
    "print(\"{:>8} {:>32}\".format(\"A:\", a.to01()))\n",
    "for i in range(32):\n",
    "    print(\"\\r{:>8} {:>32}\".format(\"ROTR \"+str(i+1)+\":\", rotr(a,1).to01()), end=\"\")\n",
    "    sleep(0.2)\n",
    "del a, i"
   ]
  },
  {
   "cell_type": "markdown",
   "metadata": {},
   "source": [
    "### 3. XOR\n",
    "Exclusive OR\n",
    "\n",
    "\n",
    "\n",
    "| A | B | XOR |\n",
    "|---|---|-----|\n",
    "| 0 | 0 | 0   |\n",
    "| 0 | 1 | 1   |\n",
    "| 1 | 0 | 1   |\n",
    "| 1 | 1 | 0   |   \n",
    "\n"
   ]
  },
  {
   "cell_type": "code",
   "execution_count": 79,
   "metadata": {},
   "outputs": [
    {
     "name": "stdout",
     "output_type": "stream",
     "text": [
      "      A: 11111111000000001111111100000000\n",
      "      B: 00000000111111111111111100000000 XOR\n",
      "         --------------------------------\n",
      "         11111111111111110000000000000000"
     ]
    }
   ],
   "source": [
    "def xor(a, b):\n",
    "    return a^b\n",
    "\n",
    "a = bitarray(endian='big')\n",
    "b = bitarray(endian='big')\n",
    "a.frombytes(b'\\xff\\x00\\xff\\x00')\n",
    "b.frombytes(b'\\x00\\xff\\xff\\x00')\n",
    "\n",
    "print(\"{:>8} {:>32}\".format(\"A:\", a.to01()))\n",
    "print(\"{:>8} {:>32} XOR\".format(\"B:\", b.to01()))\n",
    "print(\"{:>8} {:>32}\".format(\"\", \"-\"*32))\n",
    "for i in range(32):\n",
    "    print(\"\\r{:>8} {:>32}\".format(\"\", xor(a,b).to01()[32-1-i:]), end=\"\")\n",
    "    sleep(0.2)\n",
    "del a, b, i\n"
   ]
  },
  {
   "cell_type": "markdown",
   "metadata": {},
   "source": [
    "### 4. SUM\n",
    "Binary addition <br>\n",
    "Mod 32, ignoring the carry out that will overflow the 32 bit."
   ]
  },
  {
   "cell_type": "code",
   "execution_count": 80,
   "metadata": {},
   "outputs": [
    {
     "name": "stdout",
     "output_type": "stream",
     "text": [
      "      A: 10000000001100001111111111111111\n",
      "      B: 10000000010100000000000000000000 +\n",
      "         --------------------------------\n",
      "         00000000100000001111111111111111"
     ]
    }
   ],
   "source": [
    "def add(a, b):\n",
    "    result = bitarray(endian='big')\n",
    "    carry = 0\n",
    "    for i in range(32-1, -1, -1):\n",
    "        result.insert(0,(a[i]^b[i]^carry))\n",
    "        carry = 1 if (a[i] + b[i] + carry) > 1 else 0\n",
    "    return result\n",
    "\n",
    "\n",
    "a = bitarray(endian='big')\n",
    "b = bitarray(endian='big')\n",
    "a.frombytes(b'\\x80\\x30\\xff\\xff')\n",
    "b.frombytes(b'\\x80\\x50\\x00\\x00')\n",
    "\n",
    "print(\"{:>8} {:>32}\".format(\"A:\", a.to01()))\n",
    "print(\"{:>8} {:>32} +\".format(\"B:\", b.to01()))\n",
    "print(\"{:>8} {:>32}\".format(\"\", \"-\"*32))\n",
    "out = add(a,b)\n",
    "for i in range(32):\n",
    "    print(\"\\r{:>8} {:>32}\".format(\"\", out.to01()[32-1-i:]), end=\"\")\n",
    "    sleep(0.2)\n",
    "del a, b, c, m, i"
   ]
  },
  {
   "cell_type": "markdown",
   "metadata": {},
   "source": [
    "***\n",
    "## Compound operations\n",
    "\n",
    "1. $\\sigma0$\n",
    "2. $\\sigma1$\n",
    "3. $\\Sigma0$\n",
    "4. $\\Sigma1$\n",
    "\n",
    "\n",
    "### 1. $\\sigma0$"
   ]
  },
  {
   "cell_type": "code",
   "execution_count": 113,
   "metadata": {},
   "outputs": [
    {
     "name": "stdout",
     "output_type": "stream",
     "text": [
      " Origin: 00000000000000000011111111111111\n",
      "         --------------------------------\n",
      "ROTR  7: 11111110000000000000000001111111\n",
      "ROTR 18: 00001111111111111100000000000000 XOR\n",
      " SHR  7: 00000000000000000000011111111111 XOR\n",
      "         --------------------------------\n",
      "     σ0: 11110001111111111100011110000000\n"
     ]
    }
   ],
   "source": [
    "def sigma0(a, b, c):\n",
    "    rotr(a, 7)\n",
    "    rotr(b, 18)\n",
    "    shr(c, 3)\n",
    "    return xor(xor(a,b),c)\n",
    "\n",
    "origin = bitarray(endian='big')\n",
    "origin.frombytes(b'\\x00\\x00\\x3f\\xff')\n",
    "\n",
    "a = origin.copy()\n",
    "b = origin.copy()\n",
    "c = origin.copy()\n",
    "\n",
    "result = sigma0(a, b, c)\n",
    "\n",
    "print(\"{:>8} {:>32}\".format(\"Origin:\", origin.to01()))\n",
    "print(\"{:>8} {:>32}\".format(\"\", \"-\"*32))\n",
    "print(\"{:>8} {:>32}\".format(\"ROTR  7:\", a.to01()))\n",
    "print(\"{:>8} {:>32} XOR\".format(\"ROTR 18:\", b.to01()))\n",
    "print(\"{:>8} {:>32} XOR\".format(\"SHR  7:\", c.to01()))\n",
    "print(\"{:>8} {:>32}\".format(\"\", \"-\"*32))\n",
    "print(\"{:>8} {:>32}\".format(\"\\u03C30:\", result.to01()))\n",
    "\n",
    "del a, b, c, result, origin\n",
    "\n"
   ]
  },
  {
   "cell_type": "markdown",
   "metadata": {},
   "source": [
    "### 1. $\\sigma1$"
   ]
  },
  {
   "cell_type": "code",
   "execution_count": 114,
   "metadata": {},
   "outputs": [
    {
     "name": "stdout",
     "output_type": "stream",
     "text": [
      " Origin: 00000000000000000011111111111111\n",
      "         --------------------------------\n",
      "ROTR 17: 00011111111111111000000000000000\n",
      "ROTR 19: 00000111111111111110000000000000 XOR\n",
      " SHR 10: 00000000000000000000000000001111 XOR\n",
      "         --------------------------------\n",
      "     σ1: 00011000000000000110000000001111\n"
     ]
    }
   ],
   "source": [
    "def sigma1(a, b, c):\n",
    "    rotr(a, 17)\n",
    "    rotr(b, 19)\n",
    "    shr(c, 10)\n",
    "    return xor(xor(a,b),c)\n",
    "\n",
    "origin = bitarray(endian='big')\n",
    "origin.frombytes(b'\\x00\\x00\\x3f\\xff')\n",
    "\n",
    "a = origin.copy()\n",
    "b = origin.copy()\n",
    "c = origin.copy()\n",
    "\n",
    "result = sigma1(a, b, c)\n",
    "\n",
    "print(\"{:>8} {:>32}\".format(\"Origin:\", origin.to01()))\n",
    "print(\"{:>8} {:>32}\".format(\"\", \"-\"*32))\n",
    "print(\"{:>8} {:>32}\".format(\"ROTR 17:\", a.to01()))\n",
    "print(\"{:>8} {:>32} XOR\".format(\"ROTR 19:\", b.to01()))\n",
    "print(\"{:>8} {:>32} XOR\".format(\"SHR 10:\", c.to01()))\n",
    "print(\"{:>8} {:>32}\".format(\"\", \"-\"*32))\n",
    "print(\"{:>8} {:>32}\".format(\"\\u03C31:\", result.to01()))\n",
    "\n",
    "del a, b, c, result, origin\n"
   ]
  },
  {
   "cell_type": "markdown",
   "metadata": {},
   "source": [
    "### 3. $\\Sigma0$"
   ]
  },
  {
   "cell_type": "code",
   "execution_count": 115,
   "metadata": {},
   "outputs": [
    {
     "name": "stdout",
     "output_type": "stream",
     "text": [
      " Origin: 00000000000000000011111111111111\n",
      "         --------------------------------\n",
      "ROTR  2: 11000000000000000000111111111111\n",
      "ROTR 13: 11111111111110000000000000000001 XOR\n",
      "ROTR 22: 00000000111111111111110000000000 XOR\n",
      "         --------------------------------\n",
      "     Σ0: 00111111000001111111001111111110\n"
     ]
    }
   ],
   "source": [
    "def Sigma0(a, b, c):\n",
    "    rotr(a, 2)\n",
    "    rotr(b, 13)\n",
    "    rotr(c, 22)\n",
    "    return xor(xor(a,b),c)\n",
    "\n",
    "origin = bitarray(endian='big')\n",
    "origin.frombytes(b'\\x00\\x00\\x3f\\xff')\n",
    "\n",
    "a = origin.copy()\n",
    "b = origin.copy()\n",
    "c = origin.copy()\n",
    "\n",
    "result = Sigma0(a, b, c)\n",
    "\n",
    "print(\"{:>8} {:>32}\".format(\"Origin:\", origin.to01()))\n",
    "print(\"{:>8} {:>32}\".format(\"\", \"-\"*32))\n",
    "print(\"{:>8} {:>32}\".format(\"ROTR  2:\", a.to01()))\n",
    "print(\"{:>8} {:>32} XOR\".format(\"ROTR 13:\", b.to01()))\n",
    "print(\"{:>8} {:>32} XOR\".format(\"ROTR 22:\", c.to01()))\n",
    "print(\"{:>8} {:>32}\".format(\"\", \"-\"*32))\n",
    "print(\"{:>8} {:>32}\".format(\"\\u03A30:\", result.to01()))\n",
    "\n",
    "del a, b, c, result, origin\n"
   ]
  },
  {
   "cell_type": "markdown",
   "metadata": {},
   "source": [
    "### 4. $\\Sigma1$"
   ]
  },
  {
   "cell_type": "code",
   "execution_count": 116,
   "metadata": {},
   "outputs": [
    {
     "name": "stdout",
     "output_type": "stream",
     "text": [
      " Origin: 00000000000000000011111111111111\n",
      "         --------------------------------\n",
      "ROTR  6: 11111100000000000000000011111111\n",
      "ROTR 11: 11111111111000000000000000000111 XOR\n",
      "ROTR 25: 00000000000111111111111110000000 XOR\n",
      "         --------------------------------\n",
      "     Σ1: 00000011111111111111111101111000\n"
     ]
    }
   ],
   "source": [
    "def Sigma1(a, b, c):\n",
    "    rotr(a, 6)\n",
    "    rotr(b, 11)\n",
    "    rotr(c, 25)\n",
    "    return xor(xor(a,b),c)\n",
    "\n",
    "origin = bitarray(endian='big')\n",
    "origin.frombytes(b'\\x00\\x00\\x3f\\xff')\n",
    "\n",
    "a = origin.copy()\n",
    "b = origin.copy()\n",
    "c = origin.copy()\n",
    "\n",
    "result = Sigma1(a, b, c)\n",
    "\n",
    "print(\"{:>8} {:>32}\".format(\"Origin:\", origin.to01()))\n",
    "print(\"{:>8} {:>32}\".format(\"\", \"-\"*32))\n",
    "print(\"{:>8} {:>32}\".format(\"ROTR  6:\", a.to01()))\n",
    "print(\"{:>8} {:>32} XOR\".format(\"ROTR 11:\", b.to01()))\n",
    "print(\"{:>8} {:>32} XOR\".format(\"ROTR 25:\", c.to01()))\n",
    "print(\"{:>8} {:>32}\".format(\"\", \"-\"*32))\n",
    "print(\"{:>8} {:>32}\".format(\"\\u03A31:\", result.to01()))\n",
    "\n",
    "del a, b, c, result, origin"
   ]
  },
  {
   "cell_type": "markdown",
   "metadata": {},
   "source": [
    "### 5. Choice"
   ]
  },
  {
   "cell_type": "code",
   "execution_count": 143,
   "metadata": {},
   "outputs": [
    {
     "name": "stdout",
     "output_type": "stream",
     "text": [
      "         ⇓\n",
      "      A: 00000000111111110000000011111111\n",
      "      B: 00000000000000001111111111111111 \n",
      "      C: 11111111111111110000000000000000 ⇦\n",
      "         --------------------------------\n",
      "    OUT: 11111111000000000000000011111111\n"
     ]
    }
   ],
   "source": [
    "def choice(choice, a, b):\n",
    "    result = choice.copy()\n",
    "    for i in range(32):\n",
    "        if choice[i] == 1:\n",
    "            result[i] = a[i]\n",
    "        elif choice[i] == 0:\n",
    "            result[i] = b[i]\n",
    "    return result\n",
    "\n",
    "a = bitarray(endian='big')\n",
    "b = bitarray(endian='big')\n",
    "c = bitarray(endian='big')\n",
    "\n",
    "a.frombytes(b'\\x00\\xff\\x00\\xff')\n",
    "b.frombytes(b'\\x00\\x00\\xff\\xff')\n",
    "c.frombytes(b'\\xff\\xff\\x00\\x00')\n",
    "\n",
    "result = choice(a, b, c)\n",
    "\n",
    "for i in range(32):\n",
    "\n",
    "    print(\" \"*(41-(i+1))+\"\\u21D3\")\n",
    "    print(\"{:>8} {:>32}\".format(\"A:\", a.to01()))\n",
    "    print(\"{:>8} {:>32} {}\".format(\"B:\", b.to01(), \"\" if a[i]==1 else \"\\u21E6\"))\n",
    "    print(\"{:>8} {:>32} {}\".format(\"C:\", c.to01(), \"\" if a[i]==0 else \"\\u21E6\"))\n",
    "    print(\"{:>8} {:>32}\".format(\"\", \"-\"*32))\n",
    "    print(\"{:>8} {:>32}\".format(\"OUT:\", result.to01()[32-(i+1):]))\n",
    "    \n",
    "    sleep(0.2)\n",
    "    clear_output(wait=True)\n",
    "    \n",
    "\n",
    "del a, b, c, result"
   ]
  }
 ],
 "metadata": {
  "interpreter": {
   "hash": "6323c9ba79aef14337336f5a3398d4ba2df567d4709c3031a5d2dd21f71a5c41"
  },
  "kernelspec": {
   "display_name": "Python 3.9.7 64-bit (windows store)",
   "language": "python",
   "name": "python3"
  },
  "language_info": {
   "codemirror_mode": {
    "name": "ipython",
    "version": 3
   },
   "file_extension": ".py",
   "mimetype": "text/x-python",
   "name": "python",
   "nbconvert_exporter": "python",
   "pygments_lexer": "ipython3",
   "version": "3.9.7"
  },
  "orig_nbformat": 4
 },
 "nbformat": 4,
 "nbformat_minor": 2
}
