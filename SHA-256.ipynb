{
 "cells": [
  {
   "cell_type": "markdown",
   "metadata": {},
   "source": [
    "# How does SHA-256 work?\n",
    "### Simple hasing algorithm 256"
   ]
  },
  {
   "cell_type": "code",
   "execution_count": 1,
   "metadata": {},
   "outputs": [
    {
     "name": "stdout",
     "output_type": "stream",
     "text": [
      "Hash type:\tsha256\n",
      "Void digest:\te3b0c44298fc1c149afbf4c8996fb92427ae41e4649b934ca495991b7852b855\n",
      "Digest size:\t32\n",
      "\n",
      "String:\tHello World!\n",
      "Digest:\t7f83b1657ff1fc53b92dc18148a1d65dfc2d4b1fa3d677284addd200126d9069\n"
     ]
    }
   ],
   "source": [
    "from hashlib import sha256\n",
    "\n",
    "m = sha256()\n",
    "print(f\"Hash type:\\t{m.name}\")\n",
    "print(f\"Void digest:\\t{m.hexdigest()}\")\n",
    "print(f\"Digest size:\\t{m.digest_size}\")\n",
    "\n",
    "string = \"Hello World!\"\n",
    "m.update(string.encode())\n",
    "print(f\"\\nString:\\t{string}\")\n",
    "print(f\"Digest:\\t{m.hexdigest()}\")\n"
   ]
  },
  {
   "cell_type": "markdown",
   "metadata": {},
   "source": [
    "## Atomic bit level operations\n",
    "\n",
    "1. SHR\n",
    "2. ROTR\n",
    "3. XOR\n",
    "4. SUM"
   ]
  },
  {
   "cell_type": "code",
   "execution_count": 2,
   "metadata": {},
   "outputs": [],
   "source": [
    "from bitarray import bitarray\n",
    "from time import sleep"
   ]
  },
  {
   "cell_type": "markdown",
   "metadata": {},
   "source": [
    "### SHR\n",
    "Shift right"
   ]
  },
  {
   "cell_type": "code",
   "execution_count": 4,
   "metadata": {},
   "outputs": [
    {
     "name": "stdout",
     "output_type": "stream",
     "text": [
      "X: \t11111111000000001111111100000000\n",
      "SHR 32:\t00000000000000000000000000000000"
     ]
    }
   ],
   "source": [
    "def shr(bits, shifts):\n",
    "    for _ in range(shifts):\n",
    "        bits.pop()\n",
    "        bits.insert(0, 0)\n",
    "    return bits\n",
    "\n",
    "a = bitarray(endian='big')\n",
    "a.frombytes(b'\\xff\\x00\\xff\\x00')\n",
    "\n",
    "print(f\"X: \\t{a.to01()}\")\n",
    "for i in range(32):\n",
    "    print(f\"\\rSHR {i+1}:\\t{shr(a,1).to01()}\", end = \"\")\n",
    "    sleep(0.25)\n",
    "del a, i"
   ]
  }
 ],
 "metadata": {
  "interpreter": {
   "hash": "6323c9ba79aef14337336f5a3398d4ba2df567d4709c3031a5d2dd21f71a5c41"
  },
  "kernelspec": {
   "display_name": "Python 3.9.7 64-bit (windows store)",
   "language": "python",
   "name": "python3"
  },
  "language_info": {
   "codemirror_mode": {
    "name": "ipython",
    "version": 3
   },
   "file_extension": ".py",
   "mimetype": "text/x-python",
   "name": "python",
   "nbconvert_exporter": "python",
   "pygments_lexer": "ipython3",
   "version": "3.9.7"
  },
  "orig_nbformat": 4
 },
 "nbformat": 4,
 "nbformat_minor": 2
}
