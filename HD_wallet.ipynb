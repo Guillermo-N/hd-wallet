{
 "cells": [
  {
   "cell_type": "markdown",
   "metadata": {},
   "source": [
    "<h1 style=\"color: blue\">HD Wallet</h1>\n",
    "\n",
    "## TOC:\n",
    "* [Mnemonic Seed](#mneumonic-seed)\n",
    "    * [Entropy](#entropy)\n",
    "    * [Mnemonic creation](#mnemonic-create)\n",
    "    * [Seeding](#seeding)\n",
    "    * [Validation](#validation)\n",
    "        * [Mnemonic validation](#mnemonic-validation)\n",
    "        * [Seed validation](#seed-validation)\n",
    "* [Extended Keys](#extended-keys)\n",
    "    * [Master Extended Keys](#master-extended-keys)\n",
    "    * [Key derivation](#key-derivation)\n",
    "        * [Normal child extended private key](#normal-child-private)\n",
    "        * [Hardened child extended private key](#hardened-child-private)\n",
    "        * [Normal child extended public key](#normal-child-public)\n",
    "        * [Hardened child extended public key](#hardened-child-public)\n",
    "    * [Key derivation paths](#derivation-paths)\n",
    "    * [Two parties key derivation test](#two-parties)\n",
    "* [Encodings](#encodings)\n",
    "    * [Extended key serialization](#extended-serialization)\n",
    "        * [Private key](#prv-key-serialization)\n",
    "        * [Public key](#pub-key-serialization)\n",
    "    * [WIF](#wif)\n",
    "    * [Addresses](#addreses)\n",
    "* [Our HD-Wallet](#our-wallet)\n",
    "    "
   ]
  },
  {
   "cell_type": "code",
   "execution_count": 795,
   "metadata": {},
   "outputs": [],
   "source": [
    "from cryptography.hazmat.primitives.kdf.pbkdf2 import PBKDF2HMAC\n",
    "from cryptography.hazmat.primitives.serialization import Encoding, PublicFormat, PrivateFormat\n",
    "from cryptography.hazmat import primitives\n",
    "from cryptography.hazmat.primitives.asymmetric import ec\n",
    "from cryptography.hazmat.primitives import hashes, hmac\n",
    "from bitarray import bitarray, util\n",
    "from secrets import token_bytes\n",
    "\n",
    "from ecpy.curves import Curve,Point"
   ]
  },
  {
   "cell_type": "markdown",
   "metadata": {},
   "source": [
    "# Mneumonic seed <a class=\"anchor\" id=\"mneumonic-seed\"></a>\n",
    "\n",
    "## Entropy <a clas=\"anchor\" id=\"entropy\"></a>\n",
    "Generate a blob between 128 and 256 bits from a secure random source.\n",
    "The length of the entropy should be multiple of 32."
   ]
  },
  {
   "cell_type": "code",
   "execution_count": 796,
   "metadata": {},
   "outputs": [
    {
     "name": "stdout",
     "output_type": "stream",
     "text": [
      "Entropy (hex): 0d86a3f30156f0f192b0d8b6de40560eb11cef7550c058a76c737dd6136f01c5\n"
     ]
    }
   ],
   "source": [
    "def entropy_gen(n = 128):\n",
    "    if n < 128 or n > 256:\n",
    "        raise Exception(\"Entropy size must be between 128 and 256 bits inclusive.\")\n",
    "    if n % 32 != 0:\n",
    "        raise Exception(\"Entropy size must be multiple of 32.\")\n",
    "    return token_bytes(n // 8)\n",
    "\n",
    "entropy = entropy_gen(32*8)\n",
    "print(f\"Entropy (hex): {entropy.hex()}\") #256 bits"
   ]
  },
  {
   "cell_type": "markdown",
   "metadata": {},
   "source": [
    "## Mnemonic creation <a class=\"anchor\" id=\"mnemonic-create\"></a>\n",
    "\n",
    "To make the entropy more human friendly we conver it to a series or words and introduce some error checking. To do so in this case we are gonna make use of __[BIP39-english](https://raw.githubusercontent.com/otromimi/bitcoin_testpad/wallet/BIP-0039_english.txt)__.\n",
    "\n",
    "<div style=\"color:orange\">\n",
    "<h3>Atention</h3>\n",
    "Mnemonic phrases are suported in many lenguages and alphabets. This notebook only uses the english ASCII variant.</br>\n",
    "For other alphabets use UTF-8 NFKD encoding.\n",
    "</div>"
   ]
  },
  {
   "cell_type": "code",
   "execution_count": 797,
   "metadata": {},
   "outputs": [
    {
     "name": "stdout",
     "output_type": "stream",
     "text": [
      "\u001b[95m0000110110000110101000111111001100000001010101101111000011110001100100101011000011011000101101101101111001000000010101100000111010110001000111001110111101110101010100001100000001011000101001110110110001110011011111011101011000010011011011110000000111000101\u001b[93m00100111\n",
      "\u001b[95m▉ Entropy\n",
      "\u001b[93m▉ Checksum (hash)\u001b[0m\n",
      "\n",
      "Entropy (hex): 0d86a3f30156f0f192b0d8b6de40560eb11cef7550c058a76c737dd6136f01c5\n",
      "entropy SHA-256: 27b2173527c549535ea3cb6ef5a497e2fcb0276bcd5f809c801af9823623008f\n",
      "\n",
      "┏━━━━━━━━━━━━━━━━━━━━━━━━━━━━━━━━━━━━━━━━━━━━━━━━━━━━━━━━━━━━━━━━━━━━━━━━━━━━━━━━━━━━━━━━━━━━━━━━━━━━━━━━━━━━━━━━━━━━━━━━━━━━━━━━━━━━━━━━━━━━━━━━━━━━━━━━━━━━━━━┓\n",
      "┃ assault crush wolf actor humor juice enlist brand replace velvet better buddy balcony jeans stem blossom flavor derive broom wing gentle resource alpha pilot ┃\n",
      "┗━━━━━━━━━━━━━━━━━━━━━━━━━━━━━━━━━━━━━━━━━━━━━━━━━━━━━━━━━━━━━━━━━━━━━━━━━━━━━━━━━━━━━━━━━━━━━━━━━━━━━━━━━━━━━━━━━━━━━━━━━━━━━━━━━━━━━━━━━━━━━━━━━━━━━━━━━━━━━━━┛\n"
     ]
    }
   ],
   "source": [
    "colors = {'purple':'\\033[95m', 'red':'\\033[91m', 'yellow':'\\033[93m', 'green':'\\033[92m', 'blue':'\\033[94m'}\n",
    "\n",
    "def mnemonic(bits):\n",
    "    # Entorpy 2 binary\n",
    "    entropy_bits = bitarray()\n",
    "    entropy_bits.frombytes(bits)\n",
    "    \n",
    "    # Checksum\n",
    "    hash256 = hashes.Hash(hashes.SHA256())\n",
    "    hash256.update(bits)\n",
    "    bin_h = bitarray()\n",
    "    bin_h.frombytes(hash256.finalize())\n",
    "    \n",
    "    entropy_bits = entropy_bits + bin_h[:(len(entropy_bits) // 32)]\n",
    "\n",
    "    numbers = [] # words numbers\n",
    "    for i in range(len(entropy_bits)//11):\n",
    "        numbers.append(util.ba2int(entropy_bits[11*i:11*i+11]))\n",
    "\n",
    "    words = {} # words in our entropy\n",
    "    with open('BIP-0039_english.txt', 'r') as file:\n",
    "        for i, word in enumerate(file):\n",
    "            if i in numbers:\n",
    "                words[i] = word\n",
    "                if len(numbers) == len(words):\n",
    "                    break\n",
    "    \n",
    "    mnemonic_sentence = [] # mneumonic\n",
    "    for i in numbers:\n",
    "        mnemonic_sentence.append(words[i].strip()) \n",
    "    \n",
    "    return tuple(mnemonic_sentence)\n",
    "\n",
    "\n",
    "# change this assigment to check for different values.\n",
    "entropy = entropy # Ex: entropy = entropy_gen()\n",
    "\n",
    "mnemonic_sentence = \" \".join(mnemonic(entropy))\n",
    "\n",
    "# Entropy binary\n",
    "entropy_bits = bitarray()\n",
    "entropy_bits.frombytes(entropy)\n",
    "\n",
    "# Entropy hash\n",
    "hash256 = hashes.Hash(hashes.SHA256())\n",
    "hash256.update(entropy)\n",
    "bin_h = bitarray()\n",
    "entropy_hash = hash256.finalize()\n",
    "bin_h.frombytes(entropy_hash)\n",
    "\n",
    "print(colors['purple']+entropy_bits.to01(), end=\"\")\n",
    "print(colors['yellow']+bin_h.to01()[:(len(entropy_bits) // 32)], end=\"\\n\")\n",
    "print(f\"{colors['purple']}\\u2589 {'Entropy'}\")\n",
    "print(f\"{colors['yellow']}\\u2589 {'Checksum (hash)'}\\033[0m\\n\")\n",
    "\n",
    "print(f\"Entropy (hex): {entropy.hex()}\")\n",
    "print(f\"entropy SHA-256: {entropy_hash.hex()}\")\n",
    "\n",
    "print(\"\\n\\u250F\"+\"\\u2501\"*(len(mnemonic_sentence)+2)+\"\\u2513\")\n",
    "print(\"\\u2503 \"+mnemonic_sentence+\" \\u2503\")\n",
    "print(\"\\u2517\"+\"\\u2501\"*(len(mnemonic_sentence)+2)+\"\\u251B\")\n",
    "\n",
    "del entropy_bits, hash256, bin_h, entropy_hash\n"
   ]
  },
  {
   "cell_type": "markdown",
   "metadata": {},
   "source": [
    "## Seeding<a class=\"anchor\" id=\"seeding\"></a>\n",
    "Derivates the seed that will be use for creating our cryptographic keys. We achive this by using an algorithm computer intensive that will slow down an attack.\n",
    "\n",
    "Algorithm used: PBKDF2_HMAC (Password Based Key Derivation Function 2)</br>\n",
    "* Hashing function: SHA-512 HMAC</br>\n",
    "* Iterations: 2048</br>\n",
    "* length: resulting key (seed) lenght in bytes</br>\n",
    "\n",
    "Thanks to the use of a HMAC (Hash Message Authentication Code) hash function we can add a salt (password) to our nmonic phrase.\n",
    "\n"
   ]
  },
  {
   "cell_type": "code",
   "execution_count": 798,
   "metadata": {},
   "outputs": [
    {
     "name": "stdout",
     "output_type": "stream",
     "text": [
      "Seed: f12b75f95750b76b98ff4aacf1aa576c1b150de2ab3bcf24711a1ee78caf256127dd62b791838c3a4a766de216ad5f9ee54102f5aa343cddadf7defd132596cf\n"
     ]
    }
   ],
   "source": [
    "def mnemonic2seed(mnemonic_sentence, salt=\"\"):\n",
    "    \n",
    "    mnemonic_dev = PBKDF2HMAC(\n",
    "        algorithm = hashes.SHA512(),\n",
    "        length = 64, #bytes\n",
    "        salt = (\"mnemonic\"+salt).encode('ascii'),\n",
    "        iterations = 2048\n",
    "    )\n",
    "\n",
    "    mnemonic_bytes = mnemonic_sentence.encode('ascii')\n",
    "    seed = mnemonic_dev.derive(mnemonic_bytes)\n",
    "\n",
    "    return seed\n",
    "\n",
    "\n",
    "recovery_pass = \"\" # In case we want to add a salt to our mneumonic, add in here\n",
    "\n",
    "seed = mnemonic2seed(mnemonic_sentence, recovery_pass)\n",
    "\n",
    "if recovery_pass:\n",
    "    print(f\"Recovery password: {colors['red']}{recovery_pass}\\033[0m\")\n",
    "print(f\"Seed: {seed.hex()}\")"
   ]
  },
  {
   "cell_type": "markdown",
   "metadata": {},
   "source": [
    "## Validation<a class=\"anchor\" id=\"validation\"></a>\n",
    "\n",
    "### Mnemonic validation<a class=\"anchor\" id=\"mnemonic-validation\"></a>\n",
    "Validates de entropy against its hash to determinate if the mnemonic secuence was correct.\n",
    "\n",
    "Requires: __[BIP39-english](https://raw.githubusercontent.com/otromimi/bitcoin_testpad/wallet/BIP-0039_english.txt)__."
   ]
  },
  {
   "cell_type": "code",
   "execution_count": 799,
   "metadata": {},
   "outputs": [
    {
     "name": "stdout",
     "output_type": "stream",
     "text": [
      "0d86a3f30156f0f192b0d8b6de40560eb11cef7550c058a76c737dd6136f01c5 -> entropy\n",
      "0d86a3f30156f0f192b0d8b6de40560eb11cef7550c058a76c737dd6136f01c5 -> recovered entropy\n"
     ]
    }
   ],
   "source": [
    "def mnemonic_check(mnemonic):\n",
    "\n",
    "    words = mnemonic.split(\" \")\n",
    "    numbers = [None] * len(words)\n",
    "\n",
    "    with open('BIP-0039_english.txt') as file:\n",
    "        for i, word in enumerate(file):\n",
    "            if word.strip() in words:\n",
    "                for j, item in enumerate(words):\n",
    "                    if item == word.strip():\n",
    "                        numbers[j] = i\n",
    "    \n",
    "    entropy = \"\".join([f'{i:011b}' for i in numbers])\n",
    "    entropy = bitarray(entropy)\n",
    "\n",
    "    checksum_len = len(entropy) % 32\n",
    "\n",
    "    hash256 = hashes.Hash(hashes.SHA256())\n",
    "    hash256.update(entropy[:-checksum_len].tobytes())\n",
    "    bin_h = bitarray()\n",
    "    entropy_hash = hash256.finalize()\n",
    "    bin_h.frombytes(entropy_hash)\n",
    "    \n",
    "    if entropy[-checksum_len:] != bin_h[:checksum_len]:\n",
    "        # Just raised in case checksum for mneumonic fails.\n",
    "        raise Exception(f\"Checksum fail, hash: {entropy_hash.hex()}\")\n",
    "    \n",
    "    return entropy[:-checksum_len].tobytes()\n",
    "\n",
    "\n",
    "\n",
    "recover_entropy = mnemonic_check(mnemonic_sentence)\n",
    "\n",
    "print(f\"{entropy.hex()} -> entropy\") # entropy generated on first cell\n",
    "print(f\"{recover_entropy.hex()} -> recovered entropy\")\n"
   ]
  },
  {
   "cell_type": "markdown",
   "metadata": {},
   "source": [
    "### Seed validation<a class=\"anchor\" id=\"seed-validation\"></a>\n",
    "\n",
    "Validates the seed against the entropy and password."
   ]
  },
  {
   "cell_type": "code",
   "execution_count": 800,
   "metadata": {},
   "outputs": [
    {
     "name": "stdout",
     "output_type": "stream",
     "text": [
      "Seed check passed. ✅\n"
     ]
    }
   ],
   "source": [
    "def seed_check(seed, password):\n",
    "\n",
    "    seed_chk = PBKDF2HMAC(\n",
    "        algorithm = hashes.SHA512(),\n",
    "        length = 64,\n",
    "        salt = (\"mnemonic\"+password).encode('ascii'),\n",
    "        iterations = 2048\n",
    "    )\n",
    "    seed_chk.verify(mnemonic_sentence.encode('ascii'), seed) # in case validation fails will raise a exception\n",
    "\n",
    "if not seed_check(seed, recovery_pass):\n",
    "    print(\"Seed check passed. \\u2705\")"
   ]
  },
  {
   "cell_type": "markdown",
   "metadata": {},
   "source": [
    "***\n",
    "\n",
    "# Extended keys <a class=\"anchor\" id=\"extended-keys\"></a>\n",
    "\n",
    "## Master Extended Keys <a class=\"anchor\" id=\"master-extended-keys\"></a>\n"
   ]
  },
  {
   "cell_type": "code",
   "execution_count": 801,
   "metadata": {},
   "outputs": [
    {
     "name": "stdout",
     "output_type": "stream",
     "text": [
      "Chain code: 463223aac10fb13f291a1bc76bc26003d98da661cb76df61e750c139826dea8b\n",
      "Private master key (d): f79bb0d317b310b261a55a8ab393b4c8a1aba6fa4d08aef379caba502d5d67f9\n",
      "Public master key (compressed): 0252c616d91a2488c1fd1f0f172e98f7d1f6e51f8f389b2f8d632a8b490d5f6da9\n"
     ]
    }
   ],
   "source": [
    "def master_key_extended(seed):\n",
    "\n",
    "    expression = \"Bitcoin seed\" # Used for master key\n",
    "\n",
    "    hmac_master = hmac.HMAC(expression.encode('ascii'), hashes.SHA512())\n",
    "    hmac_master.update(seed)\n",
    "    output = hmac_master.finalize()\n",
    "\n",
    "    secret_num = output[:32]\n",
    "    chain_code = output[32:]\n",
    "\n",
    "    return ('m', secret_num, chain_code)\n",
    "\n",
    "\n",
    "#prv_master_key, chain_master_code = master_key_extended(seed)\n",
    "\n",
    "\n",
    "\n",
    "test_seed = bytes.fromhex(\"67f93560761e20617de26e0cb84f7234aaf373ed2e66295c3d7397e6d7ebe882ea396d5d293808b0defd7edd2babd4c091ad942e6a9351e6d075a29d4df872af\")\n",
    "\n",
    "index, prv_master_key, chain_master_code = master_key_extended(test_seed)\n",
    "\n",
    "private_key = ec.derive_private_key(int.from_bytes(prv_master_key, 'big'), ec.SECP256K1())\n",
    "public_key = private_key.public_key()\n",
    "pub_master_key = public_key.public_bytes(Encoding.X962, PublicFormat.CompressedPoint)\n",
    "\n",
    "\n",
    "print(f\"Chain code: {chain_master_code.hex()}\")\n",
    "print(f\"Private master key (d): {prv_master_key.hex()}\")\n",
    "print(f\"Public master key (compressed): {pub_master_key.hex()}\")\n",
    "\n",
    "del index"
   ]
  },
  {
   "cell_type": "markdown",
   "metadata": {},
   "source": [
    "\n",
    "## Key derivation<a class=\"anchor\" id=\"key-derivation\"></a>\n",
    "\n",
    "1. [Normal child extended private key](#normal-child-private)\n",
    "2. [Hardened child extended private key](#hardened-child-private)\n",
    "3. [Normal child extended public key](#normal-child-public)\n",
    "4. [Hardened child extended public key](#hardened-child-public)"
   ]
  },
  {
   "cell_type": "code",
   "execution_count": 802,
   "metadata": {},
   "outputs": [],
   "source": [
    "def key_derivation(index, parent_key, parent_chain_code):\n",
    "\n",
    "    index_bytes = index.to_bytes(32 // 8, 'big')\n",
    "    data = parent_key + index_bytes\n",
    "    salt = parent_chain_code\n",
    "\n",
    "    hmac_512 = hmac.HMAC(salt, hashes.SHA512())\n",
    "    hmac_512.update(data)\n",
    "    output = hmac_512.finalize()\n",
    "\n",
    "    return (output[:32], output[32:])"
   ]
  },
  {
   "cell_type": "markdown",
   "metadata": {},
   "source": [
    "### Normal child extended private key<a class=\"anchor\" id=\"normal-child-private\"></a>"
   ]
  },
  {
   "cell_type": "code",
   "execution_count": 803,
   "metadata": {},
   "outputs": [
    {
     "name": "stdout",
     "output_type": "stream",
     "text": [
      "Index: 0\n",
      "Chain code: 05aae71d7c080474efaab01fa79e96f4c6cfe243237780b0df4bc36106228e31\n",
      "Private key (d): 39f329fedba2a68e2a804fcd9aeea4104ace9080212a52ce8b52c1fb89850c72\n",
      "Public key (compressed): 030204d3503024160e8303c0042930ea92a9d671de9aa139c1867353f6b6664e59\n"
     ]
    }
   ],
   "source": [
    "def private_normal_child(index, parent_prv_key, parent_chain_code):\n",
    "    cv = Curve.get_curve('secp256k1')\n",
    "\n",
    "    # Order of SECP256K1\n",
    "    n = cv.order\n",
    "\n",
    "    # Index range checking\n",
    "    if index > 2147483647 | index < 0:\n",
    "        raise f\"Index: {index}, out of range for soft derivation.\"\n",
    "    \n",
    "    # Generating public key\n",
    "    private_key = ec.derive_private_key(int.from_bytes(parent_prv_key, 'big'), ec.SECP256K1())\n",
    "    public_key = private_key.public_key()\n",
    "    parent_pub_key = public_key.public_bytes(Encoding.X962, PublicFormat.CompressedPoint)\n",
    "\n",
    "    # Derivation function\n",
    "    child_prv_key, child_chain_code = key_derivation(index, parent_pub_key, parent_chain_code)\n",
    "\n",
    "    # Checking child_chain_code\n",
    "    if int.from_bytes(child_chain_code, 'big') > n:\n",
    "        raise f\"Chain code bigger than curve order \\\"n\\\"; Try with index {index + 1}\"\n",
    "    \n",
    "    # Calculating child private key\n",
    "    child_prv_key = ((int.from_bytes(child_prv_key, 'big') + int.from_bytes(parent_prv_key, 'big')) % n).to_bytes(32, 'big')\n",
    "\n",
    "    return (index, child_prv_key, child_chain_code)\n",
    "\n",
    "\n",
    "\n",
    "\n",
    "index, key, chain_code = private_normal_child(0, prv_master_key, chain_master_code)\n",
    "\n",
    "private_key = ec.derive_private_key(int.from_bytes(key, 'big'), ec.SECP256K1())\n",
    "public_key = private_key.public_key()\n",
    "public_compress_child = public_key.public_bytes(Encoding.X962, PublicFormat.CompressedPoint)\n",
    "\n",
    "print(f\"Index: {index}\")\n",
    "print(f\"Chain code: {chain_code.hex()}\")\n",
    "print(f\"Private key (d): {key.hex()}\")\n",
    "print(f\"Public key (compressed): {public_compress_child.hex()}\")\n",
    "\n",
    "del index, key, chain_code, private_key, public_key, public_compress_child"
   ]
  },
  {
   "cell_type": "markdown",
   "metadata": {},
   "source": [
    "### Hardened child extended private key<a class=\"anchor\" id=\"hardened-child-private\"></a>"
   ]
  },
  {
   "cell_type": "code",
   "execution_count": 804,
   "metadata": {},
   "outputs": [
    {
     "name": "stdout",
     "output_type": "stream",
     "text": [
      "Index: 0, Hard index: 2147483648\n",
      "Chain code: cb3c17166cc30eb7fdd11993fb7307531372e565cd7c7136cbfa4655622bc2be\n",
      "Private key (d): 7272904512add56fef94c7b4cfc62bedd0632afbad680f2eb404e95f2d84cbfa\n",
      "Public key (compressed): 0355cff4a963ce259b08be9a864564caca210eb4eb35fcb75712e4bba7550efd95\n"
     ]
    }
   ],
   "source": [
    "def private_hardened_child(index, parent_prv_key, parent_chain_code):\n",
    "    cv = Curve.get_curve('secp256k1')\n",
    "\n",
    "    # Order of SECP256K1\n",
    "    n = cv.order\n",
    "\n",
    "    # Index range checking\n",
    "    if index > 2147483647 | index < 0:\n",
    "        raise f\"Index: {index}, Hard index: {index + 2147483648}, out of range for hard derivation.\"\n",
    "    \n",
    "    # Generating public key --> No required\n",
    "\n",
    "    # Derivation function\n",
    "    child_prv_key, child_chain_code = key_derivation(\n",
    "        index + 2147483648, # Hard index range\n",
    "        b'\\x00' + parent_prv_key, # Leading bit for public key compensation\n",
    "        parent_chain_code\n",
    "    )\n",
    "\n",
    "    # Checking child_chain_code\n",
    "    if int.from_bytes(child_chain_code, 'big') > n:\n",
    "        raise f\"Chain code bigger than curve order \\\"n\\\"; Try with index {index + 1}\"\n",
    "    \n",
    "    # Calculating child private key\n",
    "    child_prv_key = ((int.from_bytes(child_prv_key, 'big') + int.from_bytes(parent_prv_key, 'big')) % n).to_bytes(32, 'big')\n",
    "\n",
    "    return (index, child_prv_key, child_chain_code)\n",
    "\n",
    "\n",
    "\n",
    "\n",
    "index, key, chain_code = private_hardened_child(0, prv_master_key, chain_master_code)\n",
    "\n",
    "private_key = ec.derive_private_key(int.from_bytes(key, 'big'), ec.SECP256K1())\n",
    "public_key = private_key.public_key()\n",
    "public_compress_child = public_key.public_bytes(Encoding.X962, PublicFormat.CompressedPoint)\n",
    "\n",
    "\n",
    "print(f\"Index: {index}, Hard index: {index + 2147483648}\")\n",
    "print(f\"Chain code: {chain_code.hex()}\")\n",
    "print(f\"Private key (d): {key.hex()}\")\n",
    "print(f\"Public key (compressed): {public_compress_child.hex()}\")\n",
    "\n",
    "del index, key, chain_code, private_key, public_key, public_compress_child"
   ]
  },
  {
   "cell_type": "markdown",
   "metadata": {},
   "source": [
    "### Normal child extended public key<a class=\"anchor\" id=\"normal-child-public\"></a>"
   ]
  },
  {
   "cell_type": "code",
   "execution_count": 805,
   "metadata": {},
   "outputs": [
    {
     "name": "stdout",
     "output_type": "stream",
     "text": [
      "Index: 0\n",
      "Chain code: 05aae71d7c080474efaab01fa79e96f4c6cfe243237780b0df4bc36106228e31\n",
      "Parent public key (compressed): 0252c616d91a2488c1fd1f0f172e98f7d1f6e51f8f389b2f8d632a8b490d5f6da9\n",
      "Public key (compressed): 030204d3503024160e8303c0042930ea92a9d671de9aa139c1867353f6b6664e59\n"
     ]
    }
   ],
   "source": [
    "def public_normal_child(index, parent_pub_key, parent_chain_code):\n",
    "    cv = Curve.get_curve('secp256k1')\n",
    "\n",
    "    # Order of SECP256K1\n",
    "    n = cv.order\n",
    "\n",
    "    # Index range checking\n",
    "    if index > 2147483647 | index < 0:\n",
    "        raise f\"Index: {index}, out of range for soft derivation.\"\n",
    "    \n",
    "    # Generating public key --> No required, we pass the pub key as parameter\n",
    "\n",
    "    # Derivation function\n",
    "    child_pub_key, child_chain_code = key_derivation(index, parent_pub_key, parent_chain_code)\n",
    "\n",
    "    # Checking child_chain_code\n",
    "    if int.from_bytes(child_chain_code, 'big') > n:\n",
    "        raise f\"Chain code bigger than curve order \\\"n\\\"; Try with index {index + 1}\"\n",
    "\n",
    "    # Calculating child private key\n",
    "    parent_point = cv.decode_point(parent_pub_key)\n",
    "    child_point = cv.mul_point(int.from_bytes(child_pub_key, 'big'), cv.generator)\n",
    "    result_point = parent_point + child_point\n",
    "\n",
    "    # Encoding in weird format because ECPy doesn't support compress point encoding\n",
    "    child_pub_key = ec.EllipticCurvePublicKey.from_encoded_point(\n",
    "        ec.SECP256K1(), \n",
    "        bytes(cv.encode_point(result_point))).public_bytes(\n",
    "            Encoding.X962, \n",
    "            PublicFormat.CompressedPoint\n",
    "        )\n",
    "    \n",
    "    return (index, child_pub_key, child_chain_code)\n",
    "\n",
    "\n",
    "\n",
    "\n",
    "index, key, chain_code = public_normal_child(0, pub_master_key, chain_master_code)\n",
    "\n",
    "print(f\"Index: {index}\")\n",
    "print(f\"Chain code: {chain_code.hex()}\")\n",
    "print(f\"Parent public key (compressed): {pub_master_key.hex()}\")\n",
    "print(f\"Public key (compressed): {key.hex()}\")\n",
    "\n",
    "del index, key, chain_code"
   ]
  },
  {
   "cell_type": "markdown",
   "metadata": {},
   "source": [
    "### Hardened child extended public key<a class=\"anchor\" id=\"hardened-child-public\"></a>"
   ]
  },
  {
   "cell_type": "code",
   "execution_count": 806,
   "metadata": {},
   "outputs": [],
   "source": [
    "def public_hardened_child(index, parent_pub_key, parent_chain_code):\n",
    "    raise f\"You need the private key to derive its peer public key.\""
   ]
  },
  {
   "cell_type": "markdown",
   "metadata": {},
   "source": [
    "\n",
    "## Key derivation paths <a class=\"anchor\" id=\"derivation-paths\"></a>"
   ]
  },
  {
   "cell_type": "code",
   "execution_count": 828,
   "metadata": {},
   "outputs": [
    {
     "name": "stdout",
     "output_type": "stream",
     "text": [
      "Private key on m/44'/0'/0'/0/0:\n",
      "\tf850b6df12f144c270cb63e0d16ee149da6a4d13cc7b5295d9d5a399a78f5f2e\n"
     ]
    }
   ],
   "source": [
    "def derive_path(path, seed):\n",
    "    path_list = path.split('/')\n",
    "    index, key, chain_code = None, None, None\n",
    "    for term in path_list:\n",
    "        if term == 'm':\n",
    "            # Master extended key from seed\n",
    "            _, key, chain_code = master_key_extended(seed)\n",
    "            continue\n",
    "        if \"'\" in term:\n",
    "            # Case term is hard\n",
    "            _, key, chain_code = private_hardened_child(int(term.strip(\"'\")), key, chain_code)\n",
    "        else:\n",
    "            # Case the term is soft of normal\n",
    "            _, key, chain_code = private_normal_child(int(term), key, chain_code)\n",
    "    return key, chain_code\n",
    "\n",
    "derivation_path = \"m/44'/0'/0'/0/0\" # Path extipulated on BIP 44\n",
    "\n",
    "path_key, _ = derive_path(derivation_path, seed)\n",
    "\n",
    "print(f\"Private key on {derivation_path}:\\n\\t{path_key.hex()}\")"
   ]
  },
  {
   "cell_type": "markdown",
   "metadata": {},
   "source": [
    "## Two parties key derivation test <a class=\"anchor\" id=\"two-parties\"></a>\n",
    "\n",
    "For this test we are gonna derive in parallel the public and private key; and then sign a message with those keys independently derived."
   ]
  },
  {
   "cell_type": "code",
   "execution_count": 827,
   "metadata": {},
   "outputs": [],
   "source": [
    "# Finding the master pub, prv and chain-code\n",
    "prv_secret, chain_code_m = derive_path(\"m\", seed)\n",
    "prv_key_m = ec.derive_private_key(int.from_bytes(prv_secret, 'big'), ec.SECP256K1())\n",
    "pub_key_m = prv_key_m.public_key().public_bytes(Encoding.X962, PublicFormat.CompressedPoint)\n",
    "\n",
    "# Derive our path for our private key\n",
    "prv_secret, _ = derive_path(\"m/444/8\", seed) # paths must be the same\n",
    "prv_key = ec.derive_private_key(int.from_bytes(prv_secret, 'big'), ec.SECP256K1())\n",
    "\n",
    "# We derive the same path for our public key\n",
    "_, pub_key, chain_code_child = public_normal_child(444, pub_key_m, chain_code_m) # 444/\n",
    "_, pub_key, chain_code_child = public_normal_child(8, pub_key, chain_code_child) # 8/\n",
    "pub_key = ec.EllipticCurvePublicKey.from_encoded_point(ec.SECP256K1(), pub_key)\n",
    "\n",
    "# We sign a message with our derived private key\n",
    "message = b\"Testing derivaiton of extended keys.\"\n",
    "signature = prv_key.sign(message, ec.ECDSA(hashes.SHA256()))\n",
    "\n",
    "# If no exception raised then the signature is correct\n",
    "pub_key.verify(signature, message, ec.ECDSA(hashes.SHA256()))\n",
    "\n",
    "\n",
    "del prv_secret, prv_key_m, pub_key_m, prv_key, pub_key, message, signature"
   ]
  },
  {
   "cell_type": "markdown",
   "metadata": {},
   "source": [
    "***\n",
    "\n",
    "# Encodings <a class=\"anchor\" id=\"encodings\"></a>"
   ]
  }
 ],
 "metadata": {
  "interpreter": {
   "hash": "6323c9ba79aef14337336f5a3398d4ba2df567d4709c3031a5d2dd21f71a5c41"
  },
  "kernelspec": {
   "display_name": "Python 3.9.9 64-bit (windows store)",
   "language": "python",
   "name": "python3"
  },
  "language_info": {
   "codemirror_mode": {
    "name": "ipython",
    "version": 3
   },
   "file_extension": ".py",
   "mimetype": "text/x-python",
   "name": "python",
   "nbconvert_exporter": "python",
   "pygments_lexer": "ipython3",
   "version": "3.9.9"
  },
  "orig_nbformat": 4
 },
 "nbformat": 4,
 "nbformat_minor": 2
}
